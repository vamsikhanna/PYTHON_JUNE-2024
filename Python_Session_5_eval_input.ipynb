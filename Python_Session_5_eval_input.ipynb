{
 "cells": [
  {
   "cell_type": "code",
   "execution_count": 1,
   "id": "53641f35-68cf-48a8-a3ed-3744c0736510",
   "metadata": {},
   "outputs": [],
   "source": [
    "num1=100\n",
    "num2=200\n",
    "add=num1+num2"
   ]
  },
  {
   "cell_type": "markdown",
   "id": "5213bee7-0be8-4f70-8f1a-755a0dc89143",
   "metadata": {},
   "source": [
    "$input$\n",
    "\n",
    "- input keyword is used to take the values from user "
   ]
  },
  {
   "cell_type": "code",
   "execution_count": 4,
   "id": "13e2c123-37be-42d2-b82c-5654dd9f21cd",
   "metadata": {},
   "outputs": [
    {
     "name": "stdin",
     "output_type": "stream",
     "text": [
      " 12\n"
     ]
    },
    {
     "data": {
      "text/plain": [
       "'12'"
      ]
     },
     "execution_count": 4,
     "metadata": {},
     "output_type": "execute_result"
    }
   ],
   "source": [
    "input()"
   ]
  },
  {
   "cell_type": "code",
   "execution_count": 5,
   "id": "303ece7e-71f1-43d6-9ac2-908202fc8459",
   "metadata": {},
   "outputs": [
    {
     "name": "stdin",
     "output_type": "stream",
     "text": [
      "enter the number: 100\n"
     ]
    },
    {
     "data": {
      "text/plain": [
       "'100'"
      ]
     },
     "execution_count": 5,
     "metadata": {},
     "output_type": "execute_result"
    }
   ],
   "source": [
    "input(\"enter the number:\")"
   ]
  },
  {
   "cell_type": "code",
   "execution_count": 6,
   "id": "bb974ced-05fb-4399-8406-49a9ee33075b",
   "metadata": {},
   "outputs": [
    {
     "name": "stdin",
     "output_type": "stream",
     "text": [
      " 100\n",
      " 200\n"
     ]
    },
    {
     "data": {
      "text/plain": [
       "'200'"
      ]
     },
     "execution_count": 6,
     "metadata": {},
     "output_type": "execute_result"
    }
   ],
   "source": [
    "input()\n",
    "input()"
   ]
  },
  {
   "cell_type": "code",
   "execution_count": 7,
   "id": "97fd18aa-7aa2-4d39-8e92-ad93fcebb9a6",
   "metadata": {},
   "outputs": [
    {
     "name": "stdin",
     "output_type": "stream",
     "text": [
      " 100\n",
      " 200\n",
      " 300\n"
     ]
    },
    {
     "data": {
      "text/plain": [
       "'300'"
      ]
     },
     "execution_count": 7,
     "metadata": {},
     "output_type": "execute_result"
    }
   ],
   "source": [
    "input()\n",
    "input()\n",
    "input()"
   ]
  },
  {
   "cell_type": "code",
   "execution_count": 9,
   "id": "9d1453dd-d240-480f-a6f7-1202b8086739",
   "metadata": {},
   "outputs": [
    {
     "name": "stdin",
     "output_type": "stream",
     "text": [
      " 200\n"
     ]
    },
    {
     "data": {
      "text/plain": [
       "'200'"
      ]
     },
     "execution_count": 9,
     "metadata": {},
     "output_type": "execute_result"
    }
   ],
   "source": [
    "input()"
   ]
  },
  {
   "cell_type": "code",
   "execution_count": 10,
   "id": "7cdc3fe6-0a4a-4309-ad61-f9fafc0b2b38",
   "metadata": {},
   "outputs": [
    {
     "name": "stdin",
     "output_type": "stream",
     "text": [
      "enter the number1: 100\n",
      "enter the number2: 200\n",
      "enter the number3: 300\n"
     ]
    },
    {
     "data": {
      "text/plain": [
       "'300'"
      ]
     },
     "execution_count": 10,
     "metadata": {},
     "output_type": "execute_result"
    }
   ],
   "source": [
    "input(\"enter the number1:\")\n",
    "input(\"enter the number2:\")\n",
    "input(\"enter the number3:\")"
   ]
  },
  {
   "cell_type": "code",
   "execution_count": 12,
   "id": "ca59163d-54f1-418c-9da5-39c7b8425c04",
   "metadata": {},
   "outputs": [
    {
     "name": "stdin",
     "output_type": "stream",
     "text": [
      "enter the number1: 100\n",
      "enter the number2: 200\n"
     ]
    }
   ],
   "source": [
    "num1=input(\"enter the number1:\")\n",
    "num2=input(\"enter the number2:\")"
   ]
  },
  {
   "cell_type": "code",
   "execution_count": 14,
   "id": "8df3e435-1a29-43e7-bf2f-d0e1c1eeea7c",
   "metadata": {},
   "outputs": [
    {
     "data": {
      "text/plain": [
       "'100'"
      ]
     },
     "execution_count": 14,
     "metadata": {},
     "output_type": "execute_result"
    }
   ],
   "source": [
    "num1"
   ]
  },
  {
   "cell_type": "markdown",
   "id": "320caf1a-44d8-4758-8052-17c052a39817",
   "metadata": {},
   "source": [
    "**Note**\n",
    "\n",
    "- input always give the string data type only\n",
    "\n",
    "- in order to perform math calculations we need to convert into numerical format i.e. int or flot"
   ]
  },
  {
   "cell_type": "code",
   "execution_count": 15,
   "id": "38556374-f1c7-4a91-9091-95be7208d07b",
   "metadata": {},
   "outputs": [
    {
     "name": "stdin",
     "output_type": "stream",
     "text": [
      " 100\n"
     ]
    },
    {
     "data": {
      "text/plain": [
       "'100'"
      ]
     },
     "execution_count": 15,
     "metadata": {},
     "output_type": "execute_result"
    }
   ],
   "source": [
    "input()"
   ]
  },
  {
   "cell_type": "code",
   "execution_count": 16,
   "id": "5d20db7a-378f-4b6d-95fa-b64a3ad9269f",
   "metadata": {},
   "outputs": [
    {
     "name": "stdin",
     "output_type": "stream",
     "text": [
      "enter the number: 200\n"
     ]
    },
    {
     "data": {
      "text/plain": [
       "'200'"
      ]
     },
     "execution_count": 16,
     "metadata": {},
     "output_type": "execute_result"
    }
   ],
   "source": [
    "input(\"enter the number:\")"
   ]
  },
  {
   "cell_type": "code",
   "execution_count": 17,
   "id": "2bc0c7f6-bdd4-4b84-9ad2-943513bc1309",
   "metadata": {},
   "outputs": [
    {
     "name": "stdin",
     "output_type": "stream",
     "text": [
      "enter the number1: 100\n"
     ]
    },
    {
     "data": {
      "text/plain": [
       "'100'"
      ]
     },
     "execution_count": 17,
     "metadata": {},
     "output_type": "execute_result"
    }
   ],
   "source": [
    "a=input(\"enter the number1:\")\n",
    "a"
   ]
  },
  {
   "cell_type": "code",
   "execution_count": null,
   "id": "78e650a1-8ef4-4f66-bf8d-d2eabd235529",
   "metadata": {},
   "outputs": [],
   "source": [
    "input()  \n",
    "input(\"enter the number:\")\n",
    "a=input(\"enter the number1:\")"
   ]
  },
  {
   "cell_type": "code",
   "execution_count": 18,
   "id": "f5f4b509-66f1-44ec-8dbf-0bb6f104bad0",
   "metadata": {},
   "outputs": [
    {
     "name": "stdin",
     "output_type": "stream",
     "text": [
      "enter the number1: 100\n",
      "enter the number2: 200\n"
     ]
    },
    {
     "data": {
      "text/plain": [
       "'100200'"
      ]
     },
     "execution_count": 18,
     "metadata": {},
     "output_type": "execute_result"
    }
   ],
   "source": [
    "num1=input(\"enter the number1:\")  # num1=int('100')\n",
    "num2=input(\"enter the number2:\")  # num2 ='100'\n",
    "num1+num2  #  '100'+'200'='100200'"
   ]
  },
  {
   "cell_type": "code",
   "execution_count": 19,
   "id": "f84e596c-9acd-4b6f-96fb-2f9ae0104420",
   "metadata": {},
   "outputs": [
    {
     "name": "stdin",
     "output_type": "stream",
     "text": [
      "enter the number1: 100\n",
      "enter the number2: 200\n"
     ]
    },
    {
     "data": {
      "text/plain": [
       "300"
      ]
     },
     "execution_count": 19,
     "metadata": {},
     "output_type": "execute_result"
    }
   ],
   "source": [
    "num1=int(input(\"enter the number1:\"))  # num1=int('100')=100\n",
    "num2=int(input(\"enter the number2:\"))  # num2 =int('200')=200\n",
    "num1+num2  #  100+200=300"
   ]
  },
  {
   "cell_type": "code",
   "execution_count": 20,
   "id": "f1c87ae1-c527-4087-aaf7-fea74ced9f5c",
   "metadata": {},
   "outputs": [
    {
     "name": "stdin",
     "output_type": "stream",
     "text": [
      "enter the number1: 100\n",
      "enter the number2: 200\n"
     ]
    },
    {
     "name": "stdout",
     "output_type": "stream",
     "text": [
      "the addition of 100 and 200 is 300\n"
     ]
    }
   ],
   "source": [
    "num1=int(input(\"enter the number1:\"))  # num1=int('100')=100\n",
    "num2=int(input(\"enter the number2:\"))  # num2 =int('200')=200\n",
    "add=num1+num2  #  100+200=300\n",
    "print(f\"the addition of {num1} and {num2} is {add}\")"
   ]
  },
  {
   "cell_type": "code",
   "execution_count": 21,
   "id": "e6f49cc6-75fd-488d-b4d0-a2bfeb2bfe19",
   "metadata": {},
   "outputs": [
    {
     "name": "stdin",
     "output_type": "stream",
     "text": [
      "enter the number1: 100\n",
      "enter the number2: 200\n"
     ]
    },
    {
     "data": {
      "text/plain": [
       "300"
      ]
     },
     "execution_count": 21,
     "metadata": {},
     "output_type": "execute_result"
    }
   ],
   "source": [
    "num1=input(\"enter the number1:\")  # num1='100'\n",
    "num2=input(\"enter the number2:\")  # num2 ='100'\n",
    "int(num1)+int(num2)  #  int('100')+int('200')=100+200"
   ]
  },
  {
   "cell_type": "code",
   "execution_count": 22,
   "id": "bb286a05-e40f-4639-b8ab-cda014b6514a",
   "metadata": {},
   "outputs": [
    {
     "name": "stdin",
     "output_type": "stream",
     "text": [
      "enter the number1: 100.5\n"
     ]
    },
    {
     "ename": "ValueError",
     "evalue": "invalid literal for int() with base 10: '100.5'",
     "output_type": "error",
     "traceback": [
      "\u001b[1;31m---------------------------------------------------------------------------\u001b[0m",
      "\u001b[1;31mValueError\u001b[0m                                Traceback (most recent call last)",
      "Cell \u001b[1;32mIn[22], line 1\u001b[0m\n\u001b[1;32m----> 1\u001b[0m num1\u001b[38;5;241m=\u001b[39m\u001b[38;5;28mint\u001b[39m(\u001b[38;5;28minput\u001b[39m(\u001b[38;5;124m\"\u001b[39m\u001b[38;5;124menter the number1:\u001b[39m\u001b[38;5;124m\"\u001b[39m))  \u001b[38;5;66;03m# num1=int('100.5')=100\u001b[39;00m\n\u001b[0;32m      2\u001b[0m num2\u001b[38;5;241m=\u001b[39m\u001b[38;5;28mint\u001b[39m(\u001b[38;5;28minput\u001b[39m(\u001b[38;5;124m\"\u001b[39m\u001b[38;5;124menter the number2:\u001b[39m\u001b[38;5;124m\"\u001b[39m))  \u001b[38;5;66;03m# num2 =int('200')=200\u001b[39;00m\n\u001b[0;32m      3\u001b[0m add\u001b[38;5;241m=\u001b[39mnum1\u001b[38;5;241m+\u001b[39mnum2  \u001b[38;5;66;03m#  100+200=300\u001b[39;00m\n",
      "\u001b[1;31mValueError\u001b[0m: invalid literal for int() with base 10: '100.5'"
     ]
    }
   ],
   "source": [
    "num1=float(input(\"enter the number1:\"))  # num1=int('100.5')=100\n",
    "num2=int(input(\"enter the number2:\"))  # num2 =int('200')=200\n",
    "add=num1+num2  #  100+200=300\n",
    "print(f\"the addition of {num1} and {num2} is {add}\")"
   ]
  },
  {
   "cell_type": "markdown",
   "id": "28070fe3-4b5c-47a2-af1a-ffe9cdc6746f",
   "metadata": {},
   "source": [
    "$eval$\n",
    "\n",
    "- eval means evaluate\n",
    "\n",
    "- what ever the number we enter, eval will convert to corresponding data type"
   ]
  },
  {
   "cell_type": "code",
   "execution_count": 28,
   "id": "feed467a-5f52-44f6-a95f-29aa7f30d1f0",
   "metadata": {},
   "outputs": [
    {
     "name": "stdin",
     "output_type": "stream",
     "text": [
      "enter the number1: 100.5\n",
      "enter the number2: 100.5\n"
     ]
    },
    {
     "name": "stdout",
     "output_type": "stream",
     "text": [
      "the addition of 100.5 and 100.5 is 201.0\n"
     ]
    }
   ],
   "source": [
    "num1=eval(input(\"enter the number1:\"))  # num1=int('100.5')=100\n",
    "num2=eval(input(\"enter the number2:\"))  # num2 =int('200')=200\n",
    "add=num1+num2  #  100+200=300\n",
    "print(f\"the addition of {num1} and {num2} is {add}\")"
   ]
  },
  {
   "cell_type": "code",
   "execution_count": null,
   "id": "3f22c7ed-0e72-4e23-b5ba-f62f36b052db",
   "metadata": {},
   "outputs": [],
   "source": [
    "# wap ask the user enter 3 numbers calculate average\n",
    "# wap ask the user enter the 2 numbers find the subtraction, addition, multuplication and division\n",
    "# wap ask the uer enter radius values find the area of the circle\n",
    "# wap ask the user bill amount,\n",
    "#     ask the user how much tip you want pay in percentage\n",
    "#     calculate totalbill\n",
    "\n",
    "# wap ask the user bill amount in dollars\n",
    "#             ask the user onedollar\n",
    "#         print the bill amount in rupees\n",
    "\n",
    "#wap ask the user enter base height calculate area of the traingle\n",
    "#wap ask the user enter length and breadth calculate area of the rectangle"
   ]
  },
  {
   "cell_type": "code",
   "execution_count": 29,
   "id": "026e6c97-e3f5-4acf-aaae-5e69ce5421f2",
   "metadata": {},
   "outputs": [
    {
     "name": "stdin",
     "output_type": "stream",
     "text": [
      "enter the number1: 10\n",
      "enter the number2: 20\n",
      "enter the number3: 30\n"
     ]
    },
    {
     "name": "stdout",
     "output_type": "stream",
     "text": [
      "the average of 10,20 and 30 is 20.0\n"
     ]
    }
   ],
   "source": [
    "num1=eval(input(\"enter the number1:\"))  # num1=int('100.5')=100\n",
    "num2=eval(input(\"enter the number2:\"))  # num2 =int('200')=200\n",
    "num3=eval(input(\"enter the number3:\")) \n",
    "avg=(num1+num2+num3)/3\n",
    "print(f\"the average of {num1},{num2} and {num3} is {avg}\")"
   ]
  },
  {
   "cell_type": "code",
   "execution_count": 30,
   "id": "845597a4-280b-4424-91dd-968313a64541",
   "metadata": {},
   "outputs": [
    {
     "name": "stdin",
     "output_type": "stream",
     "text": [
      "enter the radius: 10\n",
      "enter the pi: 3.14\n"
     ]
    },
    {
     "name": "stdout",
     "output_type": "stream",
     "text": [
      "The area of circle is:314.0\n",
      "The area of circle is:314.0\n"
     ]
    }
   ],
   "source": [
    "radius=eval(input(\"enter the radius:\"))\n",
    "pi_value=eval(input(\"enter the pi:\"))\n",
    "area=pi_value*radius*radius\n",
    "print(\"The area of circle is:{}\".format(area))\n",
    "print(f\"The area of circle is:{area}\")"
   ]
  },
  {
   "cell_type": "code",
   "execution_count": null,
   "id": "213dca33-54b8-429b-b2b0-2c7e2bb2f4b9",
   "metadata": {},
   "outputs": [],
   "source": []
  }
 ],
 "metadata": {
  "kernelspec": {
   "display_name": "Python 3 (ipykernel)",
   "language": "python",
   "name": "python3"
  },
  "language_info": {
   "codemirror_mode": {
    "name": "ipython",
    "version": 3
   },
   "file_extension": ".py",
   "mimetype": "text/x-python",
   "name": "python",
   "nbconvert_exporter": "python",
   "pygments_lexer": "ipython3",
   "version": "3.11.7"
  }
 },
 "nbformat": 4,
 "nbformat_minor": 5
}
