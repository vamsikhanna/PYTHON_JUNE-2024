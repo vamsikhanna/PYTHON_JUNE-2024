{
 "cells": [
  {
   "cell_type": "markdown",
   "id": "78613ac5-ca1d-4f2f-8d1d-54c99050b9fa",
   "metadata": {},
   "source": [
    "## Variables\n",
    "\n",
    "- variables are used to store the value\n",
    "\n",
    "- and the values can be change"
   ]
  },
  {
   "cell_type": "code",
   "execution_count": 1,
   "id": "9e5039a9-d6de-4779-a28e-21507d880a92",
   "metadata": {},
   "outputs": [
    {
     "data": {
      "text/plain": [
       "100"
      ]
     },
     "execution_count": 1,
     "metadata": {},
     "output_type": "execute_result"
    }
   ],
   "source": [
    "number=100  # value 100 stored in a variable name called 'number'\n",
    "number     # shift+enter"
   ]
  },
  {
   "cell_type": "code",
   "execution_count": 2,
   "id": "c3ed02e7-50b9-4df3-9f8a-002bc94814d8",
   "metadata": {},
   "outputs": [
    {
     "data": {
      "text/plain": [
       "200"
      ]
     },
     "execution_count": 2,
     "metadata": {},
     "output_type": "execute_result"
    }
   ],
   "source": [
    "number=200 # value 200 stored in a variable name called 'number'\n",
    "number"
   ]
  },
  {
   "cell_type": "markdown",
   "id": "8bb7eca2-7192-44fe-a3eb-6656206ca9ba",
   "metadata": {},
   "source": [
    "**Note**\n",
    "\n",
    "- python is step by step process\n",
    "\n",
    "- python wil take last output as the latest value\n",
    "\n",
    "- in above code we are using same variable: number\n",
    "\n",
    "- but number value changed two times\n",
    "\n",
    "- first time 100\n",
    "\n",
    "- second time 200\n",
    "\n",
    "- latest value 200"
   ]
  },
  {
   "cell_type": "code",
   "execution_count": 3,
   "id": "129f0db6-712c-437b-b92e-96a1a75036ab",
   "metadata": {},
   "outputs": [
    {
     "data": {
      "text/plain": [
       "200"
      ]
     },
     "execution_count": 3,
     "metadata": {},
     "output_type": "execute_result"
    }
   ],
   "source": [
    "NUMBER=200\n",
    "NUMBER"
   ]
  },
  {
   "cell_type": "code",
   "execution_count": 4,
   "id": "19ab81f9-bd65-4844-a01a-52876dd462f8",
   "metadata": {},
   "outputs": [
    {
     "data": {
      "text/plain": [
       "(200, 200)"
      ]
     },
     "execution_count": 4,
     "metadata": {},
     "output_type": "execute_result"
    }
   ],
   "source": [
    "number, NUMBER"
   ]
  },
  {
   "cell_type": "code",
   "execution_count": 5,
   "id": "d6896678-47d3-4f65-bc78-928973a7767c",
   "metadata": {},
   "outputs": [
    {
     "data": {
      "text/plain": [
       "300"
      ]
     },
     "execution_count": 5,
     "metadata": {},
     "output_type": "execute_result"
    }
   ],
   "source": [
    "NUMber=300\n",
    "NUMber"
   ]
  },
  {
   "cell_type": "code",
   "execution_count": 6,
   "id": "06d8204f-cba1-43fe-8db5-70c185119957",
   "metadata": {},
   "outputs": [
    {
     "data": {
      "text/plain": [
       "400"
      ]
     },
     "execution_count": 6,
     "metadata": {},
     "output_type": "execute_result"
    }
   ],
   "source": [
    "number123=400\n",
    "number123"
   ]
  },
  {
   "cell_type": "code",
   "execution_count": 7,
   "id": "63244f40-fbe5-445e-b95e-e25f9ed25051",
   "metadata": {},
   "outputs": [
    {
     "ename": "SyntaxError",
     "evalue": "invalid decimal literal (1181908654.py, line 1)",
     "output_type": "error",
     "traceback": [
      "\u001b[1;36m  Cell \u001b[1;32mIn[7], line 1\u001b[1;36m\u001b[0m\n\u001b[1;33m    123number=500\u001b[0m\n\u001b[1;37m      ^\u001b[0m\n\u001b[1;31mSyntaxError\u001b[0m\u001b[1;31m:\u001b[0m invalid decimal literal\n"
     ]
    }
   ],
   "source": [
    "123number=500\n",
    "123number"
   ]
  },
  {
   "cell_type": "code",
   "execution_count": 8,
   "id": "8aa229ee-966c-478d-b330-afeae7ecb7cd",
   "metadata": {},
   "outputs": [
    {
     "ename": "SyntaxError",
     "evalue": "cannot assign to expression here. Maybe you meant '==' instead of '='? (1823274275.py, line 1)",
     "output_type": "error",
     "traceback": [
      "\u001b[1;36m  Cell \u001b[1;32mIn[8], line 1\u001b[1;36m\u001b[0m\n\u001b[1;33m    numb%er=600\u001b[0m\n\u001b[1;37m    ^\u001b[0m\n\u001b[1;31mSyntaxError\u001b[0m\u001b[1;31m:\u001b[0m cannot assign to expression here. Maybe you meant '==' instead of '='?\n"
     ]
    }
   ],
   "source": [
    "numb%er=600\n",
    "numb%er"
   ]
  },
  {
   "cell_type": "code",
   "execution_count": 9,
   "id": "f2dff685-902f-41b1-912a-825447050d20",
   "metadata": {},
   "outputs": [
    {
     "ename": "SyntaxError",
     "evalue": "invalid syntax (2656576567.py, line 1)",
     "output_type": "error",
     "traceback": [
      "\u001b[1;36m  Cell \u001b[1;32mIn[9], line 1\u001b[1;36m\u001b[0m\n\u001b[1;33m    number one=800\u001b[0m\n\u001b[1;37m           ^\u001b[0m\n\u001b[1;31mSyntaxError\u001b[0m\u001b[1;31m:\u001b[0m invalid syntax\n"
     ]
    }
   ],
   "source": [
    "number one=800\n",
    "number one"
   ]
  },
  {
   "cell_type": "code",
   "execution_count": 10,
   "id": "7387429f-3645-4def-9006-eb838f105d8b",
   "metadata": {},
   "outputs": [
    {
     "data": {
      "text/plain": [
       "900"
      ]
     },
     "execution_count": 10,
     "metadata": {},
     "output_type": "execute_result"
    }
   ],
   "source": [
    "number_one=900\n",
    "number_one"
   ]
  },
  {
   "cell_type": "code",
   "execution_count": 11,
   "id": "0baf9b53-d60a-438d-bdef-b62024503568",
   "metadata": {},
   "outputs": [
    {
     "data": {
      "text/plain": [
       "1000"
      ]
     },
     "execution_count": 11,
     "metadata": {},
     "output_type": "execute_result"
    }
   ],
   "source": [
    "_=1000\n",
    "_"
   ]
  },
  {
   "cell_type": "code",
   "execution_count": 12,
   "id": "0931edff-3ee2-41cf-a9f9-ee66f1d80785",
   "metadata": {},
   "outputs": [
    {
     "data": {
      "text/plain": [
       "(100, 200)"
      ]
     },
     "execution_count": 12,
     "metadata": {},
     "output_type": "execute_result"
    }
   ],
   "source": [
    "n1=100,200\n",
    "n1"
   ]
  },
  {
   "cell_type": "code",
   "execution_count": 13,
   "id": "d74c3c71-0878-44ba-a898-d9b13c51831e",
   "metadata": {},
   "outputs": [
    {
     "ename": "TypeError",
     "evalue": "cannot unpack non-iterable int object",
     "output_type": "error",
     "traceback": [
      "\u001b[1;31m---------------------------------------------------------------------------\u001b[0m",
      "\u001b[1;31mTypeError\u001b[0m                                 Traceback (most recent call last)",
      "Cell \u001b[1;32mIn[13], line 1\u001b[0m\n\u001b[1;32m----> 1\u001b[0m n2,n3\u001b[38;5;241m=\u001b[39m\u001b[38;5;241m200\u001b[39m\n",
      "\u001b[1;31mTypeError\u001b[0m: cannot unpack non-iterable int object"
     ]
    }
   ],
   "source": [
    "n2,n3=200"
   ]
  },
  {
   "cell_type": "code",
   "execution_count": 17,
   "id": "c0f7004e-77f5-45d6-9a05-a72a0f2d946a",
   "metadata": {},
   "outputs": [
    {
     "name": "stdout",
     "output_type": "stream",
     "text": [
      "100\n",
      "200\n"
     ]
    }
   ],
   "source": [
    "n4,n5=100,200\n",
    "print(n4)\n",
    "print(n5)"
   ]
  },
  {
   "cell_type": "code",
   "execution_count": 18,
   "id": "423b78d9-b8ca-437d-8e34-72a35e2a426d",
   "metadata": {},
   "outputs": [
    {
     "data": {
      "text/plain": [
       "200"
      ]
     },
     "execution_count": 18,
     "metadata": {},
     "output_type": "execute_result"
    }
   ],
   "source": [
    "n4,n5=100,200\n",
    "n4\n",
    "n5"
   ]
  },
  {
   "cell_type": "code",
   "execution_count": null,
   "id": "5dab6727-d106-4d8e-9314-02a29fe06b36",
   "metadata": {},
   "outputs": [],
   "source": [
    "number=200  # w\n",
    "NUMBER=300  # w\n",
    "NUMber=400  # w\n",
    "number123=500 # w\n",
    "123number=600  # F\n",
    "num%er=700    # F\n",
    "number one=800 #F\n",
    "number_one=900 # W\n",
    "_=1000 # W\n",
    "n1=100,200 # W\n",
    "n1,n2=100  # F\n",
    "n1,n2=100,200 # W\n"
   ]
  },
  {
   "cell_type": "code",
   "execution_count": 19,
   "id": "6fb552c3-1df4-4e2a-8fe2-85955f956996",
   "metadata": {},
   "outputs": [],
   "source": [
    "n1,_=200,300"
   ]
  },
  {
   "cell_type": "code",
   "execution_count": 20,
   "id": "632712fd-2f50-4138-ba1a-37fd9dfd320b",
   "metadata": {},
   "outputs": [
    {
     "ename": "SyntaxError",
     "evalue": "invalid syntax (586179600.py, line 1)",
     "output_type": "error",
     "traceback": [
      "\u001b[1;36m  Cell \u001b[1;32mIn[20], line 1\u001b[1;36m\u001b[0m\n\u001b[1;33m    if=100\u001b[0m\n\u001b[1;37m      ^\u001b[0m\n\u001b[1;31mSyntaxError\u001b[0m\u001b[1;31m:\u001b[0m invalid syntax\n"
     ]
    }
   ],
   "source": [
    "if=100"
   ]
  },
  {
   "cell_type": "code",
   "execution_count": null,
   "id": "ffedb614-f0b6-4fbe-afeb-fcd28c7de646",
   "metadata": {},
   "outputs": [],
   "source": [
    "if\n",
    "while\n",
    "else\n",
    "elif\n",
    "for\n",
    "True\n",
    "False"
   ]
  },
  {
   "cell_type": "markdown",
   "id": "2541ae7e-ec7b-4571-83c5-6ebee1a315b3",
   "metadata": {},
   "source": [
    "- Python variables are case sensitive\n",
    "\n",
    "- Variables can be declare as capital letters\n",
    "\n",
    "- Variables can be declare as small letters\n",
    "\n",
    "- Variables can not start with Numbers ( prefix)\n",
    "\n",
    "- Numbers can be suffix of the variables\n",
    "\n",
    "- Variables can not have special charcters except **underscore**\n",
    "\n",
    "- Variables does not have space between the names\n",
    "\n",
    "- Only undesrcore is possibile\n",
    "\n",
    "- Keywords or reserved words can not use as variables\n",
    "\n",
    "- two values can be assign to a single variable\n",
    "\n",
    "- one value can not assign to two variables"
   ]
  },
  {
   "cell_type": "code",
   "execution_count": null,
   "id": "e8cdf4cb-624f-4441-bbf9-9c7b903732e1",
   "metadata": {},
   "outputs": [],
   "source": [
    "True\n",
    "true"
   ]
  }
 ],
 "metadata": {
  "kernelspec": {
   "display_name": "Python 3 (ipykernel)",
   "language": "python",
   "name": "python3"
  },
  "language_info": {
   "codemirror_mode": {
    "name": "ipython",
    "version": 3
   },
   "file_extension": ".py",
   "mimetype": "text/x-python",
   "name": "python",
   "nbconvert_exporter": "python",
   "pygments_lexer": "ipython3",
   "version": "3.11.7"
  }
 },
 "nbformat": 4,
 "nbformat_minor": 5
}
