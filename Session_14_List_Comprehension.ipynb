{
 "cells": [
  {
   "cell_type": "markdown",
   "id": "aab46989-cc6c-44dc-95e3-39dcaa7485c4",
   "metadata": {},
   "source": [
    "- We can store the output values by using append operations\n",
    "\n",
    "- we are taking empty list\n",
    "\n",
    "- we are iterating through elements from a given list\n",
    "\n",
    "- the result we are appending in a new list"
   ]
  },
  {
   "cell_type": "code",
   "execution_count": 4,
   "id": "251624a6-9f88-4af4-baee-f918e9add72c",
   "metadata": {},
   "outputs": [
    {
     "data": {
      "text/plain": [
       "[0, 1, 4, 9, 16, 25, 36, 49, 64, 81]"
      ]
     },
     "execution_count": 4,
     "metadata": {},
     "output_type": "execute_result"
    }
   ],
   "source": [
    "square_list=[]\n",
    "for i in range(10):\n",
    "    square_list.append(i*i)\n",
    "square_list"
   ]
  },
  {
   "cell_type": "markdown",
   "id": "36610a17-5f8a-42e2-b09f-bf1c8ce03343",
   "metadata": {},
   "source": [
    "- There are almost 3 lines are in the process\n",
    "\n",
    "- The Three lines we can make into a single line\n",
    "\n",
    "- This is called as LIST COMPREHENSION"
   ]
  },
  {
   "cell_type": "markdown",
   "id": "eeaba70e-8949-4a8f-8f3e-f3507eb52b23",
   "metadata": {},
   "source": [
    "$pattern-1$\n",
    "\n",
    "**Only for loop**"
   ]
  },
  {
   "cell_type": "code",
   "execution_count": null,
   "id": "690048f7-9b1b-4f25-bda2-c797b4bf7188",
   "metadata": {},
   "outputs": [],
   "source": [
    "# syntax\n",
    "# [<output>  <for loop>]"
   ]
  },
  {
   "cell_type": "code",
   "execution_count": 5,
   "id": "d42b9de0-000d-4a3e-8560-619dc6ee4af0",
   "metadata": {},
   "outputs": [
    {
     "data": {
      "text/plain": [
       "[0, 1, 4, 9, 16, 25, 36, 49, 64, 81]"
      ]
     },
     "execution_count": 5,
     "metadata": {},
     "output_type": "execute_result"
    }
   ],
   "source": [
    "square_list=[]\n",
    "for i in range(10):\n",
    "    square_list.append(i*i)\n",
    "square_list\n",
    "\n",
    "# Q1) What is the output ? i*i\n",
    "# Q2) what is the output list name? square_list\n",
    "# Q3) What is the for loop ?  for i in range(10)\n",
    "# [<output>  <for loop>]\n",
    "sq_list=[i*i for i in range(10)]"
   ]
  },
  {
   "cell_type": "code",
   "execution_count": null,
   "id": "8e15d161-b493-4d46-9327-d856b9da19d7",
   "metadata": {},
   "outputs": [],
   "source": [
    "#Q2) l1=['hyd','mumbai','chennai','blr']\n",
    "#  upper_list= ['Hyd','Mumbai','Chennai','Blr']\n",
    "\n",
    "#Q3) l2=['Hyd','Mumbai','Chennai','Blr']\n",
    "# lower_list=['hyd','mumbai','chennai','blr']"
   ]
  },
  {
   "cell_type": "code",
   "execution_count": 7,
   "id": "a8419f9e-c5d1-4b49-87d6-7ff5bd97eeb4",
   "metadata": {},
   "outputs": [
    {
     "data": {
      "text/plain": [
       "['HYD', 'MUMBAI', 'CHENNAI', 'BLR']"
      ]
     },
     "execution_count": 7,
     "metadata": {},
     "output_type": "execute_result"
    }
   ],
   "source": [
    "#Q2) l1=['hyd','mumbai','chennai','blr']\n",
    "#  upper_list= ['Hyd','Mumbai','Chennai','Blr']\n",
    "l1=['hyd','mumbai','chennai','blr']\n",
    "upper_list=[]\n",
    "for i in l1:\n",
    "    upper_list.append(i.upper())\n",
    "upper_list"
   ]
  },
  {
   "cell_type": "code",
   "execution_count": 8,
   "id": "4259fa3c-daf4-4ca4-aa0b-ed527c5e5198",
   "metadata": {},
   "outputs": [
    {
     "data": {
      "text/plain": [
       "['HYD', 'MUMBAI', 'CHENNAI', 'BLR']"
      ]
     },
     "execution_count": 8,
     "metadata": {},
     "output_type": "execute_result"
    }
   ],
   "source": [
    "# Q1) What is the output ? i.upper()\n",
    "# Q2) what is the output list name? upper_list\n",
    "# Q3) What is the for loop ?  for i in l1\n",
    "# [<output>  <for loop>]\n",
    "l1=['hyd','mumbai','chennai','blr']\n",
    "upper_list=[i.upper() for i in l1]\n",
    "upper_list"
   ]
  },
  {
   "cell_type": "code",
   "execution_count": 9,
   "id": "17475cd3-14bf-484a-914f-83f6c6f993a6",
   "metadata": {},
   "outputs": [
    {
     "data": {
      "text/plain": [
       "['hyd', 'mumbai', 'chennai', 'blr']"
      ]
     },
     "execution_count": 9,
     "metadata": {},
     "output_type": "execute_result"
    }
   ],
   "source": [
    "#Q3) l2=['Hyd','Mumbai','Chennai','Blr']\n",
    "# lower_list=['hyd','mumbai','chennai','blr']\n",
    "l2=['Hyd','Mumbai','Chennai','Blr']\n",
    "lower_list=[i.lower() for i in l2]\n",
    "lower_list"
   ]
  },
  {
   "cell_type": "code",
   "execution_count": 10,
   "id": "192bb972-82ba-4a00-b874-02d5d20add90",
   "metadata": {},
   "outputs": [
    {
     "name": "stdout",
     "output_type": "stream",
     "text": [
      "0\n",
      "1\n",
      "2\n",
      "3\n"
     ]
    }
   ],
   "source": [
    "# Q4)l2=['Hyd','Mumbai','Chennai','Blr']\n",
    "# sum of the indexes of all elements\n",
    "l2=['Hyd','Mumbai','Chennai','Blr']\n",
    "for i in l2:\n",
    "    print(l2.index(i))"
   ]
  },
  {
   "cell_type": "code",
   "execution_count": 12,
   "id": "bfa8c432-f933-4dad-afb1-47bf83294e1f",
   "metadata": {},
   "outputs": [
    {
     "data": {
      "text/plain": [
       "6"
      ]
     },
     "execution_count": 12,
     "metadata": {},
     "output_type": "execute_result"
    }
   ],
   "source": [
    "l2=['Hyd','Mumbai','Chennai','Blr']\n",
    "idx_list=[l2.index(i) for i in l2]\n",
    "sum(idx_list)"
   ]
  },
  {
   "cell_type": "code",
   "execution_count": null,
   "id": "30f17d96-2a55-4b18-95e0-775a15479ba3",
   "metadata": {},
   "outputs": [],
   "source": [
    "  1 l1=['Hyd', 'Mumbai', 'Chennai', 'Blr']\n",
    "      2 Sum_List=[i for i in range(len(l1))]\n",
    "----> 3 sum(Sum_List)\n",
    "      4 Sum_List\n",
    "\n",
    "TypeError: 'list' object is not callable"
   ]
  },
  {
   "cell_type": "markdown",
   "id": "c9260d26-e6bc-46f5-ae24-a9f28c399d82",
   "metadata": {},
   "source": [
    "- making empty list will not works in List Comprehenshion\n",
    "\n",
    "- intializations will not works in List Comprehenshion\n",
    "\n",
    "- assignment opertaions also not works"
   ]
  },
  {
   "cell_type": "code",
   "execution_count": 13,
   "id": "8ae5e1e2-0de8-42f2-9a19-2b17ecaa40f1",
   "metadata": {},
   "outputs": [
    {
     "ename": "SyntaxError",
     "evalue": "invalid syntax. Maybe you meant '==' or ':=' instead of '='? (3256062263.py, line 7)",
     "output_type": "error",
     "traceback": [
      "\u001b[1;36m  Cell \u001b[1;32mIn[13], line 7\u001b[1;36m\u001b[0m\n\u001b[1;33m    idx_list=[val=l2.index(i) for i in l2]\u001b[0m\n\u001b[1;37m              ^\u001b[0m\n\u001b[1;31mSyntaxError\u001b[0m\u001b[1;31m:\u001b[0m invalid syntax. Maybe you meant '==' or ':=' instead of '='?\n"
     ]
    }
   ],
   "source": [
    "# Fail\n",
    "l2=['Hyd','Mumbai','Chennai','Blr']\n",
    "for i in l2:\n",
    "    val=l2.index(i)\n",
    "    print(val)\n",
    "\n",
    "idx_list=[val=l2.index(i) for i in l2]"
   ]
  },
  {
   "cell_type": "markdown",
   "id": "68c4f29d-f4f9-4ff4-96e2-6d553e499cf1",
   "metadata": {},
   "source": [
    "$pattern-2$\n",
    "\n",
    "**for loop - if condition**"
   ]
  },
  {
   "cell_type": "code",
   "execution_count": null,
   "id": "014f11a2-2689-4eac-a7ea-0046329f520e",
   "metadata": {},
   "outputs": [],
   "source": [
    "# syntax\n",
    "\n",
    "#[<output>  <for loop>  <if condition>]"
   ]
  },
  {
   "cell_type": "code",
   "execution_count": 14,
   "id": "cc2fe3f9-68f2-4d38-8099-b28ed76bd770",
   "metadata": {},
   "outputs": [
    {
     "name": "stdout",
     "output_type": "stream",
     "text": [
      "Mumbai\n",
      "Chennai\n"
     ]
    }
   ],
   "source": [
    "# Q5)l1=['Hyd','Mumbai','Chennai','blr']\n",
    "#  ans=['Mumbai','Chennai']  \n",
    "#  we want lements which are len of element >4\n",
    "l1=['Hyd','Mumbai','Chennai','blr']\n",
    "for i in l1:\n",
    "    if len(i)>4:\n",
    "        print(i)"
   ]
  },
  {
   "cell_type": "code",
   "execution_count": 15,
   "id": "68a20ed6-e699-4c23-9261-d0ad6f2dc034",
   "metadata": {},
   "outputs": [
    {
     "data": {
      "text/plain": [
       "['Mumbai', 'Chennai']"
      ]
     },
     "execution_count": 15,
     "metadata": {},
     "output_type": "execute_result"
    }
   ],
   "source": [
    "# Q1) what is the output:  i\n",
    "# Q2) what is the if condition: if len(i)>4\n",
    "# q3) what is the for llop : for i in l1\n",
    "#[<output>  <for loop>  <if condition>]\n",
    "l1=['Hyd','Mumbai','Chennai','blr']\n",
    "op=[i for i in l1 if len(i)>4]\n",
    "op"
   ]
  },
  {
   "cell_type": "code",
   "execution_count": null,
   "id": "33b344bc-9c73-4616-9b55-e953dcc5fe86",
   "metadata": {},
   "outputs": [],
   "source": [
    "\n",
    "# Q3)l1=['Hyd','Mum#bai','Chen#nai','blr']\n",
    "#  ans=['Mum#bai'',Chen#nai']  \n",
    "#  we want lements which are having '#'\n",
    "\n",
    "# Q5)l1=['Hyd','Mumbai','chennai','blr']\n",
    "#  ans= ['Hyd','Mumbai']\n",
    "#  we want lements which are having first letter capital\n",
    "\n",
    "# Q6)l1=['Hyd','Mum#bai','Chen#nai','blr']\n",
    "#  ans_#=['Mum#bai'',Chen#nai']    for loop and if cond\n",
    "#  ans_without_#=['Hyd'','blr'] \n",
    "#  we want lements which are having '#'  for loop if cond\n",
    "\n",
    "# Q9) str1='virat.kohli@rcb.com, Rohit.sharma@mi.co, KL.Rahul@lucknow.com'\n",
    "# Firstname=[]  second name=[]  cname =[]\n",
    "# append first name should be in first name list\n",
    "#        second name shoul be in second name list\n",
    "#        thirs name will be in thirs name list"
   ]
  },
  {
   "cell_type": "code",
   "execution_count": 17,
   "id": "b71423e3-dfb4-4250-8abf-f0beae03fce0",
   "metadata": {},
   "outputs": [
    {
     "data": {
      "text/plain": [
       "['Mum#bai', 'Chen#nai']"
      ]
     },
     "execution_count": 17,
     "metadata": {},
     "output_type": "execute_result"
    }
   ],
   "source": [
    "# Q6)l1=['Hyd','Mum#bai','Chen#nai','blr']\n",
    "#  ans=['Mum#bai'',Chen#nai']  \n",
    "#  we want lements which are having '#'\n",
    "l1=['Hyd','Mum#bai','Chen#nai','blr']\n",
    "op=[]\n",
    "for i in l1:\n",
    "    if '#' in i:\n",
    "        op.append(i)\n",
    "op"
   ]
  },
  {
   "cell_type": "code",
   "execution_count": 20,
   "id": "84ceac0f-4c93-4282-ab74-346c770ed0c8",
   "metadata": {},
   "outputs": [
    {
     "data": {
      "text/plain": [
       "['Mum#bai', 'Chen#nai']"
      ]
     },
     "execution_count": 20,
     "metadata": {},
     "output_type": "execute_result"
    }
   ],
   "source": [
    "op_ash=[i for i in l1  if '#' in i]\n",
    "op_ash"
   ]
  },
  {
   "cell_type": "code",
   "execution_count": 21,
   "id": "852e5c6a-bdbb-4dd9-9c92-bbbeace719c1",
   "metadata": {},
   "outputs": [
    {
     "data": {
      "text/plain": [
       "['Hyd', 'blr']"
      ]
     },
     "execution_count": 21,
     "metadata": {},
     "output_type": "execute_result"
    }
   ],
   "source": [
    "op_not_in_ash=[i for i in l1  if '#' not in i]\n",
    "op_not_in_ash"
   ]
  },
  {
   "cell_type": "code",
   "execution_count": 28,
   "id": "8d4df975-19d1-479f-b500-0f6f944333b8",
   "metadata": {},
   "outputs": [
    {
     "data": {
      "text/plain": [
       "['Hyd']"
      ]
     },
     "execution_count": 28,
     "metadata": {},
     "output_type": "execute_result"
    }
   ],
   "source": [
    "l1=['Hyd','Mum#bai','Chen#nai','blr']\n",
    "op_title=[i for i in l1  if i.istitle()]\n",
    "op_title"
   ]
  },
  {
   "cell_type": "code",
   "execution_count": 52,
   "id": "9493c52c-7238-4502-8db7-240b5b50e494",
   "metadata": {},
   "outputs": [
    {
     "data": {
      "text/plain": [
       "['virat', ' Rohit', ' KL']"
      ]
     },
     "execution_count": 52,
     "metadata": {},
     "output_type": "execute_result"
    }
   ],
   "source": [
    "# Q9) str1='virat.kohli@rcb.com, Rohit.sharma@mi.co, KL.Rahul@lucknow.com'\n",
    "# Firstname=[]  second name=[]  cname =[]\n",
    "# append first name should be in first name list\n",
    "#        second name shoul be in second name list\n",
    "#        thirs name will be in thirs name list\n",
    "\n",
    "# Firstname\n",
    "str1='virat.kohli@rcb.com, Rohit.sharma@mi.co, KL.Rahul@lucknow.com'\n",
    "list1=str1.split(',')\n",
    "list1[0][:list1[0].index('.')] # Virat\n",
    "list1[1][:list1[1].index('.')] # Rohit\n",
    "list1[2][:list1[2].index('.')] # KL\n",
    "# list1[i][:<first_dot_index>]\n",
    "#list1[i][:list1[i].index('.')]\n",
    "\n",
    "f_name=[]\n",
    "for i in list1:\n",
    "    f_name.append(i[:i.index('.')])\n",
    "\n",
    "[i[:i.index('.')] for i in list1]"
   ]
  },
  {
   "cell_type": "code",
   "execution_count": 34,
   "id": "9d74ec70-02ac-4f64-a9cf-6e8e76922232",
   "metadata": {},
   "outputs": [
    {
     "data": {
      "text/plain": [
       "('virat.kohli@rcb.com', ' Rohit.sharma@mi.co', ' KL.Rahul@lucknow.com')"
      ]
     },
     "execution_count": 34,
     "metadata": {},
     "output_type": "execute_result"
    }
   ],
   "source": [
    "list1[0],list1[1],list1[2]"
   ]
  },
  {
   "cell_type": "code",
   "execution_count": 35,
   "id": "148413dd-81a7-448c-a895-e9835fc7d247",
   "metadata": {},
   "outputs": [
    {
     "data": {
      "text/plain": [
       "5"
      ]
     },
     "execution_count": 35,
     "metadata": {},
     "output_type": "execute_result"
    }
   ],
   "source": [
    "list1[0].index('.')"
   ]
  },
  {
   "cell_type": "code",
   "execution_count": 46,
   "id": "a59153a7-cd63-4afa-a10c-fc1ac0eb604e",
   "metadata": {},
   "outputs": [
    {
     "data": {
      "text/plain": [
       "' KL'"
      ]
     },
     "execution_count": 46,
     "metadata": {},
     "output_type": "execute_result"
    }
   ],
   "source": [
    "str1='virat.kohli@rcb.com, Rohit.sharma@mi.co, KL.Rahul@lucknow.com'\n",
    "list1=str1.split(',')\n",
    "list1[0].index('.')\n",
    "list1[2][:list1[2].index('.')]"
   ]
  },
  {
   "cell_type": "code",
   "execution_count": 53,
   "id": "ed93b2c6-36fa-4bf8-a458-3770d3c846d9",
   "metadata": {},
   "outputs": [
    {
     "data": {
      "text/plain": [
       "['virat.kohli@rcb.com', ' Rohit.sharma@mi.co', ' KL.Rahul@lucknow.com']"
      ]
     },
     "execution_count": 53,
     "metadata": {},
     "output_type": "execute_result"
    }
   ],
   "source": [
    "str1='virat.kohli@rcb.com, Rohit.sharma@mi.co, KL.Rahul@lucknow.com'\n",
    "list1=str1.split(',')\n",
    "list1"
   ]
  },
  {
   "cell_type": "code",
   "execution_count": 55,
   "id": "99d18e5f-dff6-4fb9-981c-43846ab49a4b",
   "metadata": {},
   "outputs": [
    {
     "data": {
      "text/plain": [
       "'virat'"
      ]
     },
     "execution_count": 55,
     "metadata": {},
     "output_type": "execute_result"
    }
   ],
   "source": [
    "list1[0][:5]\n",
    "# what is 5: index of first .\n"
   ]
  },
  {
   "cell_type": "code",
   "execution_count": 60,
   "id": "48017c63-02aa-4d7c-86d8-378aa62471e9",
   "metadata": {},
   "outputs": [
    {
     "data": {
      "text/plain": [
       "' KL'"
      ]
     },
     "execution_count": 60,
     "metadata": {},
     "output_type": "execute_result"
    }
   ],
   "source": [
    "name1=list1[0]\n",
    "ix=list1[0].index('.')\n",
    "name1[:list1[0].index('.')]\n",
    "\n",
    "list1[2][:list1[2].index('.')]\n",
    "\n",
    "list1[i][:list1[i].index('.')]"
   ]
  },
  {
   "cell_type": "code",
   "execution_count": 61,
   "id": "9d77c766-4d10-4e51-869a-3bfb7a06e264",
   "metadata": {},
   "outputs": [
    {
     "name": "stdout",
     "output_type": "stream",
     "text": [
      "virat\n",
      " Rohit\n",
      " KL\n"
     ]
    }
   ],
   "source": [
    "for i in range(len(list1)):\n",
    "    print(list1[i][:list1[i].index('.')])"
   ]
  },
  {
   "cell_type": "code",
   "execution_count": 62,
   "id": "78b933b9-9d67-414c-80e9-6ffda2b5180b",
   "metadata": {},
   "outputs": [
    {
     "name": "stdout",
     "output_type": "stream",
     "text": [
      "virat\n",
      " Rohit\n",
      " KL\n"
     ]
    }
   ],
   "source": [
    "for i in list1:\n",
    "    print(i[:i.index('.')])"
   ]
  },
  {
   "cell_type": "markdown",
   "id": "d3c3d68a-2ce4-4e12-9f55-f979f02a7d99",
   "metadata": {},
   "source": [
    "$Pattern-3$\n",
    "\n",
    "**if-else**"
   ]
  },
  {
   "cell_type": "code",
   "execution_count": null,
   "id": "bc0d108a-3ef1-4384-8aae-81f772ce3e63",
   "metadata": {},
   "outputs": [],
   "source": [
    "[<output> <forloop>]  :  for loop\n",
    "[<output> <forloop> <if condition>]: for-if\n",
    "[<if_output> <if> <else> <else_output> <for>] : if-else\n"
   ]
  },
  {
   "cell_type": "markdown",
   "id": "6556f51d-60f4-4972-92de-5e059b2f6c6d",
   "metadata": {},
   "source": [
    "**even-odd**"
   ]
  },
  {
   "cell_type": "code",
   "execution_count": 2,
   "id": "e0e7e698-b7ad-4ec5-8a06-0037fbb847a1",
   "metadata": {},
   "outputs": [],
   "source": [
    "even_list,odd_list=[],[]\n",
    "for i in range(1,20):\n",
    "    if i%2==0:\n",
    "        even_list.append(f\"even:{i}\")\n",
    "    else:\n",
    "        odd_list.append(f\"odd:{i}\")"
   ]
  },
  {
   "cell_type": "code",
   "execution_count": 4,
   "id": "0105462e-5d50-409d-8063-b63cd09afe14",
   "metadata": {},
   "outputs": [
    {
     "data": {
      "text/plain": [
       "(['even:2',\n",
       "  'even:4',\n",
       "  'even:6',\n",
       "  'even:8',\n",
       "  'even:10',\n",
       "  'even:12',\n",
       "  'even:14',\n",
       "  'even:16',\n",
       "  'even:18'],\n",
       " ['odd:1',\n",
       "  'odd:3',\n",
       "  'odd:5',\n",
       "  'odd:7',\n",
       "  'odd:9',\n",
       "  'odd:11',\n",
       "  'odd:13',\n",
       "  'odd:15',\n",
       "  'odd:17',\n",
       "  'odd:19'])"
      ]
     },
     "execution_count": 4,
     "metadata": {},
     "output_type": "execute_result"
    }
   ],
   "source": [
    "even_list,odd_list"
   ]
  },
  {
   "cell_type": "code",
   "execution_count": 6,
   "id": "292bfe5c-2c39-47b6-90ee-e1a89a6066f4",
   "metadata": {},
   "outputs": [
    {
     "data": {
      "text/plain": [
       "['odd:1',\n",
       " 'even:2',\n",
       " 'odd:3',\n",
       " 'even:4',\n",
       " 'odd:5',\n",
       " 'even:6',\n",
       " 'odd:7',\n",
       " 'even:8',\n",
       " 'odd:9',\n",
       " 'even:10',\n",
       " 'odd:11',\n",
       " 'even:12',\n",
       " 'odd:13',\n",
       " 'even:14',\n",
       " 'odd:15',\n",
       " 'even:16',\n",
       " 'odd:17',\n",
       " 'even:18',\n",
       " 'odd:19']"
      ]
     },
     "execution_count": 6,
     "metadata": {},
     "output_type": "execute_result"
    }
   ],
   "source": [
    "op_list=[]\n",
    "for i in range(1,20):\n",
    "    if i%2==0:\n",
    "        op_list.append(f\"even:{i}\")\n",
    "    else:\n",
    "        op_list.append(f\"odd:{i}\")\n",
    "op_list\n",
    "\n",
    "#[<if_op> <if_con> <else> <else_op> <for_loop>]\n",
    "[f\"even:{i}\" if i%2==0 else f\"odd:{i}\" for i in range(1,20)]"
   ]
  },
  {
   "cell_type": "code",
   "execution_count": null,
   "id": "9a345a86-9738-40aa-a98c-124750ba4c62",
   "metadata": {},
   "outputs": [],
   "source": []
  }
 ],
 "metadata": {
  "kernelspec": {
   "display_name": "Python 3 (ipykernel)",
   "language": "python",
   "name": "python3"
  },
  "language_info": {
   "codemirror_mode": {
    "name": "ipython",
    "version": 3
   },
   "file_extension": ".py",
   "mimetype": "text/x-python",
   "name": "python",
   "nbconvert_exporter": "python",
   "pygments_lexer": "ipython3",
   "version": "3.11.7"
  }
 },
 "nbformat": 4,
 "nbformat_minor": 5
}
