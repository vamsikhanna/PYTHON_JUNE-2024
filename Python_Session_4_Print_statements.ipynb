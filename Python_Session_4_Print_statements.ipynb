{
 "cells": [
  {
   "cell_type": "code",
   "execution_count": 1,
   "id": "e580193a-661a-42c8-a647-c5acadac0351",
   "metadata": {},
   "outputs": [
    {
     "name": "stdout",
     "output_type": "stream",
     "text": [
      "10\n"
     ]
    }
   ],
   "source": [
    "print(10)"
   ]
  },
  {
   "cell_type": "code",
   "execution_count": 2,
   "id": "4351cf1c-c0ea-4003-82e8-7acf5642831a",
   "metadata": {},
   "outputs": [
    {
     "name": "stdout",
     "output_type": "stream",
     "text": [
      "python\n"
     ]
    }
   ],
   "source": [
    "print('python')"
   ]
  },
  {
   "cell_type": "code",
   "execution_count": 3,
   "id": "cdffc06d-47eb-4e95-8cc0-ca895d928617",
   "metadata": {},
   "outputs": [
    {
     "name": "stdout",
     "output_type": "stream",
     "text": [
      "10 20 30\n"
     ]
    }
   ],
   "source": [
    "print(10,20,30)"
   ]
  },
  {
   "cell_type": "code",
   "execution_count": 4,
   "id": "16f96bf9-7a2d-4a00-a867-1f806acd7c8c",
   "metadata": {},
   "outputs": [
    {
     "name": "stdout",
     "output_type": "stream",
     "text": [
      "10 10.5 Naresh IT True\n"
     ]
    }
   ],
   "source": [
    "print(10,10.5,'Naresh IT',True)"
   ]
  },
  {
   "cell_type": "code",
   "execution_count": 6,
   "id": "70e72220-35ce-4792-8421-fd253e09163a",
   "metadata": {},
   "outputs": [
    {
     "name": "stdout",
     "output_type": "stream",
     "text": [
      "10 20\n"
     ]
    }
   ],
   "source": [
    "n1=10\n",
    "n2=20\n",
    "print(n1,n2)"
   ]
  },
  {
   "cell_type": "code",
   "execution_count": 9,
   "id": "05ce6797-f8b0-4d9b-92c2-f387c476ce81",
   "metadata": {},
   "outputs": [
    {
     "name": "stdout",
     "output_type": "stream",
     "text": [
      "10\n",
      "20\n"
     ]
    },
    {
     "data": {
      "text/plain": [
       "(None, None)"
      ]
     },
     "execution_count": 9,
     "metadata": {},
     "output_type": "execute_result"
    }
   ],
   "source": [
    "print(10),print(20) # Good"
   ]
  },
  {
   "cell_type": "code",
   "execution_count": 11,
   "id": "cbb31773-4075-44b8-9f4c-e9aa83787e2a",
   "metadata": {},
   "outputs": [
    {
     "name": "stdout",
     "output_type": "stream",
     "text": [
      "10 20 30\n",
      "10\n",
      "20\n"
     ]
    },
    {
     "data": {
      "text/plain": [
       "(None, None)"
      ]
     },
     "execution_count": 11,
     "metadata": {},
     "output_type": "execute_result"
    }
   ],
   "source": [
    "print(10,20,30)\n",
    "print(10),print(20)\n",
    "\n",
    "# None: No value"
   ]
  },
  {
   "cell_type": "code",
   "execution_count": 12,
   "id": "4b5027c0-5348-45de-a7d1-0d5427e731c8",
   "metadata": {},
   "outputs": [
    {
     "data": {
      "text/plain": [
       "10"
      ]
     },
     "execution_count": 12,
     "metadata": {},
     "output_type": "execute_result"
    }
   ],
   "source": [
    "n1=10\n",
    "n1"
   ]
  },
  {
   "cell_type": "code",
   "execution_count": 13,
   "id": "4527206d-dbee-4a83-93fa-f9029076c076",
   "metadata": {},
   "outputs": [
    {
     "name": "stdout",
     "output_type": "stream",
     "text": [
      "10\n",
      "20\n"
     ]
    }
   ],
   "source": [
    "print(10)\n",
    "print(20)"
   ]
  },
  {
   "cell_type": "code",
   "execution_count": 14,
   "id": "9bf85176-e09c-4b6a-b15f-25149d13ac35",
   "metadata": {},
   "outputs": [
    {
     "name": "stdout",
     "output_type": "stream",
     "text": [
      "10 20\n"
     ]
    }
   ],
   "source": [
    "print(10,20)"
   ]
  },
  {
   "cell_type": "code",
   "execution_count": 15,
   "id": "7b418902-f3ef-475f-8209-2cf54debe6c0",
   "metadata": {},
   "outputs": [
    {
     "name": "stdout",
     "output_type": "stream",
     "text": [
      "10\n",
      "20\n"
     ]
    },
    {
     "data": {
      "text/plain": [
       "(None, None)"
      ]
     },
     "execution_count": 15,
     "metadata": {},
     "output_type": "execute_result"
    }
   ],
   "source": [
    "print(10),print(20)"
   ]
  },
  {
   "cell_type": "code",
   "execution_count": 16,
   "id": "6d7eb1d4-4e60-410d-a528-96bad01b5ab9",
   "metadata": {},
   "outputs": [
    {
     "data": {
      "text/plain": [
       "(10, 20)"
      ]
     },
     "execution_count": 16,
     "metadata": {},
     "output_type": "execute_result"
    }
   ],
   "source": [
    "10,20"
   ]
  },
  {
   "cell_type": "code",
   "execution_count": 17,
   "id": "c6ebb20c-1266-4d35-b039-828a2efeeb25",
   "metadata": {},
   "outputs": [
    {
     "data": {
      "text/plain": [
       "(10, 20)"
      ]
     },
     "execution_count": 17,
     "metadata": {},
     "output_type": "execute_result"
    }
   ],
   "source": [
    "n1=10\n",
    "n2=20\n",
    "n1,n2"
   ]
  },
  {
   "cell_type": "code",
   "execution_count": 23,
   "id": "521e4fe3-843f-474c-be71-a65b09a20d92",
   "metadata": {},
   "outputs": [
    {
     "name": "stdout",
     "output_type": "stream",
     "text": [
      "the addition of 10 and 20 is 30\n",
      "the addition of 100 and 200 is 300\n"
     ]
    }
   ],
   "source": [
    "a=100\n",
    "b=200\n",
    "c=a+b\n",
    "# the addition of 10 and 20 is 30\n",
    "print(\"the addition of 10 and 20 is 30\")\n",
    "print(\"the addition of\", a,\"and\",b,\"is\",c)"
   ]
  },
  {
   "cell_type": "markdown",
   "id": "f61a7893-3fac-4e8c-b811-acbf98759fc2",
   "metadata": {},
   "source": [
    "**format**"
   ]
  },
  {
   "cell_type": "code",
   "execution_count": 24,
   "id": "26e99bac-83c0-443e-8bcb-3cd0c7032ed4",
   "metadata": {},
   "outputs": [
    {
     "name": "stdout",
     "output_type": "stream",
     "text": [
      "the addition of 100 and 200 is 300\n"
     ]
    }
   ],
   "source": [
    "a=100\n",
    "b=200\n",
    "c=a+b\n",
    "print(\"the addition of {} and {} is {}\".format(a,b,c))"
   ]
  },
  {
   "cell_type": "code",
   "execution_count": 29,
   "id": "0aafa888-069d-461f-941c-b060c46d7854",
   "metadata": {},
   "outputs": [
    {
     "name": "stdout",
     "output_type": "stream",
     "text": [
      "my name is hyd,im 10 years old and Im from python\n"
     ]
    }
   ],
   "source": [
    "# read your name\n",
    "# read your age\n",
    "# read your city\n",
    "# My name is python, Im 10 years old Im from hyderabad\n",
    "name='python'\n",
    "age=10\n",
    "city='hyd'\n",
    "print(\"my name is {},im {} years old and Im from {}\".format(city,age,name))"
   ]
  },
  {
   "cell_type": "code",
   "execution_count": 33,
   "id": "0dedfdf7-19f6-4a61-92b0-28c36e7d29dd",
   "metadata": {},
   "outputs": [
    {
     "name": "stdout",
     "output_type": "stream",
     "text": [
      "my name is Omkar, I want to become DS in Google Company\n"
     ]
    }
   ],
   "source": [
    "# employee name\n",
    "# employee role\n",
    "# company\n",
    "\n",
    "name='Omkar'\n",
    "role='DS'\n",
    "company='Google'\n",
    "print(\"my name is {}, I want to become {} in {} Company\".format(name,role,company))"
   ]
  },
  {
   "cell_type": "markdown",
   "id": "344e7841-c74e-4f5f-9844-23e441b9f727",
   "metadata": {},
   "source": [
    "**f string**"
   ]
  },
  {
   "cell_type": "code",
   "execution_count": 38,
   "id": "c16fe6d4-892b-40cd-917d-0e948a13db75",
   "metadata": {},
   "outputs": [
    {
     "name": "stdout",
     "output_type": "stream",
     "text": [
      "the addition of 100 and 200 is 300\n"
     ]
    }
   ],
   "source": [
    "a=100\n",
    "b=200\n",
    "c=a+b\n",
    "print(f\"the addition of {a} and {b} is {c}\")"
   ]
  },
  {
   "cell_type": "code",
   "execution_count": 40,
   "id": "c72552b6-f441-46c6-a4aa-cb72f5e1fc1b",
   "metadata": {},
   "outputs": [
    {
     "name": "stdout",
     "output_type": "stream",
     "text": [
      "my name is python,im 10 years old and Im from hyd\n"
     ]
    }
   ],
   "source": [
    "name='python'\n",
    "age=10\n",
    "city='hyd'\n",
    "print(f\"my name is {name},im {age} years old and Im from {city}\")"
   ]
  },
  {
   "cell_type": "code",
   "execution_count": 42,
   "id": "70cb0c26-76d3-4a96-b53a-037424f0647b",
   "metadata": {},
   "outputs": [
    {
     "name": "stdout",
     "output_type": "stream",
     "text": [
      "my name is Omkar, I want to become DS in Google Company\n"
     ]
    }
   ],
   "source": [
    "name='Omkar'\n",
    "role='DS'\n",
    "company='Google'\n",
    "print(f\"my name is {name}, I want to become {role} in {company} Company\")"
   ]
  },
  {
   "cell_type": "code",
   "execution_count": 5,
   "id": "009f989e-fcca-4e8b-9f1d-bedf2ffb9346",
   "metadata": {},
   "outputs": [
    {
     "name": "stdout",
     "output_type": "stream",
     "text": [
      "the avergae of 100 and 200 is: 150.0\n",
      "the avergae of 100 and 200 is: 150.0\n"
     ]
    }
   ],
   "source": [
    "num1=100\n",
    "num2=200\n",
    "average=(num1+num2)/2\n",
    "# the avergae of 100 and 200 is: 150\n",
    "print(\"the avergae of {} and {} is: {}\".format(num1,num2,average))\n",
    "print(f\"the avergae of {num1} and {num2} is: {average}\")"
   ]
  },
  {
   "cell_type": "code",
   "execution_count": 8,
   "id": "fe11d1bf-9734-444f-ae39-0b37b0d2f439",
   "metadata": {},
   "outputs": [
    {
     "ename": "SyntaxError",
     "evalue": "invalid syntax. Maybe you meant '==' or ':=' instead of '='? (851710863.py, line 3)",
     "output_type": "error",
     "traceback": [
      "\u001b[1;36m  Cell \u001b[1;32mIn[8], line 3\u001b[1;36m\u001b[0m\n\u001b[1;33m    average=(num1=num2)/2\u001b[0m\n\u001b[1;37m             ^\u001b[0m\n\u001b[1;31mSyntaxError\u001b[0m\u001b[1;31m:\u001b[0m invalid syntax. Maybe you meant '==' or ':=' instead of '='?\n"
     ]
    }
   ],
   "source": [
    "num1=100\n",
    "num2=200\n",
    "average=(num1=num2)/2\n",
    "# the avergae of 100 and 200 is: 150\n",
    "print(\"the avergae of {} and {} is: {}\".format(num1,num2,average))\n",
    "print(f\"the avergae of {num1} and {num2} is: {average}\")"
   ]
  },
  {
   "cell_type": "code",
   "execution_count": 7,
   "id": "179b780b-791b-481b-8a62-a996e66f9643",
   "metadata": {},
   "outputs": [
    {
     "data": {
      "text/plain": [
       "11.0"
      ]
     },
     "execution_count": 7,
     "metadata": {},
     "output_type": "execute_result"
    }
   ],
   "source": [
    "(10+2)/2\n",
    "10+2/2\n",
    "\n",
    "# BODMAS"
   ]
  },
  {
   "cell_type": "code",
   "execution_count": 10,
   "id": "9779e037-0771-4afe-a368-19f90c1d026e",
   "metadata": {},
   "outputs": [
    {
     "name": "stdout",
     "output_type": "stream",
     "text": [
      "The area of circle is:314.0\n",
      "The area of circle is:314.0\n"
     ]
    }
   ],
   "source": [
    "# take the radius of circle\n",
    "# take the pi value=3.14\n",
    "# Find the area of the circle = pi*r*r\n",
    "\n",
    "radius=10\n",
    "pi_value=3.14\n",
    "area=pi_value*radius*radius\n",
    "print(\"The area of circle is:{}\".format(area))\n",
    "print(f\"The area of circle is:{area}\")"
   ]
  },
  {
   "cell_type": "markdown",
   "id": "57633b93-fc06-4292-a1ba-5c5e41270fd8",
   "metadata": {},
   "source": [
    "- format spelling\n",
    "\n",
    "- brackets are not providing\n",
    "\n",
    "- .  you are keeping ,\n",
    "\n",
    "- for getting the quotes also"
   ]
  },
  {
   "cell_type": "code",
   "execution_count": 11,
   "id": "3bb3dfb1-0d4a-4cf6-9268-474e1319570c",
   "metadata": {},
   "outputs": [
    {
     "name": "stdout",
     "output_type": "stream",
     "text": [
      "the area of traingle is: 100.0\n"
     ]
    }
   ],
   "source": [
    "# take the base of traingle\n",
    "# take the height of the traingle\n",
    "# area of the traingle=1/2*base*height\n",
    "base=10\n",
    "height=20\n",
    "area=0.5*base*height\n",
    "print(f\"the area of traingle is: {area}\")"
   ]
  },
  {
   "cell_type": "code",
   "execution_count": 12,
   "id": "d272d156-3842-4fb5-bc15-6897f3361277",
   "metadata": {},
   "outputs": [
    {
     "name": "stdout",
     "output_type": "stream",
     "text": [
      "the total bill is: 1100.0\n"
     ]
    }
   ],
   "source": [
    "# take the bill_amount =1000\n",
    "# take the tip_percentage =10\n",
    "# calculate tip_amount\n",
    "# calculate the total bill\n",
    "# print the total bill\n",
    "bill_amount=1000\n",
    "tip_percentage=10    # M-1\n",
    "tip_amount=bill_amount*tip_percentage/100\n",
    "total_bill=bill_amount+tip_amount\n",
    "print(f\"the total bill is: {total_bill}\")"
   ]
  },
  {
   "cell_type": "code",
   "execution_count": 13,
   "id": "eb34a045-715f-471c-817f-c8ffdc73709e",
   "metadata": {},
   "outputs": [
    {
     "name": "stdout",
     "output_type": "stream",
     "text": [
      "10\n",
      "20\n"
     ]
    }
   ],
   "source": [
    "print(10)\n",
    "print(20)\n"
   ]
  },
  {
   "cell_type": "code",
   "execution_count": 14,
   "id": "c589beb3-ea7f-4ba7-b824-b897e3f98065",
   "metadata": {},
   "outputs": [
    {
     "name": "stdout",
     "output_type": "stream",
     "text": [
      "10 20\n"
     ]
    }
   ],
   "source": [
    "print(10,20)"
   ]
  },
  {
   "cell_type": "markdown",
   "id": "e9af7ee3-a5bd-4861-8345-da925b33d606",
   "metadata": {},
   "source": [
    "$end$\n",
    "\n",
    "- combining multiple print statements in a single line"
   ]
  },
  {
   "cell_type": "code",
   "execution_count": 21,
   "id": "1a521916-41b4-4db0-a28d-a97b595e29c2",
   "metadata": {},
   "outputs": [
    {
     "name": "stdout",
     "output_type": "stream",
     "text": [
      "10 20\n"
     ]
    }
   ],
   "source": [
    "print(10,end=' ')\n",
    "print(20)"
   ]
  },
  {
   "cell_type": "code",
   "execution_count": 25,
   "id": "433c0812-76aa-405b-ad9f-5e4e84bcc27d",
   "metadata": {},
   "outputs": [
    {
     "name": "stdout",
     "output_type": "stream",
     "text": [
      "10,20&30\n"
     ]
    }
   ],
   "source": [
    "print(10,end=',')\n",
    "print(20,end='&')\n",
    "print(30)"
   ]
  },
  {
   "cell_type": "markdown",
   "id": "18c7f866-c6a7-495d-90ee-a5a238c2034a",
   "metadata": {},
   "source": [
    "$sep$\n",
    "\n",
    "- Seperate the multiple values in a single print statement"
   ]
  },
  {
   "cell_type": "code",
   "execution_count": 28,
   "id": "f836218c-4174-4473-bc25-b7708267b499",
   "metadata": {},
   "outputs": [
    {
     "name": "stdout",
     "output_type": "stream",
     "text": [
      "10&20&30\n"
     ]
    }
   ],
   "source": [
    "print(10,20,30,sep='&')\n",
    "\n",
    "# 10 & 20 & 30"
   ]
  },
  {
   "cell_type": "code",
   "execution_count": 29,
   "id": "909988e3-5cf7-474d-9e70-6b60475b1cbe",
   "metadata": {},
   "outputs": [
    {
     "name": "stdout",
     "output_type": "stream",
     "text": [
      "10--->20--->30\n"
     ]
    }
   ],
   "source": [
    "print(10,20,30,sep='--->')"
   ]
  },
  {
   "cell_type": "code",
   "execution_count": 31,
   "id": "b24c4cb3-12a7-4bf4-b717-00e85f54229c",
   "metadata": {},
   "outputs": [
    {
     "name": "stdout",
     "output_type": "stream",
     "text": [
      "the addition of 5 and 3 is 8.\n"
     ]
    }
   ],
   "source": [
    "print(f\"the addition of {5} and {3} is {5+3}.\")"
   ]
  },
  {
   "cell_type": "code",
   "execution_count": 32,
   "id": "73ac39c7-4a7d-4380-99fa-c5cc1a13a4b8",
   "metadata": {},
   "outputs": [
    {
     "name": "stdout",
     "output_type": "stream",
     "text": [
      "the addition of 5 and 3 is 8.\n"
     ]
    }
   ],
   "source": [
    "print(\"the addition of {} and {} is {}.\".format(5,3,5+3))"
   ]
  },
  {
   "cell_type": "code",
   "execution_count": 38,
   "id": "44e61e9d-dbbd-4c56-a952-f5c70aa8f092",
   "metadata": {},
   "outputs": [
    {
     "name": "stdout",
     "output_type": "stream",
     "text": [
      "the addition of 5 and 3 is 8.\n"
     ]
    }
   ],
   "source": [
    "print('the addition of 5 and 3 is 8','.',sep='')"
   ]
  },
  {
   "cell_type": "code",
   "execution_count": null,
   "id": "06ee74af-8fb3-4cb0-b8c5-c43cde044367",
   "metadata": {},
   "outputs": [],
   "source": []
  }
 ],
 "metadata": {
  "kernelspec": {
   "display_name": "Python 3 (ipykernel)",
   "language": "python",
   "name": "python3"
  },
  "language_info": {
   "codemirror_mode": {
    "name": "ipython",
    "version": 3
   },
   "file_extension": ".py",
   "mimetype": "text/x-python",
   "name": "python",
   "nbconvert_exporter": "python",
   "pygments_lexer": "ipython3",
   "version": "3.11.7"
  }
 },
 "nbformat": 4,
 "nbformat_minor": 5
}
