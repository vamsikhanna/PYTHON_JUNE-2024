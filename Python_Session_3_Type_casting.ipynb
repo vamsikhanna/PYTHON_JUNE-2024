{
 "cells": [
  {
   "cell_type": "code",
   "execution_count": 2,
   "id": "73065020-5f18-4201-b55c-9f300b6f344c",
   "metadata": {},
   "outputs": [],
   "source": [
    "true=True\n",
    "\n",
    "# true is variable\n",
    "# True is a Boolean value we are storing in true"
   ]
  },
  {
   "cell_type": "code",
   "execution_count": 3,
   "id": "0e525d96-8971-48d7-ad51-37698b12eee4",
   "metadata": {},
   "outputs": [
    {
     "data": {
      "text/plain": [
       "True"
      ]
     },
     "execution_count": 3,
     "metadata": {},
     "output_type": "execute_result"
    }
   ],
   "source": [
    "true"
   ]
  },
  {
   "cell_type": "code",
   "execution_count": null,
   "id": "22113faa-7480-4389-8c34-9d449c7e8488",
   "metadata": {},
   "outputs": [],
   "source": [
    "name 'true' is not defined\n",
    "name  'hyd' is not defined\n",
    "name   'India' is not defined"
   ]
  },
  {
   "cell_type": "code",
   "execution_count": 5,
   "id": "0bd0bd8e-f6e2-420c-bc93-3faa898d1d49",
   "metadata": {},
   "outputs": [],
   "source": [
    "n1=100"
   ]
  },
  {
   "cell_type": "code",
   "execution_count": 6,
   "id": "8dc69955-e142-420f-b2e8-ec0550a21c23",
   "metadata": {},
   "outputs": [
    {
     "data": {
      "text/plain": [
       "100"
      ]
     },
     "execution_count": 6,
     "metadata": {},
     "output_type": "execute_result"
    }
   ],
   "source": [
    "n1"
   ]
  },
  {
   "cell_type": "code",
   "execution_count": 7,
   "id": "abd9b409-0246-492c-90ea-5f77ee3e8922",
   "metadata": {},
   "outputs": [
    {
     "ename": "SyntaxError",
     "evalue": "invalid syntax (3990740062.py, line 3)",
     "output_type": "error",
     "traceback": [
      "\u001b[1;36m  Cell \u001b[1;32mIn[7], line 3\u001b[1;36m\u001b[0m\n\u001b[1;33m    type true\u001b[0m\n\u001b[1;37m         ^\u001b[0m\n\u001b[1;31mSyntaxError\u001b[0m\u001b[1;31m:\u001b[0m invalid syntax\n"
     ]
    }
   ],
   "source": [
    "# 15 days our main goal \n",
    "# to avoid the syntax error\n",
    "type true"
   ]
  },
  {
   "cell_type": "code",
   "execution_count": 8,
   "id": "e3eac938-487d-4424-991d-d2ecdf2f373e",
   "metadata": {},
   "outputs": [
    {
     "data": {
      "text/plain": [
       "bool"
      ]
     },
     "execution_count": 8,
     "metadata": {},
     "output_type": "execute_result"
    }
   ],
   "source": [
    "type(true)"
   ]
  },
  {
   "cell_type": "code",
   "execution_count": null,
   "id": "fd201197-1e18-4653-9586-ec0ef259f4dc",
   "metadata": {},
   "outputs": [],
   "source": [
    "100"
   ]
  },
  {
   "cell_type": "code",
   "execution_count": null,
   "id": "0a6522b7-ff7a-4b46-8275-64606bd0ecea",
   "metadata": {},
   "outputs": [],
   "source": [
    "1)mistakes are very very common \n",
    "2) avoid the syntax error\n",
    "3) You will think about logic\n",
    "4) 1min=== 1hour\n",
    "1st === 10th === 25th ==== 100th"
   ]
  },
  {
   "cell_type": "markdown",
   "id": "d412c1da-7014-442e-97ca-470fc30a1740",
   "metadata": {},
   "source": [
    "- intger data type    int\n",
    "\n",
    "- float data type     float\n",
    "\n",
    "- string data type    str\n",
    "\n",
    "- Boolean data type   bool"
   ]
  },
  {
   "cell_type": "markdown",
   "id": "1c87e00e-1021-4643-8600-a76a7f74c96a",
   "metadata": {},
   "source": [
    "**Type casting**\n",
    "\n",
    "- Convert one data type to another data type is called as type casting\n",
    "\n",
    "- which means we wants to convert \n",
    "\n",
    " - intger type to all other(float,str,bool) data types\n",
    "\n",
    " - float type to all other(int,str,bool) data types\n",
    "\n",
    " - str type to all other(int,float,bool) data types\n",
    "\n",
    " - bool type to all other(int,float,str) data types"
   ]
  },
  {
   "cell_type": "markdown",
   "id": "0207cfd4-0c88-4285-a30e-51cd662c8cde",
   "metadata": {},
   "source": [
    "**Integer to other data types**"
   ]
  },
  {
   "cell_type": "markdown",
   "id": "86a9364d-d6a3-4454-850d-132c84305bca",
   "metadata": {},
   "source": [
    "$int-float$"
   ]
  },
  {
   "cell_type": "code",
   "execution_count": 9,
   "id": "924a4a37-1aa1-4d6a-aed6-42634699d787",
   "metadata": {},
   "outputs": [
    {
     "data": {
      "text/plain": [
       "int"
      ]
     },
     "execution_count": 9,
     "metadata": {},
     "output_type": "execute_result"
    }
   ],
   "source": [
    "num=100\n",
    "type(num)"
   ]
  },
  {
   "cell_type": "code",
   "execution_count": 12,
   "id": "c16a5483-38ff-447a-9abd-9ac1fc46dc0a",
   "metadata": {},
   "outputs": [
    {
     "data": {
      "text/plain": [
       "float"
      ]
     },
     "execution_count": 12,
     "metadata": {},
     "output_type": "execute_result"
    }
   ],
   "source": [
    "float_num=float(num)\n",
    "type(float_num)"
   ]
  },
  {
   "cell_type": "code",
   "execution_count": 13,
   "id": "a8e36359-bf97-42b2-8866-ad4d31211932",
   "metadata": {},
   "outputs": [
    {
     "data": {
      "text/plain": [
       "'100'"
      ]
     },
     "execution_count": 13,
     "metadata": {},
     "output_type": "execute_result"
    }
   ],
   "source": [
    "str_num=str(num)\n",
    "str_num"
   ]
  },
  {
   "cell_type": "code",
   "execution_count": 14,
   "id": "e75fa69e-9990-4270-837f-011379e5cbf1",
   "metadata": {},
   "outputs": [
    {
     "data": {
      "text/plain": [
       "str"
      ]
     },
     "execution_count": 14,
     "metadata": {},
     "output_type": "execute_result"
    }
   ],
   "source": [
    "type(str_num)"
   ]
  },
  {
   "cell_type": "code",
   "execution_count": 15,
   "id": "6eadadb3-c632-4ace-9591-611fbfec5506",
   "metadata": {},
   "outputs": [
    {
     "data": {
      "text/plain": [
       "True"
      ]
     },
     "execution_count": 15,
     "metadata": {},
     "output_type": "execute_result"
    }
   ],
   "source": [
    "bool(num)"
   ]
  },
  {
   "cell_type": "code",
   "execution_count": 16,
   "id": "e2f31679-cf48-45f6-9cc8-3b564083d494",
   "metadata": {},
   "outputs": [
    {
     "data": {
      "text/plain": [
       "(200.0, '200', True)"
      ]
     },
     "execution_count": 16,
     "metadata": {},
     "output_type": "execute_result"
    }
   ],
   "source": [
    "float(200),str(200),bool(200)"
   ]
  },
  {
   "cell_type": "code",
   "execution_count": 17,
   "id": "564dbba7-a68f-462e-bc48-ef82e79e0001",
   "metadata": {},
   "outputs": [
    {
     "data": {
      "text/plain": [
       "(-200.0, '-200', True)"
      ]
     },
     "execution_count": 17,
     "metadata": {},
     "output_type": "execute_result"
    }
   ],
   "source": [
    "float(-200),str(-200),bool(-200)"
   ]
  },
  {
   "cell_type": "code",
   "execution_count": 18,
   "id": "49227892-843a-4852-92e8-382d213cd18f",
   "metadata": {},
   "outputs": [
    {
     "data": {
      "text/plain": [
       "False"
      ]
     },
     "execution_count": 18,
     "metadata": {},
     "output_type": "execute_result"
    }
   ],
   "source": [
    "# when integer of boolean converstion become False\n",
    "bool(0)"
   ]
  },
  {
   "cell_type": "markdown",
   "id": "b1e5545c-d46b-4d83-843f-4250cb5905a2",
   "metadata": {},
   "source": [
    "**Note**\n",
    "\n",
    "- Intger =0 then only boolean conversion becomes False\n",
    "\n",
    "- Otherwise for any postive number or any negative number it becomes True"
   ]
  },
  {
   "cell_type": "markdown",
   "id": "e06459eb-6c40-42c7-918c-9c0196eecdec",
   "metadata": {},
   "source": [
    "**Float to another data type**"
   ]
  },
  {
   "cell_type": "code",
   "execution_count": null,
   "id": "d745d376-d83c-4763-b7b7-e55c00ddc95d",
   "metadata": {},
   "outputs": [],
   "source": [
    "int(200.5)  # 200\n",
    "str(200.5)  # '200.5'\n",
    "bool(200.5) # True"
   ]
  },
  {
   "cell_type": "code",
   "execution_count": 20,
   "id": "07f61ef6-0cce-4fdf-89a4-d3aad23b60fd",
   "metadata": {},
   "outputs": [
    {
     "data": {
      "text/plain": [
       "(200, '200.5', True)"
      ]
     },
     "execution_count": 20,
     "metadata": {},
     "output_type": "execute_result"
    }
   ],
   "source": [
    "int(200.5),str(200.5),bool(200.5)"
   ]
  },
  {
   "cell_type": "code",
   "execution_count": 21,
   "id": "3b0a915d-f9cc-4f0f-91a2-7cfa399ee468",
   "metadata": {},
   "outputs": [
    {
     "data": {
      "text/plain": [
       "(200, '200.5', False)"
      ]
     },
     "execution_count": 21,
     "metadata": {},
     "output_type": "execute_result"
    }
   ],
   "source": [
    "int(200.5),str(200.5),bool(0.0)"
   ]
  },
  {
   "cell_type": "markdown",
   "id": "fa34e246-70a1-4294-8b80-715e428c2d73",
   "metadata": {},
   "source": [
    "**String to another data types**"
   ]
  },
  {
   "cell_type": "code",
   "execution_count": null,
   "id": "b59f4a9b-8e3c-4dc2-a423-479ce461da93",
   "metadata": {},
   "outputs": [],
   "source": [
    "# case-1\n",
    "str='apple'\n",
    "# case-2\n",
    "str1='10'\n",
    "# case3:\n",
    "str2='10.5'"
   ]
  },
  {
   "cell_type": "code",
   "execution_count": null,
   "id": "91a0cff9-dd36-4926-a147-0a8aafdd0917",
   "metadata": {},
   "outputs": [],
   "source": [
    "int('apple') # error\n",
    "float('apple') # error\n",
    "bool('apple')  # True"
   ]
  },
  {
   "cell_type": "code",
   "execution_count": null,
   "id": "50f00e3e-6221-4a3d-9930-1a8d863ff79b",
   "metadata": {},
   "outputs": [],
   "source": [
    "int('10') # 10\n",
    "float('10') # 10.0\n",
    "bool('10')  # True"
   ]
  },
  {
   "cell_type": "code",
   "execution_count": null,
   "id": "b46a53ea-b7b2-4f55-95df-d1184465ec43",
   "metadata": {},
   "outputs": [],
   "source": [
    "int('10.5') # error\n",
    "float('10.5') # 10.5\n",
    "bool('10.5')  # True"
   ]
  },
  {
   "cell_type": "code",
   "execution_count": null,
   "id": "ed0b93a1-198e-4a93-bbd5-a7c0f256d94d",
   "metadata": {},
   "outputs": [],
   "source": [
    "int('10')  # pass\n",
    "int('10.5') # Fail\n",
    "float('10')# pass\n",
    "float('10.5')# pass\n"
   ]
  },
  {
   "cell_type": "markdown",
   "id": "b37cdae3-dc64-4c1b-8929-c0c88096148b",
   "metadata": {},
   "source": [
    "- Float is the boss\n",
    "\n",
    "- Float of any value either it is integer in strings format\n",
    "\n",
    "- Or  float in strings format will works\n",
    "\n",
    "- But Integer will works only for integer in strings format\n",
    "\n",
    "- Integer type casting will fail for float in strings format"
   ]
  },
  {
   "cell_type": "code",
   "execution_count": 24,
   "id": "a57db351-2abc-4bb2-80f3-b692fbb40166",
   "metadata": {},
   "outputs": [
    {
     "data": {
      "text/plain": [
       "False"
      ]
     },
     "execution_count": 24,
     "metadata": {},
     "output_type": "execute_result"
    }
   ],
   "source": [
    "bool('')"
   ]
  },
  {
   "cell_type": "code",
   "execution_count": 23,
   "id": "3334d042-24a1-4351-899f-9557fce5b59f",
   "metadata": {},
   "outputs": [
    {
     "data": {
      "text/plain": [
       "False"
      ]
     },
     "execution_count": 23,
     "metadata": {},
     "output_type": "execute_result"
    }
   ],
   "source": [
    "bool(0)"
   ]
  },
  {
   "cell_type": "markdown",
   "id": "80133e8f-556f-4338-a566-735bd30fa9b0",
   "metadata": {},
   "source": [
    "- Empty string of boolean give Flase\n",
    "\n",
    "- False means nothing either 0 or empty string"
   ]
  },
  {
   "cell_type": "code",
   "execution_count": null,
   "id": "3fff2b5d-cb5d-4b62-9e17-b318adc9a306",
   "metadata": {},
   "outputs": [],
   "source": [
    "# boolean to other type\n",
    "\n",
    "True ==== int  float  str"
   ]
  },
  {
   "cell_type": "code",
   "execution_count": 25,
   "id": "4889c475-93d1-4ed2-a993-2bae45fa70ec",
   "metadata": {},
   "outputs": [
    {
     "data": {
      "text/plain": [
       "1"
      ]
     },
     "execution_count": 25,
     "metadata": {},
     "output_type": "execute_result"
    }
   ],
   "source": [
    "int(True)"
   ]
  },
  {
   "cell_type": "code",
   "execution_count": 26,
   "id": "a854c67f-b450-4794-9f27-d95c2cfbc0c2",
   "metadata": {},
   "outputs": [
    {
     "data": {
      "text/plain": [
       "1.0"
      ]
     },
     "execution_count": 26,
     "metadata": {},
     "output_type": "execute_result"
    }
   ],
   "source": [
    "float(True)"
   ]
  },
  {
   "cell_type": "code",
   "execution_count": 27,
   "id": "d284c57f-dcf9-49dc-9ff0-37eb87e4ff3c",
   "metadata": {},
   "outputs": [
    {
     "data": {
      "text/plain": [
       "'True'"
      ]
     },
     "execution_count": 27,
     "metadata": {},
     "output_type": "execute_result"
    }
   ],
   "source": [
    "str(True)"
   ]
  },
  {
   "cell_type": "code",
   "execution_count": 28,
   "id": "4711d417-8388-4659-a629-144cec7ff0cd",
   "metadata": {},
   "outputs": [
    {
     "data": {
      "text/plain": [
       "'False'"
      ]
     },
     "execution_count": 28,
     "metadata": {},
     "output_type": "execute_result"
    }
   ],
   "source": [
    "int(False)\n",
    "float(False)\n",
    "str(False)"
   ]
  },
  {
   "cell_type": "code",
   "execution_count": null,
   "id": "99d824a6-199c-4d03-896e-c894d665be43",
   "metadata": {},
   "outputs": [],
   "source": [
    "############ Int to other##################\n",
    "float(100)\n",
    "str(100)\n",
    "bool(100)\n",
    "\n",
    "############# Float to other ##############\n",
    "int(100.5)\n",
    "str(100.5)\n",
    "bool(100.5)\n",
    "\n",
    "bool(0)\n",
    "\n",
    "################ Str to other ###################\n",
    "int('apple') # error\n",
    "float('apple') # error\n",
    "bool('apple')  # True\n",
    "\n",
    "int('10') # 10\n",
    "float('10') # 10.0\n",
    "bool('10')  # True\n",
    "\n",
    "int('10.5') # error\n",
    "float('10.5') # 10.5\n",
    "bool('10.5')  # True\n",
    "\n",
    "bool('')\n",
    "\n",
    "######################bool to other#####################################\n",
    "int(False)\n",
    "float(False)\n",
    "str(False)\n",
    "\n",
    "int(True)\n",
    "float(True)\n",
    "str(True)"
   ]
  }
 ],
 "metadata": {
  "kernelspec": {
   "display_name": "Python 3 (ipykernel)",
   "language": "python",
   "name": "python3"
  },
  "language_info": {
   "codemirror_mode": {
    "name": "ipython",
    "version": 3
   },
   "file_extension": ".py",
   "mimetype": "text/x-python",
   "name": "python",
   "nbconvert_exporter": "python",
   "pygments_lexer": "ipython3",
   "version": "3.11.7"
  }
 },
 "nbformat": 4,
 "nbformat_minor": 5
}
