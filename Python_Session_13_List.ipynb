{
 "cells": [
  {
   "cell_type": "markdown",
   "id": "944ae8e3-92db-49f1-81ef-0dbbdd8b90d8",
   "metadata": {},
   "source": [
    "- Representations\n",
    "\n",
    "- type\n",
    "\n",
    "- len\n",
    "\n",
    "- max\n",
    "\n",
    "- min\n",
    "\n",
    "- sorted\n",
    "\n",
    "- reversed\n",
    "\n",
    "- in\n",
    "\n",
    "- for loop in\n",
    "\n",
    "- index\n",
    "\n",
    "- for loop index\n",
    "\n",
    "- mutable\n",
    "\n",
    "- concatenation\n",
    "\n",
    "- slicing\n",
    "\n",
    "- methods"
   ]
  },
  {
   "cell_type": "markdown",
   "id": "0a44947f-35cd-43bc-8b43-b2cd634254bb",
   "metadata": {},
   "source": [
    "**Representations**"
   ]
  },
  {
   "cell_type": "markdown",
   "id": "8264d911-1e35-4162-a2ed-1776b9da4832",
   "metadata": {},
   "source": [
    "- string represntation with quotes\n",
    "\n",
    "- list represnt with  square brackets []"
   ]
  },
  {
   "cell_type": "code",
   "execution_count": 1,
   "id": "2c613ead-5811-4477-b9e3-0a5697a9a171",
   "metadata": {},
   "outputs": [
    {
     "data": {
      "text/plain": [
       "[1, 2, 3, 4]"
      ]
     },
     "execution_count": 1,
     "metadata": {},
     "output_type": "execute_result"
    }
   ],
   "source": [
    "l1=[1,2,3,4]\n",
    "l1"
   ]
  },
  {
   "cell_type": "code",
   "execution_count": 2,
   "id": "6f70506b-d41a-4260-abfa-535b8d22a31a",
   "metadata": {},
   "outputs": [
    {
     "data": {
      "text/plain": [
       "list"
      ]
     },
     "execution_count": 2,
     "metadata": {},
     "output_type": "execute_result"
    }
   ],
   "source": [
    "type(l1)"
   ]
  },
  {
   "cell_type": "code",
   "execution_count": 3,
   "id": "a14230fe-edd0-4523-bc30-47df712903fb",
   "metadata": {},
   "outputs": [
    {
     "data": {
      "text/plain": [
       "['A', 'B', 'C', 'D']"
      ]
     },
     "execution_count": 3,
     "metadata": {},
     "output_type": "execute_result"
    }
   ],
   "source": [
    "l2=['A','B','C','D']\n",
    "l2"
   ]
  },
  {
   "cell_type": "code",
   "execution_count": 4,
   "id": "3885ee63-a17c-4083-8719-267d1ebc8beb",
   "metadata": {},
   "outputs": [
    {
     "data": {
      "text/plain": [
       "[1, 2, 3, 4, 'A', 'B', 'C', 'D']"
      ]
     },
     "execution_count": 4,
     "metadata": {},
     "output_type": "execute_result"
    }
   ],
   "source": [
    "l3=[1,2,3,4,'A','B','C','D']\n",
    "l3"
   ]
  },
  {
   "cell_type": "code",
   "execution_count": 5,
   "id": "d31c1119-ee98-45eb-85c8-28d671479298",
   "metadata": {},
   "outputs": [
    {
     "data": {
      "text/plain": [
       "[1, 2, 3, 'Apple', 'Ball', 'Cat', True, False]"
      ]
     },
     "execution_count": 5,
     "metadata": {},
     "output_type": "execute_result"
    }
   ],
   "source": [
    "l4=[1,2,3,'Apple','Ball','Cat',True,False]\n",
    "l4"
   ]
  },
  {
   "cell_type": "code",
   "execution_count": 6,
   "id": "8b48a360-7414-45c7-aa99-7b0a4cb79396",
   "metadata": {},
   "outputs": [
    {
     "data": {
      "text/plain": [
       "['naresh it']"
      ]
     },
     "execution_count": 6,
     "metadata": {},
     "output_type": "execute_result"
    }
   ],
   "source": [
    "name='naresh it'\n",
    "l5=[name]\n",
    "l5"
   ]
  },
  {
   "cell_type": "code",
   "execution_count": 7,
   "id": "25c300ea-f281-4dee-9c49-d7e621fb574a",
   "metadata": {},
   "outputs": [
    {
     "data": {
      "text/plain": [
       "[100, 100, 100]"
      ]
     },
     "execution_count": 7,
     "metadata": {},
     "output_type": "execute_result"
    }
   ],
   "source": [
    "l6=[100,100,100]\n",
    "l6"
   ]
  },
  {
   "cell_type": "code",
   "execution_count": 8,
   "id": "2e6f2ddf-b68c-4f39-a6a8-071fcc557d4a",
   "metadata": {},
   "outputs": [
    {
     "data": {
      "text/plain": [
       "[100, 'Apple', ['A', 2]]"
      ]
     },
     "execution_count": 8,
     "metadata": {},
     "output_type": "execute_result"
    }
   ],
   "source": [
    "l7=[100,'Apple',['A',2]]\n",
    "l7"
   ]
  },
  {
   "cell_type": "code",
   "execution_count": null,
   "id": "68612805-7344-4cb7-ad88-1e99a0317b56",
   "metadata": {},
   "outputs": [],
   "source": [
    "l1=[1,2,3,4]\n",
    "l2=['A','B','C','D']\n",
    "l3=[1,2,3,4,'A','B','C','D']\n",
    "l4=[1,2,3,'Apple','Ball','Cat',True,False]\n",
    "name='naresh it'\n",
    "l5=[name]\n",
    "l6=[100,100,100]\n",
    "l7=[100,'Apple',['A',2]]"
   ]
  },
  {
   "cell_type": "markdown",
   "id": "fdf7ebb3-eb6f-410a-8b4f-ec967813628b",
   "metadata": {},
   "source": [
    "- list are array of elements\n",
    "\n",
    "- list elements are heterogeneous all the data types we can represent in a list\n",
    "\n",
    "- list elements are allowed duplicates\n",
    "\n",
    "- list in list is possible \n",
    "\n",
    "- variable assignment also possible in the list"
   ]
  },
  {
   "cell_type": "code",
   "execution_count": null,
   "id": "e45bafe0-7278-4021-9c2c-6d3eab1d8fda",
   "metadata": {},
   "outputs": [],
   "source": [
    "- len\n",
    "\n",
    "- max\n",
    "\n",
    "- min\n",
    "\n",
    "- sorted\n",
    "\n",
    "- reversed \n",
    "\n"
   ]
  },
  {
   "cell_type": "code",
   "execution_count": null,
   "id": "a538666c-6cfd-4804-98eb-b16754a62e74",
   "metadata": {},
   "outputs": [],
   "source": [
    "l1=[1,2,3,4]\n",
    "l2=['A','B','C','D']\n",
    "l3=[1,2,3,4,'A','B','C','D']\n",
    "l4=[1,2,3,'Apple','Ball','Cat',True,False]\n",
    "name='naresh it'\n",
    "l5=[name]\n",
    "l6=[100,100,100]\n",
    "l7=[100,'Apple',['A',2]]\n",
    "len()\n",
    "max()\n",
    "min()\n",
    "sorted()\n",
    "reversed()"
   ]
  },
  {
   "cell_type": "code",
   "execution_count": 9,
   "id": "a7ab7920-be2e-418e-b70a-6cebbd73f67d",
   "metadata": {},
   "outputs": [
    {
     "data": {
      "text/plain": [
       "<list_reverseiterator at 0x20be8d4aa40>"
      ]
     },
     "execution_count": 9,
     "metadata": {},
     "output_type": "execute_result"
    }
   ],
   "source": [
    "l4=[1,2,3,'Apple','Ball','Cat',True,False]\n",
    "reversed(l4)"
   ]
  },
  {
   "cell_type": "code",
   "execution_count": 10,
   "id": "dcdfddfb-bc41-4726-ab43-5369ae8fa13a",
   "metadata": {},
   "outputs": [
    {
     "name": "stdout",
     "output_type": "stream",
     "text": [
      "False\n",
      "True\n",
      "Cat\n",
      "Ball\n",
      "Apple\n",
      "3\n",
      "2\n",
      "1\n"
     ]
    }
   ],
   "source": [
    "for i in reversed(l4):\n",
    "    print(i)"
   ]
  },
  {
   "cell_type": "code",
   "execution_count": 11,
   "id": "a758196c-c4c3-4b8d-8121-c780c8b313cb",
   "metadata": {},
   "outputs": [
    {
     "data": {
      "text/plain": [
       "[False, True, 'Cat', 'Ball', 'Apple', 3, 2, 1]"
      ]
     },
     "execution_count": 11,
     "metadata": {},
     "output_type": "execute_result"
    }
   ],
   "source": [
    "l4=[1,2,3,'Apple','Ball','Cat',True,False]\n",
    "list(reversed(l4))"
   ]
  },
  {
   "cell_type": "code",
   "execution_count": 14,
   "id": "ffa81d82-7a70-4ab6-b215-7e4f4ef96e86",
   "metadata": {},
   "outputs": [
    {
     "data": {
      "text/plain": [
       "'banu'"
      ]
     },
     "execution_count": 14,
     "metadata": {},
     "output_type": "execute_result"
    }
   ],
   "source": [
    "name=['adithya','aadithya','banu']\n",
    "max(name)\n",
    "# First compare all first letters\n",
    "# If all first letters ascii values same\n",
    "# then compare with second letters\n",
    "# Continue the process"
   ]
  },
  {
   "cell_type": "code",
   "execution_count": 15,
   "id": "eaf6b312-c4c7-4d11-8330-3fad9ed8d876",
   "metadata": {},
   "outputs": [
    {
     "data": {
      "text/plain": [
       "3"
      ]
     },
     "execution_count": 15,
     "metadata": {},
     "output_type": "execute_result"
    }
   ],
   "source": [
    "list1=['Apple',\n",
    "       1,\n",
    "       ['Cherry','Banana']\n",
    "      ]\n",
    "len(list1)"
   ]
  },
  {
   "cell_type": "code",
   "execution_count": null,
   "id": "0bb540e9-1807-43d1-a671-6e60ce15bec1",
   "metadata": {},
   "outputs": [],
   "source": [
    "list1=[65,'A']\n",
    "max(list1) # error\n",
    "\n",
    "# same data type only comparable"
   ]
  },
  {
   "cell_type": "markdown",
   "id": "9de77ac3-fcf8-46c3-8675-05c7a61b1a5e",
   "metadata": {},
   "source": [
    "**index**"
   ]
  },
  {
   "cell_type": "code",
   "execution_count": 16,
   "id": "d85db8a0-5429-4ac9-a3ee-2769aced0428",
   "metadata": {},
   "outputs": [],
   "source": [
    "l4=[1,2,3,'Apple','Ball','Cat',True,False]\n",
    "\n",
    "#-8  -7  -6    -5     -4    -3    -2    -1\n",
    "#1    2   3   Apple  Ball  Cat   True   False\n",
    "#0    1   2    3      4     5      6     7"
   ]
  },
  {
   "cell_type": "code",
   "execution_count": 18,
   "id": "3f7dce51-b1af-4a4a-8042-ee2b2c7d7a02",
   "metadata": {},
   "outputs": [
    {
     "data": {
      "text/plain": [
       "('Apple', 'Apple')"
      ]
     },
     "execution_count": 18,
     "metadata": {},
     "output_type": "execute_result"
    }
   ],
   "source": [
    "l4[3],l4[-5]"
   ]
  },
  {
   "cell_type": "code",
   "execution_count": 19,
   "id": "11753ece-43cc-4abb-813a-314f50fd5ebb",
   "metadata": {},
   "outputs": [
    {
     "data": {
      "text/plain": [
       "1"
      ]
     },
     "execution_count": 19,
     "metadata": {},
     "output_type": "execute_result"
    }
   ],
   "source": [
    "l1=[1,[2]]\n",
    "l1[0]"
   ]
  },
  {
   "cell_type": "code",
   "execution_count": 23,
   "id": "32b2ea98-3c9f-411b-acb8-4c6af14d3703",
   "metadata": {},
   "outputs": [
    {
     "data": {
      "text/plain": [
       "2"
      ]
     },
     "execution_count": 23,
     "metadata": {},
     "output_type": "execute_result"
    }
   ],
   "source": [
    "new=l1[1]\n",
    "new[0]"
   ]
  },
  {
   "cell_type": "code",
   "execution_count": null,
   "id": "40a80866-d0ec-4cee-9d65-c5338ae88fc3",
   "metadata": {},
   "outputs": [],
   "source": [
    "l1=[1,[2]]\n",
    "new=l1[1]  #  [2]   will come again it is a list, one element\n",
    "new[0]\n",
    "\n",
    "l1[1][0]"
   ]
  },
  {
   "cell_type": "code",
   "execution_count": 25,
   "id": "0710a7ef-f5a0-4137-8773-2527b4c546a8",
   "metadata": {},
   "outputs": [
    {
     "data": {
      "text/plain": [
       "'A'"
      ]
     },
     "execution_count": 25,
     "metadata": {},
     "output_type": "execute_result"
    }
   ],
   "source": [
    "l1=[1,[2,'A']]\n",
    "l1[1][1]\n",
    "\n",
    "# 'A' is presented at index  1\n",
    "# so we given l1[1] : [2,'A'] it is also a list\n",
    "# The list has two elements\n",
    "# 'A' at 1st index\n",
    "# l1[1][1]"
   ]
  },
  {
   "cell_type": "code",
   "execution_count": 30,
   "id": "6f8d34e6-def3-4aa8-9d94-e605382863f8",
   "metadata": {},
   "outputs": [
    {
     "data": {
      "text/plain": [
       "'A'"
      ]
     },
     "execution_count": 30,
     "metadata": {},
     "output_type": "execute_result"
    }
   ],
   "source": [
    "# How to get 'A'\n",
    "#  1    [2,'A']\n",
    "#  0      1\n",
    "l1=[1,[2,'A']]\n",
    "# Q1) How many elements are there in a list: 2\n",
    "# Q2) 'A' is at which index : \n",
    "# In python index start at  0\n",
    "# 0 and 1\n",
    "l1[1]    #  [2,'A']\n",
    "# Q3) l1[1]  output is which type list\n",
    "# Q4) 'A'  1\n",
    "l1[1][1]"
   ]
  },
  {
   "cell_type": "code",
   "execution_count": 39,
   "id": "131a871d-21b2-46e5-b961-ffe4463ec837",
   "metadata": {},
   "outputs": [
    {
     "data": {
      "text/plain": [
       "['A', 'B']"
      ]
     },
     "execution_count": 39,
     "metadata": {},
     "output_type": "execute_result"
    }
   ],
   "source": [
    "l1=[1,  # 0\n",
    "    [2,['A','B']]  # 1\n",
    "   ]\n",
    "# I want 'B'\n",
    "# How many elements\n",
    "len(l1)\n",
    "l1[1][1]"
   ]
  },
  {
   "cell_type": "code",
   "execution_count": 48,
   "id": "fccd01c5-949c-49f7-8465-b21f95a5967b",
   "metadata": {},
   "outputs": [
    {
     "data": {
      "text/plain": [
       "'Apple'"
      ]
     },
     "execution_count": 48,
     "metadata": {},
     "output_type": "execute_result"
    }
   ],
   "source": [
    "l1=[1,2,[3,[4,[5,['Apple']]]]]\n",
    "# 2110\n",
    "# 21110\n",
    "len(l1)  #  index=2\n",
    "l1[2][1][1][1][0]"
   ]
  },
  {
   "cell_type": "code",
   "execution_count": 51,
   "id": "7fe3e06c-7acc-4158-aa0b-4e2fd6aeef25",
   "metadata": {},
   "outputs": [
    {
     "data": {
      "text/plain": [
       "'Banana'"
      ]
     },
     "execution_count": 51,
     "metadata": {},
     "output_type": "execute_result"
    }
   ],
   "source": [
    "list1=['Apple',\n",
    "       1,\n",
    "       'Solapur',\n",
    "       ['cherry','papaya',70,[123,'Banana'],\n",
    "        'tomato'],\n",
    "       'python'] #get banana  331\n",
    "list1[3][3][1]"
   ]
  },
  {
   "cell_type": "code",
   "execution_count": 58,
   "id": "c2f10315-0e7c-429c-9b0d-2309ecaa83c1",
   "metadata": {},
   "outputs": [
    {
     "data": {
      "text/plain": [
       "'Cherry'"
      ]
     },
     "execution_count": 58,
     "metadata": {},
     "output_type": "execute_result"
    }
   ],
   "source": [
    "list1=[[[[[[[1,'Cherry']]]]]]]\n",
    "list1[0][0][0][0][0][0][1]"
   ]
  },
  {
   "cell_type": "code",
   "execution_count": 62,
   "id": "c499f200-242e-4c5e-9af8-59ef2a5174c3",
   "metadata": {},
   "outputs": [
    {
     "data": {
      "text/plain": [
       "2"
      ]
     },
     "execution_count": 62,
     "metadata": {},
     "output_type": "execute_result"
    }
   ],
   "source": [
    "list1=['MH',\n",
    "       ['Nagpur',['Orange',['likes',['king'],['shivaji',['Son',['shmbaji']]]]]\n",
    "       ]]\n",
    "len(list1)"
   ]
  },
  {
   "cell_type": "code",
   "execution_count": 69,
   "id": "05ad518b-c06a-4f50-8f6c-6a8e3029af67",
   "metadata": {},
   "outputs": [
    {
     "data": {
      "text/plain": [
       "'shmbaji'"
      ]
     },
     "execution_count": 69,
     "metadata": {},
     "output_type": "execute_result"
    }
   ],
   "source": [
    "list1[1][1][1][2][1][1][0]"
   ]
  },
  {
   "cell_type": "code",
   "execution_count": null,
   "id": "28a3b046-f688-4837-9740-9972eae7c0a6",
   "metadata": {},
   "outputs": [],
   "source": [
    "# In operator : For loop\n",
    "# Index : For loop\n",
    "# Mutability check\n",
    "# Slicing\n",
    "#"
   ]
  },
  {
   "cell_type": "code",
   "execution_count": 1,
   "id": "87eb1017-9021-4fdc-a9d8-1027fdbdfbf7",
   "metadata": {},
   "outputs": [
    {
     "name": "stdout",
     "output_type": "stream",
     "text": [
      "1\n",
      "2\n",
      "3\n",
      "A\n",
      "B\n",
      "C\n",
      "True\n",
      "False\n"
     ]
    }
   ],
   "source": [
    "l4=[1,2,3,'A','B','C',True,False]\n",
    "\n",
    "#-8  -7   -6   -5     -4    -3    -2    -1\n",
    "#1   2    3    'A'    'B'   'C'   True  False\n",
    "#0   1    2     3      4     5     6     7\n",
    "for i in range(len(l4)):\n",
    "    print(l4[i])"
   ]
  },
  {
   "cell_type": "code",
   "execution_count": 3,
   "id": "1bb6611a-0318-4156-b18d-ce413c362ad2",
   "metadata": {},
   "outputs": [
    {
     "name": "stdout",
     "output_type": "stream",
     "text": [
      "The postive index of 1 is 0\n",
      "The postive index of 2 is 1\n",
      "The postive index of 3 is 2\n",
      "The postive index of A is 3\n",
      "The postive index of B is 4\n",
      "The postive index of C is 5\n",
      "The postive index of True is 6\n",
      "The postive index of False is 7\n"
     ]
    }
   ],
   "source": [
    "l4=[1,2,3,'A','B','C',True,False]\n",
    "for i in range(len(l4)):\n",
    "    print(f\"The postive index of {l4[i]} is {i}\")\n",
    "\n",
    "s='welcome'\n",
    "for i in range(len(s)):\n",
    "    print(f\"The postive index of {s[i]} is {i}\")"
   ]
  },
  {
   "cell_type": "code",
   "execution_count": null,
   "id": "4cab4c4c-cb79-4fe0-8301-03e7ff60f61e",
   "metadata": {},
   "outputs": [],
   "source": [
    "l4=[1,2,3,'A','B','C',True,False]\n",
    "for i in range(len(l4)):\n",
    "    print(f\"The postive index of {l4[i]} is {i}\")"
   ]
  },
  {
   "cell_type": "code",
   "execution_count": 5,
   "id": "567b5c14-2921-4ccc-8705-89d93e88d799",
   "metadata": {},
   "outputs": [
    {
     "data": {
      "text/plain": [
       "[100, 2, 3]"
      ]
     },
     "execution_count": 5,
     "metadata": {},
     "output_type": "execute_result"
    }
   ],
   "source": [
    "# We want to change 1  with 100\n",
    "l=[1,2,3]\n",
    "l[0]=100\n",
    "l\n",
    "\n",
    "#Hi Sir - how the string is immutable  please explain\n",
    "s='Naresh'\n",
    "# We want to change 'h'  'I'\n",
    "s[5]='I'\n",
    "\n",
    "# TypeError: 'str' object does not support item assignment\n",
    "# Not able"
   ]
  },
  {
   "cell_type": "code",
   "execution_count": null,
   "id": "fb80d820-d5e7-413f-8b53-bc184e8a6208",
   "metadata": {},
   "outputs": [],
   "source": [
    "l=[1,2,3,4,5,6,'A','B','C','D','E','F','G']\n",
    "-13  -12  -11  -10  -9   -8  -7  -6  -5  -4  -3  -2  -1\n",
    "1,    2,   3,   4,   5,   6, 'A','B','C','D','E','F','G'\n",
    "0     1    2    3    4    5   6   7   8   9   10  11  12\n",
    "\n",
    "l[3:9:2] # P\n",
    "l[3:9:-2] # Np\n",
    "l[3:-9:2] # -----\n",
    "l[3:-9:-2] # Np\n",
    "l[-3:9:2]  # Np\n",
    "l[-3:-9:-2] # W\n",
    "l[-3:9:-2]  "
   ]
  },
  {
   "cell_type": "code",
   "execution_count": 11,
   "id": "71c0495f-cfb7-4fdc-b5ef-904aa37dd09b",
   "metadata": {},
   "outputs": [
    {
     "data": {
      "text/plain": [
       "['E']"
      ]
     },
     "execution_count": 11,
     "metadata": {},
     "output_type": "execute_result"
    }
   ],
   "source": [
    "l=[1,2,3,4,5,6,'A','B','C','D','E','F','G']\n",
    "l[3:-9:2]\n",
    "# start=3\n",
    "# dire =+ve\n",
    "# last= stop-1 = -9-1=-10\n",
    "\n",
    "l[-3:9:-2] "
   ]
  },
  {
   "cell_type": "code",
   "execution_count": null,
   "id": "2d378bf2-2682-4d55-83e9-4d2ddb30d4d9",
   "metadata": {},
   "outputs": [],
   "source": [
    "# Tomorrow you have a exam\n",
    "# MCQ in Python\n",
    "\n",
    "# Sunday you dont have class\n",
    "\n",
    "# Friday 50-50 (26)\n",
    "# Sat (27)\n",
    "# Sun (28)\n",
    "\n",
    "# Aug 4 class\n",
    "# Aug 11 class\n"
   ]
  },
  {
   "cell_type": "markdown",
   "id": "07eb93d8-08a4-4f18-8767-10b590c14961",
   "metadata": {},
   "source": [
    "**List Methods**"
   ]
  },
  {
   "cell_type": "code",
   "execution_count": 12,
   "id": "41889806-c138-4291-b71d-7cbc5f02ffaa",
   "metadata": {},
   "outputs": [
    {
     "data": {
      "text/plain": [
       "['__add__',\n",
       " '__class__',\n",
       " '__class_getitem__',\n",
       " '__contains__',\n",
       " '__delattr__',\n",
       " '__delitem__',\n",
       " '__dir__',\n",
       " '__doc__',\n",
       " '__eq__',\n",
       " '__format__',\n",
       " '__ge__',\n",
       " '__getattribute__',\n",
       " '__getitem__',\n",
       " '__getstate__',\n",
       " '__gt__',\n",
       " '__hash__',\n",
       " '__iadd__',\n",
       " '__imul__',\n",
       " '__init__',\n",
       " '__init_subclass__',\n",
       " '__iter__',\n",
       " '__le__',\n",
       " '__len__',\n",
       " '__lt__',\n",
       " '__mul__',\n",
       " '__ne__',\n",
       " '__new__',\n",
       " '__reduce__',\n",
       " '__reduce_ex__',\n",
       " '__repr__',\n",
       " '__reversed__',\n",
       " '__rmul__',\n",
       " '__setattr__',\n",
       " '__setitem__',\n",
       " '__sizeof__',\n",
       " '__str__',\n",
       " '__subclasshook__',\n",
       " 'append',\n",
       " 'clear',\n",
       " 'copy',\n",
       " 'count',\n",
       " 'extend',\n",
       " 'index',\n",
       " 'insert',\n",
       " 'pop',\n",
       " 'remove',\n",
       " 'reverse',\n",
       " 'sort']"
      ]
     },
     "execution_count": 12,
     "metadata": {},
     "output_type": "execute_result"
    }
   ],
   "source": [
    "# strings dir('')\n",
    "dir([])"
   ]
  },
  {
   "cell_type": "code",
   "execution_count": null,
   "id": "e34c1e29-0b52-4379-b2d6-f4b22ad6c3eb",
   "metadata": {},
   "outputs": [],
   "source": [
    "'append',\n",
    "'clear',\n",
    "'copy',\n",
    "'count',\n",
    "'extend',\n",
    "'index',\n",
    "'insert',\n",
    "'pop',\n",
    "'remove',\n",
    "'reverse',\n",
    "'sort'"
   ]
  },
  {
   "cell_type": "markdown",
   "id": "af57f234-fba4-4b6d-b5cd-b01f34084aed",
   "metadata": {},
   "source": [
    "**append**\n",
    "\n",
    "- adding elements in a list at last index\n",
    "\n",
    "- append method is very important\n",
    "\n",
    "- most of the time we will use append in the real time\n",
    "\n",
    "- When you add the value the original list will be overwrite\n"
   ]
  },
  {
   "cell_type": "code",
   "execution_count": 13,
   "id": "53583e54-f8f7-4efe-a6aa-a0d9c0b4157d",
   "metadata": {},
   "outputs": [
    {
     "data": {
      "text/plain": [
       "['Apple', 'Ball', 'Cat']"
      ]
     },
     "execution_count": 13,
     "metadata": {},
     "output_type": "execute_result"
    }
   ],
   "source": [
    "l=['Apple','Ball','Cat']\n",
    "l"
   ]
  },
  {
   "cell_type": "code",
   "execution_count": null,
   "id": "467bee4d-1bed-4d22-9992-0fb15e16debf",
   "metadata": {},
   "outputs": [],
   "source": [
    "# You want to add Doll in a given list\n",
    "\n",
    "# Keywords  vs methods\n",
    "len()\n",
    "max()\n",
    "min()\n",
    "reversed()\n",
    "sorted()\n",
    "\n",
    "# Methods\n",
    "<package>.<method>()\n",
    "# we already discussed\n",
    "# Data types has own method\n",
    "# <data type>.<method>\n",
    "# <pacckage>.<methods>"
   ]
  },
  {
   "cell_type": "code",
   "execution_count": 18,
   "id": "f2d5108b-99c5-493c-8325-4ee18d67f64f",
   "metadata": {},
   "outputs": [],
   "source": [
    "l.append('Doll')"
   ]
  },
  {
   "cell_type": "code",
   "execution_count": 19,
   "id": "0ed63956-9b81-45a4-804d-1a9cde6c45a7",
   "metadata": {},
   "outputs": [
    {
     "data": {
      "text/plain": [
       "['Apple', 'Ball', 'Cat', 'Doll', 'Doll']"
      ]
     },
     "execution_count": 19,
     "metadata": {},
     "output_type": "execute_result"
    }
   ],
   "source": [
    "l"
   ]
  },
  {
   "cell_type": "code",
   "execution_count": 22,
   "id": "0994b401-25d1-440c-8079-e319c6fc9e97",
   "metadata": {},
   "outputs": [
    {
     "data": {
      "text/plain": [
       "[1, 2, 3, 4, 100]"
      ]
     },
     "execution_count": 22,
     "metadata": {},
     "output_type": "execute_result"
    }
   ],
   "source": [
    "l1=[1,2,3,4]\n",
    "l1.append(100)\n",
    "l1"
   ]
  },
  {
   "cell_type": "code",
   "execution_count": 24,
   "id": "962ed877-d57c-4d11-919c-bb51ecd73f84",
   "metadata": {},
   "outputs": [
    {
     "data": {
      "text/plain": [
       "[10, 20, 'apple', ['A', 1], True]"
      ]
     },
     "execution_count": 24,
     "metadata": {},
     "output_type": "execute_result"
    }
   ],
   "source": [
    "l2=[]\n",
    "l2.append(10)\n",
    "l2.append(20)\n",
    "l2.append('apple')\n",
    "l2.append(['A',1])\n",
    "l2.append(True)\n",
    "l2"
   ]
  },
  {
   "cell_type": "code",
   "execution_count": null,
   "id": "5696922b-2011-4944-9e7a-09bf7220cda9",
   "metadata": {},
   "outputs": [],
   "source": [
    "list.append() takes exactly one argument how can we add more in one statement sir\n",
    "l1.append(100,200,300)  # Error"
   ]
  },
  {
   "cell_type": "markdown",
   "id": "efb27de5-4c89-45e2-9fdd-e19e958268bc",
   "metadata": {},
   "source": [
    "**Append method used to save the output in a list**"
   ]
  },
  {
   "cell_type": "code",
   "execution_count": 25,
   "id": "33982c71-d41f-4ea9-9af1-350b8f116542",
   "metadata": {},
   "outputs": [
    {
     "name": "stdout",
     "output_type": "stream",
     "text": [
      "1\n",
      "4\n",
      "9\n",
      "16\n",
      "25\n"
     ]
    }
   ],
   "source": [
    "for i in range(1,6):\n",
    "    print(i*i)"
   ]
  },
  {
   "cell_type": "code",
   "execution_count": 29,
   "id": "f3d28d2d-e3ed-4ca7-afd5-dee790581dfe",
   "metadata": {},
   "outputs": [
    {
     "data": {
      "text/plain": [
       "[1, 4, 9, 16, 25]"
      ]
     },
     "execution_count": 29,
     "metadata": {},
     "output_type": "execute_result"
    }
   ],
   "source": [
    "square_list=[]\n",
    "for i in range(1,6):\n",
    "    square_list.append(i*i)\n",
    "# print ==== square_list.append\n",
    "square_list"
   ]
  },
  {
   "cell_type": "code",
   "execution_count": null,
   "id": "4a8eeb53-be9e-4f12-ae24-16241cd3d612",
   "metadata": {},
   "outputs": [],
   "source": [
    "s=''\n",
    "for i in 'python':\n",
    "    s=s+i\n",
    "\n",
    "# str='hai hai hai'\n",
    "# what are  index of  'a'\n",
    "# save that index numbers in a list"
   ]
  },
  {
   "cell_type": "code",
   "execution_count": 34,
   "id": "68bf1a61-577d-4d91-929e-8ae1ed1e38f3",
   "metadata": {},
   "outputs": [
    {
     "data": {
      "text/plain": [
       "([1, 5, 9], 15)"
      ]
     },
     "execution_count": 34,
     "metadata": {},
     "output_type": "execute_result"
    }
   ],
   "source": [
    "str1='hai hai hai'\n",
    "id_list=[]\n",
    "for i in range(len(str1)):\n",
    "    if str1[i]=='a':\n",
    "        id_list.append(i)\n",
    "\n",
    "id_list,sum(id_list)"
   ]
  },
  {
   "cell_type": "code",
   "execution_count": 33,
   "id": "3f7b2f4f-4ab9-45cc-a764-4b2d77bb732d",
   "metadata": {},
   "outputs": [
    {
     "data": {
      "text/plain": [
       "15"
      ]
     },
     "execution_count": 33,
     "metadata": {},
     "output_type": "execute_result"
    }
   ],
   "source": [
    "summ=0\n",
    "str1='hai hai hai'\n",
    "for i in range(len(str1)):\n",
    "    if str1[i]=='a':\n",
    "        summ=summ+i\n",
    "\n",
    "summ"
   ]
  },
  {
   "cell_type": "code",
   "execution_count": null,
   "id": "ab4b4644-c09f-41d8-99e7-098391fc95fe",
   "metadata": {},
   "outputs": [],
   "source": [
    "# Q2)l1=['Hyd','Mumbai','Chennai','blr']\n",
    "#  ans=['Mumbai','Chennai']  \n",
    "#  we want lements which are len of element >4\n",
    "\n",
    "# Q3)l1=['Hyd','Mum#bai','Chen#nai','blr']\n",
    "#  ans=['Mum#bai'',Chen#nai']  \n",
    "#  we want lements which are having '#'\n",
    "\n",
    "# Q4)l1=['hyd','mumbai','chennai','blr']\n",
    "#  ans= ['Hyd','Mumbai','Chennai','Blr']\n",
    "#  we want lements which are len of element >4\n",
    "\n",
    "# Q5)l1=['Hyd','Mumbai','chennai','blr']\n",
    "#  ans= ['Hyd','Mumbai']\n",
    "#  we want lements which are having first letter capital\n",
    "\n",
    "# Q6)l1=['Hyd','Mum#bai','Chen#nai','blr']\n",
    "#  ans_#=['Mum#bai'',Chen#nai']  \n",
    "#  ans_without_#=['Hyd'','blr'] \n",
    "#  we want lements which are having '#'\n",
    "\n",
    "# Q7) ask the user get 5 numbers randomly\n",
    "#     even_list and odd_list\n",
    "#     even numbers should append at even_list\n",
    "#     odd number should append at odd_list\n",
    "\n",
    "# Q8) str='hello hai how are you'\n",
    "# Maximum len of word using split and max method\n",
    "# sum of all the indexes of the maximum len of word using append\n",
    "\n",
    "# Q9) str1='virat.kohli@rcb.com, Rohit.sharma@mi.co, KL.Rahul@lucknow.com'\n",
    "# Firstname=[]  second name=[]  cname =[]\n",
    "# append first name should be in first name list\n",
    "#        second name shoul be in second name list\n",
    "#        thirs name will be in thirs name list\n",
    "\n",
    "# 10 ) \n",
    "#  You have two lists\n",
    "# qns=['What is capital of India',\n",
    "       'Who is PM of india',\n",
    "        'Who is ICT ODI captian']\n",
    "# ans = ['Delhi','Modi','Rohit']\n",
    "\n",
    "# For i in qns:\n",
    "#     print(i)\n",
    "#     ans= delhi\n",
    "#      index should match\n",
    "#      delhi  modi \n",
    "#      marks= marks+1\n",
    "# print the total marks"
   ]
  },
  {
   "cell_type": "code",
   "execution_count": 4,
   "id": "f6076868-b451-4d9b-b403-5a7b3608bd56",
   "metadata": {},
   "outputs": [
    {
     "data": {
      "text/plain": [
       "['Mumbai', 'Chennai']"
      ]
     },
     "execution_count": 4,
     "metadata": {},
     "output_type": "execute_result"
    }
   ],
   "source": [
    "# Q2)l1=['Hyd','Mumbai','Chennai','blr']\n",
    "#  ans=['Mumbai','Chennai']  \n",
    "#  we want lements which are len of element >4\n",
    "l1=['Hyd','Mumbai','Chennai','blr']\n",
    "ans=[]\n",
    "for i in l1:\n",
    "    if len(i)>4:\n",
    "        ans.append(i)\n",
    "ans"
   ]
  },
  {
   "cell_type": "code",
   "execution_count": 5,
   "id": "b84a8d22-ea57-4298-acd8-058ec0aa3acb",
   "metadata": {},
   "outputs": [
    {
     "data": {
      "text/plain": [
       "['Mumb#ai', 'Chen#nai']"
      ]
     },
     "execution_count": 5,
     "metadata": {},
     "output_type": "execute_result"
    }
   ],
   "source": [
    "# Q3)l1=['Hyd','Mum#bai','Chen#nai','blr']\n",
    "#  ans=['Mum#bai'',Chen#nai']  \n",
    "#  we want lements which are having '#'\n",
    "l1=['Hyd','Mumb#ai','Chen#nai','blr']\n",
    "ans=[]\n",
    "for i in l1:\n",
    "    if '#' in i:\n",
    "        ans.append(i)\n",
    "ans"
   ]
  },
  {
   "cell_type": "code",
   "execution_count": null,
   "id": "befc6430-61ea-4790-947f-a9ffe33d38b5",
   "metadata": {},
   "outputs": [],
   "source": [
    "l1=['Hyd','Mumb#ai','Chen#nai','blr']\n",
    "for i in l1:\n",
    "    if i in '#'"
   ]
  },
  {
   "cell_type": "code",
   "execution_count": 9,
   "id": "43a11bb5-ed73-4753-83c5-b37fb36b36cb",
   "metadata": {},
   "outputs": [
    {
     "data": {
      "text/plain": [
       "True"
      ]
     },
     "execution_count": 9,
     "metadata": {},
     "output_type": "execute_result"
    }
   ],
   "source": [
    "'nadeem' in '#'  # 'nadeem' is avialable in '#'\n",
    "'#' in 'nadeem'  # is '#'  available in 'nadeem'\n",
    "'nad##m' in '#'  # is 'nad##m'  avaialabe in '#'\n",
    "'#' in 'nad##m'  # is '#'  avaialabe in 'nad##m'"
   ]
  },
  {
   "cell_type": "code",
   "execution_count": 12,
   "id": "842a8dd1-b754-4b13-bef0-c47ef5171e9c",
   "metadata": {},
   "outputs": [
    {
     "data": {
      "text/plain": [
       "['Hyd', 'Mumbai', 'Chennai', 'Blr']"
      ]
     },
     "execution_count": 12,
     "metadata": {},
     "output_type": "execute_result"
    }
   ],
   "source": [
    "# Q5)l1=['Hyd','Mumbai','chennai','blr']\n",
    "#  ans= ['Hyd','Mumbai']\n",
    "#  we want lements which are having first letter capital\n",
    "l1=['Hyd','Mumbai','Chennai','blr']\n",
    "ans=[]\n",
    "for i in l1:\n",
    "    ans.append(i.capitalize())\n",
    "ans\n",
    "\n",
    "# what is the difference betweeb capitalize and title"
   ]
  },
  {
   "cell_type": "code",
   "execution_count": 13,
   "id": "a4811a68-14d5-436f-b726-5c9054ad6fda",
   "metadata": {},
   "outputs": [
    {
     "data": {
      "text/plain": [
       "'Hello Im Learning Python'"
      ]
     },
     "execution_count": 13,
     "metadata": {},
     "output_type": "execute_result"
    }
   ],
   "source": [
    "str1='hello im learning python'\n",
    "# Make everyword capitalize\n",
    "str1.title()"
   ]
  },
  {
   "cell_type": "code",
   "execution_count": null,
   "id": "d82f06ea-7eef-436c-8df7-6d2fa33d1c4d",
   "metadata": {},
   "outputs": [],
   "source": [
    "# Do the same using capitalize method\n",
    "# step-1: split the string\n",
    "# step-2: take empty list\n",
    "# step-3: iterate the each letter apply capitlize and append it\n",
    "# step-4: join the list"
   ]
  },
  {
   "cell_type": "markdown",
   "id": "e1ecd25a-c707-4389-9030-8d36f0d2529e",
   "metadata": {},
   "source": [
    "**split-join**"
   ]
  },
  {
   "cell_type": "markdown",
   "id": "34ddc553-8bbc-430e-912c-455d37535cab",
   "metadata": {},
   "source": [
    "- split will apply for strings , to divide the words or characters\n",
    "\n",
    "- when we split the elements will be stored in a list format\n",
    "\n",
    "- Join is used to combine the elements of a list in a string format\n",
    "\n",
    "- **split-strings**\n",
    "\n",
    "- **join-list**"
   ]
  },
  {
   "cell_type": "code",
   "execution_count": 20,
   "id": "53fd349a-ce28-4ed9-a2f0-a08f576142c1",
   "metadata": {},
   "outputs": [
    {
     "data": {
      "text/plain": [
       "'Hello Im Learning Python'"
      ]
     },
     "execution_count": 20,
     "metadata": {},
     "output_type": "execute_result"
    }
   ],
   "source": [
    "str1='hello im learning python'\n",
    "words=str1.split()\n",
    "new_words=[]\n",
    "for i in words:\n",
    "    new_words.append(i.capitalize())\n",
    "' '.join(new_words)"
   ]
  },
  {
   "cell_type": "code",
   "execution_count": 21,
   "id": "03f99e76-a55e-41dc-b321-3ca1dda371de",
   "metadata": {},
   "outputs": [
    {
     "name": "stdout",
     "output_type": "stream",
     "text": [
      "4.123105625617661\n"
     ]
    }
   ],
   "source": [
    "# Calculate the distance between two points\n",
    "# a=[1,2] \n",
    "# b=[4,5]\n",
    "# a=[x1,x2]\n",
    "# b=[y1,y2]\n",
    "# step-0: Import math\n",
    "# step-1:v1= x2-x1=a[2]-a[1]   === index\n",
    "# step-2:v2= y2-y1=b[2]-b[1]   === index\n",
    "# step-3: v11=v1**2\n",
    "# step-4: v22=v2**2\n",
    "# step-5: ans=math.sqrt(v11+v22)\n",
    "import math\n",
    "a= [1,2]\n",
    "b = [1,5]\n",
    "v1 = a[1]-a[0]\n",
    "v2 = b[1]-b[0]\n",
    "v11 = v1**2\n",
    "v22 = v2**2\n",
    "print(math.sqrt(v11+v22))"
   ]
  },
  {
   "cell_type": "code",
   "execution_count": 25,
   "id": "eb77d78c-5e9f-444c-a514-749a6ca9f362",
   "metadata": {},
   "outputs": [
    {
     "name": "stdout",
     "output_type": "stream",
     "text": [
      "4.123105625617661\n"
     ]
    }
   ],
   "source": [
    "import math\n",
    "a= [1,2]\n",
    "b = [1,5]\n",
    "print(math.sqrt(math.pow((a[1]-a[0]),2)+math.pow((b[1]-b[0]),2)))"
   ]
  },
  {
   "cell_type": "code",
   "execution_count": null,
   "id": "deae86b0-36b4-4f47-a826-4967de7ba7dc",
   "metadata": {},
   "outputs": [],
   "source": [
    "[1,2,3,4,5,4,3,2,1]\n",
    "[100,500,600,700,400,300,50]"
   ]
  },
  {
   "cell_type": "code",
   "execution_count": 26,
   "id": "0d7f0ee8-2ccc-4ba8-aecb-56b55e74629b",
   "metadata": {},
   "outputs": [
    {
     "name": "stdout",
     "output_type": "stream",
     "text": [
      "3.0\n"
     ]
    }
   ],
   "source": [
    "pints=[[1,2],[2,3],[3,4]]\n",
    "val=[2,3]\n",
    "\n",
    "# calculate the distance between val [2,3] to each and every point\n",
    "# and find the maximum distance\n",
    "import math\n",
    "a= [1,2]  # [x1,y1]   \n",
    "b = [1,5] # [x2,y2]\n",
    "# for loop\n",
    "v1 = b[0]-a[0] # x2-x1\n",
    "v2 = b[1]-a[1] # y2-y1\n",
    "v11 = v1**2\n",
    "v22 = v2**2\n",
    "print(math.sqrt(v11+v22))"
   ]
  },
  {
   "cell_type": "code",
   "execution_count": 28,
   "id": "c2ea4fd4-40f4-4521-93cb-2b9520a9bb76",
   "metadata": {},
   "outputs": [
    {
     "name": "stdout",
     "output_type": "stream",
     "text": [
      "1 2\n",
      "2 3\n",
      "====================\n",
      "2 3\n",
      "2 3\n",
      "====================\n",
      "3 4\n",
      "2 3\n",
      "====================\n"
     ]
    }
   ],
   "source": [
    "points=[[1,2],[2,3],[3,4]]\n",
    "val=[2,3]\n",
    "# [1,2]  vs   [2,3]\n",
    "# [2,3]  vs   [2,3]\n",
    "# [3,4]  vs  [2,3]\n",
    "for i in points:\n",
    "    print(i[0],i[1])  # x1,y1\n",
    "    print(val[0],val[1]) # x2,y2\n",
    "    print('====================')"
   ]
  },
  {
   "cell_type": "code",
   "execution_count": 42,
   "id": "31b6ce55-0029-42e2-bc4e-264191e8e325",
   "metadata": {},
   "outputs": [
    {
     "name": "stdout",
     "output_type": "stream",
     "text": [
      "1 2\n",
      "2 3\n",
      "3-2=1,2-1=1\n",
      "1.4142135623730951\n",
      "=======================\n",
      "2 3\n",
      "2 3\n",
      "3-2=0,2-2=0\n",
      "0.0\n",
      "=======================\n",
      "5 6\n",
      "2 3\n",
      "3-2=-3,2-5=-3\n",
      "4.242640687119285\n",
      "=======================\n"
     ]
    }
   ],
   "source": [
    "points=[[1,2],[2,3],[5,6]]\n",
    "val=[2,3]\n",
    "ans=[]\n",
    "for i in points:\n",
    "    print(i[0],i[1])\n",
    "    print(val[0],val[1])\n",
    "    o1=val[0]-i[0]\n",
    "    o2=val[1]-i[1]\n",
    "    print(f\"{val[1]}-{val[0]}={o1},{val[0]}-{i[0]}={o2}\")\n",
    "    v11 = o1**2\n",
    "    v22 = o2**2\n",
    "    print(math.sqrt(v11+v22))\n",
    "    ans.append(math.sqrt(v11+v22))\n",
    "    print('=======================')"
   ]
  },
  {
   "cell_type": "code",
   "execution_count": 44,
   "id": "8d4a8820-f885-4cd9-84bd-6f4f3b6c8271",
   "metadata": {},
   "outputs": [
    {
     "data": {
      "text/plain": [
       "4.242640687119285"
      ]
     },
     "execution_count": 44,
     "metadata": {},
     "output_type": "execute_result"
    }
   ],
   "source": [
    "max(ans)"
   ]
  },
  {
   "cell_type": "code",
   "execution_count": 48,
   "id": "ecb64655-eda4-45db-9cf0-b32872274645",
   "metadata": {},
   "outputs": [
    {
     "data": {
      "text/plain": [
       "[5, 3, 3, 3, 3]"
      ]
     },
     "execution_count": 48,
     "metadata": {},
     "output_type": "execute_result"
    }
   ],
   "source": [
    "# Q8) str='hello hai how are you'\n",
    "# Maximum len of word using split and max method\n",
    "# sum of all the indexes of the maximum len of word using append\n",
    "str1='hello hai how are you'\n",
    "words=str1.split()\n",
    "str2=[]\n",
    "for i in words:\n",
    "    x=len(i)\n",
    "    str2.append(x)\n",
    "str2"
   ]
  },
  {
   "cell_type": "code",
   "execution_count": 53,
   "id": "e92f7a1b-c423-452f-bf5a-21d22c1a8bbb",
   "metadata": {},
   "outputs": [
    {
     "name": "stdout",
     "output_type": "stream",
     "text": [
      "hello\n"
     ]
    }
   ],
   "source": [
    "str1='hello hai how are you'\n",
    "words=str1.split()\n",
    "len_Words=[]\n",
    "for i in words:\n",
    "    x=len(i)\n",
    "    len_words.append(x)\n",
    "max_len=max(len_words)\n",
    "\n",
    "for i in words:\n",
    "    if len(i)==max_len:\n",
    "        print(i)\n",
    "\n",
    "# First we are splitting\n",
    "# the we are calculating each and every len of words and append in a list\n",
    "# we  are taking the max value from the list\n",
    "\n",
    "# again we are itertating words list\n",
    "# calculating len of each word\n",
    "# if that word length equal to max value \n",
    "# then that is our answer\n",
    "\n",
    "hello  == 0\n",
    "01234"
   ]
  },
  {
   "cell_type": "code",
   "execution_count": 56,
   "id": "3a39a6eb-1baf-4bb7-a6d5-ed0c72918d54",
   "metadata": {},
   "outputs": [
    {
     "data": {
      "text/plain": [
       "5"
      ]
     },
     "execution_count": 56,
     "metadata": {},
     "output_type": "execute_result"
    }
   ],
   "source": [
    "str1='hello hai how are you'\n",
    "words=str1.split()\n",
    "max(words)\n",
    "len_words=[5,3,3,3,3]\n",
    "max(len_words)"
   ]
  },
  {
   "cell_type": "code",
   "execution_count": 3,
   "id": "dfe6cfde-c429-4ff5-a57d-04b17510427a",
   "metadata": {},
   "outputs": [
    {
     "ename": "SyntaxError",
     "evalue": "incomplete input (2213876541.py, line 1)",
     "output_type": "error",
     "traceback": [
      "\u001b[1;36m  Cell \u001b[1;32mIn[3], line 1\u001b[1;36m\u001b[0m\n\u001b[1;33m    for i in range(10):\u001b[0m\n\u001b[1;37m                       ^\u001b[0m\n\u001b[1;31mSyntaxError\u001b[0m\u001b[1;31m:\u001b[0m incomplete input\n"
     ]
    }
   ],
   "source": [
    "for i in range(10):"
   ]
  },
  {
   "cell_type": "code",
   "execution_count": null,
   "id": "5060e5fe-79f4-4c21-b7ec-ae0a63a72645",
   "metadata": {},
   "outputs": [],
   "source": [
    "# 10 ) \n",
    "#  You have two lists\n",
    "# qns=['What is capital of India',\n",
    "       'Who is PM of india',\n",
    "        'Who is ICT ODI captian']\n",
    "# ans = ['Delhi','Modi','Rohit']\n",
    "\n",
    "# For i in qns:\n",
    "#     print(i)\n",
    "#     ans= delhi\n",
    "#      index should match\n",
    "#      delhi  modi \n",
    "#      marks= marks+1\n",
    "# print the total marks"
   ]
  },
  {
   "cell_type": "code",
   "execution_count": 9,
   "id": "0faf681b-7dfe-4b0e-a761-6dc938272854",
   "metadata": {},
   "outputs": [
    {
     "name": "stdin",
     "output_type": "stream",
     "text": [
      "What is capital of India Delhi\n",
      "Who is PM of india modi\n",
      "Who is ICT ODI captian rohit\n"
     ]
    },
    {
     "name": "stdout",
     "output_type": "stream",
     "text": [
      "The total marks are: 3\n"
     ]
    }
   ],
   "source": [
    "qns_list=['What is capital of India',\n",
    "       'Who is PM of india',\n",
    "        'Who is ICT ODI captian']\n",
    "ans_list = ['Delhi','Modi','Rohit']\n",
    "marks=0\n",
    "for i in range(len(qns_list)):\n",
    "    ans=input(qns_list[i])\n",
    "    if ans.lower()==ans_list[i].lower():\n",
    "        marks=marks+1  # marks=+1 (best practice)\n",
    "    \n",
    "\n",
    "print(\"The total marks are:\",marks)\n",
    "        \n",
    "\n",
    "# Step-1: We are iterating throuh qns list\n",
    "# step-2: We are taking each qns and we are providing the answer\n",
    "# Step-3: That answer == anslist "
   ]
  },
  {
   "cell_type": "code",
   "execution_count": 6,
   "id": "9618e94a-a40d-4698-9be5-58d77af9d5cc",
   "metadata": {},
   "outputs": [
    {
     "data": {
      "text/plain": [
       "'rohit'"
      ]
     },
     "execution_count": 6,
     "metadata": {},
     "output_type": "execute_result"
    }
   ],
   "source": [
    "ans"
   ]
  },
  {
   "cell_type": "code",
   "execution_count": 10,
   "id": "b6aa3f31-033f-40b4-9ffa-6d4d143dfac6",
   "metadata": {},
   "outputs": [
    {
     "data": {
      "text/plain": [
       "['__add__',\n",
       " '__class__',\n",
       " '__class_getitem__',\n",
       " '__contains__',\n",
       " '__delattr__',\n",
       " '__delitem__',\n",
       " '__dir__',\n",
       " '__doc__',\n",
       " '__eq__',\n",
       " '__format__',\n",
       " '__ge__',\n",
       " '__getattribute__',\n",
       " '__getitem__',\n",
       " '__getstate__',\n",
       " '__gt__',\n",
       " '__hash__',\n",
       " '__iadd__',\n",
       " '__imul__',\n",
       " '__init__',\n",
       " '__init_subclass__',\n",
       " '__iter__',\n",
       " '__le__',\n",
       " '__len__',\n",
       " '__lt__',\n",
       " '__mul__',\n",
       " '__ne__',\n",
       " '__new__',\n",
       " '__reduce__',\n",
       " '__reduce_ex__',\n",
       " '__repr__',\n",
       " '__reversed__',\n",
       " '__rmul__',\n",
       " '__setattr__',\n",
       " '__setitem__',\n",
       " '__sizeof__',\n",
       " '__str__',\n",
       " '__subclasshook__',\n",
       " 'append',\n",
       " 'clear',\n",
       " 'copy',\n",
       " 'count',\n",
       " 'extend',\n",
       " 'index',\n",
       " 'insert',\n",
       " 'pop',\n",
       " 'remove',\n",
       " 'reverse',\n",
       " 'sort']"
      ]
     },
     "execution_count": 10,
     "metadata": {},
     "output_type": "execute_result"
    }
   ],
   "source": [
    "dir([])"
   ]
  },
  {
   "cell_type": "code",
   "execution_count": null,
   "id": "49c24d0e-6830-44a3-b662-61fdc5fae1ef",
   "metadata": {},
   "outputs": [],
   "source": [
    "'clear',\n",
    "'copy',\n",
    "'count',\n",
    "'extend',\n",
    "'index',\n",
    "'insert',\n",
    "'pop',\n",
    "'remove',\n",
    "'reverse',\n",
    "'sort'\n",
    "\n",
    "# Append vs extend vs concatenation vs insert\n",
    "# pop vs remove\n",
    "# reverse vs reversed\n",
    "# sort vs sorted\n",
    "# index \n",
    "# count\n",
    "# clear and copy\n",
    "\n",
    "# Methods  vs keywords\n",
    "# keywords : inbuilt functions\n",
    "# print()  max()   min()  len(<) sorted(<>)  reversed(<l>)\n",
    "# l.copy()\n",
    "# l.clear()"
   ]
  },
  {
   "cell_type": "markdown",
   "id": "569e0f1c-597a-4675-a438-0b1cacd2c3f8",
   "metadata": {},
   "source": [
    "**Copy**"
   ]
  },
  {
   "cell_type": "code",
   "execution_count": 11,
   "id": "fbfc19a2-b165-4f28-a3f8-94a1d021e891",
   "metadata": {},
   "outputs": [
    {
     "data": {
      "text/plain": [
       "[1, 2, 3, 100, 200, 80, 70, 60]"
      ]
     },
     "execution_count": 11,
     "metadata": {},
     "output_type": "execute_result"
    }
   ],
   "source": [
    "l1=[1,2,3,100,200,80,70,60]\n",
    "l2=l1.copy()\n",
    "l2"
   ]
  },
  {
   "cell_type": "code",
   "execution_count": 13,
   "id": "311dc377-a60a-4e6d-b27a-f373d4040477",
   "metadata": {},
   "outputs": [
    {
     "data": {
      "text/plain": [
       "([1, 2, 3, 100, 200, 80, 70, 60], [1, 2, 3, 100, 200, 80, 70, 60])"
      ]
     },
     "execution_count": 13,
     "metadata": {},
     "output_type": "execute_result"
    }
   ],
   "source": [
    "l1,l2"
   ]
  },
  {
   "cell_type": "markdown",
   "id": "9e09d60e-1c61-4af7-9190-ce6edcdc21cf",
   "metadata": {},
   "source": [
    "**clear**"
   ]
  },
  {
   "cell_type": "code",
   "execution_count": 14,
   "id": "32161944-6ada-439f-a320-a8893a9003ef",
   "metadata": {},
   "outputs": [
    {
     "data": {
      "text/plain": [
       "[]"
      ]
     },
     "execution_count": 14,
     "metadata": {},
     "output_type": "execute_result"
    }
   ],
   "source": [
    "l1.clear()\n",
    "l1"
   ]
  },
  {
   "cell_type": "code",
   "execution_count": 15,
   "id": "c66e2df9-1437-45d5-85a0-ece88b969e7e",
   "metadata": {},
   "outputs": [
    {
     "data": {
      "text/plain": [
       "[1, 2, 3, 100, 200, 80, 70, 60]"
      ]
     },
     "execution_count": 15,
     "metadata": {},
     "output_type": "execute_result"
    }
   ],
   "source": [
    "l2"
   ]
  },
  {
   "cell_type": "code",
   "execution_count": 16,
   "id": "e0ce3201-6f62-4e86-8acc-9de4024edca2",
   "metadata": {},
   "outputs": [
    {
     "name": "stdout",
     "output_type": "stream",
     "text": [
      "<class 'list'>\n"
     ]
    }
   ],
   "source": [
    "print(type([]))"
   ]
  },
  {
   "cell_type": "markdown",
   "id": "7c23db47-4271-4a43-8055-3e4748a46770",
   "metadata": {},
   "source": [
    "**append-extend-concatenation-insert**"
   ]
  },
  {
   "cell_type": "code",
   "execution_count": 19,
   "id": "736ff08d-88ff-45cd-b3a2-a5e217a29b51",
   "metadata": {},
   "outputs": [
    {
     "name": "stdout",
     "output_type": "stream",
     "text": [
      "[1, 2, 3, 4, ['A', 'B', 'C', 'D']]\n",
      "['A', 'B', 'C', 'D']\n"
     ]
    }
   ],
   "source": [
    "l1=[1,2,3,4]\n",
    "l2=['A','B','C','D']\n",
    "l1.append(l2)\n",
    "print(l1)\n",
    "print(l2)\n",
    "\n",
    "# l1 list is overwrire with l2 values"
   ]
  },
  {
   "cell_type": "code",
   "execution_count": 20,
   "id": "73e3c1bc-4258-44e2-ac56-6579a8ec32fe",
   "metadata": {},
   "outputs": [
    {
     "name": "stdout",
     "output_type": "stream",
     "text": [
      "[1, 2, 3, 4, 'A', 'B', 'C', 'D']\n",
      "['A', 'B', 'C', 'D']\n"
     ]
    }
   ],
   "source": [
    "l1=[1,2,3,4]\n",
    "l2=['A','B','C','D']\n",
    "l1.extend(l2)\n",
    "print(l1)\n",
    "print(l2)"
   ]
  },
  {
   "cell_type": "code",
   "execution_count": 24,
   "id": "81996b97-91c1-475b-8df7-fb706ab7802e",
   "metadata": {},
   "outputs": [
    {
     "name": "stdout",
     "output_type": "stream",
     "text": [
      "[1, 2, 3, 4]\n",
      "['A', 'B', 'C', 'D', 1, 2, 3, 4]\n"
     ]
    }
   ],
   "source": [
    "l1=[1,2,3,4]\n",
    "l2=['A','B','C','D']\n",
    "l2.extend(l1)\n",
    "print(l1)\n",
    "print(l2)"
   ]
  },
  {
   "cell_type": "code",
   "execution_count": 26,
   "id": "8841e59a-83cf-44a4-8966-e6099943bd41",
   "metadata": {},
   "outputs": [
    {
     "name": "stdout",
     "output_type": "stream",
     "text": [
      "[1, 2, 3, 4, 'A', 'B', 'C', 'D']\n",
      "['A', 'B', 'C', 'D', 1, 2, 3, 4]\n",
      "[1, 2, 3, 4]\n",
      "['A', 'B', 'C', 'D']\n"
     ]
    }
   ],
   "source": [
    "l1=[1,2,3,4]\n",
    "l2=['A','B','C','D']\n",
    "print(l1+l2)\n",
    "print(l2+l1)\n",
    "print(l1)\n",
    "print(l2)"
   ]
  },
  {
   "cell_type": "code",
   "execution_count": 28,
   "id": "395600ad-0884-4766-8742-504d29a1d4ba",
   "metadata": {},
   "outputs": [
    {
     "data": {
      "text/plain": [
       "[1, 2, 3, 4, 'a', 'p', 'p', 'l', 'e']"
      ]
     },
     "execution_count": 28,
     "metadata": {},
     "output_type": "execute_result"
    }
   ],
   "source": [
    "l1=[1,2,3,4]\n",
    "l1.extend('apple')\n",
    "l1\n",
    "#[1,2,3,4,'a','p','p','l','e']"
   ]
  },
  {
   "cell_type": "code",
   "execution_count": 30,
   "id": "3fe6df38-97fd-4c9b-a453-90fa62475053",
   "metadata": {},
   "outputs": [
    {
     "data": {
      "text/plain": [
       "[1, 2, 3, 4, 10, 20, 30, 40]"
      ]
     },
     "execution_count": 30,
     "metadata": {},
     "output_type": "execute_result"
    }
   ],
   "source": [
    "l1=[1,2,3,4]\n",
    "l1.extend((10,20,30,40))\n",
    "l1"
   ]
  },
  {
   "cell_type": "markdown",
   "id": "6a55f261-f40c-4ff3-9348-4de555d68972",
   "metadata": {},
   "source": [
    "- append just append the value with base data type\n",
    "\n",
    "- extend is concatenate the value, and the list will be overwrite with new values\n",
    "\n",
    "- extend can take any iterable format type i.e. string,list,tuple\n",
    "\n",
    "- extend and concatenation both are same \n",
    "\n",
    "- the list will not overwrite in concatenation"
   ]
  },
  {
   "cell_type": "markdown",
   "id": "1736b747-b713-4980-ae8a-a21506fb471e",
   "metadata": {},
   "source": [
    "**index**\n",
    "\n",
    "- same like string only"
   ]
  },
  {
   "cell_type": "code",
   "execution_count": 34,
   "id": "5b30befb-2efb-4e36-a759-5cfdbace46bc",
   "metadata": {},
   "outputs": [
    {
     "data": {
      "text/plain": [
       "(3, 6)"
      ]
     },
     "execution_count": 34,
     "metadata": {},
     "output_type": "execute_result"
    }
   ],
   "source": [
    "l1=[1, 2, 3,'Apple', 10, 20, 'Apple', 40]\n",
    "l1.index(2)\n",
    "i1=l1.index('Apple')\n",
    "i2=l1.index('Apple',i1+1)\n",
    "i1,i2"
   ]
  },
  {
   "cell_type": "code",
   "execution_count": 35,
   "id": "7f85c469-db04-41b6-bc8c-ab83132eeaf6",
   "metadata": {},
   "outputs": [
    {
     "data": {
      "text/plain": [
       "6"
      ]
     },
     "execution_count": 35,
     "metadata": {},
     "output_type": "execute_result"
    }
   ],
   "source": [
    "l1.index('Apple',l1.index('Apple')+1)"
   ]
  },
  {
   "cell_type": "code",
   "execution_count": 39,
   "id": "6e0098e7-c1e5-46c8-95b4-30218d42bcb6",
   "metadata": {},
   "outputs": [
    {
     "name": "stdout",
     "output_type": "stream",
     "text": [
      "3\n"
     ]
    }
   ],
   "source": [
    "l1=[1, 2, 3,'Apple', 10, 20, 'Apple', 40]\n",
    "#   0  1  2   3      4   5    6       7\n",
    "i1=l1.index('Apple')  # Case-1\n",
    "i2=l1.index('Apple',i1+1) # Case-2\n",
    "i3=l1.index('Apple',2,5) # Case-3\n",
    "print(i3)\n",
    "# If i want second 'Apple'\n",
    "# from which index my eyes will start "
   ]
  },
  {
   "cell_type": "markdown",
   "id": "b8cae474-a0a3-4c29-8b77-4b159e8dd8fe",
   "metadata": {},
   "source": [
    "- case-1: Directly get the index\n",
    "\n",
    "- case-2: Next value index, by providing start\n",
    "\n",
    "- case-3:  Between the values"
   ]
  },
  {
   "cell_type": "markdown",
   "id": "3e8dc625-07c4-4f29-8526-9863b3ebd959",
   "metadata": {},
   "source": [
    "- Copy/clear\n",
    "\n",
    "- Append/Extend/Concatenation\n",
    "\n",
    "- Index\n",
    "\n",
    "- There is no find in list\n",
    "\n",
    "- count is exactly same as strings"
   ]
  },
  {
   "cell_type": "markdown",
   "id": "b316d13b-6ffe-4bb2-aab5-b40603b1d2bb",
   "metadata": {},
   "source": [
    "**insert**\n",
    "\n",
    "- will insert the element based on index\n",
    "\n",
    "- append will add the element at last only"
   ]
  },
  {
   "cell_type": "code",
   "execution_count": 4,
   "id": "53c5d3fc-875f-4fa8-aa7f-ae7f5738d2fa",
   "metadata": {},
   "outputs": [
    {
     "data": {
      "text/plain": [
       "[1, 2, 3, 'Banana', 'Apple', 10, 20, 'Apple', 40]"
      ]
     },
     "execution_count": 4,
     "metadata": {},
     "output_type": "execute_result"
    }
   ],
   "source": [
    "l1=[1, 2, 3,'Apple', 10, 20, 'Apple', 40]\n",
    "#   0  1  2   3      4   5    6       7\n",
    "i1=l1.index('Apple')  # Apple index = 3\n",
    "l1.insert(i1,'Banana') # insert banana before index i1(3)\n",
    "l1"
   ]
  },
  {
   "cell_type": "code",
   "execution_count": 5,
   "id": "0aa0b363-7692-4749-8c35-d2a2f4b1006a",
   "metadata": {},
   "outputs": [
    {
     "data": {
      "text/plain": [
       "[1, 2, 3, 'Apple', 10, 20, 'Apple', 'Cherry', 40]"
      ]
     },
     "execution_count": 5,
     "metadata": {},
     "output_type": "execute_result"
    }
   ],
   "source": [
    "l1=[1, 2, 3,'Apple', 10, 20, 'Apple', 40]\n",
    "# Insert 'Cherry'  before 40 \n",
    "# You need to find index of the 40\n",
    "i1=l1.index(40)\n",
    "l1.insert(i1,'Cherry')\n",
    "l1"
   ]
  },
  {
   "cell_type": "code",
   "execution_count": 9,
   "id": "7a1b59a5-b454-4f6c-be93-c1ee58a9ae86",
   "metadata": {},
   "outputs": [
    {
     "data": {
      "text/plain": [
       "[1, 2, 3, 'Apple', 10, 20, 'Cherry', 'Apple', 40]"
      ]
     },
     "execution_count": 9,
     "metadata": {},
     "output_type": "execute_result"
    }
   ],
   "source": [
    "#If we want to add cherry before  2nd apple then how ?\n",
    "l1=[1, 2, 3,'Apple', 10, 20, 'Apple', 40]\n",
    "# step-1: we want to find the index of 2nd 'APPLE'\n",
    "# Step-2: How to find the second 'Apple'  index\n",
    "i1=l1.index('Apple')\n",
    "i2=l1.index('Apple',i1+1)\n",
    "l1.insert(6,'Cherry')\n",
    "l1"
   ]
  },
  {
   "cell_type": "markdown",
   "id": "56477381-ae1b-4216-9b81-6a85e1981b4b",
   "metadata": {},
   "source": [
    "**pop-remove-del**\n",
    "\n",
    "\n",
    "- pop will remove the item\n",
    "\n",
    "- pop also display the item which is removing\n",
    "\n",
    "- pop will take one argument:index\n",
    "\n",
    "- pop will remove the item based on index\n",
    "\n",
    "- if you dont provide any index, by default it will remove last value\n",
    "\n",
    "- because the default index value is -1"
   ]
  },
  {
   "cell_type": "code",
   "execution_count": 12,
   "id": "10afb4d6-b428-4fec-91d0-d988100be272",
   "metadata": {},
   "outputs": [
    {
     "data": {
      "text/plain": [
       "[1, 2, 3, 'Apple', 10, 20, 'Apple']"
      ]
     },
     "execution_count": 12,
     "metadata": {},
     "output_type": "execute_result"
    }
   ],
   "source": [
    "l1=[1, 2, 3,'Apple', 10, 20, 'Apple', 40]\n",
    "l1.pop()\n",
    "l1"
   ]
  },
  {
   "cell_type": "code",
   "execution_count": 13,
   "id": "b99027d4-722f-4494-8979-deee55c0f1b4",
   "metadata": {},
   "outputs": [
    {
     "data": {
      "text/plain": [
       "[1, 2, 3, 10, 20, 'Apple', 40]"
      ]
     },
     "execution_count": 13,
     "metadata": {},
     "output_type": "execute_result"
    }
   ],
   "source": [
    "# We are concentarting only on first Apple\n",
    "l1=[1, 2, 3,'Apple', 10, 20, 'Apple', 40]\n",
    "i1=l1.index('Apple')\n",
    "l1.pop(i1)\n",
    "l1"
   ]
  },
  {
   "cell_type": "code",
   "execution_count": 14,
   "id": "96f15af3-751d-4a12-a363-053ced50132b",
   "metadata": {},
   "outputs": [
    {
     "data": {
      "text/plain": [
       "[1, 2, 3, 'Apple', 10, 20, 40]"
      ]
     },
     "execution_count": 14,
     "metadata": {},
     "output_type": "execute_result"
    }
   ],
   "source": [
    "# We are concentarting only on Second apple\n",
    "l1=[1, 2, 3,'Apple', 10, 20, 'Apple', 40]\n",
    "i1=l1.index('Apple')\n",
    "i2=l1.index('Apple',i1+1)\n",
    "l1.pop(i2)\n",
    "l1"
   ]
  },
  {
   "cell_type": "code",
   "execution_count": 17,
   "id": "499a7f42-5bb6-434c-8ef6-bda209c35561",
   "metadata": {},
   "outputs": [
    {
     "data": {
      "text/plain": [
       "[1, 2, 3, 10, 20, 40]"
      ]
     },
     "execution_count": 17,
     "metadata": {},
     "output_type": "execute_result"
    }
   ],
   "source": [
    "l1=[1, 2, 3,'Apple', 10, 20, 'Apple', 40]\n",
    "i1=l1.index('Apple') #3\n",
    "l1.pop(i1)  #  l1=[1, 2, 3,10, 20, 'Apple', 40]\n",
    "###############################################################\n",
    "i1=l1.index('Apple')\n",
    "l1.pop(i1)\n",
    "l1"
   ]
  },
  {
   "cell_type": "code",
   "execution_count": 18,
   "id": "5e1dcd75-6232-4af0-a098-e7109a62bfc9",
   "metadata": {},
   "outputs": [
    {
     "data": {
      "text/plain": [
       "[1, 2, 3, 10, 20, 40]"
      ]
     },
     "execution_count": 18,
     "metadata": {},
     "output_type": "execute_result"
    }
   ],
   "source": []
  },
  {
   "cell_type": "code",
   "execution_count": 23,
   "id": "6c9ebed5-2640-4311-841c-d0d6b1019ba7",
   "metadata": {},
   "outputs": [
    {
     "data": {
      "text/plain": [
       "'hai how are you im good thank you'"
      ]
     },
     "execution_count": 23,
     "metadata": {},
     "output_type": "execute_result"
    }
   ],
   "source": [
    "str='hai apple how are you apple im good apple thank you apple'\n",
    "# o/p='hai how are you im goof thank you'\n",
    "# Idea:\n",
    "# step-1:  split\n",
    "# itearte it \n",
    "# pop it\n",
    "# join it\n",
    "list1=str.split()\n",
    "count=list1.count('apple')\n",
    "for i in range(count):\n",
    "    i1=list1.index('apple')\n",
    "    list1.pop(i1)\n",
    "' '.join(list1)"
   ]
  },
  {
   "cell_type": "markdown",
   "id": "a71a6121-134c-4ccd-a009-f9cf98a57a80",
   "metadata": {},
   "source": [
    "- pop will take the index\n",
    "\n",
    "- remove will take the value\n",
    "\n",
    "- remove will delete the first occurence of element "
   ]
  },
  {
   "cell_type": "code",
   "execution_count": 25,
   "id": "413ec2fd-875c-42a7-8784-efdc749bdcb0",
   "metadata": {},
   "outputs": [
    {
     "data": {
      "text/plain": [
       "[1, 2, 3, 10, 20, 'Apple', 40]"
      ]
     },
     "execution_count": 25,
     "metadata": {},
     "output_type": "execute_result"
    }
   ],
   "source": [
    "l1=[1, 2, 3,'Apple', 10, 20, 'Apple', 40]\n",
    "l1.remove('Apple')\n",
    "l1"
   ]
  },
  {
   "cell_type": "code",
   "execution_count": 26,
   "id": "8dff8073-686d-4a38-9cc0-a76ebe3b980d",
   "metadata": {},
   "outputs": [
    {
     "data": {
      "text/plain": [
       "'hai how are you im good thank you'"
      ]
     },
     "execution_count": 26,
     "metadata": {},
     "output_type": "execute_result"
    }
   ],
   "source": [
    "str='hai apple how are you apple im good apple thank you apple'\n",
    "list1=str.split()\n",
    "count=list1.count('apple')\n",
    "for i in range(count):\n",
    "    list1.remove('apple')\n",
    "' '.join(list1)"
   ]
  },
  {
   "cell_type": "markdown",
   "id": "7a39f8aa-29ab-4965-b630-d60625e86038",
   "metadata": {},
   "source": [
    "**del**"
   ]
  },
  {
   "cell_type": "code",
   "execution_count": 28,
   "id": "ce006907-d843-443d-a463-16e457d115ab",
   "metadata": {},
   "outputs": [
    {
     "data": {
      "text/plain": [
       "[1, 2, 3, 10, 20, 'Apple', 40]"
      ]
     },
     "execution_count": 28,
     "metadata": {},
     "output_type": "execute_result"
    }
   ],
   "source": [
    "l1=[1, 2, 3,'Apple', 10, 20, 'Apple', 40]\n",
    "del(l1[3])\n",
    "l1"
   ]
  },
  {
   "cell_type": "markdown",
   "id": "9ae6c602-3487-47bb-bc29-b35d95cc9d7c",
   "metadata": {},
   "source": [
    "- append / extend/ insert/concatenation\n",
    "\n",
    "- pop/remove/del\n",
    "\n",
    "- sort/sorted\n",
    "\n",
    "- reverse/reveresd\n",
    "\n",
    "- count and index"
   ]
  },
  {
   "cell_type": "code",
   "execution_count": null,
   "id": "58efdb97-a5ae-474f-9f86-178a4ac69487",
   "metadata": {},
   "outputs": [],
   "source": [
    "- representation\n",
    "\n",
    "- type\n",
    "\n",
    "- len\n",
    "\n",
    "- max\n",
    "\n",
    "- min\n",
    "\n",
    "- sum\n",
    "\n",
    "- sorted\n",
    "\n",
    "- reversed\n",
    "\n",
    "- in\n",
    "\n",
    "- for loop with in\n",
    "\n",
    "- index\n",
    "\n",
    "- for loop with index\n",
    "\n",
    "- mutable and immutable\n",
    "\n",
    "- slicing\n",
    "\n",
    "- concatenation\n",
    "\n",
    "- Methods"
   ]
  },
  {
   "cell_type": "code",
   "execution_count": 29,
   "id": "ae0e7bd3-60b1-4f6d-ab21-11ccbedcd4f0",
   "metadata": {},
   "outputs": [
    {
     "data": {
      "text/plain": [
       "['__add__',\n",
       " '__class__',\n",
       " '__class_getitem__',\n",
       " '__contains__',\n",
       " '__delattr__',\n",
       " '__dir__',\n",
       " '__doc__',\n",
       " '__eq__',\n",
       " '__format__',\n",
       " '__ge__',\n",
       " '__getattribute__',\n",
       " '__getitem__',\n",
       " '__getnewargs__',\n",
       " '__getstate__',\n",
       " '__gt__',\n",
       " '__hash__',\n",
       " '__init__',\n",
       " '__init_subclass__',\n",
       " '__iter__',\n",
       " '__le__',\n",
       " '__len__',\n",
       " '__lt__',\n",
       " '__mul__',\n",
       " '__ne__',\n",
       " '__new__',\n",
       " '__reduce__',\n",
       " '__reduce_ex__',\n",
       " '__repr__',\n",
       " '__rmul__',\n",
       " '__setattr__',\n",
       " '__sizeof__',\n",
       " '__str__',\n",
       " '__subclasshook__',\n",
       " 'count',\n",
       " 'index']"
      ]
     },
     "execution_count": 29,
     "metadata": {},
     "output_type": "execute_result"
    }
   ],
   "source": [
    "dir(())"
   ]
  },
  {
   "cell_type": "code",
   "execution_count": null,
   "id": "692937f1-f2ea-4b23-9893-1d8586baa20b",
   "metadata": {},
   "outputs": [],
   "source": []
  }
 ],
 "metadata": {
  "kernelspec": {
   "display_name": "Python 3 (ipykernel)",
   "language": "python",
   "name": "python3"
  },
  "language_info": {
   "codemirror_mode": {
    "name": "ipython",
    "version": 3
   },
   "file_extension": ".py",
   "mimetype": "text/x-python",
   "name": "python",
   "nbconvert_exporter": "python",
   "pygments_lexer": "ipython3",
   "version": "3.11.7"
  }
 },
 "nbformat": 4,
 "nbformat_minor": 5
}
