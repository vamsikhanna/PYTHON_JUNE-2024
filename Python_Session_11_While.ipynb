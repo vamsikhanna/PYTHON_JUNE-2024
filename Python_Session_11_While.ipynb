{
 "cells": [
  {
   "cell_type": "markdown",
   "id": "b941d642-1cb6-4216-92a5-b6c2a7a50404",
   "metadata": {},
   "source": [
    "**Loops**\n",
    "\n",
    "- For loop\n",
    "\n",
    "- while loop : If you want to run an infinite iterations will choose while loop\n",
    "\n",
    "- Every loop we need three things\n",
    "\n",
    "    - Intial point ( starting point)\n",
    "\n",
    "    - Increment or decrement \n",
    "\n",
    "    - Condition ( stop point) "
   ]
  },
  {
   "cell_type": "code",
   "execution_count": null,
   "id": "b50a81da-7a14-4608-8ea3-9ef12737b427",
   "metadata": {},
   "outputs": [],
   "source": [
    "for i in range(1,10,2):\n",
    "    print(i,end=' ')"
   ]
  },
  {
   "cell_type": "markdown",
   "id": "fea0725d-fbd4-45ff-b99c-66eba5c3fbdd",
   "metadata": {},
   "source": [
    "- In for loop all three things mentioned in a single line : range(start,stop,step)\n",
    "\n",
    "- In while loop we will use these three things, in as a three lines\n"
   ]
  },
  {
   "cell_type": "code",
   "execution_count": null,
   "id": "958e0054-fe9c-4ba6-9490-da61fe22b23e",
   "metadata": {},
   "outputs": [],
   "source": [
    "<start point>\n",
    "while  <how to stop>:\n",
    "     codeline1\n",
    "     codeline2\n",
    "     <increment or decrement>"
   ]
  },
  {
   "cell_type": "code",
   "execution_count": null,
   "id": "a510f398-ce25-4730-85db-cc684b94b837",
   "metadata": {},
   "outputs": [],
   "source": [
    "if <condition>:\n",
    "    ###### "
   ]
  },
  {
   "cell_type": "code",
   "execution_count": null,
   "id": "77125045-c6e5-4fd3-b502-d99ba734aa95",
   "metadata": {},
   "outputs": [],
   "source": [
    "for i in range(1,10):\n",
    "    print(i,end=' ')\n",
    "    print('hello')"
   ]
  },
  {
   "cell_type": "code",
   "execution_count": null,
   "id": "465ed392-f282-4649-9dd2-7086638e77d9",
   "metadata": {},
   "outputs": [],
   "source": [
    "# start point  i=1\n",
    "# while <condition to stop>:\n",
    "#        i=i+1"
   ]
  },
  {
   "cell_type": "code",
   "execution_count": null,
   "id": "43118616-4957-4d61-85cd-62d7651b3637",
   "metadata": {},
   "outputs": [],
   "source": [
    "i=1\n",
    "while <condition to stop>:\n",
    "    print(i,end=' ')\n",
    "    i=i+1\n",
    "\n",
    "# Conditions  i<11   1<11  True\n",
    "#             i<2   1<2    True\n",
    "#             i>10  1>10   False\n",
    "#             i<15"
   ]
  },
  {
   "cell_type": "code",
   "execution_count": null,
   "id": "581bca08-a61e-4b75-980e-f856366a4cda",
   "metadata": {},
   "outputs": [],
   "source": [
    "- range(1,10): start=1  last=10-1 =9 step= 1\n",
    "\n",
    "\n",
    "i=1\n",
    "while <condition>:\n",
    "    print(i)\n",
    "    i=i+1\n",
    "\n",
    "- correct entry  and correct exit\n",
    "\n",
    "- True condition  i<5 True"
   ]
  },
  {
   "cell_type": "code",
   "execution_count": null,
   "id": "67191a89-7b2a-4d8f-b5c7-72fba76fa1fd",
   "metadata": {},
   "outputs": [],
   "source": [
    "i=1\n",
    "while i<11:\n",
    "    print(i,end=' ')\n",
    "    i=i+1\n",
    "\n",
    "# step-1:  i=1   while 1<2  True  print(1)   i=1+1  i=2\n",
    "# step-2:  i=2   while 2<2  False"
   ]
  },
  {
   "cell_type": "code",
   "execution_count": null,
   "id": "1e7246ee-9853-4aa8-9822-60930fdcab0f",
   "metadata": {},
   "outputs": [],
   "source": [
    "i=1\n",
    "while i==10:\n",
    "    print(i,end=' ')\n",
    "    i=i+1\n",
    "\n",
    "# step-1:  i=1   while 1==10  False"
   ]
  },
  {
   "cell_type": "code",
   "execution_count": null,
   "id": "5711714b-f5d6-4456-b6db-ea14ab24ef20",
   "metadata": {},
   "outputs": [],
   "source": [
    "i=1\n",
    "while i<11:\n",
    "    print(i,end=' ')\n",
    "    i=i-1\n",
    "\n",
    "# step-1:  i=1   while 1<11  True  print(1)   i=1-1  i=0\n",
    "# step-2: i=0   while 0<11   True  print(0)   i=0-1  i= -1\n",
    "# step-3:  i=-1  while -1<11  True  print(-1) i=-1-1  i=-2\n",
    "\n",
    "# 1,0,-1,-2,............"
   ]
  },
  {
   "cell_type": "code",
   "execution_count": null,
   "id": "4a93e096-d224-471a-9820-195e40678130",
   "metadata": {},
   "outputs": [],
   "source": [
    "i=1\n",
    "while i<11:\n",
    "    print(i,end=' ')\n",
    "    i=i+1\n",
    "#####################################################################\n",
    "i=1\n",
    "while i==10:\n",
    "    print(i,end=' ')\n",
    "    i=i+1\n",
    "\n",
    "##################################################################\n",
    "i=1\n",
    "while i<11:\n",
    "    print(i,end=' ')\n",
    "    i=i-1\n"
   ]
  },
  {
   "cell_type": "code",
   "execution_count": null,
   "id": "263f7d63-8c17-4132-a098-0da2cb92e88f",
   "metadata": {},
   "outputs": [],
   "source": [
    "i=1\n",
    "while i<11:\n",
    "    print(i,end=' ')\n",
    "    i=i-1\n",
    "    if i==-10:\n",
    "        break"
   ]
  },
  {
   "cell_type": "code",
   "execution_count": null,
   "id": "f29808bb-779c-4bf6-a2ef-608dc447863a",
   "metadata": {},
   "outputs": [],
   "source": [
    "# 20 to 1\n",
    "# -20 to 0\n",
    "\n",
    "i=20\n",
    "while i>0:\n",
    "    print(i,end=' ')\n",
    "    i=i-1"
   ]
  },
  {
   "cell_type": "code",
   "execution_count": null,
   "id": "23fcf526-6aba-450b-bd39-d95d4dbf915a",
   "metadata": {},
   "outputs": [],
   "source": [
    "i=-20\n",
    "while i<1:\n",
    "    print(i,end=' ')\n",
    "    i=i+1"
   ]
  },
  {
   "cell_type": "markdown",
   "id": "05d7d563-cc32-49d3-9175-6a3c4a536cb0",
   "metadata": {},
   "source": [
    "**True**\n",
    "\n",
    "- if you dont know about valid condition to enter inside while loop\n",
    "\n",
    "- Then use **True**\n",
    "\n",
    "- True will give entry pass irrespective of the condition\n",
    "\n",
    "- But if you want to come out we need apply if condition and break inside the while loop\n",
    "\n",
    "- If you dont apply the break inside, then it becomes infinite loop"
   ]
  },
  {
   "cell_type": "code",
   "execution_count": null,
   "id": "e3d32ffb-6885-422e-97fc-9fb3ac0a9de8",
   "metadata": {},
   "outputs": [],
   "source": [
    "i=1\n",
    "while i<11:\n",
    "    print(i,end=' ')\n",
    "    i=i+1\n",
    "    \n",
    "\n",
    "i=1\n",
    "while True:\n",
    "    print(i,end=' ')\n",
    "    i=i-1\n",
    "    if i==-10:\n",
    "        break\n",
    "\n",
    "\n",
    "i=20\n",
    "while i>0:\n",
    "    print(i,end=' ')\n",
    "    i=i-1\n",
    "\n",
    "i=-20\n",
    "while i<1:\n",
    "    print(i,end=' ')\n",
    "    i=i+1"
   ]
  },
  {
   "cell_type": "code",
   "execution_count": null,
   "id": "981e1f30-c513-4325-bcc8-3569cf6659b3",
   "metadata": {},
   "outputs": [],
   "source": [
    "i=1\n",
    "while i<11:\n",
    "    print(i,end=' ')\n",
    "    i=i+1\n",
    "\n",
    "print('========= second method===========')\n",
    "i=1\n",
    "while True:\n",
    "    print(i,end=' ')\n",
    "    i=i+1\n",
    "    if i==11:\n",
    "        break"
   ]
  },
  {
   "cell_type": "code",
   "execution_count": null,
   "id": "a0aa3dd5-8806-44ab-a382-1e24f82a307c",
   "metadata": {},
   "outputs": [],
   "source": [
    "i=1\n",
    "while True:\n",
    "    print(i,end=' ')\n",
    "    i=i-1\n",
    "    if i==-10:\n",
    "        break\n"
   ]
  },
  {
   "cell_type": "code",
   "execution_count": null,
   "id": "d4249e1a-dbcd-46a5-80c2-e4ca66909253",
   "metadata": {},
   "outputs": [],
   "source": [
    "i=20\n",
    "while i>0:\n",
    "    print(i,end=' ')\n",
    "    i=i-1\n",
    "\n",
    "print(\"=========== second\")\n",
    "i=20\n",
    "while True:\n",
    "    print(i,end=' ')\n",
    "    i=i-1\n",
    "    if i==0:\n",
    "        break"
   ]
  },
  {
   "cell_type": "code",
   "execution_count": null,
   "id": "ff7e09bd-70e4-43d9-abc2-55c8415d22f4",
   "metadata": {},
   "outputs": [],
   "source": [
    "i=-20\n",
    "while i<1:\n",
    "    print(i,end=' ')\n",
    "    i=i+1\n",
    "print(\"=========== second\")\n",
    "i=-20\n",
    "while True:\n",
    "    print(i,end=' ')\n",
    "    i=i+1\n",
    "    if i==1:\n",
    "        break"
   ]
  },
  {
   "cell_type": "code",
   "execution_count": null,
   "id": "9d1987bc-9dfb-48a4-82da-e94a8a30ac73",
   "metadata": {},
   "outputs": [],
   "source": [
    "i=-20\n",
    "while i<1:\n",
    "    print(i,end=' ')\n",
    "    i=i+1\n",
    "\n",
    "print(\"=========== second\")\n",
    "\n",
    "i=-20\n",
    "while i<1:\n",
    "    i=i+1\n",
    "    print(i,end=' ')\n"
   ]
  },
  {
   "cell_type": "code",
   "execution_count": null,
   "id": "9b645ab7-a8be-4e40-9be1-26a0bd2d5da2",
   "metadata": {},
   "outputs": [],
   "source": [
    "import random\n",
    "num=random.randint(1,100)\n",
    "for i in range(3):\n",
    "    if num%2==0:\n",
    "        print(f'{num} is even')\n",
    "    else:\n",
    "        print(f'{num} is odd')\n",
    "\n",
    "# step-1: Importing\n",
    "# step-2: num= random number : 25\n",
    "# step-3: loop 3 times\n",
    "# step-4:    25%2==0"
   ]
  },
  {
   "cell_type": "code",
   "execution_count": null,
   "id": "3bad8580-0b3e-4ed1-815b-4bf2da958d75",
   "metadata": {},
   "outputs": [],
   "source": [
    "import random\n",
    "for i in range(3):\n",
    "    num=random.randint(1,100)\n",
    "    if num%2==0:\n",
    "        print(f'{num} is even')\n",
    "    else:\n",
    "        print(f'{num} is odd')"
   ]
  },
  {
   "cell_type": "code",
   "execution_count": null,
   "id": "1cd74815-3a9d-42ab-be06-62367ac44738",
   "metadata": {},
   "outputs": [],
   "source": [
    "########## ALL For loop need to conver into while =============\n",
    "kindly complete all questions , we will do same replica in While loop\n",
    "#1Q) For example\n",
    "# take a random number between  1 to 100\n",
    "# print it is a even number and odd number\n",
    "# you need to generate 3 random number\n",
    "\n",
    "#2Q) wap ask the user print the number is even or odd between 10 to 20\n",
    "\n",
    "#3Q) wap ask the user print the square of the number between\n",
    "# 20 to 25\n",
    "\n",
    "#4Q) WAP ask the user enter number three times find the square of the number\n",
    "# How many times loop should run\n",
    "\n",
    "\n",
    "#5Q) Print the 14th table\n",
    "# ans:   14 x 1 = 14\n",
    "#        14 x 2 = 28\n",
    "#        14 x 3 = 42\n",
    "#\n",
    "#\n",
    "#        14 x10 = 140\n",
    "# How many times 10\n",
    "\n",
    "\n",
    "#6 Q) Find the factors of 75\n",
    "# step-1: Iterate the loop = which numbers factor you want\n",
    "# step-2: Apply the if condition\n",
    "#         cond= divide the number with each i\n",
    "\n",
    "\n",
    "#7Q) Write the sum of first 10 Natural numbers\n",
    "# 1 to 10\n",
    "# 1+2+3+4+5+6+7+8+9+10=55\n",
    "\n",
    "\n",
    "# 8Q) Average first 1 to 10 numbers\n",
    "# avg= summation of all the numbers/total number\n",
    "#Wap to find the average of ' N ' numbers in Python.\n",
    "\n",
    "\n",
    "#9Q) Find the number of divisors of 75\n",
    "# ans: 1,3,5,15,25,75\n",
    "# Number =6\n",
    "\n",
    "\n",
    "\n",
    "# 10Q)\n",
    "# Get a random number between  1 to 10 :  num1\n",
    "# Ask the user enter a number : num2\n",
    "# if num1 == num2  then print won\n",
    "# else print fail\n",
    "\n",
    "# Give 3 chances\n",
    "\n",
    "# Case-2: whenever you won the code should stop\n",
    "\n",
    "# Case-3:\n",
    "# Suppose i want to give 4 chances\n",
    "# Every time you fail I want to display\n",
    "#      Number of chances left\n",
    "\n",
    "# If all the chances you are used\n",
    "#    Try again after 24 hours\n",
    "\n",
    "# If you are win\n",
    "\n",
    "\n",
    "\n",
    "\n",
    "11q)# wap ask the user get 5 random numbers\n",
    "# Get it is an even number or odd number\n",
    "# also count how many even numbers are there\n",
    "# and  count how many odd numbers are there\n",
    "\n",
    "# Idea\n",
    "# take two counters one even and odd count\n",
    "# For loop 5 times\n",
    "# each time take the random number\n",
    "# If condition\n",
    "#    True counter update\n",
    "# else\n",
    "#   Update the counter\n",
    "\n",
    "\n",
    "12Q) # wap ask the user get 5 random numbers\n",
    "# Get it is an even number or odd number\n",
    "# also count how many even numbers are there\n",
    "# and  count how many odd numbers are there\n",
    "# I want summ even numbers\n",
    "# I want summ odd numbers"
   ]
  },
  {
   "cell_type": "code",
   "execution_count": 1,
   "id": "a25fa63c-714b-4f7b-a1f5-86831bcfe626",
   "metadata": {},
   "outputs": [
    {
     "name": "stdout",
     "output_type": "stream",
     "text": [
      "95 is odd\n",
      "55 is odd\n",
      "50 is even\n"
     ]
    }
   ],
   "source": [
    "#1Q) For example\n",
    "# take a random number between  1 to 100\n",
    "# print it is a even number and odd number\n",
    "# you need to generate 3 random number\n",
    "\n",
    "import random\n",
    "for i in range(3):\n",
    "    num=random.randint(1,100)\n",
    "    if num%2==0:\n",
    "        print(f'{num} is even')\n",
    "    else:\n",
    "        print(f'{num} is odd')"
   ]
  },
  {
   "cell_type": "code",
   "execution_count": 2,
   "id": "9f6f9ec6-9b5d-41ed-b330-95efcffaebc1",
   "metadata": {},
   "outputs": [
    {
     "name": "stdout",
     "output_type": "stream",
     "text": [
      "47 is odd\n",
      "35 is odd\n",
      "29 is odd\n"
     ]
    }
   ],
   "source": [
    "#range(3) ===== three lines\n",
    "i=333\n",
    "while i<336:\n",
    "    num=random.randint(1,100)\n",
    "    if num%2==0:\n",
    "        print(f'{num} is even')\n",
    "    else:\n",
    "        print(f'{num} is odd')\n",
    "    i=i+1"
   ]
  },
  {
   "cell_type": "code",
   "execution_count": null,
   "id": "e57a8d6b-3b1c-4bc1-8f25-43a91d417ba1",
   "metadata": {},
   "outputs": [],
   "source": [
    "# A  ===== 65\n",
    "# B  ===== 66\n",
    "# C  ===== 67\n",
    "\n",
    "# ASCII \n",
    "\n",
    "ord('A'),ord('B')"
   ]
  },
  {
   "cell_type": "code",
   "execution_count": null,
   "id": "c0fd8c3c-51a9-4b56-8a38-78186adde0a4",
   "metadata": {},
   "outputs": [],
   "source": [
    "chr(65)"
   ]
  },
  {
   "cell_type": "code",
   "execution_count": null,
   "id": "ce370eda-bba1-4dd3-b256-17b91a08a0ca",
   "metadata": {},
   "outputs": [],
   "source": [
    "#6Q\n",
    "i=1\n",
    "num=eval(input(\"Enter the number of which you want factors:\"))\n",
    "while i<num+1:\n",
    "    if num%i==0:\n",
    "        print(f\"Factor of number is {i} \")\n",
    "    i=i+1\n",
    "\n",
    "factor=eval(input('enter the factor number'))\n",
    "i=1\n",
    "while i<factor+1:\n",
    "    i=i+1"
   ]
  }
 ],
 "metadata": {
  "kernelspec": {
   "display_name": "Python 3 (ipykernel)",
   "language": "python",
   "name": "python3"
  },
  "language_info": {
   "codemirror_mode": {
    "name": "ipython",
    "version": 3
   },
   "file_extension": ".py",
   "mimetype": "text/x-python",
   "name": "python",
   "nbconvert_exporter": "python",
   "pygments_lexer": "ipython3",
   "version": "3.12.4"
  }
 },
 "nbformat": 4,
 "nbformat_minor": 5
}
