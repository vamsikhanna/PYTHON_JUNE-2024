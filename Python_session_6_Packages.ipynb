{
 "cells": [
  {
   "cell_type": "code",
   "execution_count": null,
   "id": "b1ad02c9-5df8-4615-b364-de0007ff9a24",
   "metadata": {},
   "outputs": [],
   "source": [
    "let assume that  our friend coder is there\n",
    "\n",
    "he created  an addition program\n",
    "\n",
    "he feels that he only created an addition program\n",
    "\n",
    "he wants to give this program to every one ===== Package\n",
    "\n",
    "he wents to anaconda organization \n",
    "\n",
    "he makes a deal\n",
    "\n",
    "who ever installed anaconda my package also automatically download\n",
    "\n",
    "thats why when you are downlaoding anaconda a green color pop is comes\n",
    "means so many packages are tie with anaconda \n",
    "downloading in your local laptop"
   ]
  },
  {
   "cell_type": "code",
   "execution_count": null,
   "id": "0aca5eb1-b943-41bc-8710-14ddb2b8aee6",
   "metadata": {},
   "outputs": [],
   "source": [
    "package is there in your laptop\n",
    "you want to use for the coding\n",
    "\n",
    "the package name: addition"
   ]
  },
  {
   "cell_type": "markdown",
   "id": "bdfe42f6-f884-41d4-9617-ae62fc04c93d",
   "metadata": {},
   "source": [
    "**import**"
   ]
  },
  {
   "cell_type": "code",
   "execution_count": null,
   "id": "6f9d480d-83bb-4b4a-9140-9dee3bc2ed19",
   "metadata": {},
   "outputs": [],
   "source": [
    "# syntax\n",
    "#import <package_name>"
   ]
  },
  {
   "cell_type": "code",
   "execution_count": 9,
   "id": "8f2b4851-62c3-43d4-85db-df63d48dd269",
   "metadata": {},
   "outputs": [],
   "source": [
    "#package name: random\n",
    "import random"
   ]
  },
  {
   "cell_type": "code",
   "execution_count": 10,
   "id": "aa2de7be-9f8e-459f-ade8-e83a9186daf3",
   "metadata": {},
   "outputs": [],
   "source": [
    "# package name: time\n",
    "import time"
   ]
  },
  {
   "cell_type": "code",
   "execution_count": 11,
   "id": "a1bf8b91-5694-4559-ba00-67ff3d31e1f4",
   "metadata": {},
   "outputs": [],
   "source": [
    "# package name: math\n",
    "import math"
   ]
  },
  {
   "cell_type": "code",
   "execution_count": 12,
   "id": "1f0df227-b9cb-4620-85d9-c03201f95445",
   "metadata": {},
   "outputs": [],
   "source": [
    "# package name: streamlit\n",
    "import streamlit"
   ]
  },
  {
   "cell_type": "code",
   "execution_count": null,
   "id": "e6b2c57d-6f73-4048-929f-beea416a372d",
   "metadata": {},
   "outputs": [],
   "source": [
    "# Module not found\n",
    "# package or module both are same"
   ]
  },
  {
   "cell_type": "code",
   "execution_count": 13,
   "id": "1979bd9b-3ca5-4725-8938-5713c59c896d",
   "metadata": {},
   "outputs": [],
   "source": [
    "import cv2"
   ]
  },
  {
   "cell_type": "code",
   "execution_count": null,
   "id": "33c67ae9-5a95-4b6a-b782-490391307fc1",
   "metadata": {},
   "outputs": [],
   "source": [
    "cv2 guy not tie with anaconda\n",
    "no module name : cv2\n",
    "\n",
    "streamlit guy not tie with anaconda\n",
    "no module name: streamlit"
   ]
  },
  {
   "cell_type": "code",
   "execution_count": null,
   "id": "bcb2a554-33f1-46c4-84c4-7f17b2368b9b",
   "metadata": {},
   "outputs": [],
   "source": [
    "math operations\n",
    "    addition\n",
    "    subtraction\n",
    "    multiplication\n",
    "    division"
   ]
  },
  {
   "cell_type": "code",
   "execution_count": 14,
   "id": "2eab89cd-fc5c-4ecf-bb20-72292daf51c5",
   "metadata": {},
   "outputs": [
    {
     "data": {
      "text/plain": [
       "['BPF',\n",
       " 'LOG4',\n",
       " 'NV_MAGICCONST',\n",
       " 'RECIP_BPF',\n",
       " 'Random',\n",
       " 'SG_MAGICCONST',\n",
       " 'SystemRandom',\n",
       " 'TWOPI',\n",
       " '_ONE',\n",
       " '_Sequence',\n",
       " '_Set',\n",
       " '__all__',\n",
       " '__builtins__',\n",
       " '__cached__',\n",
       " '__doc__',\n",
       " '__file__',\n",
       " '__loader__',\n",
       " '__name__',\n",
       " '__package__',\n",
       " '__spec__',\n",
       " '_accumulate',\n",
       " '_acos',\n",
       " '_bisect',\n",
       " '_ceil',\n",
       " '_cos',\n",
       " '_e',\n",
       " '_exp',\n",
       " '_floor',\n",
       " '_index',\n",
       " '_inst',\n",
       " '_isfinite',\n",
       " '_log',\n",
       " '_os',\n",
       " '_pi',\n",
       " '_random',\n",
       " '_repeat',\n",
       " '_sha512',\n",
       " '_sin',\n",
       " '_sqrt',\n",
       " '_test',\n",
       " '_test_generator',\n",
       " '_urandom',\n",
       " '_warn',\n",
       " 'betavariate',\n",
       " 'choice',\n",
       " 'choices',\n",
       " 'expovariate',\n",
       " 'gammavariate',\n",
       " 'gauss',\n",
       " 'getrandbits',\n",
       " 'getstate',\n",
       " 'lognormvariate',\n",
       " 'normalvariate',\n",
       " 'paretovariate',\n",
       " 'randbytes',\n",
       " 'randint',\n",
       " 'random',\n",
       " 'randrange',\n",
       " 'sample',\n",
       " 'seed',\n",
       " 'setstate',\n",
       " 'shuffle',\n",
       " 'triangular',\n",
       " 'uniform',\n",
       " 'vonmisesvariate',\n",
       " 'weibullvariate']"
      ]
     },
     "execution_count": 14,
     "metadata": {},
     "output_type": "execute_result"
    }
   ],
   "source": [
    "import random\n",
    "dir(random)"
   ]
  },
  {
   "cell_type": "code",
   "execution_count": null,
   "id": "c7c2ed09-aea7-4065-b456-5b6352624fd4",
   "metadata": {},
   "outputs": [],
   "source": [
    "# syntax\n",
    "# <package_name>.<method_name>\n",
    "# packagename: random\n",
    "# methodname: randint"
   ]
  },
  {
   "cell_type": "code",
   "execution_count": 15,
   "id": "65d4000a-8e71-44a0-91ef-c78a99048ab3",
   "metadata": {},
   "outputs": [
    {
     "name": "stdout",
     "output_type": "stream",
     "text": [
      "Help on method randint in module random:\n",
      "\n",
      "randint(a, b) method of random.Random instance\n",
      "    Return random integer in range [a, b], including both end points.\n",
      "\n"
     ]
    }
   ],
   "source": [
    "#help(<packagename.methodname>)\n",
    "# help will give the understanding of \n",
    "# how a method will wor\n",
    "\n",
    "# here I want to know what randint will do ?\n",
    "\n",
    "help(random.randint)"
   ]
  },
  {
   "cell_type": "code",
   "execution_count": 19,
   "id": "06d159fd-ad63-4a9b-9301-4275e7279110",
   "metadata": {},
   "outputs": [
    {
     "data": {
      "text/plain": [
       "10"
      ]
     },
     "execution_count": 19,
     "metadata": {},
     "output_type": "execute_result"
    }
   ],
   "source": [
    "random.randint(1,10)"
   ]
  },
  {
   "cell_type": "code",
   "execution_count": 20,
   "id": "1098dbcf-8fed-4aa8-b7fa-31847db134c1",
   "metadata": {},
   "outputs": [],
   "source": [
    "# step-1:  import <package_name>\n",
    "# step-2:  dir(<pacakge_name>)\n",
    "# step-3:  help(<pacakge_name>.<method_name>)\n",
    "# package_name: random\n",
    "import random\n"
   ]
  },
  {
   "cell_type": "code",
   "execution_count": 21,
   "id": "79143983-cbc8-4694-8419-a784e6923b94",
   "metadata": {},
   "outputs": [
    {
     "data": {
      "text/plain": [
       "['BPF',\n",
       " 'LOG4',\n",
       " 'NV_MAGICCONST',\n",
       " 'RECIP_BPF',\n",
       " 'Random',\n",
       " 'SG_MAGICCONST',\n",
       " 'SystemRandom',\n",
       " 'TWOPI',\n",
       " '_ONE',\n",
       " '_Sequence',\n",
       " '_Set',\n",
       " '__all__',\n",
       " '__builtins__',\n",
       " '__cached__',\n",
       " '__doc__',\n",
       " '__file__',\n",
       " '__loader__',\n",
       " '__name__',\n",
       " '__package__',\n",
       " '__spec__',\n",
       " '_accumulate',\n",
       " '_acos',\n",
       " '_bisect',\n",
       " '_ceil',\n",
       " '_cos',\n",
       " '_e',\n",
       " '_exp',\n",
       " '_floor',\n",
       " '_index',\n",
       " '_inst',\n",
       " '_isfinite',\n",
       " '_log',\n",
       " '_os',\n",
       " '_pi',\n",
       " '_random',\n",
       " '_repeat',\n",
       " '_sha512',\n",
       " '_sin',\n",
       " '_sqrt',\n",
       " '_test',\n",
       " '_test_generator',\n",
       " '_urandom',\n",
       " '_warn',\n",
       " 'betavariate',\n",
       " 'choice',\n",
       " 'choices',\n",
       " 'expovariate',\n",
       " 'gammavariate',\n",
       " 'gauss',\n",
       " 'getrandbits',\n",
       " 'getstate',\n",
       " 'lognormvariate',\n",
       " 'normalvariate',\n",
       " 'paretovariate',\n",
       " 'randbytes',\n",
       " 'randint',\n",
       " 'random',\n",
       " 'randrange',\n",
       " 'sample',\n",
       " 'seed',\n",
       " 'setstate',\n",
       " 'shuffle',\n",
       " 'triangular',\n",
       " 'uniform',\n",
       " 'vonmisesvariate',\n",
       " 'weibullvariate']"
      ]
     },
     "execution_count": 21,
     "metadata": {},
     "output_type": "execute_result"
    }
   ],
   "source": [
    "dir(random)"
   ]
  },
  {
   "cell_type": "code",
   "execution_count": 22,
   "id": "a4399211-7c22-4ddb-ba7a-4d0a2c695aa1",
   "metadata": {},
   "outputs": [
    {
     "name": "stdout",
     "output_type": "stream",
     "text": [
      "Help on method randint in module random:\n",
      "\n",
      "randint(a, b) method of random.Random instance\n",
      "    Return random integer in range [a, b], including both end points.\n",
      "\n"
     ]
    }
   ],
   "source": [
    "help(random.randint)"
   ]
  },
  {
   "cell_type": "code",
   "execution_count": 23,
   "id": "cd60a493-5d52-4476-90ac-455525c15c08",
   "metadata": {},
   "outputs": [
    {
     "data": {
      "text/plain": [
       "12"
      ]
     },
     "execution_count": 23,
     "metadata": {},
     "output_type": "execute_result"
    }
   ],
   "source": [
    "random.randint(1,20)"
   ]
  },
  {
   "cell_type": "code",
   "execution_count": 24,
   "id": "47659bb0-f4d2-4a25-846e-1b49b4b64631",
   "metadata": {},
   "outputs": [
    {
     "name": "stdout",
     "output_type": "stream",
     "text": [
      "Help on built-in function random:\n",
      "\n",
      "random() method of random.Random instance\n",
      "    random() -> x in the interval [0, 1).\n",
      "\n"
     ]
    }
   ],
   "source": [
    "# package name:  random\n",
    "# method name:  random\n",
    "import random\n",
    "dir(random)\n",
    "help(random.random)"
   ]
  },
  {
   "cell_type": "code",
   "execution_count": 25,
   "id": "6360912f-7b11-45d2-9c02-31e2797c7862",
   "metadata": {},
   "outputs": [
    {
     "data": {
      "text/plain": [
       "0.1694746898871523"
      ]
     },
     "execution_count": 25,
     "metadata": {},
     "output_type": "execute_result"
    }
   ],
   "source": [
    "random.random()"
   ]
  },
  {
   "cell_type": "markdown",
   "id": "2483458a-ef9d-469a-926b-1306aede57be",
   "metadata": {},
   "source": [
    "**math**\n",
    "\n",
    "# package name : math\n",
    "\n",
    "# method pi\n",
    "#      sqrt\n",
    "#       sin\n"
   ]
  },
  {
   "cell_type": "code",
   "execution_count": 26,
   "id": "8ce5f2b9-1447-418f-b5d3-fa1d4512ea25",
   "metadata": {},
   "outputs": [],
   "source": [
    "import math"
   ]
  },
  {
   "cell_type": "code",
   "execution_count": 27,
   "id": "47870892-fc2e-4ec1-9558-626d2fe9a62f",
   "metadata": {},
   "outputs": [
    {
     "data": {
      "text/plain": [
       "['__doc__',\n",
       " '__loader__',\n",
       " '__name__',\n",
       " '__package__',\n",
       " '__spec__',\n",
       " 'acos',\n",
       " 'acosh',\n",
       " 'asin',\n",
       " 'asinh',\n",
       " 'atan',\n",
       " 'atan2',\n",
       " 'atanh',\n",
       " 'cbrt',\n",
       " 'ceil',\n",
       " 'comb',\n",
       " 'copysign',\n",
       " 'cos',\n",
       " 'cosh',\n",
       " 'degrees',\n",
       " 'dist',\n",
       " 'e',\n",
       " 'erf',\n",
       " 'erfc',\n",
       " 'exp',\n",
       " 'exp2',\n",
       " 'expm1',\n",
       " 'fabs',\n",
       " 'factorial',\n",
       " 'floor',\n",
       " 'fmod',\n",
       " 'frexp',\n",
       " 'fsum',\n",
       " 'gamma',\n",
       " 'gcd',\n",
       " 'hypot',\n",
       " 'inf',\n",
       " 'isclose',\n",
       " 'isfinite',\n",
       " 'isinf',\n",
       " 'isnan',\n",
       " 'isqrt',\n",
       " 'lcm',\n",
       " 'ldexp',\n",
       " 'lgamma',\n",
       " 'log',\n",
       " 'log10',\n",
       " 'log1p',\n",
       " 'log2',\n",
       " 'modf',\n",
       " 'nan',\n",
       " 'nextafter',\n",
       " 'perm',\n",
       " 'pi',\n",
       " 'pow',\n",
       " 'prod',\n",
       " 'radians',\n",
       " 'remainder',\n",
       " 'sin',\n",
       " 'sinh',\n",
       " 'sqrt',\n",
       " 'tan',\n",
       " 'tanh',\n",
       " 'tau',\n",
       " 'trunc',\n",
       " 'ulp']"
      ]
     },
     "execution_count": 27,
     "metadata": {},
     "output_type": "execute_result"
    }
   ],
   "source": [
    "dir(math)"
   ]
  },
  {
   "cell_type": "code",
   "execution_count": 28,
   "id": "b723adea-59ba-42a4-81c0-af7b1781c8ac",
   "metadata": {},
   "outputs": [
    {
     "name": "stdout",
     "output_type": "stream",
     "text": [
      "Help on built-in function sqrt in module math:\n",
      "\n",
      "sqrt(x, /)\n",
      "    Return the square root of x.\n",
      "\n"
     ]
    }
   ],
   "source": [
    "# pi\n",
    "# pow\n",
    "# sqrt\n",
    "# sin\n",
    "\n",
    "help(math.sqrt)"
   ]
  },
  {
   "cell_type": "code",
   "execution_count": 29,
   "id": "07b82200-cd5c-432c-9b70-355995a8a5aa",
   "metadata": {},
   "outputs": [
    {
     "data": {
      "text/plain": [
       "5.0"
      ]
     },
     "execution_count": 29,
     "metadata": {},
     "output_type": "execute_result"
    }
   ],
   "source": [
    "math.sqrt(25)"
   ]
  },
  {
   "cell_type": "code",
   "execution_count": 30,
   "id": "fe708ff5-70ab-4156-b42e-4eead97831b1",
   "metadata": {},
   "outputs": [
    {
     "name": "stdout",
     "output_type": "stream",
     "text": [
      "Help on built-in function pow in module math:\n",
      "\n",
      "pow(x, y, /)\n",
      "    Return x**y (x to the power of y).\n",
      "\n"
     ]
    }
   ],
   "source": [
    "help(math.pow)"
   ]
  },
  {
   "cell_type": "code",
   "execution_count": 31,
   "id": "370f002b-b65d-442d-9e49-d8dabc474046",
   "metadata": {},
   "outputs": [
    {
     "data": {
      "text/plain": [
       "8.0"
      ]
     },
     "execution_count": 31,
     "metadata": {},
     "output_type": "execute_result"
    }
   ],
   "source": [
    "math.pow(2,3)"
   ]
  },
  {
   "cell_type": "code",
   "execution_count": 32,
   "id": "99147904-1bbc-4b41-ae30-23e8fbaa4774",
   "metadata": {},
   "outputs": [
    {
     "name": "stdout",
     "output_type": "stream",
     "text": [
      "Help on built-in function sin in module math:\n",
      "\n",
      "sin(x, /)\n",
      "    Return the sine of x (measured in radians).\n",
      "\n"
     ]
    }
   ],
   "source": [
    "help(math.sin)"
   ]
  },
  {
   "cell_type": "code",
   "execution_count": 33,
   "id": "46cb08d9-9a85-4ea9-93d7-04f69cb7aecf",
   "metadata": {},
   "outputs": [
    {
     "data": {
      "text/plain": [
       "0.8939966636005579"
      ]
     },
     "execution_count": 33,
     "metadata": {},
     "output_type": "execute_result"
    }
   ],
   "source": [
    "math.sin(90)"
   ]
  },
  {
   "cell_type": "code",
   "execution_count": null,
   "id": "5d7cfc6e-bde5-46cc-9739-781b05e4d76a",
   "metadata": {},
   "outputs": [],
   "source": [
    "math.sqrt(25)\n",
    "math.pow(2,3)\n",
    "math.sin(90)"
   ]
  },
  {
   "cell_type": "code",
   "execution_count": 34,
   "id": "dd456517-0d70-473e-ab05-36f589e7ac24",
   "metadata": {},
   "outputs": [
    {
     "ename": "TypeError",
     "evalue": "math.sqrt() takes no keyword arguments",
     "output_type": "error",
     "traceback": [
      "\u001b[1;31m---------------------------------------------------------------------------\u001b[0m",
      "\u001b[1;31mTypeError\u001b[0m                                 Traceback (most recent call last)",
      "Cell \u001b[1;32mIn[34], line 1\u001b[0m\n\u001b[1;32m----> 1\u001b[0m math\u001b[38;5;241m.\u001b[39msqrt(x\u001b[38;5;241m=\u001b[39m\u001b[38;5;241m25\u001b[39m)\n",
      "\u001b[1;31mTypeError\u001b[0m: math.sqrt() takes no keyword arguments"
     ]
    }
   ],
   "source": [
    "math.sqrt(x=25)\n",
    "# curosr inside the bracker\n",
    "# then apply shift+tab\n",
    "\n",
    "# / is mentioned means \n",
    "# do not provide x=25 values\n",
    "# directly give 25"
   ]
  },
  {
   "cell_type": "code",
   "execution_count": 35,
   "id": "8def3be2-c20a-4d63-b74a-0c64c84669e7",
   "metadata": {},
   "outputs": [
    {
     "data": {
      "text/plain": [
       "<function math.sqrt(x, /)>"
      ]
     },
     "execution_count": 35,
     "metadata": {},
     "output_type": "execute_result"
    }
   ],
   "source": [
    "math.sqrt"
   ]
  },
  {
   "cell_type": "markdown",
   "id": "5711d997-b8b5-4da2-8afd-46fcdc909bb2",
   "metadata": {},
   "source": [
    "- function means we are forgetting brackets \n",
    "\n",
    "- we need to keep brackets\n",
    "\n",
    "- bound method also means forgetting the brackets only\n",
    "\n",
    "- not callable means remove bracket\n",
    "\n",
    "- whenever you see slash don't provide variable name\n",
    "\n",
    "- directly give the value"
   ]
  },
  {
   "cell_type": "code",
   "execution_count": 38,
   "id": "583c84ff-c647-4bca-8d56-3e2303d2d67c",
   "metadata": {},
   "outputs": [
    {
     "data": {
      "text/plain": [
       "5.0"
      ]
     },
     "execution_count": 38,
     "metadata": {},
     "output_type": "execute_result"
    }
   ],
   "source": [
    "math.sqrt(25)"
   ]
  },
  {
   "cell_type": "code",
   "execution_count": 42,
   "id": "aea8a9a3-0e73-41e1-bf74-5caa038aa493",
   "metadata": {},
   "outputs": [
    {
     "data": {
      "text/plain": [
       "13"
      ]
     },
     "execution_count": 42,
     "metadata": {},
     "output_type": "execute_result"
    }
   ],
   "source": [
    "random.randint(10,20)"
   ]
  },
  {
   "cell_type": "code",
   "execution_count": 47,
   "id": "c76457bf-777f-47a9-92cf-1f3a3509cb92",
   "metadata": {},
   "outputs": [
    {
     "data": {
      "text/plain": [
       "0.12403115023466815"
      ]
     },
     "execution_count": 47,
     "metadata": {},
     "output_type": "execute_result"
    }
   ],
   "source": [
    "random.random()\n"
   ]
  },
  {
   "cell_type": "code",
   "execution_count": 44,
   "id": "570971b1-c4ab-4ac3-914c-322a1819c861",
   "metadata": {},
   "outputs": [
    {
     "data": {
      "text/plain": [
       "['BPF',\n",
       " 'LOG4',\n",
       " 'NV_MAGICCONST',\n",
       " 'RECIP_BPF',\n",
       " 'Random',\n",
       " 'SG_MAGICCONST',\n",
       " 'SystemRandom',\n",
       " 'TWOPI',\n",
       " '_ONE',\n",
       " '_Sequence',\n",
       " '_Set',\n",
       " '__all__',\n",
       " '__builtins__',\n",
       " '__cached__',\n",
       " '__doc__',\n",
       " '__file__',\n",
       " '__loader__',\n",
       " '__name__',\n",
       " '__package__',\n",
       " '__spec__',\n",
       " '_accumulate',\n",
       " '_acos',\n",
       " '_bisect',\n",
       " '_ceil',\n",
       " '_cos',\n",
       " '_e',\n",
       " '_exp',\n",
       " '_floor',\n",
       " '_index',\n",
       " '_inst',\n",
       " '_isfinite',\n",
       " '_log',\n",
       " '_os',\n",
       " '_pi',\n",
       " '_random',\n",
       " '_repeat',\n",
       " '_sha512',\n",
       " '_sin',\n",
       " '_sqrt',\n",
       " '_test',\n",
       " '_test_generator',\n",
       " '_urandom',\n",
       " '_warn',\n",
       " 'betavariate',\n",
       " 'choice',\n",
       " 'choices',\n",
       " 'expovariate',\n",
       " 'gammavariate',\n",
       " 'gauss',\n",
       " 'getrandbits',\n",
       " 'getstate',\n",
       " 'lognormvariate',\n",
       " 'normalvariate',\n",
       " 'paretovariate',\n",
       " 'randbytes',\n",
       " 'randint',\n",
       " 'random',\n",
       " 'randrange',\n",
       " 'sample',\n",
       " 'seed',\n",
       " 'setstate',\n",
       " 'shuffle',\n",
       " 'triangular',\n",
       " 'uniform',\n",
       " 'vonmisesvariate',\n",
       " 'weibullvariate']"
      ]
     },
     "execution_count": 44,
     "metadata": {},
     "output_type": "execute_result"
    }
   ],
   "source": [
    "dir(random)"
   ]
  },
  {
   "cell_type": "code",
   "execution_count": 49,
   "id": "d302b728-6221-4df3-8826-16b14ec53a50",
   "metadata": {},
   "outputs": [
    {
     "data": {
      "text/plain": [
       "3.141592653589793"
      ]
     },
     "execution_count": 49,
     "metadata": {},
     "output_type": "execute_result"
    }
   ],
   "source": [
    "math.pi\n",
    "# direct values never include brackets"
   ]
  },
  {
   "cell_type": "code",
   "execution_count": 50,
   "id": "21f805ca-31af-47ae-adcf-7649e81ba966",
   "metadata": {},
   "outputs": [],
   "source": [
    "# package name: keyword\n",
    "# method name: kwlist\n",
    "import keyword"
   ]
  },
  {
   "cell_type": "code",
   "execution_count": 52,
   "id": "71461322-fdc6-4f67-80fb-c879c2059d02",
   "metadata": {},
   "outputs": [
    {
     "data": {
      "text/plain": [
       "35"
      ]
     },
     "execution_count": 52,
     "metadata": {},
     "output_type": "execute_result"
    }
   ],
   "source": [
    "len(keyword.kwlist)"
   ]
  },
  {
   "cell_type": "code",
   "execution_count": null,
   "id": "bae9d552-112f-4a87-be68-e0d02e29a7ab",
   "metadata": {},
   "outputs": [],
   "source": [
    "# step-1:  \n",
    "# import <package_name>\n",
    "\n",
    "# step-2:\n",
    "# dir(<package_name>)\n",
    "#    methods will display\n",
    "\n",
    "# step-3:\n",
    "# help(<package_name>.<method_name>)\n",
    "\n",
    "# step-4:\n",
    "# <package_name>.<method_name>()  # 99%\n",
    "\n"
   ]
  },
  {
   "cell_type": "code",
   "execution_count": 1,
   "id": "198de02e-5cd4-4dcd-a29f-980c8b5fe596",
   "metadata": {},
   "outputs": [],
   "source": [
    "import random"
   ]
  },
  {
   "cell_type": "code",
   "execution_count": 2,
   "id": "b194497d-b614-44f0-91d5-69091d075fde",
   "metadata": {},
   "outputs": [
    {
     "data": {
      "text/plain": [
       "['BPF',\n",
       " 'LOG4',\n",
       " 'NV_MAGICCONST',\n",
       " 'RECIP_BPF',\n",
       " 'Random',\n",
       " 'SG_MAGICCONST',\n",
       " 'SystemRandom',\n",
       " 'TWOPI',\n",
       " '_ONE',\n",
       " '_Sequence',\n",
       " '_Set',\n",
       " '__all__',\n",
       " '__builtins__',\n",
       " '__cached__',\n",
       " '__doc__',\n",
       " '__file__',\n",
       " '__loader__',\n",
       " '__name__',\n",
       " '__package__',\n",
       " '__spec__',\n",
       " '_accumulate',\n",
       " '_acos',\n",
       " '_bisect',\n",
       " '_ceil',\n",
       " '_cos',\n",
       " '_e',\n",
       " '_exp',\n",
       " '_floor',\n",
       " '_index',\n",
       " '_inst',\n",
       " '_isfinite',\n",
       " '_log',\n",
       " '_os',\n",
       " '_pi',\n",
       " '_random',\n",
       " '_repeat',\n",
       " '_sha512',\n",
       " '_sin',\n",
       " '_sqrt',\n",
       " '_test',\n",
       " '_test_generator',\n",
       " '_urandom',\n",
       " '_warn',\n",
       " 'betavariate',\n",
       " 'choice',\n",
       " 'choices',\n",
       " 'expovariate',\n",
       " 'gammavariate',\n",
       " 'gauss',\n",
       " 'getrandbits',\n",
       " 'getstate',\n",
       " 'lognormvariate',\n",
       " 'normalvariate',\n",
       " 'paretovariate',\n",
       " 'randbytes',\n",
       " 'randint',\n",
       " 'random',\n",
       " 'randrange',\n",
       " 'sample',\n",
       " 'seed',\n",
       " 'setstate',\n",
       " 'shuffle',\n",
       " 'triangular',\n",
       " 'uniform',\n",
       " 'vonmisesvariate',\n",
       " 'weibullvariate']"
      ]
     },
     "execution_count": 2,
     "metadata": {},
     "output_type": "execute_result"
    }
   ],
   "source": [
    "dir(random)"
   ]
  },
  {
   "cell_type": "code",
   "execution_count": 3,
   "id": "44348bc5-b0ab-44d1-991c-db2ba5dc8693",
   "metadata": {},
   "outputs": [
    {
     "name": "stdout",
     "output_type": "stream",
     "text": [
      "Help on method randint in module random:\n",
      "\n",
      "randint(a, b) method of random.Random instance\n",
      "    Return random integer in range [a, b], including both end points.\n",
      "\n"
     ]
    }
   ],
   "source": [
    "help(random.randint)"
   ]
  },
  {
   "cell_type": "code",
   "execution_count": 5,
   "id": "2212c970-6ed1-44a1-ac59-e2e0e53cec8a",
   "metadata": {},
   "outputs": [
    {
     "data": {
      "text/plain": [
       "13"
      ]
     },
     "execution_count": 5,
     "metadata": {},
     "output_type": "execute_result"
    }
   ],
   "source": [
    "random.randint(10,20)"
   ]
  },
  {
   "cell_type": "code",
   "execution_count": 6,
   "id": "901d84d2-2335-4f65-8221-fd858aa9f71f",
   "metadata": {},
   "outputs": [],
   "source": [
    "import math"
   ]
  },
  {
   "cell_type": "code",
   "execution_count": 8,
   "id": "09f33b52-8cd0-4925-b5d9-a95eabdde366",
   "metadata": {},
   "outputs": [
    {
     "data": {
      "text/plain": [
       "3.141592653589793"
      ]
     },
     "execution_count": 8,
     "metadata": {},
     "output_type": "execute_result"
    }
   ],
   "source": [
    "math.pi"
   ]
  },
  {
   "cell_type": "markdown",
   "id": "99f99d29-e1ae-4da9-bfeb-d4ddc2cf2556",
   "metadata": {},
   "source": [
    "() : function or methods\n",
    "\n",
    "only functions or methods callable\n",
    "\n",
    "if something says not callable means , it is not a function\n",
    "\n",
    "it is not a function means, you need to remove bracket\n",
    "\n",
    "bound method means ==== add the brackets\n",
    "\n",
    "function ======= add the brackets\n",
    "\n",
    "not callable ==== remove the brackets"
   ]
  },
  {
   "cell_type": "markdown",
   "id": "3b831189-804c-4f75-9146-8c772f3cfb40",
   "metadata": {},
   "source": [
    "- random\n",
    "\n",
    "- math\n",
    "\n",
    "- keyword"
   ]
  },
  {
   "cell_type": "markdown",
   "id": "1c1eba70-505d-40a7-9690-36769f65875a",
   "metadata": {},
   "source": [
    "**time**"
   ]
  },
  {
   "cell_type": "code",
   "execution_count": 12,
   "id": "371b6358-dd48-45fc-9d2c-5e72924842d5",
   "metadata": {},
   "outputs": [
    {
     "name": "stdout",
     "output_type": "stream",
     "text": [
      "Father:hello\n",
      "D: hai papa how are you\n",
      "Father:do you have school today\n"
     ]
    }
   ],
   "source": [
    "import time\n",
    "\n",
    "print(\"Father:hello\")\n",
    "time.sleep(2)\n",
    "print(\"D: hai papa how are you\")\n",
    "time.sleep(2)\n",
    "print(\"Father:do you have school today\")"
   ]
  },
  {
   "cell_type": "code",
   "execution_count": null,
   "id": "3958cfde-5f07-4ce7-9e06-6c05c10ca6f1",
   "metadata": {},
   "outputs": [],
   "source": [
    "Computer vision is used to image operations \n",
    "video operations  \n",
    "\n",
    "we called it as opencv\n",
    "\n",
    "pcakge name: cv2"
   ]
  },
  {
   "cell_type": "code",
   "execution_count": 15,
   "id": "d6a1dcc8-592c-47e4-a859-523edb2406bb",
   "metadata": {},
   "outputs": [],
   "source": [
    "import cv2"
   ]
  },
  {
   "cell_type": "markdown",
   "id": "a58d63d6-046d-4aca-8935-51df027c7306",
   "metadata": {},
   "source": [
    "- whenever module not fund we need to install it\n",
    "\n",
    "- here our package name is cv2\n",
    "\n",
    "- 99% the installation will be like this\n",
    "\n",
    "pip install <package name>\n",
    "\n",
    "- some packages installation name will different\n",
    "  and python import name is different\n",
    "\n",
    "- in order to install the packages we need internet\n",
    "\n",
    "- if internet problem occures while installing we will get http error"
   ]
  },
  {
   "cell_type": "code",
   "execution_count": 16,
   "id": "36f62b70-0e95-43e8-9975-19b8e7551b02",
   "metadata": {},
   "outputs": [],
   "source": [
    "import streamlit"
   ]
  },
  {
   "cell_type": "markdown",
   "id": "1be7bbef-90ae-4546-8128-11d80a9f0892",
   "metadata": {},
   "source": [
    "**Note**\n",
    "\n",
    "pip freeze is the command to know the aleady existed packages in our laptop"
   ]
  },
  {
   "cell_type": "code",
   "execution_count": 17,
   "id": "c7508243-01f2-4235-898c-b9816f189d65",
   "metadata": {},
   "outputs": [],
   "source": [
    "import numpy"
   ]
  },
  {
   "cell_type": "code",
   "execution_count": 18,
   "id": "47d680a7-275e-4f83-b0c1-706048b98148",
   "metadata": {},
   "outputs": [
    {
     "data": {
      "text/plain": [
       "<module 'numpy' from 'C:\\\\Users\\\\omkar\\\\anaconda3\\\\Lib\\\\site-packages\\\\numpy\\\\__init__.py'>"
      ]
     },
     "execution_count": 18,
     "metadata": {},
     "output_type": "execute_result"
    }
   ],
   "source": [
    "numpy"
   ]
  },
  {
   "cell_type": "markdown",
   "id": "98ceeddb-adfb-4c4c-a56d-027fa2b5aa50",
   "metadata": {},
   "source": [
    "!pip install opencv-python\n",
    "\n",
    "- in jupyter notebook we need add ! mark \n",
    "\n",
    "- in anaconda prompt no need of ! mark \n",
    "\n",
    "- directly name you can provide"
   ]
  },
  {
   "cell_type": "code",
   "execution_count": 19,
   "id": "6923e076-dca1-4c55-9982-32774b910559",
   "metadata": {},
   "outputs": [
    {
     "name": "stdout",
     "output_type": "stream",
     "text": [
      "30\n"
     ]
    }
   ],
   "source": [
    "# hard coding: static\n",
    "# we are fixing the values\n",
    "number1=10\n",
    "number2=20\n",
    "add=number1+number2\n",
    "print(add)"
   ]
  },
  {
   "cell_type": "code",
   "execution_count": 20,
   "id": "98fdb04f-e9c5-4980-af5c-2019ca902118",
   "metadata": {},
   "outputs": [
    {
     "name": "stdin",
     "output_type": "stream",
     "text": [
      "enter the number 1: 100\n",
      "enter the number 2: 200\n"
     ]
    },
    {
     "name": "stdout",
     "output_type": "stream",
     "text": [
      "300\n"
     ]
    }
   ],
   "source": [
    "# dynamic\n",
    "number1=eval(input(\"enter the number 1:\"))\n",
    "number2=eval(input(\"enter the number 2:\"))\n",
    "add=number1+number2\n",
    "print(add)"
   ]
  },
  {
   "cell_type": "code",
   "execution_count": 23,
   "id": "8b30080f-99f5-4433-a853-1abd3a1d7f92",
   "metadata": {},
   "outputs": [
    {
     "name": "stdout",
     "output_type": "stream",
     "text": [
      "the addition of 25 and 125 is 150\n"
     ]
    }
   ],
   "source": [
    "# we can take the numbers randomly also\n",
    "import random\n",
    "number1=random.randint(1,100)\n",
    "number2=random.randint(100,200)\n",
    "add=number1+number2\n",
    "print(f\"the addition of {number1} and {number2} is {add}\")"
   ]
  },
  {
   "cell_type": "markdown",
   "id": "842b0375-78af-4efd-a74e-c66d711b908a",
   "metadata": {},
   "source": [
    "**How we pass the numbers**\n",
    "\n",
    "- hard codings \n",
    "\n",
    "- using keyboard \n",
    "\n",
    "- using random package , taking numbers randomly"
   ]
  },
  {
   "cell_type": "code",
   "execution_count": null,
   "id": "3c73fb0a-a8e3-47bb-92e6-d73cd5325b55",
   "metadata": {},
   "outputs": [],
   "source": [
    "############################################################\n",
    "number1=10\n",
    "number2=20\n",
    "add=number1+number2\n",
    "print(add)\n",
    "\n",
    "#############################################################\n",
    "number1=eval(input(\"enter the number 1:\"))\n",
    "number2=eval(input(\"enter the number 2:\"))\n",
    "add=number1+number2\n",
    "print(add)\n",
    "\n",
    "################################################################\n",
    "import random\n",
    "number1=random.randint(1,100)\n",
    "number2=random.randint(100,200)\n",
    "add=number1+number2\n",
    "print(f\"the addition of {number1} and {number2} is {add}\")"
   ]
  },
  {
   "cell_type": "code",
   "execution_count": 26,
   "id": "a15a9c9a-0427-4b57-bdb7-42593ccf723b",
   "metadata": {},
   "outputs": [
    {
     "name": "stdin",
     "output_type": "stream",
     "text": [
      "enter the n2: 10\n"
     ]
    },
    {
     "name": "stdout",
     "output_type": "stream",
     "text": [
      "The avergae of 10,10 and 48 is: 22.666666666666668\n"
     ]
    }
   ],
   "source": [
    "n1=10\n",
    "n2=eval(input(\"enter the n2:\"))\n",
    "n3=random.randint(1,100)\n",
    "avg=(n1+n2+n3)/3\n",
    "print(f\"The avergae of {n1},{n2} and {n3} is: {avg}\")"
   ]
  },
  {
   "cell_type": "code",
   "execution_count": null,
   "id": "7105f161-efe5-404b-aa25-62e256385f06",
   "metadata": {},
   "outputs": [],
   "source": [
    "# in the entire notebook \n",
    "# if you import packages\n",
    "# no need to import every time\n",
    "# just verify it the line is executed or not\n",
    "# all the packages we will import at starting only line"
   ]
  },
  {
   "cell_type": "code",
   "execution_count": null,
   "id": "d9378cde-dea7-4d99-9996-482ca88bc2d3",
   "metadata": {},
   "outputs": [],
   "source": [
    "# assignment-2\n",
    "# assignment-1 qns only but \n",
    "# you need to take random values every\n",
    "\n",
    "# 11 the print statement using time.sleep"
   ]
  },
  {
   "cell_type": "markdown",
   "id": "c0bd7abe-1841-49cc-96ab-60d9f93f3c3c",
   "metadata": {},
   "source": [
    "**round**"
   ]
  },
  {
   "cell_type": "code",
   "execution_count": 27,
   "id": "38b2846f-ff7b-48ed-954f-5d8d4cc05036",
   "metadata": {},
   "outputs": [
    {
     "data": {
      "text/plain": [
       "23"
      ]
     },
     "execution_count": 27,
     "metadata": {},
     "output_type": "execute_result"
    }
   ],
   "source": [
    "avg=22.666666666666668\n",
    "round(avg)"
   ]
  },
  {
   "cell_type": "code",
   "execution_count": 29,
   "id": "66554639-5742-4fc5-977b-f9c9f05e2fad",
   "metadata": {},
   "outputs": [
    {
     "data": {
      "text/plain": [
       "22.667"
      ]
     },
     "execution_count": 29,
     "metadata": {},
     "output_type": "execute_result"
    }
   ],
   "source": [
    "avg=22.666666666666668\n",
    "round(avg,3)"
   ]
  },
  {
   "cell_type": "code",
   "execution_count": null,
   "id": "eedf1a0d-0700-444f-a0f1-c79d8b7cbf6f",
   "metadata": {},
   "outputs": [],
   "source": [
    "type()\n",
    "input()\n",
    "print()\n",
    "round()"
   ]
  },
  {
   "cell_type": "code",
   "execution_count": null,
   "id": "d2398313-e48f-4ea6-a6dc-cd4d0ea1a430",
   "metadata": {},
   "outputs": [],
   "source": [
    "n1=10\n",
    "n2=eval(input(\"enter the n2:\"))\n",
    "n3=random.randint(1,100)\n",
    "avg=(n1+n2+n3)/3\n",
    "avg1=round(avg,2)\n",
    "print(f\"The avergae of {n1},{n2} and {n3} is: {avg1}\")"
   ]
  },
  {
   "cell_type": "code",
   "execution_count": null,
   "id": "f43bcb26-a2d3-4166-b081-ce2cc93b527d",
   "metadata": {},
   "outputs": [],
   "source": [
    "n1=10\n",
    "n2=eval(input(\"enter the n2:\"))\n",
    "n3=random.randint(1,100)\n",
    "avg=round((n1+n2+n3)/3,2)\n",
    "\n",
    "print(f\"The avergae of {n1},{n2} and {n3} is: {avg1}\")"
   ]
  }
 ],
 "metadata": {
  "kernelspec": {
   "display_name": "Python 3 (ipykernel)",
   "language": "python",
   "name": "python3"
  },
  "language_info": {
   "codemirror_mode": {
    "name": "ipython",
    "version": 3
   },
   "file_extension": ".py",
   "mimetype": "text/x-python",
   "name": "python",
   "nbconvert_exporter": "python",
   "pygments_lexer": "ipython3",
   "version": "3.11.7"
  }
 },
 "nbformat": 4,
 "nbformat_minor": 5
}
