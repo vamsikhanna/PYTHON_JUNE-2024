{
 "cells": [
  {
   "cell_type": "markdown",
   "id": "4d0d8383-eabd-4041-bfa6-1108cbd57441",
   "metadata": {},
   "source": [
    "#Here is a comprehensive list of topics related to functions in Python:\n",
    "\n",
    "### 1. **Basic Function Concepts**\n",
    "   - **Defining Functions:** How to create functions using the `def` keyword.\n",
    "   - **Calling Functions:** How to invoke a function after it is defined.\n",
    "   - **Function Arguments:**\n",
    "     - **Positional Arguments:** Passing arguments in the same order as defined.\n",
    "     - **Keyword Arguments:** Passing arguments using `key=value` pairs.\n",
    "     - **Default Arguments:** Setting default values for function parameters.\n",
    "     - **Variable-Length Arguments:**\n",
    "       - **`*args`:** For arbitrary numbers of positional arguments.\n",
    "       - **`**kwargs`:** For arbitrary numbers of keyword arguments.\n",
    "\n",
    "### 2. **Return Statement**\n",
    "   - **Returning Values:** Using `return` to output a value from a function.\n",
    "   - **Returning Multiple Values:** How to return multiple values using tuples.\n",
    "\n",
    "### 3. **Function Scope**\n",
    "   - **Local Variables:** Variables defined inside a function.\n",
    "   - **Global Variables:** Variables defined outside any function.\n",
    "   - **`global` Keyword:** How to modify global variables inside a function.\n",
    "   - **`nonlocal` Keyword:** How to modify variables in the nearest enclosing scope.\n",
    "\n",
    "### 4. **Function Overloading**\n",
    "   - **Concept of Function Overloading:** Not natively supported, but can be simulated using default arguments or by checking argument types.\n",
    "\n",
    "### 5. **Anonymous Functions (Lambda Functions)**\n",
    "   - **Lambda Functions:** Creating small, anonymous functions using `lambda`.\n",
    "   - **Lambda with `map()`, `filter()`, `reduce()`:** Using lambdas in functional programming.\n",
    "\n",
    "### 6. **Higher-Order Functions**\n",
    "   - **Functions as Arguments:** Passing functions as arguments to other functions.\n",
    "   - **Returning Functions:** Returning a function from another function.\n",
    "\n",
    "### 7. **Recursive Functions**\n",
    "   - **Recursion:** A function calling itself.\n",
    "   - **Base Case and Recursive Case:** The two critical parts of a recursive function.\n",
    "   - **Examples of Recursion:** Factorials, Fibonacci sequence, etc.\n",
    "\n",
    "### 8. **Function Decorators**\n",
    "   - **Decorators:** Functions that modify the behavior of other functions.\n",
    "   - **`@decorator` Syntax:** How to apply decorators using the `@` symbol.\n",
    "\n",
    "### 9. **Built-in Functions**\n",
    "   - **Common Built-in Functions:** `len()`, `sum()`, `max()`, `min()`, `sorted()`, `abs()`, etc.\n",
    "   - **`map()`, `filter()`, `reduce()`:** Functional programming tools.\n",
    "   - **`zip()`, `enumerate()`, `all()`, `any()`:** Useful built-in functions.\n",
    "\n",
    "### 10. **Function Annotations**\n",
    "   - **Type Hints:** Providing metadata about the types of function arguments and return values using annotations.\n",
    "\n",
    "### 11. **Generators and Iterators**\n",
    "   - **Generator Functions:** Using `yield` to return values one at a time.\n",
    "   - **Iterator Protocol:** How functions can return iterators.\n",
    "\n",
    "### 12. **Closures**\n",
    "   - **Closures:** Functions that capture variables from their enclosing scope.\n",
    "   - **Practical Use of Closures:** For creating functions with persistent state.\n",
    "\n",
    "### 13. **Partial Functions**\n",
    "   - **`functools.partial`:** Creating a new function with some arguments of the original function fixed.\n",
    "\n",
    "### 14. **Function Composition**\n",
    "   - **Composing Functions:** Creating complex functions by combining simpler ones.\n",
    "\n",
    "### 15. **`__name__ == \"__main__\"`**\n",
    "   - **Main Guard:** Running code only when the script is executed directly, not when imported as a module.\n",
    "\n",
    "### 16. **Docstrings**\n",
    "   - **Documentation Strings:** Writing documentation for functions using triple quotes.\n",
    "   - **`help()` Function:** Accessing function documentation.\n",
    "\n",
    "### 17. **First-Class Functions**\n",
    "   - **Functions as First-Class Objects:** Functions can be passed around, assigned to variables, and returned from other functions.\n",
    "\n",
    "These topics cover most of what you need to know about functions in Python, from the basics to more advanced concepts."
   ]
  },
  {
   "cell_type": "code",
   "execution_count": null,
   "id": "9570ace2-186e-44aa-93a7-099fdb9406e9",
   "metadata": {},
   "outputs": [],
   "source": []
  },
  {
   "cell_type": "markdown",
   "id": "3b156197-1536-4fb2-92ef-703c48b6b32c",
   "metadata": {},
   "source": [
    "**Functions**\n",
    "\n",
    "- A block of code which we can use many times"
   ]
  },
  {
   "cell_type": "code",
   "execution_count": 1,
   "id": "261f9cae-46d7-4d0a-ac7d-83bcb338d5f0",
   "metadata": {},
   "outputs": [
    {
     "name": "stdout",
     "output_type": "stream",
     "text": [
      "30\n"
     ]
    }
   ],
   "source": [
    "num1=10\n",
    "num2=20\n",
    "add=num1+num2\n",
    "print(add)"
   ]
  },
  {
   "cell_type": "code",
   "execution_count": 3,
   "id": "3b9538c8-0ada-480c-841e-d45732efcab1",
   "metadata": {},
   "outputs": [
    {
     "data": {
      "text/plain": [
       "<bound method Random.randint of <random.Random object at 0x000001E7CC827300>>"
      ]
     },
     "execution_count": 3,
     "metadata": {},
     "output_type": "execute_result"
    }
   ],
   "source": [
    "import random\n",
    "random.randint"
   ]
  },
  {
   "cell_type": "code",
   "execution_count": null,
   "id": "aba4cfce-c087-4126-b0d7-3424741cb1b0",
   "metadata": {},
   "outputs": [],
   "source": [
    "def <function_name>():\n",
    "    codelines"
   ]
  },
  {
   "cell_type": "markdown",
   "id": "0f28aa22-c2cd-44a7-8d04-9e7fc0629aa4",
   "metadata": {},
   "source": [
    "**Functions with out arguments**"
   ]
  },
  {
   "cell_type": "code",
   "execution_count": 4,
   "id": "cba37cda-65cf-46af-847a-c1206d785df6",
   "metadata": {},
   "outputs": [],
   "source": [
    "def addition():\n",
    "    num1=10\n",
    "    num2=20\n",
    "    add=num1+num2\n",
    "    print(add)"
   ]
  },
  {
   "cell_type": "code",
   "execution_count": null,
   "id": "bf1c9b87-bd2d-4ac6-a24a-a50160fad29b",
   "metadata": {},
   "outputs": [],
   "source": [
    "# function name: addition\n",
    "# in order to execute code lines\n",
    "# we need to call the function"
   ]
  },
  {
   "cell_type": "code",
   "execution_count": 5,
   "id": "3219ad3a-f467-4c22-b065-f6ec79dd3e15",
   "metadata": {},
   "outputs": [
    {
     "name": "stdout",
     "output_type": "stream",
     "text": [
      "30\n"
     ]
    }
   ],
   "source": [
    "addition()"
   ]
  },
  {
   "cell_type": "code",
   "execution_count": 6,
   "id": "91b9ed5d-1ec4-404c-8c6a-dfe993bb1778",
   "metadata": {},
   "outputs": [
    {
     "name": "stdout",
     "output_type": "stream",
     "text": [
      "num1 is: 10\n",
      "num2 is: 20\n",
      "the addition of 10 and 20 is: 30\n"
     ]
    }
   ],
   "source": [
    "def addition():\n",
    "    num1=10\n",
    "    print(\"num1 is:\",num1)\n",
    "    num2=20\n",
    "    print(\"num2 is:\",num2)\n",
    "    add=num1+num2\n",
    "    print(f\"the addition of {num1} and {num2} is: {add}\")\n",
    "\n",
    "addition()"
   ]
  },
  {
   "cell_type": "markdown",
   "id": "4131b1ec-9947-4ef0-9d98-881b67c97e2e",
   "metadata": {},
   "source": [
    "**Note**\n",
    "\n",
    "- function names can be anything\n",
    "\n",
    "- same rules applicable as variable rules\n",
    "\n",
    "- whenever you create the function make sure the indentation correctly\n",
    "\n",
    "- starting with keyword , ending with colon then code lines start with indentation\n",
    "\n",
    "- brackets means functions\n",
    "\n",
    "- Never missed the brackets whenever you call the function\n",
    "\n",
    "- If you want to execute the code we need to call the function\n",
    "\n",
    "- while you are calling the function if you see function or bound method \n",
    "\n",
    "- which means you missed the brackets"
   ]
  },
  {
   "cell_type": "code",
   "execution_count": 8,
   "id": "c2e4a3da-c6c3-4279-bcbe-0d002d760b5a",
   "metadata": {},
   "outputs": [
    {
     "name": "stdout",
     "output_type": "stream",
     "text": [
      "num1 is: 10\n",
      "num2 is: 20\n",
      "the addition of 10 and 20 is: 30\n"
     ]
    }
   ],
   "source": [
    "def addition():\n",
    "    num1=10\n",
    "    print(\"num1 is:\",num1)\n",
    "    num2=20\n",
    "    print(\"num2 is:\",num2)\n",
    "    add=num1+num2\n",
    "    print(f\"the addition of {num1} and {num2} is: {add}\")\n",
    "\n",
    "addition()"
   ]
  },
  {
   "cell_type": "code",
   "execution_count": 9,
   "id": "e806965c-dd49-4574-93d7-ae06817651f4",
   "metadata": {},
   "outputs": [
    {
     "name": "stdout",
     "output_type": "stream",
     "text": [
      "30\n"
     ]
    }
   ],
   "source": [
    "num1=10\n",
    "num2=20\n",
    "add=num1+num2\n",
    "print(add)"
   ]
  },
  {
   "cell_type": "code",
   "execution_count": 12,
   "id": "6630f2f1-a267-49fa-945c-dee6a57ca283",
   "metadata": {},
   "outputs": [],
   "source": [
    "def addition1():\n",
    "    num1=10\n",
    "    print(\"num1 is:\",num1)\n",
    "    num2=20\n",
    "    print(\"num2 is:\",num2)\n",
    "    add=num1+num2\n",
    "    print(f\"the addition of {num1} and {num2} is: {add}\")\n"
   ]
  },
  {
   "cell_type": "code",
   "execution_count": 13,
   "id": "10c7bf6e-1ade-4f34-a676-40fe4d1bbd1e",
   "metadata": {},
   "outputs": [
    {
     "name": "stdout",
     "output_type": "stream",
     "text": [
      "num1 is: 10\n",
      "num2 is: 20\n",
      "the addition of 10 and 20 is: 30\n"
     ]
    }
   ],
   "source": [
    "addition1()"
   ]
  },
  {
   "cell_type": "markdown",
   "id": "c25ad736-0e67-4b35-bb31-d586230f3534",
   "metadata": {},
   "source": [
    "## whenever we defined the function It does not throw any error untill unless we call the function"
   ]
  },
  {
   "cell_type": "code",
   "execution_count": null,
   "id": "b5717f69-9d27-4968-abfe-27061fef4923",
   "metadata": {},
   "outputs": [],
   "source": [
    "\n",
    "# wap ask the user enter 3 numbers calculate average\n",
    "#------------------------------------------------------------------------\n",
    "\n",
    "# wap ask the uer enter radius values find the area of the circle\n",
    "#-------------------------------------------------------------------------\n",
    "\n",
    "# wap ask the user bill amount,\n",
    "#     ask the user how much tip you want pay in percentage\n",
    "#     calculate totalbill\n",
    "#-----------------------------------------------------------------------------\n",
    "\n",
    "#wap ask the user enter base height calculate area of the traingle\n",
    "#-------------------------------------------------------------------------------\n",
    "\n",
    "#wap ask the user enter length and breadth calculate area of the rectangle\n",
    "#------------------------------------------------------------------------------------\n",
    "## wap ask the user enter a number \n",
    "# find it is a even number or odd number\n",
    "#------------------------------------------------------------------------------------------\n",
    "## wap ask the user enter the distance\n",
    "# if distance greater than 25km\n",
    "#      then enter the charge\n",
    "#      print the total cost\n",
    "#otherwise\n",
    "#      print free ride"
   ]
  },
  {
   "cell_type": "code",
   "execution_count": 14,
   "id": "11f6c154-2ed8-4ecd-b154-e726c244bbe7",
   "metadata": {},
   "outputs": [
    {
     "name": "stdin",
     "output_type": "stream",
     "text": [
      "enter the num1: 4\n",
      "enter the num3: 5\n",
      "enter the num3: 6\n"
     ]
    },
    {
     "name": "stdout",
     "output_type": "stream",
     "text": [
      "the average of 4 ,5 and 6 is 5.0\n"
     ]
    }
   ],
   "source": [
    "# wap ask the user enter 3 numbers calculate average\n",
    "num1=eval(input(\"enter the num1:\"))\n",
    "num2=eval(input(\"enter the num3:\"))\n",
    "num3=eval(input(\"enter the num3:\"))\n",
    "avg=(num1+num2+num3)/3\n",
    "avg1=round(avg,2)\n",
    "print(f\"the average of {num1} ,{num2} and {num3} is {avg1}\")"
   ]
  },
  {
   "cell_type": "code",
   "execution_count": 15,
   "id": "dde51ee9-4e56-4b89-8aa8-b881292da635",
   "metadata": {},
   "outputs": [
    {
     "name": "stdin",
     "output_type": "stream",
     "text": [
      "enter the num1: 10\n",
      "enter the num3: 20\n",
      "enter the num3: 30\n"
     ]
    },
    {
     "name": "stdout",
     "output_type": "stream",
     "text": [
      "the average of 10 ,20 and 30 is 20.0\n"
     ]
    }
   ],
   "source": [
    "# function name and variable name should not be same\n",
    "def average():\n",
    "    num1=eval(input(\"enter the num1:\"))\n",
    "    num2=eval(input(\"enter the num3:\"))\n",
    "    num3=eval(input(\"enter the num3:\"))\n",
    "    avg=(num1+num2+num3)/3\n",
    "    avg1=round(avg,2)\n",
    "    print(f\"the average of {num1} ,{num2} and {num3} is {avg1}\")\n",
    "\n",
    "average()"
   ]
  },
  {
   "cell_type": "markdown",
   "id": "8a1b1b20-8919-4a95-95d4-34f6e1ef7e75",
   "metadata": {},
   "source": [
    "- while we are defining function if nothing mentioned means\n",
    "\n",
    "- It is called as Functions with out arguments"
   ]
  },
  {
   "cell_type": "code",
   "execution_count": null,
   "id": "1932cb1a-f7c8-4456-9852-d2b98f739aae",
   "metadata": {},
   "outputs": [],
   "source": [
    "def addition()\n",
    "def average()\n",
    "def area_of_traingle()\n",
    "def bill()"
   ]
  },
  {
   "cell_type": "markdown",
   "id": "bea4b69a-877b-4dea-8a26-0b09a5054c99",
   "metadata": {},
   "source": [
    "**Functions with arguments**\n",
    "\n",
    "- First look at how many arguments or variables are there\n",
    "\n",
    "- In that how many input variables are there\n",
    "\n",
    "- How many output variables are there\n",
    "\n",
    "- Input variables means user can defined\n",
    "\n",
    "- output variable means python gives the output\n",
    "\n",
    "- We can use only input variables as arguments inside the function"
   ]
  },
  {
   "cell_type": "code",
   "execution_count": 16,
   "id": "966a1979-ae0c-4823-8aad-689711b647ab",
   "metadata": {},
   "outputs": [
    {
     "name": "stdout",
     "output_type": "stream",
     "text": [
      "the addition of 10 and 20 is: 30\n"
     ]
    }
   ],
   "source": [
    "def addition():\n",
    "    num1=10\n",
    "    num2=20\n",
    "    add=num1+num2\n",
    "    print(f\"the addition of {num1} and {num2} is: {add}\")\n",
    "\n",
    "addition()"
   ]
  },
  {
   "cell_type": "code",
   "execution_count": 17,
   "id": "35612f2b-a15a-42d9-9b49-1b1e8ca69099",
   "metadata": {},
   "outputs": [
    {
     "name": "stdout",
     "output_type": "stream",
     "text": [
      "the addition of 10 and 20 is: 30\n"
     ]
    }
   ],
   "source": [
    "def addition2(num1,num2):\n",
    "    add=num1+num2\n",
    "    print(f\"the addition of {num1} and {num2} is: {add}\")\n",
    "\n",
    "addition2(10,20)"
   ]
  },
  {
   "cell_type": "code",
   "execution_count": 19,
   "id": "6215eb05-9da2-45e1-877c-530ee81243dc",
   "metadata": {},
   "outputs": [
    {
     "name": "stdout",
     "output_type": "stream",
     "text": [
      "the average of 30 ,40 and 50 is 40.0\n"
     ]
    }
   ],
   "source": [
    "# try for average\n",
    "\n",
    "def average1(num1,num2,num3):\n",
    "    avg=(num1+num2+num3)/3\n",
    "    avg1=round(avg,2)\n",
    "    print(f\"the average of {num1} ,{num2} and {num3} is {avg1}\")\n",
    "\n",
    "average1(30,40,50)"
   ]
  },
  {
   "cell_type": "code",
   "execution_count": null,
   "id": "840e9ac7-68d3-447d-95b5-af4f3be03cc0",
   "metadata": {},
   "outputs": [],
   "source": [
    "average1(num1,num2,num3)  # Mistake-1\n",
    "average1()                # Mistake-2"
   ]
  },
  {
   "cell_type": "code",
   "execution_count": 20,
   "id": "632687f6-bd22-492b-a623-5eea12bdb45e",
   "metadata": {},
   "outputs": [
    {
     "name": "stdout",
     "output_type": "stream",
     "text": [
      "the average of 30 ,40 and 50 is 40.0\n"
     ]
    }
   ],
   "source": [
    "#wap ask the user enter base height calculate area of the traingle\n",
    "def average1(num1,num2,num3):\n",
    "    avg=(num1+num2+num3)/3\n",
    "    avg1=round(avg,2)\n",
    "    print(f\"the average of {num1} ,{num2} and {num3} is {avg1}\")\n",
    "\n",
    "average1(30,40,50)"
   ]
  },
  {
   "cell_type": "code",
   "execution_count": 21,
   "id": "da8c80ed-969c-4943-b077-219c1ca6304b",
   "metadata": {},
   "outputs": [
    {
     "name": "stdout",
     "output_type": "stream",
     "text": [
      "area is 200\n"
     ]
    }
   ],
   "source": [
    "def area(len,bre):    \n",
    "    a=(len*bre)\n",
    "    print(f\"area is {a}\")\n",
    "\n",
    "area(10,20)"
   ]
  },
  {
   "cell_type": "code",
   "execution_count": 22,
   "id": "d63d9774-6f0f-4254-b300-53bfd4635bae",
   "metadata": {},
   "outputs": [
    {
     "name": "stdin",
     "output_type": "stream",
     "text": [
      "enter number1: 7\n",
      "enter number2: 5\n"
     ]
    },
    {
     "name": "stdout",
     "output_type": "stream",
     "text": [
      "2\n"
     ]
    }
   ],
   "source": [
    "def sub():\n",
    "    n1=eval(input(\"enter number1:\"))\n",
    "    n2=eval(input(\"enter number2:\"))\n",
    "    sub=n1-n2\n",
    "    print(sub)\n",
    "sub()\n",
    "\n",
    "\n",
    "# Do not provide function name and variable name both are same"
   ]
  },
  {
   "cell_type": "code",
   "execution_count": 23,
   "id": "b48bffa0-331d-4e2d-81f4-6b98f26b2abd",
   "metadata": {},
   "outputs": [
    {
     "name": "stdout",
     "output_type": "stream",
     "text": [
      "-10\n"
     ]
    }
   ],
   "source": [
    "def sub(n1,n2):\n",
    "    sub=n1-n2\n",
    "    print(sub)\n",
    "sub(10,20)"
   ]
  },
  {
   "cell_type": "code",
   "execution_count": 24,
   "id": "0f741995-a4e7-4aae-ad4f-c34006637f0d",
   "metadata": {},
   "outputs": [
    {
     "name": "stdin",
     "output_type": "stream",
     "text": [
      "enter the number: 66\n"
     ]
    },
    {
     "name": "stdout",
     "output_type": "stream",
     "text": [
      "the 66 is even\n"
     ]
    }
   ],
   "source": [
    "num=eval(input(\"enter the number:\"))\n",
    "if num%2==0:\n",
    "    print(f\"the {num} is even\")\n",
    "else:\n",
    "    print(f\"the {num} is odd\")"
   ]
  },
  {
   "cell_type": "code",
   "execution_count": 25,
   "id": "6928c82d-2ffe-40fd-89cd-f655cccc1a77",
   "metadata": {},
   "outputs": [
    {
     "name": "stdin",
     "output_type": "stream",
     "text": [
      "enter the number: 54\n"
     ]
    },
    {
     "name": "stdout",
     "output_type": "stream",
     "text": [
      "the 54 is even\n"
     ]
    }
   ],
   "source": [
    "def even_odd():\n",
    "    num=eval(input(\"enter the number:\"))\n",
    "    if num%2==0:\n",
    "        print(f\"the {num} is even\")\n",
    "    else:\n",
    "        print(f\"the {num} is odd\")\n",
    "\n",
    "even_odd()"
   ]
  },
  {
   "cell_type": "markdown",
   "id": "6693a068-54e3-44c5-934e-47bb7a9206d0",
   "metadata": {},
   "source": [
    "**Default arguments**"
   ]
  },
  {
   "cell_type": "code",
   "execution_count": 26,
   "id": "05c6f9b9-b02c-4910-afb0-4082dc343739",
   "metadata": {},
   "outputs": [
    {
     "name": "stdin",
     "output_type": "stream",
     "text": [
      "enter the bill: 67\n",
      "enter the tip_percentage: 5\n"
     ]
    },
    {
     "name": "stdout",
     "output_type": "stream",
     "text": [
      "The total bill is: 70.35\n"
     ]
    }
   ],
   "source": [
    "# Bill amount problem\n",
    "bill=eval(input(\"enter the bill:\"))\n",
    "tip_per=eval(input(\"enter the tip_percentage:\"))\n",
    "tip_amount=bill*tip_per/100\n",
    "total_bill=bill+tip_amount\n",
    "print(\"The total bill is:\",total_bill)"
   ]
  },
  {
   "cell_type": "code",
   "execution_count": 27,
   "id": "480ad3e4-98a0-4156-b623-88c8ab26e57d",
   "metadata": {},
   "outputs": [
    {
     "name": "stdin",
     "output_type": "stream",
     "text": [
      "enter the bill: 50\n",
      "enter the tip_percentage: 65\n"
     ]
    },
    {
     "name": "stdout",
     "output_type": "stream",
     "text": [
      "The total bill is: 82.5\n"
     ]
    }
   ],
   "source": [
    "# with out arguments\n",
    "def bill_pay():\n",
    "    bill=eval(input(\"enter the bill:\"))\n",
    "    tip_per=eval(input(\"enter the tip_percentage:\"))\n",
    "    tip_amount=bill*tip_per/100\n",
    "    total_bill=bill+tip_amount\n",
    "    print(\"The total bill is:\",total_bill)\n",
    "\n",
    "bill_pay()"
   ]
  },
  {
   "cell_type": "code",
   "execution_count": null,
   "id": "b1010e64-4a61-4d61-a2c7-5493b658c844",
   "metadata": {},
   "outputs": [],
   "source": [
    "# with arguments\n",
    "# whenever you provide the arguments\n",
    "# these provided arguments are we using inside the code or not\n",
    "def bill_pay(bill,tip_per):\n",
    "    tip_amount=bill*tip_per/100\n",
    "    total_bill=bill+tip_amount\n",
    "    print(\"The total bill is:\",total_bill)\n",
    "\n",
    "bill_pay(2000,20)"
   ]
  },
  {
   "cell_type": "code",
   "execution_count": null,
   "id": "a3fd808a-8757-4e8e-8097-1ce0ab80566c",
   "metadata": {},
   "outputs": [],
   "source": [
    "# Bill amount problem\n",
    "bill=eval(input(\"enter the bill:\"))\n",
    "tip_per=eval(input(\"enter the tip_percentage:\"))\n",
    "tip_amount=bill*tip_per/100\n",
    "total_bill=bill+tip_amount\n",
    "print(\"The total bill is:\",total_bill)\n",
    "\n",
    "############################################################################\n",
    "# with out arguments\n",
    "def bill_pay():\n",
    "    bill=eval(input(\"enter the bill:\"))\n",
    "    tip_per=eval(input(\"enter the tip_percentage:\"))\n",
    "    tip_amount=bill*tip_per/100\n",
    "    total_bill=bill+tip_amount\n",
    "    print(\"The total bill is:\",total_bill)\n",
    "\n",
    "bill_pay()\n",
    "######################################################################\n",
    "# with arguments\n",
    "# whenever you provide the arguments\n",
    "# these provided arguments are we using inside the code or not\n",
    "def bill_pay(bill,tip_per):\n",
    "    tip_amount=bill*tip_per/100\n",
    "    total_bill=bill+tip_amount\n",
    "    print(\"The total bill is:\",total_bill)\n",
    "\n",
    "bill_pay(2000,20)"
   ]
  },
  {
   "cell_type": "code",
   "execution_count": 28,
   "id": "5bef814e-01d2-4d10-9648-f199444ee915",
   "metadata": {},
   "outputs": [
    {
     "name": "stdout",
     "output_type": "stream",
     "text": [
      "bill is: 2000\n",
      "tip_per is: 20\n",
      "The total bill is: 2400.0\n"
     ]
    }
   ],
   "source": [
    "def bill_pay(bill,tip_per=20):\n",
    "    print(\"bill is:\",bill)\n",
    "    print(\"tip_per is:\",tip_per)\n",
    "    tip_amount=bill*tip_per/100\n",
    "    total_bill=bill+tip_amount\n",
    "    print(\"The total bill is:\",total_bill)\n",
    "\n",
    "bill_pay(2000)\n",
    "\n",
    "# Here the tip_per=default value\n",
    "# whenever we provided default value to a arguments\n",
    "# Then it is called default argument\n"
   ]
  },
  {
   "cell_type": "code",
   "execution_count": 29,
   "id": "ed479ff1-92ef-4c08-9122-15c8adc3661c",
   "metadata": {},
   "outputs": [
    {
     "name": "stdout",
     "output_type": "stream",
     "text": [
      "num1: 30\n",
      "num2: 40\n",
      "num3: 50\n",
      "the average of 30 ,40 and 50 is 40.0\n"
     ]
    }
   ],
   "source": [
    "def average1(num1,num2,num3=50):\n",
    "    print(\"num1:\",num1)  # 30\n",
    "    print(\"num2:\",num2)  # 40\n",
    "    print(\"num3:\",num3)  # 50\n",
    "    avg=(num1+num2+num3)/3\n",
    "    avg1=round(avg,2)\n",
    "    print(f\"the average of {num1} ,{num2} and {num3} is {avg1}\")\n",
    "\n",
    "average1(30,40)\n",
    "\n",
    "# num1  num2  are postitional arguments\n",
    "# num3 is default argument"
   ]
  },
  {
   "cell_type": "code",
   "execution_count": 30,
   "id": "2f0412c2-1152-4a0d-8b38-f27cc051e31d",
   "metadata": {},
   "outputs": [
    {
     "ename": "SyntaxError",
     "evalue": "parameter without a default follows parameter with a default (1104037446.py, line 1)",
     "output_type": "error",
     "traceback": [
      "\u001b[1;36m  Cell \u001b[1;32mIn[30], line 1\u001b[1;36m\u001b[0m\n\u001b[1;33m    def average1(num1,num2=40,num3):\u001b[0m\n\u001b[1;37m                              ^\u001b[0m\n\u001b[1;31mSyntaxError\u001b[0m\u001b[1;31m:\u001b[0m parameter without a default follows parameter with a default\n"
     ]
    }
   ],
   "source": [
    "def average1(num1,num2=40,num3):\n",
    "    print(\"num1:\",num1)  # 30\n",
    "    print(\"num2:\",num2)  # 40\n",
    "    print(\"num3:\",num3)  # 50\n",
    "    avg=(num1+num2+num3)/3\n",
    "    avg1=round(avg,2)\n",
    "    print(f\"the average of {num1} ,{num2} and {num3} is {avg1}\")\n",
    "\n",
    "average1(30,50)\n"
   ]
  },
  {
   "cell_type": "code",
   "execution_count": 31,
   "id": "1f9e9ffb-5a7b-4e73-b240-0d2b9a205d72",
   "metadata": {},
   "outputs": [
    {
     "name": "stdout",
     "output_type": "stream",
     "text": [
      "num1: 30\n",
      "num2: 40\n",
      "num3: 50\n",
      "the average of 30 ,40 and 50 is 40.0\n"
     ]
    }
   ],
   "source": [
    "def average1(num1,num3,num2=40):\n",
    "    print(\"num1:\",num1)  # 30\n",
    "    print(\"num2:\",num2)  # 40\n",
    "    print(\"num3:\",num3)  # 50\n",
    "    avg=(num1+num2+num3)/3\n",
    "    avg1=round(avg,2)\n",
    "    print(f\"the average of {num1} ,{num2} and {num3} is {avg1}\")\n",
    "\n",
    "average1(30,50)"
   ]
  },
  {
   "cell_type": "markdown",
   "id": "89d354ea-de61-48c7-b9a0-eb2bd43d6c9b",
   "metadata": {},
   "source": [
    "**Note**\n",
    "\n",
    "- Default argument always at last "
   ]
  },
  {
   "cell_type": "code",
   "execution_count": null,
   "id": "0c07be11-5e0b-420f-a7e0-6dec519e0d8d",
   "metadata": {},
   "outputs": [],
   "source": [
    "average1(num1,num2,num3=40)  # W\n",
    "average1(num1,num2=50,num3)  # F\n",
    "average1(num1=100,num2,num3) # F\n",
    "average1(num1,num2=50,num3=40) # W\n",
    "average1(num1=100,num2,num3=40) # F\n",
    "average1(num1=100,num2=50,num3) # F\n",
    "average1(num1=100,num2=50,num3=40) # W"
   ]
  },
  {
   "cell_type": "code",
   "execution_count": 32,
   "id": "477bb140-08d9-4167-8f48-0f57d421d02c",
   "metadata": {},
   "outputs": [
    {
     "name": "stdout",
     "output_type": "stream",
     "text": [
      "num1: 30\n",
      "num2: 50\n",
      "num3: 40\n",
      "the average of 30 ,50 and 40 is 40.0\n"
     ]
    }
   ],
   "source": [
    "def average1(num1,num2=50,num3=40):\n",
    "    print(\"num1:\",num1)  # 30\n",
    "    print(\"num2:\",num2)  # 40\n",
    "    print(\"num3:\",num3)  # 50\n",
    "    avg=(num1+num2+num3)/3\n",
    "    avg1=round(avg,2)\n",
    "    print(f\"the average of {num1} ,{num2} and {num3} is {avg1}\")\n",
    "\n",
    "average1(30)"
   ]
  },
  {
   "cell_type": "code",
   "execution_count": 33,
   "id": "0730fe4c-53e7-4fc1-b2ed-0b1cac1d2d95",
   "metadata": {},
   "outputs": [
    {
     "name": "stdout",
     "output_type": "stream",
     "text": [
      "1100\n"
     ]
    }
   ],
   "source": [
    "# Case-1:\n",
    "def addition(n1,n2=600):\n",
    "    add=n1+n2\n",
    "    print(add)\n",
    "\n",
    "addition(500)"
   ]
  },
  {
   "cell_type": "code",
   "execution_count": 34,
   "id": "e42cca84-e2d2-45a3-b1ba-b85dc05d5445",
   "metadata": {},
   "outputs": [
    {
     "name": "stdout",
     "output_type": "stream",
     "text": [
      "1500\n"
     ]
    }
   ],
   "source": [
    "# Case-2:\n",
    "def addition(n1,n2=600):\n",
    "    add=n1+n2\n",
    "    print(add)\n",
    "\n",
    "addition(500,1000)\n",
    "\n",
    "# First we are defining function\n",
    "# while define the function we given n2=600\n",
    "# now we are calling the function, \n",
    "# while we are calling n2=1000\n",
    "# So value will be overwrite\n",
    "# Python always takes the latest value"
   ]
  },
  {
   "cell_type": "code",
   "execution_count": 35,
   "id": "353938ff-c37e-4cb2-ac5a-96cb9eb6b9e8",
   "metadata": {},
   "outputs": [
    {
     "name": "stdout",
     "output_type": "stream",
     "text": [
      "2500\n"
     ]
    }
   ],
   "source": [
    "# Case-3:\n",
    "def addition(n1,n2=600):\n",
    "    n2=2000\n",
    "    add=n1+n2\n",
    "    print(add)\n",
    "\n",
    "addition(500,1000)\n",
    "\n",
    "#A) 1100  B) 1500 C) 2500 D) error\n",
    "\n",
    "# Step-1:  Define the function  n2=600\n",
    "# Step-2: Call the fuction n2=1000\n",
    "# Step-3: Running the function n2=2000"
   ]
  },
  {
   "cell_type": "code",
   "execution_count": 36,
   "id": "f63ae313-ef92-4294-a295-58eff93d281d",
   "metadata": {},
   "outputs": [
    {
     "name": "stdout",
     "output_type": "stream",
     "text": [
      "2500\n"
     ]
    }
   ],
   "source": [
    "# Case-4:\n",
    "def addition(n1,n2=600):\n",
    "    n2=2000\n",
    "    add=n1+n2\n",
    "    print(add)\n",
    "n2=3000\n",
    "addition(500,1000)\n",
    "# n2=600 ==== > 3000 === >1000m==== > 2500"
   ]
  },
  {
   "cell_type": "markdown",
   "id": "7a141792-35f2-4bce-8c26-40754d8401d9",
   "metadata": {},
   "source": [
    "**Local variable and Global variable**\n",
    "\n",
    "- Local variable means : the variables inside the function call\n",
    "\n",
    "- Global variable means: the variables outside the function call\n",
    "\n",
    "- Once you define the variables outside means , you can use those variables anywhere\n",
    "\n",
    "- You can use global variables inside function also\n",
    "\n",
    "- But you can not use local variables outside the function"
   ]
  },
  {
   "cell_type": "code",
   "execution_count": 37,
   "id": "41bd3b8f-44eb-46dd-aed0-b4f646479068",
   "metadata": {},
   "outputs": [
    {
     "name": "stdout",
     "output_type": "stream",
     "text": [
      "200\n"
     ]
    }
   ],
   "source": [
    "def multiplication():\n",
    "    a=10\n",
    "    b=20\n",
    "    mul=a*b\n",
    "    print(mul)\n",
    "multiplication()\n",
    "\n",
    "# a,b,mul are local variables \n",
    "# these values we can not use outside the function"
   ]
  },
  {
   "cell_type": "code",
   "execution_count": null,
   "id": "ec186823-755d-4c77-a5a0-2905f809a7f6",
   "metadata": {},
   "outputs": [],
   "source": [
    "mul"
   ]
  },
  {
   "cell_type": "code",
   "execution_count": 40,
   "id": "38d56117-a430-4a20-86fb-c1f918e86f8d",
   "metadata": {},
   "outputs": [
    {
     "name": "stdout",
     "output_type": "stream",
     "text": [
      "20000\n"
     ]
    }
   ],
   "source": [
    "a1=100\n",
    "b1=200\n",
    "def multiplication1():\n",
    "    mul1=a1*b1\n",
    "    print(mul1)\n",
    "multiplication1()"
   ]
  },
  {
   "cell_type": "code",
   "execution_count": 41,
   "id": "844245ef-b529-49c0-aef1-06ef0b3c6f64",
   "metadata": {},
   "outputs": [
    {
     "data": {
      "text/plain": [
       "100"
      ]
     },
     "execution_count": 41,
     "metadata": {},
     "output_type": "execute_result"
    }
   ],
   "source": [
    "a1"
   ]
  },
  {
   "cell_type": "code",
   "execution_count": 42,
   "id": "97d6e5bb-e0ee-4955-904b-afecb7880362",
   "metadata": {},
   "outputs": [
    {
     "ename": "NameError",
     "evalue": "name 'mul1' is not defined",
     "output_type": "error",
     "traceback": [
      "\u001b[1;31m---------------------------------------------------------------------------\u001b[0m",
      "\u001b[1;31mNameError\u001b[0m                                 Traceback (most recent call last)",
      "Cell \u001b[1;32mIn[42], line 1\u001b[0m\n\u001b[1;32m----> 1\u001b[0m mul1\n",
      "\u001b[1;31mNameError\u001b[0m: name 'mul1' is not defined"
     ]
    }
   ],
   "source": [
    "mul1"
   ]
  },
  {
   "cell_type": "code",
   "execution_count": 43,
   "id": "d7338379-8761-47b2-b978-ed0479fbaf7a",
   "metadata": {},
   "outputs": [
    {
     "name": "stdout",
     "output_type": "stream",
     "text": [
      "1200\n"
     ]
    }
   ],
   "source": [
    "# Case-5:\n",
    "a1=100\n",
    "b1=200\n",
    "def add11(a1=1000):\n",
    "    add1=a1+b1\n",
    "    print(add1)\n",
    "add11()\n",
    "\n",
    "# a1=100 === > a1=1000  === > 1000+200\n",
    "\n",
    "#Step-1: Global variable intialization  a1=100\n",
    "# Step-2: Define the function  a1=1000\n",
    "# Step-3: Call the function    a1=1000\n",
    "# Step-4: Running the function a1=1000"
   ]
  },
  {
   "cell_type": "code",
   "execution_count": 44,
   "id": "9e3b991d-503f-422b-9224-d248bf45ea4a",
   "metadata": {},
   "outputs": [
    {
     "ename": "TypeError",
     "evalue": "add11() got an unexpected keyword argument 'b1'",
     "output_type": "error",
     "traceback": [
      "\u001b[1;31m---------------------------------------------------------------------------\u001b[0m",
      "\u001b[1;31mTypeError\u001b[0m                                 Traceback (most recent call last)",
      "Cell \u001b[1;32mIn[44], line 7\u001b[0m\n\u001b[0;32m      5\u001b[0m     add1\u001b[38;5;241m=\u001b[39ma1\u001b[38;5;241m+\u001b[39mb1\n\u001b[0;32m      6\u001b[0m     \u001b[38;5;28mprint\u001b[39m(add1)\n\u001b[1;32m----> 7\u001b[0m add11(a1\u001b[38;5;241m=\u001b[39m\u001b[38;5;241m2000\u001b[39m,b1\u001b[38;5;241m=\u001b[39m\u001b[38;5;241m3000\u001b[39m)\n",
      "\u001b[1;31mTypeError\u001b[0m: add11() got an unexpected keyword argument 'b1'"
     ]
    }
   ],
   "source": [
    "# Case-6:\n",
    "a1=100\n",
    "b1=200\n",
    "def add11(a1=1000):\n",
    "    add1=a1+b1\n",
    "    print(add1)\n",
    "add11(a1=2000,b1=3000)\n",
    "\n",
    "# while defiening function only one argument is there\n",
    "# while calling we are providing two arguments\n",
    "# It is not possibile"
   ]
  },
  {
   "cell_type": "code",
   "execution_count": 45,
   "id": "cd3fd156-ae66-46ae-a800-d6248d42dc28",
   "metadata": {},
   "outputs": [
    {
     "name": "stdout",
     "output_type": "stream",
     "text": [
      "2200\n"
     ]
    }
   ],
   "source": [
    "# Case-7:\n",
    "a1=100\n",
    "b1=200\n",
    "def add11(a1=1000):\n",
    "    add1=a1+b1\n",
    "    print(add1)\n",
    "add11(a1=2000)\n"
   ]
  },
  {
   "cell_type": "code",
   "execution_count": 46,
   "id": "50a1cd80-a3a2-4218-ba40-cbfda0e8bf68",
   "metadata": {},
   "outputs": [
    {
     "name": "stdout",
     "output_type": "stream",
     "text": [
      "5200\n"
     ]
    }
   ],
   "source": [
    "# Case-8:\n",
    "a1=100\n",
    "b1=200\n",
    "def add11(a1=1000):\n",
    "    a1=5000\n",
    "    add1=a1+b1\n",
    "    print(add1)\n",
    "add11(a1=2000)"
   ]
  },
  {
   "cell_type": "code",
   "execution_count": 47,
   "id": "c7edf953-92e3-4514-8409-921d7c09f9b4",
   "metadata": {},
   "outputs": [
    {
     "data": {
      "text/plain": [
       "100"
      ]
     },
     "execution_count": 47,
     "metadata": {},
     "output_type": "execute_result"
    }
   ],
   "source": [
    "a1"
   ]
  },
  {
   "cell_type": "code",
   "execution_count": 50,
   "id": "b8f7221e-214a-4f8e-972c-18f61739796d",
   "metadata": {},
   "outputs": [
    {
     "name": "stdout",
     "output_type": "stream",
     "text": [
      "5200\n"
     ]
    }
   ],
   "source": [
    "# Case-9:\n",
    "a1=100\n",
    "b1=200\n",
    "def add11(a1=1000):\n",
    "    a1=5000\n",
    "    add1=a1+b1\n",
    "    print(add1)\n",
    "a1=6000\n",
    "add11(a1=2000)\n",
    "# a1=100,b1=200\n",
    "# define the function a1=1000\n",
    "# a1=6000\n",
    "# calling the  a1=2000\n",
    "# running  a1=5000"
   ]
  },
  {
   "cell_type": "code",
   "execution_count": 51,
   "id": "e44801b2-481f-42d6-9160-694f9ff33eee",
   "metadata": {},
   "outputs": [
    {
     "data": {
      "text/plain": [
       "6000"
      ]
     },
     "execution_count": 51,
     "metadata": {},
     "output_type": "execute_result"
    }
   ],
   "source": [
    "a1"
   ]
  },
  {
   "cell_type": "code",
   "execution_count": null,
   "id": "627dc5a6-1bda-4b07-a1ea-78464573ae82",
   "metadata": {},
   "outputs": [],
   "source": [
    "# Case-10:\n",
    "b1=200\n",
    "def add11():\n",
    "    add1=a1+b1\n",
    "    print(add1)\n",
    "a1=6000\n",
    "add11()\n",
    "\n",
    "# b1=200\n",
    "# define the function\n",
    "# a1=6000\n",
    "# calling the function\n",
    "# running the function"
   ]
  },
  {
   "cell_type": "code",
   "execution_count": 52,
   "id": "a8829411-15b0-4659-9f3f-6d8527a26a0f",
   "metadata": {},
   "outputs": [
    {
     "name": "stdout",
     "output_type": "stream",
     "text": [
      "6200\n"
     ]
    }
   ],
   "source": [
    "# Case-11:\n",
    "b1=200\n",
    "def add11():\n",
    "    add1=a1+b1\n",
    "    print(add1)\n",
    "a1=6000\n",
    "add11()\n"
   ]
  },
  {
   "cell_type": "code",
   "execution_count": null,
   "id": "1564c64c-ab57-4283-9973-e84d5077768b",
   "metadata": {},
   "outputs": [],
   "source": [
    "even through we use same variable name a1 in local and global.. both are different"
   ]
  },
  {
   "cell_type": "code",
   "execution_count": 53,
   "id": "ae8fbb1b-0286-4a31-a73d-108636ecf81e",
   "metadata": {},
   "outputs": [
    {
     "name": "stdout",
     "output_type": "stream",
     "text": [
      "hello\n"
     ]
    }
   ],
   "source": [
    "a=100\n",
    "def greet():\n",
    "    a=200\n",
    "    print('hello')\n",
    "greet()"
   ]
  },
  {
   "cell_type": "code",
   "execution_count": null,
   "id": "17a14e18-f1a3-41cd-a819-55c0cbb4815b",
   "metadata": {},
   "outputs": [],
   "source": [
    "# step-1: Variables intilised\n",
    "# Step-2:  Define the function\n",
    "# Step-3: Calling the function\n",
    "# Step-4: Running the function"
   ]
  },
  {
   "cell_type": "code",
   "execution_count": 54,
   "id": "2471a0d0-92c3-44b5-81ae-97e0f11456ab",
   "metadata": {},
   "outputs": [
    {
     "ename": "NameError",
     "evalue": "name 'a21' is not defined",
     "output_type": "error",
     "traceback": [
      "\u001b[1;31m---------------------------------------------------------------------------\u001b[0m",
      "\u001b[1;31mNameError\u001b[0m                                 Traceback (most recent call last)",
      "Cell \u001b[1;32mIn[54], line 6\u001b[0m\n\u001b[0;32m      4\u001b[0m     add1\u001b[38;5;241m=\u001b[39ma21\u001b[38;5;241m+\u001b[39mb21\n\u001b[0;32m      5\u001b[0m     \u001b[38;5;28mprint\u001b[39m(add1)\n\u001b[1;32m----> 6\u001b[0m add21()\n\u001b[0;32m      7\u001b[0m a\u001b[38;5;241m=\u001b[39m\u001b[38;5;241m6000\u001b[39m\n",
      "Cell \u001b[1;32mIn[54], line 4\u001b[0m, in \u001b[0;36madd21\u001b[1;34m()\u001b[0m\n\u001b[0;32m      3\u001b[0m \u001b[38;5;28;01mdef\u001b[39;00m \u001b[38;5;21madd21\u001b[39m():\n\u001b[1;32m----> 4\u001b[0m     add1\u001b[38;5;241m=\u001b[39ma21\u001b[38;5;241m+\u001b[39mb21\n\u001b[0;32m      5\u001b[0m     \u001b[38;5;28mprint\u001b[39m(add1)\n",
      "\u001b[1;31mNameError\u001b[0m: name 'a21' is not defined"
     ]
    }
   ],
   "source": [
    "# Case-12:\n",
    "b21=200\n",
    "def add21():\n",
    "    add1=a21+b21\n",
    "    print(add1)\n",
    "add21()\n",
    "a=6000"
   ]
  },
  {
   "cell_type": "code",
   "execution_count": 55,
   "id": "e761db59-bdfd-4e01-877b-023c012c22a1",
   "metadata": {},
   "outputs": [
    {
     "ename": "UnboundLocalError",
     "evalue": "cannot access local variable 's' where it is not associated with a value",
     "output_type": "error",
     "traceback": [
      "\u001b[1;31m---------------------------------------------------------------------------\u001b[0m",
      "\u001b[1;31mUnboundLocalError\u001b[0m                         Traceback (most recent call last)",
      "Cell \u001b[1;32mIn[55], line 5\u001b[0m\n\u001b[0;32m      3\u001b[0m     s\u001b[38;5;241m=\u001b[39ms\u001b[38;5;241m+\u001b[39m\u001b[38;5;241m10\u001b[39m\n\u001b[0;32m      4\u001b[0m     \u001b[38;5;28mprint\u001b[39m(s)\n\u001b[1;32m----> 5\u001b[0m add()\n",
      "Cell \u001b[1;32mIn[55], line 3\u001b[0m, in \u001b[0;36madd\u001b[1;34m()\u001b[0m\n\u001b[0;32m      2\u001b[0m \u001b[38;5;28;01mdef\u001b[39;00m \u001b[38;5;21madd\u001b[39m():\n\u001b[1;32m----> 3\u001b[0m     s\u001b[38;5;241m=\u001b[39ms\u001b[38;5;241m+\u001b[39m\u001b[38;5;241m10\u001b[39m\n\u001b[0;32m      4\u001b[0m     \u001b[38;5;28mprint\u001b[39m(s)\n",
      "\u001b[1;31mUnboundLocalError\u001b[0m: cannot access local variable 's' where it is not associated with a value"
     ]
    }
   ],
   "source": [
    "s=0\n",
    "def add():\n",
    "    s=s+10\n",
    "    print(s)\n",
    "add()"
   ]
  },
  {
   "cell_type": "code",
   "execution_count": 56,
   "id": "5af06673-95a7-4c0d-abc6-0a352f21debb",
   "metadata": {},
   "outputs": [
    {
     "name": "stdout",
     "output_type": "stream",
     "text": [
      "10\n"
     ]
    }
   ],
   "source": [
    "s=0\n",
    "def add():\n",
    "    a=s+10\n",
    "    print(a)\n",
    "add()"
   ]
  },
  {
   "cell_type": "code",
   "execution_count": 57,
   "id": "2e981684-4bb9-4100-8528-f90d967455b4",
   "metadata": {},
   "outputs": [
    {
     "name": "stdout",
     "output_type": "stream",
     "text": [
      "10\n"
     ]
    }
   ],
   "source": [
    "b=0\n",
    "def add():\n",
    "    s=b+10\n",
    "    print(s)\n",
    "add()"
   ]
  },
  {
   "cell_type": "code",
   "execution_count": 58,
   "id": "57d813df-a603-4b5f-ad22-f5338c903e8a",
   "metadata": {},
   "outputs": [
    {
     "ename": "UnboundLocalError",
     "evalue": "cannot access local variable 's' where it is not associated with a value",
     "output_type": "error",
     "traceback": [
      "\u001b[1;31m---------------------------------------------------------------------------\u001b[0m",
      "\u001b[1;31mUnboundLocalError\u001b[0m                         Traceback (most recent call last)",
      "Cell \u001b[1;32mIn[58], line 6\u001b[0m\n\u001b[0;32m      4\u001b[0m     s\u001b[38;5;241m=\u001b[39mc  \u001b[38;5;66;03m# LV\u001b[39;00m\n\u001b[0;32m      5\u001b[0m     \u001b[38;5;28mprint\u001b[39m(s)\n\u001b[1;32m----> 6\u001b[0m add()\n",
      "Cell \u001b[1;32mIn[58], line 3\u001b[0m, in \u001b[0;36madd\u001b[1;34m()\u001b[0m\n\u001b[0;32m      2\u001b[0m \u001b[38;5;28;01mdef\u001b[39;00m \u001b[38;5;21madd\u001b[39m():\n\u001b[1;32m----> 3\u001b[0m     c\u001b[38;5;241m=\u001b[39ms\u001b[38;5;241m+\u001b[39m\u001b[38;5;241m10\u001b[39m\n\u001b[0;32m      4\u001b[0m     s\u001b[38;5;241m=\u001b[39mc  \u001b[38;5;66;03m# LV\u001b[39;00m\n\u001b[0;32m      5\u001b[0m     \u001b[38;5;28mprint\u001b[39m(s)\n",
      "\u001b[1;31mUnboundLocalError\u001b[0m: cannot access local variable 's' where it is not associated with a value"
     ]
    }
   ],
   "source": [
    "s=0  # GV\n",
    "def add():\n",
    "    c=s+10\n",
    "    s=c  # LV\n",
    "    print(s)\n",
    "add()"
   ]
  },
  {
   "cell_type": "code",
   "execution_count": 59,
   "id": "2e6a96c3-bd41-4892-ba73-d041b4e2e8c4",
   "metadata": {},
   "outputs": [
    {
     "name": "stdout",
     "output_type": "stream",
     "text": [
      "100 200 300\n"
     ]
    }
   ],
   "source": [
    "n1=10\n",
    "def addition():\n",
    "    n1=100\n",
    "    n2=200\n",
    "    n3=n1+n2\n",
    "    print(n1,n2,n3)\n",
    "\n",
    "addition()\n",
    "\n",
    "# "
   ]
  },
  {
   "cell_type": "markdown",
   "id": "da91c93a-2de7-4489-9ab9-57d50552a1d5",
   "metadata": {},
   "source": [
    "**Note**\n",
    "\n",
    "- if you give same variabel as global and local\n",
    "\n",
    "- make sure that that variable should not use as value inside the function"
   ]
  },
  {
   "cell_type": "code",
   "execution_count": 60,
   "id": "0f230550-45f5-4983-a803-8eaaa27a403c",
   "metadata": {},
   "outputs": [
    {
     "name": "stdout",
     "output_type": "stream",
     "text": [
      "10 210 220\n"
     ]
    }
   ],
   "source": [
    "n11=10\n",
    "def addition():\n",
    "    n22=200+n11\n",
    "    n33=n11+n22\n",
    "    print(n11,n22,n33)\n",
    "\n",
    "addition()\n",
    "\n",
    "\n",
    "# step-1: n11 =10\n",
    "# step-2:  define the function\n",
    "# step-3:  call the function\n",
    "# step-4:  run the function\n",
    "#           n11 is global variable passing inside the function (yes)\n",
    "#           n22=200+n11= 200+10=210\n",
    "#           n33=10+210=220\n",
    "#           print(10,210,220)"
   ]
  },
  {
   "cell_type": "code",
   "execution_count": 61,
   "id": "67ac6293-bf84-4fb0-95e3-5b6844fe1c07",
   "metadata": {},
   "outputs": [
    {
     "ename": "UnboundLocalError",
     "evalue": "cannot access local variable 's' where it is not associated with a value",
     "output_type": "error",
     "traceback": [
      "\u001b[1;31m---------------------------------------------------------------------------\u001b[0m",
      "\u001b[1;31mUnboundLocalError\u001b[0m                         Traceback (most recent call last)",
      "Cell \u001b[1;32mIn[61], line 6\u001b[0m\n\u001b[0;32m      4\u001b[0m     s\u001b[38;5;241m=\u001b[39mc  \u001b[38;5;66;03m# LV\u001b[39;00m\n\u001b[0;32m      5\u001b[0m     \u001b[38;5;28mprint\u001b[39m(s)\n\u001b[1;32m----> 6\u001b[0m add()\n",
      "Cell \u001b[1;32mIn[61], line 3\u001b[0m, in \u001b[0;36madd\u001b[1;34m()\u001b[0m\n\u001b[0;32m      2\u001b[0m \u001b[38;5;28;01mdef\u001b[39;00m \u001b[38;5;21madd\u001b[39m():\n\u001b[1;32m----> 3\u001b[0m     c\u001b[38;5;241m=\u001b[39ms\u001b[38;5;241m+\u001b[39m\u001b[38;5;241m10\u001b[39m\n\u001b[0;32m      4\u001b[0m     s\u001b[38;5;241m=\u001b[39mc  \u001b[38;5;66;03m# LV\u001b[39;00m\n\u001b[0;32m      5\u001b[0m     \u001b[38;5;28mprint\u001b[39m(s)\n",
      "\u001b[1;31mUnboundLocalError\u001b[0m: cannot access local variable 's' where it is not associated with a value"
     ]
    }
   ],
   "source": [
    "s=0  # GV\n",
    "def add():\n",
    "    c=s+10\n",
    "    s=c  # LV\n",
    "    print(s)\n",
    "add()\n",
    "\n",
    "# step-1:  s=0    gv\n",
    "# step-2: define the function\n",
    "# step-3:  call the function\n",
    "# step-4:  run the function\n",
    "#          c  is lv :  c= s+10 = c=10\n",
    "#          we are creating a new variable same like as global s\n",
    "# we are creating a new variable with same name as global variable\n",
    "# by using global variable"
   ]
  },
  {
   "cell_type": "code",
   "execution_count": 62,
   "id": "e7346e8b-62e0-491c-ae8f-7555886b64c6",
   "metadata": {},
   "outputs": [
    {
     "name": "stdout",
     "output_type": "stream",
     "text": [
      "hello\n"
     ]
    }
   ],
   "source": [
    "value=100\n",
    "def greet():\n",
    "    value=200\n",
    "    print('hello')\n",
    "greet()"
   ]
  },
  {
   "cell_type": "code",
   "execution_count": 63,
   "id": "263e281f-9bfe-4690-bfcd-096d59f95c71",
   "metadata": {},
   "outputs": [
    {
     "data": {
      "text/plain": [
       "100"
      ]
     },
     "execution_count": 63,
     "metadata": {},
     "output_type": "execute_result"
    }
   ],
   "source": [
    "value"
   ]
  },
  {
   "cell_type": "code",
   "execution_count": null,
   "id": "6ad030f2-0813-4c07-9403-69f4d1b83ed8",
   "metadata": {},
   "outputs": [],
   "source": [
    "**global** \n",
    "\n",
    "- global keyword is used to take the local variable value outside the function"
   ]
  },
  {
   "cell_type": "code",
   "execution_count": 64,
   "id": "b0e720e6-1c9e-488e-9149-db6bb995d104",
   "metadata": {},
   "outputs": [
    {
     "name": "stdout",
     "output_type": "stream",
     "text": [
      "hello\n",
      "value: 200\n"
     ]
    }
   ],
   "source": [
    "value=100\n",
    "def greet():\n",
    "    global value\n",
    "    value=200\n",
    "    print('hello')\n",
    "greet()\n",
    "print('value:',value)"
   ]
  },
  {
   "cell_type": "code",
   "execution_count": 65,
   "id": "75ca686c-18a2-424b-a501-4a6e94281656",
   "metadata": {},
   "outputs": [
    {
     "name": "stdout",
     "output_type": "stream",
     "text": [
      "10 200 210\n"
     ]
    }
   ],
   "source": [
    "n11=10\n",
    "def addition():\n",
    "    global n33,n22\n",
    "    n22=200\n",
    "    n33=n11+n22\n",
    "    print(n11,n22,n33)\n",
    "\n",
    "addition()"
   ]
  },
  {
   "cell_type": "code",
   "execution_count": null,
   "id": "32df5124-83eb-483b-b548-6567fb046e51",
   "metadata": {},
   "outputs": [],
   "source": [
    "n33"
   ]
  },
  {
   "cell_type": "markdown",
   "id": "3ab885a3-fba5-48bb-9f66-ca116e467bf9",
   "metadata": {},
   "source": [
    "- Outside the function is called Global variables\n",
    "\n",
    "- Inside the function is local varaiable\n",
    "\n",
    "- local variables can not use outside the function\n",
    "\n",
    "- if you want to use outside the function use **global** keyword"
   ]
  },
  {
   "cell_type": "code",
   "execution_count": 66,
   "id": "331111ca-47c6-41e7-9a7a-b60d0493dba0",
   "metadata": {},
   "outputs": [
    {
     "name": "stdin",
     "output_type": "stream",
     "text": [
      " 5\n",
      " 7\n"
     ]
    },
    {
     "name": "stdout",
     "output_type": "stream",
     "text": [
      "35\n"
     ]
    }
   ],
   "source": [
    "def mul(a,b):\n",
    "    print(a*b)\n",
    "\n",
    "mul(eval(input()),\n",
    "    eval(input()))"
   ]
  },
  {
   "cell_type": "markdown",
   "id": "4f49e3d4-26ae-45e9-99a2-4016def03f10",
   "metadata": {},
   "source": [
    "**Return**"
   ]
  },
  {
   "cell_type": "markdown",
   "id": "12b52109-447b-4469-9261-6e2bd45127ca",
   "metadata": {},
   "source": [
    "- we can use the local variable or function outputs outside the function using return\n",
    "\n",
    "- print is different\n",
    "\n",
    "- return is different\n",
    "\n",
    "- print is used to only to print the values\n",
    "\n",
    "- that value you can only see, but you can not use\n",
    "\n",
    "- if you want to use outside we will use return (it is also possibile by using global)"
   ]
  },
  {
   "cell_type": "code",
   "execution_count": 67,
   "id": "bd500d1f-05cf-4ecf-8dcf-fa5c74c43b49",
   "metadata": {},
   "outputs": [],
   "source": [
    "def average():\n",
    "    n1=10\n",
    "    n2=20\n",
    "    n3=30\n",
    "    avg=(n1+n2+n3)/3\n",
    "    return(avg)\n",
    "avg=average()\n",
    "\n",
    "# function is ready to return values to me\n",
    "# so i need to store "
   ]
  },
  {
   "cell_type": "code",
   "execution_count": 68,
   "id": "918b0bad-af42-406d-bec5-280fde93be73",
   "metadata": {},
   "outputs": [
    {
     "data": {
      "text/plain": [
       "20.0"
      ]
     },
     "execution_count": 68,
     "metadata": {},
     "output_type": "execute_result"
    }
   ],
   "source": [
    "avg"
   ]
  },
  {
   "cell_type": "code",
   "execution_count": 69,
   "id": "0ac21637-287c-42d2-9c83-126c634e0c41",
   "metadata": {},
   "outputs": [],
   "source": [
    "def average():\n",
    "    n1=10\n",
    "    n2=20\n",
    "    n3=30\n",
    "    avg=(n1+n2+n3)/3\n",
    "    return(avg,n3)\n",
    "avg,n3=average()\n",
    "\n",
    "# How many values we are returning\n",
    "# we will store each return values in different variable\n",
    "# because two values are different\n",
    "# If you use only variable to store : tuple value"
   ]
  },
  {
   "cell_type": "code",
   "execution_count": 70,
   "id": "ddefc629-5570-4578-9f47-299abef94eea",
   "metadata": {},
   "outputs": [
    {
     "name": "stdout",
     "output_type": "stream",
     "text": [
      "20.0\n",
      "30\n"
     ]
    }
   ],
   "source": [
    "print(avg)\n",
    "print(n3)"
   ]
  },
  {
   "cell_type": "code",
   "execution_count": 71,
   "id": "28643f7a-a8dc-4c8a-810d-cbbe9f3b0ceb",
   "metadata": {},
   "outputs": [],
   "source": [
    "def sub():\n",
    "    a=10\n",
    "    b=20\n",
    "    subb=b-a\n",
    "    return(subb)\n",
    "\n",
    "subb=sub()"
   ]
  },
  {
   "cell_type": "code",
   "execution_count": 72,
   "id": "1c0953e8-e206-472a-98b9-dfa0d78d55ed",
   "metadata": {},
   "outputs": [
    {
     "data": {
      "text/plain": [
       "10"
      ]
     },
     "execution_count": 72,
     "metadata": {},
     "output_type": "execute_result"
    }
   ],
   "source": [
    "subb"
   ]
  },
  {
   "cell_type": "code",
   "execution_count": null,
   "id": "3b5887ad-fa6f-49c1-942d-c06df3a01043",
   "metadata": {},
   "outputs": [],
   "source": [
    "# Return always at last line of the function\n",
    "# Not in middile lines\n",
    "\n",
    "#Sir in real time projects, do we use return or global more sir?\n",
    "#return"
   ]
  },
  {
   "cell_type": "code",
   "execution_count": 73,
   "id": "aa678b4d-8aef-46f6-bbec-c7a19a757cc7",
   "metadata": {},
   "outputs": [],
   "source": [
    "def sub():\n",
    "    a=10\n",
    "    b=20\n",
    "    subb=b-a\n",
    "    return(a,b,subb)\n",
    "out=sub()"
   ]
  },
  {
   "cell_type": "code",
   "execution_count": 74,
   "id": "7ccaea44-3004-49ee-bc12-12b56a71e8ed",
   "metadata": {},
   "outputs": [
    {
     "data": {
      "text/plain": [
       "(10, 20, 10)"
      ]
     },
     "execution_count": 74,
     "metadata": {},
     "output_type": "execute_result"
    }
   ],
   "source": [
    "out"
   ]
  },
  {
   "cell_type": "code",
   "execution_count": null,
   "id": "5b2f8614-06eb-40e9-bc57-feed77747cf2",
   "metadata": {},
   "outputs": [],
   "source": [
    "- with out arguments\n",
    "\n",
    "- with arguments\n",
    "\n",
    "- default arguments\n",
    "\n",
    "- local vs global\n",
    "\n",
    "- global keywords\n",
    "\n",
    "- return\n",
    "\n",
    "- function in function\n",
    "\n",
    "- *kwargs: keyword arguments"
   ]
  },
  {
   "cell_type": "markdown",
   "id": "95143797-6ad5-42c5-9636-792767a327d8",
   "metadata": {},
   "source": [
    "**unbound local error**"
   ]
  },
  {
   "cell_type": "code",
   "execution_count": 75,
   "id": "724cb5b3-b84c-4aa9-9e90-97225480a323",
   "metadata": {},
   "outputs": [
    {
     "name": "stdout",
     "output_type": "stream",
     "text": [
      "inside function: 100\n",
      "outside function: 4\n"
     ]
    }
   ],
   "source": [
    "num=10  #   gv\n",
    "def fun1():\n",
    "    num1=100 # lv\n",
    "    print(\"inside function:\",num1) # print(100)\n",
    "\n",
    "fun1()\n",
    "print(\"outside function:\",num1)"
   ]
  },
  {
   "cell_type": "code",
   "execution_count": 76,
   "id": "dcf1d87a-86b1-4995-812d-9cba0c4cca1d",
   "metadata": {},
   "outputs": [
    {
     "ename": "UnboundLocalError",
     "evalue": "cannot access local variable 'num2' where it is not associated with a value",
     "output_type": "error",
     "traceback": [
      "\u001b[1;31m---------------------------------------------------------------------------\u001b[0m",
      "\u001b[1;31mUnboundLocalError\u001b[0m                         Traceback (most recent call last)",
      "Cell \u001b[1;32mIn[76], line 6\u001b[0m\n\u001b[0;32m      3\u001b[0m     \u001b[38;5;28mprint\u001b[39m(num2)\n\u001b[0;32m      4\u001b[0m     num2\u001b[38;5;241m=\u001b[39m\u001b[38;5;241m100\u001b[39m  \u001b[38;5;66;03m# lv\u001b[39;00m\n\u001b[1;32m----> 6\u001b[0m fun2()\n",
      "Cell \u001b[1;32mIn[76], line 3\u001b[0m, in \u001b[0;36mfun2\u001b[1;34m()\u001b[0m\n\u001b[0;32m      2\u001b[0m \u001b[38;5;28;01mdef\u001b[39;00m \u001b[38;5;21mfun2\u001b[39m():\n\u001b[1;32m----> 3\u001b[0m     \u001b[38;5;28mprint\u001b[39m(num2)\n\u001b[0;32m      4\u001b[0m     num2\u001b[38;5;241m=\u001b[39m\u001b[38;5;241m100\u001b[39m\n",
      "\u001b[1;31mUnboundLocalError\u001b[0m: cannot access local variable 'num2' where it is not associated with a value"
     ]
    }
   ],
   "source": [
    "num2=10# gv\n",
    "def fun2():\n",
    "    print(num2)\n",
    "    num2=100  # lv\n",
    "\n",
    "fun2()\n",
    "# Name error wil come\n",
    "# local variable and global variable both names are same\n",
    "# you are try to access local variable before assign"
   ]
  },
  {
   "cell_type": "code",
   "execution_count": 77,
   "id": "4d6d8645-920e-4394-a5ec-f04a40eda4a5",
   "metadata": {},
   "outputs": [
    {
     "ename": "UnboundLocalError",
     "evalue": "cannot access local variable 's' where it is not associated with a value",
     "output_type": "error",
     "traceback": [
      "\u001b[1;31m---------------------------------------------------------------------------\u001b[0m",
      "\u001b[1;31mUnboundLocalError\u001b[0m                         Traceback (most recent call last)",
      "Cell \u001b[1;32mIn[77], line 6\u001b[0m\n\u001b[0;32m      4\u001b[0m     s\u001b[38;5;241m=\u001b[39mc  \u001b[38;5;66;03m# LV\u001b[39;00m\n\u001b[0;32m      5\u001b[0m     \u001b[38;5;28mprint\u001b[39m(s)\n\u001b[1;32m----> 6\u001b[0m add()\n",
      "Cell \u001b[1;32mIn[77], line 3\u001b[0m, in \u001b[0;36madd\u001b[1;34m()\u001b[0m\n\u001b[0;32m      2\u001b[0m \u001b[38;5;28;01mdef\u001b[39;00m \u001b[38;5;21madd\u001b[39m():\n\u001b[1;32m----> 3\u001b[0m     c\u001b[38;5;241m=\u001b[39ms\u001b[38;5;241m+\u001b[39m\u001b[38;5;241m10\u001b[39m\n\u001b[0;32m      4\u001b[0m     s\u001b[38;5;241m=\u001b[39mc  \u001b[38;5;66;03m# LV\u001b[39;00m\n\u001b[0;32m      5\u001b[0m     \u001b[38;5;28mprint\u001b[39m(s)\n",
      "\u001b[1;31mUnboundLocalError\u001b[0m: cannot access local variable 's' where it is not associated with a value"
     ]
    }
   ],
   "source": [
    "s=0 # GV\n",
    "def add():\n",
    "    c=s+10\n",
    "    s=c  # LV\n",
    "    print(s)\n",
    "add()"
   ]
  },
  {
   "cell_type": "code",
   "execution_count": null,
   "id": "7a0d93ff-173e-4c7b-97cb-acbe09ea5ee2",
   "metadata": {},
   "outputs": [],
   "source": [
    "sir but num2=10, its is a global variable no sir\n",
    "but on Mondays class it worked no sir\n",
    "first initialization happens, define the function\n",
    "call the function\n",
    "so sir num2=20 and it is not updated"
   ]
  },
  {
   "cell_type": "code",
   "execution_count": 78,
   "id": "da625d44-c295-4275-8f9f-cba8ca711a8c",
   "metadata": {},
   "outputs": [
    {
     "name": "stdout",
     "output_type": "stream",
     "text": [
      "300\n"
     ]
    }
   ],
   "source": [
    "a1=100\n",
    "b1=200\n",
    "def add11():\n",
    "    add1=a1+b1\n",
    "    print(add1)\n",
    "add11()"
   ]
  },
  {
   "cell_type": "code",
   "execution_count": null,
   "id": "534bb793-8f47-4baf-82aa-26d38a74350f",
   "metadata": {},
   "outputs": [],
   "source": [
    "num2=10# gv\n",
    "def fun2():\n",
    "    global num2\n",
    "    num2=100  # lv\n",
    "\n",
    "fun2()"
   ]
  },
  {
   "cell_type": "code",
   "execution_count": null,
   "id": "b001f3c9-cd95-4082-9895-fea431f80e4c",
   "metadata": {},
   "outputs": [],
   "source": [
    "num2"
   ]
  },
  {
   "cell_type": "code",
   "execution_count": null,
   "id": "46cea629-4a2d-49e9-973d-188bce34d701",
   "metadata": {},
   "outputs": [],
   "source": [
    "a1=100\n",
    "b1=200\n",
    "def add11():\n",
    "    add1=a1+b1\n",
    "    print(add1)\n",
    "add11()\n",
    "\n",
    "# Here No local variables as same name as golbal variable\n",
    "\n",
    "#################################################################################\n",
    "a1=100\n",
    "b1=200\n",
    "def add12():\n",
    "    a1=700\n",
    "    b1=800\n",
    "    add1=a1+b1\n",
    "    print(add1)\n",
    "add11()\n",
    "\n",
    "# we are intialisng lv names same as gv\n",
    "# we are using lv after intialization\n",
    "#####################################################################\n",
    "a1=100\n",
    "b1=200\n",
    "def add13():\n",
    "    add1=a1+b1\n",
    "    a1=700\n",
    "    b1=80\n",
    "    print(add1)\n",
    "add11()\n",
    "# we are intialisng lv names same as gv\n",
    "# we are using lv before intialization"
   ]
  },
  {
   "cell_type": "markdown",
   "id": "4a2b7869-0dad-47f4-8dca-97bece850bdc",
   "metadata": {},
   "source": [
    "**No error**\n",
    "- Here No local variables as same name as golbal variable\n",
    "\n",
    "- we are intialisng lv names same as gv\n",
    "\n",
    "    - we are using lv after intialization\n",
    "\n",
    "**Error**\n",
    "- we are intialisng lv names same as gv\n",
    "\n",
    "   - we are using lv before intialization"
   ]
  },
  {
   "cell_type": "code",
   "execution_count": null,
   "id": "38938ff8-0682-4347-96ef-b91041b6b4e9",
   "metadata": {},
   "outputs": [],
   "source": [
    "a1=100\n",
    "b1=200\n",
    "def add12():\n",
    "    c=700\n",
    "    d=800\n",
    "    add1=c+d\n",
    "    print(add1)\n",
    "add12()\n",
    "\n",
    "\n",
    "a1=100\n",
    "b1=200\n",
    "def add32():\n",
    "    add1=c+d\n",
    "    c=700\n",
    "    d=800\n",
    "    print(add1)\n",
    "add32()"
   ]
  },
  {
   "cell_type": "code",
   "execution_count": null,
   "id": "b9052545-c5da-49c6-93f8-429dd71d0ddd",
   "metadata": {},
   "outputs": [],
   "source": [
    "# Case-12:\n",
    "b21=200\n",
    "def add21():\n",
    "    a21=1000\n",
    "    add1=a21+b21  \n",
    "    b21=2000\n",
    "    print(add1)\n",
    "add21()"
   ]
  },
  {
   "cell_type": "markdown",
   "id": "dc9f9eac-d844-49c7-b27a-9a8ca41dddeb",
   "metadata": {},
   "source": [
    "- Global variable \n",
    "\n",
    "- define the function\n",
    "\n",
    "- call the function\n",
    "\n",
    "- run the function\n"
   ]
  },
  {
   "cell_type": "markdown",
   "id": "472c17d2-e925-46e4-8721-c46bed930440",
   "metadata": {},
   "source": [
    "**Functions in Functions**"
   ]
  },
  {
   "cell_type": "code",
   "execution_count": null,
   "id": "6443b5a5-a7a9-4628-9e18-5a32268e93d5",
   "metadata": {},
   "outputs": [],
   "source": [
    "def greet1():\n",
    "    print('hello good morning')\n",
    "\n",
    "def greet2():\n",
    "    print('Good night!')\n",
    "\n",
    "greet1()\n",
    "greet2()"
   ]
  },
  {
   "cell_type": "code",
   "execution_count": null,
   "id": "541676a9-b702-451c-8f00-a649614643ee",
   "metadata": {},
   "outputs": [],
   "source": [
    "def greet2():\n",
    "    print('Good night!')\n",
    "    \n",
    "def greet1():\n",
    "    print('hello good morning')\n",
    "    greet2()\n",
    "\n",
    "greet1()\n",
    "# hello gm\n",
    "# good night"
   ]
  },
  {
   "cell_type": "code",
   "execution_count": null,
   "id": "161d25da-743e-47bf-b11d-491ef0283a87",
   "metadata": {},
   "outputs": [],
   "source": [
    "def greet2():\n",
    "    print('Good night!')\n",
    "    greet1()\n",
    "    \n",
    "def greet1():\n",
    "    print('hello good morning')\n",
    "    greet2()\n",
    "\n",
    "greet1()\n",
    "\n",
    "# Hello gm\n",
    "# greet2 ==== GN \n",
    "# greet1 ==== hello gm"
   ]
  },
  {
   "cell_type": "markdown",
   "id": "76c2a773-af6e-4535-b307-097cfd4139db",
   "metadata": {},
   "source": [
    "- Functions with out arguments\n",
    "\n",
    "- Functions with arguments\n",
    "\n",
    "- Functions default arguments\n",
    "\n",
    "- Global variable vs Local variable\n",
    "\n",
    "- Global keyword\n",
    "\n",
    "- return statement\n",
    "\n",
    "- unbound local error\n",
    "\n",
    "- Function in Functions"
   ]
  },
  {
   "cell_type": "code",
   "execution_count": null,
   "id": "c3b70905-f4bf-4d7d-94b3-edf8e309b724",
   "metadata": {},
   "outputs": [],
   "source": [
    "distance=eval(input(\"enter the distance in km:\"))\n",
    "cutoff_distance=eval(input(\"enter the cuto ff distance in km:\"))\n",
    "if distance>cutoff_distance:\n",
    "    chargeble_distance=distance-cutoff_distance\n",
    "    print(\"kudos to you the chargeble distance is:\",chargeble_distance)\n",
    "    charge=eval(input(\"enter the charge in rs\"))\n",
    "    cost=chargeble_distance*charge\n",
    "    print(\"the total charge is:\",cost)\n",
    "else:\n",
    "    print(\"enjoy the free ride\")\n",
    "\n",
    "# 50K  upto 25km is free ride \n",
    "# 50-25=25km"
   ]
  },
  {
   "cell_type": "code",
   "execution_count": null,
   "id": "8469cf8a-685e-4bfb-a3b7-822da2a6180f",
   "metadata": {},
   "outputs": [],
   "source": [
    "def total_fare():\n",
    "    distance=eval(input(\"enter the distance in km:\"))\n",
    "    cutoff_distance=eval(input(\"enter the cuto ff distance in km:\"))\n",
    "    if distance>cutoff_distance:\n",
    "        chargeble_distance=distance-cutoff_distance\n",
    "        print(\"kudos to you the chargeble distance is:\",chargeble_distance)\n",
    "        charge=eval(input(\"enter the charge in rs\"))\n",
    "        cost=chargeble_distance*charge\n",
    "        print(\"the total charge is:\",cost)\n",
    "    else:\n",
    "        print(\"enjoy the free ride\")\n",
    "\n",
    "total_fare()"
   ]
  },
  {
   "cell_type": "code",
   "execution_count": null,
   "id": "66ecfa1f-3bc8-45ca-b80e-fd7a5af1a7ce",
   "metadata": {},
   "outputs": [],
   "source": [
    "def total_fare1(distance,cutoff_distance,charge):\n",
    "    if distance>cutoff_distance:\n",
    "        chargeble_distance=distance-cutoff_distance\n",
    "        print(\"kudos to you the chargeble distance is:\",chargeble_distance)\n",
    "        cost=chargeble_distance*charge\n",
    "        print(\"the total charge is:\",cost)\n",
    "    else:\n",
    "        print(\"enjoy the free ride\")\n",
    "\n",
    "total_fare1(60,25,3)"
   ]
  },
  {
   "cell_type": "code",
   "execution_count": null,
   "id": "50fb1dec-a183-4c75-a52e-187004bdc4d1",
   "metadata": {},
   "outputs": [],
   "source": [
    "def total_fare2(distance,cutoff_distance=25,charge=5):\n",
    "    if distance>cutoff_distance:\n",
    "        chargeble_distance=distance-cutoff_distance\n",
    "        print(\"kudos to you the chargeble distance is:\",chargeble_distance)\n",
    "        cost=chargeble_distance*charge\n",
    "        print(\"the total charge is:\",cost)\n",
    "    else:\n",
    "        print(\"enjoy the free ride\")\n",
    "\n",
    "total_fare2(100)"
   ]
  },
  {
   "cell_type": "code",
   "execution_count": null,
   "id": "0f3ac8ed-b3c3-4def-8b72-1b2b2a3d4663",
   "metadata": {},
   "outputs": [],
   "source": [
    "distance=eval(input(\"enter the distance in km:\"))\n",
    "cutoff_distance=eval(input(\"enter the cuto ff distance in km:\"))\n",
    "def total_fare3():\n",
    "    if distance>cutoff_distance:\n",
    "        chargeble_distance=distance-cutoff_distance\n",
    "        print(\"kudos to you the chargeble distance is:\",chargeble_distance)\n",
    "        charge=eval(input(\"enter the charge in rs\"))\n",
    "        cost=chargeble_distance*charge\n",
    "        print(\"the total charge is:\",cost)\n",
    "    else:\n",
    "        print(\"enjoy the free ride\")\n",
    "\n",
    "total_fare3()"
   ]
  },
  {
   "cell_type": "code",
   "execution_count": null,
   "id": "e3ee32d3-761b-4d09-9669-0bab5072d5cc",
   "metadata": {},
   "outputs": [],
   "source": [
    "distance=eval(input(\"enter the distance in km:\"))\n",
    "cutoff_distance=eval(input(\"enter the cuto ff distance in km:\"))\n",
    "def total_fare4():\n",
    "    global cost\n",
    "    if distance>cutoff_distance:\n",
    "        chargeble_distance=distance-cutoff_distance\n",
    "        print(\"kudos to you the chargeble distance is:\",chargeble_distance)\n",
    "        charge=eval(input(\"enter the charge in rs\"))\n",
    "        cost=chargeble_distance*charge\n",
    "        print(\"the total charge is:\",cost)\n",
    "    else:\n",
    "        print(\"enjoy the free ride\")\n",
    "\n",
    "total_fare4()\n",
    "\n",
    "print(\"outside function cost is:\",cost)"
   ]
  },
  {
   "cell_type": "code",
   "execution_count": null,
   "id": "f6d8e637-f811-4595-a02e-969914b7d3dd",
   "metadata": {},
   "outputs": [],
   "source": [
    "distance=eval(input(\"enter the distance in km:\"))\n",
    "cutoff_distance=eval(input(\"enter the cuto ff distance in km:\"))\n",
    "def total_fare5():\n",
    "    if distance>cutoff_distance:\n",
    "        chargeble_distance=distance-cutoff_distance\n",
    "        print(\"kudos to you the chargeble distance is:\",chargeble_distance)\n",
    "        charge=eval(input(\"enter the charge in rs\"))\n",
    "        cost=chargeble_distance*charge\n",
    "        print(\"the total charge is:\",cost)\n",
    "    else:\n",
    "        cost=100\n",
    "\n",
    "    return(cost)\n",
    "\n",
    "\n",
    "cost=total_fare5()\n",
    "\n",
    "print(\"outside function cost is:\",cost)"
   ]
  },
  {
   "cell_type": "code",
   "execution_count": null,
   "id": "b1e6644f-ce17-4d5a-adbc-2384b16306b6",
   "metadata": {},
   "outputs": [],
   "source": [
    "distance=eval(input(\"enter the distance in km:\"))\n",
    "cutoff_distance=eval(input(\"enter the cuto ff distance in km:\"))\n",
    "def total_fare5():\n",
    "    if distance>cutoff_distance:\n",
    "        chargeble_distance=distance-cutoff_distance\n",
    "        print(\"kudos to you the chargeble distance is:\",chargeble_distance)\n",
    "        charge=eval(input(\"enter the charge in rs\"))\n",
    "        cost=chargeble_distance*charge\n",
    "        print(\"the total charge is:\",cost)\n",
    "        return(cost)\n",
    "    else:\n",
    "        cost=100\n",
    "        return(cost)\n",
    "\n",
    "\n",
    "\n",
    "cost=total_fare5()\n",
    "\n",
    "print(\"outside function cost is:\",cost)"
   ]
  },
  {
   "cell_type": "code",
   "execution_count": null,
   "id": "4e212b8f-2c16-4be6-905d-ba43c7028449",
   "metadata": {},
   "outputs": [],
   "source": [
    "# First create 4 individual function\n",
    "# Fun1: add\n",
    "# Fun2: sub\n",
    "# Fun3: mul\n",
    "# Fun4: div\n",
    "\n",
    "def add(a,b):\n",
    "    print(a+b)\n",
    "\n",
    "# Create a main function name : calculator\n",
    "# Inside main function\n",
    "# Print some statements\n",
    "# option1: addition\n",
    "# option2: sub, opt3: mul  opt4: div\n",
    "# option=eval(input('1-4'))\n",
    "# a value\n",
    "# b value\n",
    "# if option==1:\n",
    "#    call add function\n",
    "# elif option==2:\n",
    "#    call sub function\n",
    "# elif option==3:\n",
    "#    call mul function\n",
    "# elif option==4:\n",
    "#    call div function"
   ]
  },
  {
   "cell_type": "code",
   "execution_count": null,
   "id": "ac163619-b09e-4a39-9dbf-6ae59d3eb463",
   "metadata": {},
   "outputs": [],
   "source": [
    "def add(a,b):\n",
    "    print(a+b)\n",
    "\n",
    "def add(a,b):\n",
    "    print(a+b)\n",
    "\n",
    "def add(a,b):\n",
    "    print(a+b)\n",
    "\n",
    "def add(a,b):\n",
    "    print(a+b)\n",
    "\n",
    "def calcualtor():\n",
    "    # print\n",
    "    # option\n",
    "    # a\n",
    "    # b\n",
    "    if op==1:\n",
    "        add(a,b)"
   ]
  }
 ],
 "metadata": {
  "kernelspec": {
   "display_name": "Python 3 (ipykernel)",
   "language": "python",
   "name": "python3"
  },
  "language_info": {
   "codemirror_mode": {
    "name": "ipython",
    "version": 3
   },
   "file_extension": ".py",
   "mimetype": "text/x-python",
   "name": "python",
   "nbconvert_exporter": "python",
   "pygments_lexer": "ipython3",
   "version": "3.12.4"
  }
 },
 "nbformat": 4,
 "nbformat_minor": 5
}
