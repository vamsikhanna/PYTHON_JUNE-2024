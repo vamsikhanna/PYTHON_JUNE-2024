{
 "cells": [
  {
   "cell_type": "markdown",
   "id": "4998f11c-13bf-43c3-bb52-838b0a567c91",
   "metadata": {},
   "source": [
    "**Conditional statements**"
   ]
  },
  {
   "cell_type": "markdown",
   "id": "ee5f609e-b861-4ae8-bcae-1ebd5e82d365",
   "metadata": {},
   "source": [
    "- Conditional statements means we want to run the code lines based on condition\n",
    "\n",
    "- if rain comes I will not go to school  other wise I will go to movie\n",
    "\n",
    "- Rain is there will effect one process\n",
    "\n",
    "- Rain is not there will effect another process\n",
    "\n",
    "- if \n",
    "\n",
    "- elif\n",
    "\n",
    "- else"
   ]
  },
  {
   "cell_type": "markdown",
   "id": "35cd65e0-2ed6-42a8-98e4-01feffc5fd47",
   "metadata": {},
   "source": [
    "**if**"
   ]
  },
  {
   "cell_type": "code",
   "execution_count": null,
   "id": "cd844d09-3958-405c-8325-8af2b2eca518",
   "metadata": {},
   "outputs": [],
   "source": [
    "# syntax\n",
    "\n",
    "if <condition>:\n",
    "    <codeline1>\n",
    "    <codeline2>"
   ]
  },
  {
   "cell_type": "markdown",
   "id": "cd6ecf96-215a-4b80-b099-3b40889de1ae",
   "metadata": {},
   "source": [
    "- whenver any line start with **keyword(green)** at the end of the line we have **colon(:)**\n",
    "\n",
    "- whenever we have a **colon(:)**  the next lines starts with some **gap**\n",
    "\n",
    "- and this gap is called as **indentation**\n",
    "\n",
    "- how many lines we are maintianing gap (indentation) that all are under one area"
   ]
  },
  {
   "cell_type": "markdown",
   "id": "ba2caaf3-0481-4b7c-a52d-e8917e96420a",
   "metadata": {},
   "source": [
    "- if is a conditional statement , it will check the condition is True or False\n",
    "\n",
    "- if that condition will True then only it will enter inside the if area\n",
    "\n",
    "- and execute those code lines\n",
    "\n",
    "- if that condition will False, then it will not enter inside the if area\n",
    "\n",
    "- and it will not execute those code lines"
   ]
  },
  {
   "cell_type": "code",
   "execution_count": 2,
   "id": "a93135c4-2db5-4eff-9a2b-06499f8a1eb9",
   "metadata": {},
   "outputs": [
    {
     "data": {
      "text/plain": [
       "True"
      ]
     },
     "execution_count": 2,
     "metadata": {},
     "output_type": "execute_result"
    }
   ],
   "source": [
    "100>10"
   ]
  },
  {
   "cell_type": "code",
   "execution_count": 3,
   "id": "baba1485-e71c-4774-819a-38bd3e049ead",
   "metadata": {},
   "outputs": [
    {
     "name": "stdout",
     "output_type": "stream",
     "text": [
      "hello\n"
     ]
    }
   ],
   "source": [
    "if 100>10:                # if True:\n",
    "    print(\"hello\")"
   ]
  },
  {
   "cell_type": "markdown",
   "id": "80f5a3db-c3cc-4541-86f7-5add0c31deef",
   "metadata": {},
   "source": [
    "**mistake-1**\n",
    "\n",
    "- Indentation"
   ]
  },
  {
   "cell_type": "code",
   "execution_count": 4,
   "id": "6b6486e1-fc49-4712-92f5-1469877359f3",
   "metadata": {},
   "outputs": [
    {
     "ename": "IndentationError",
     "evalue": "expected an indented block after 'if' statement on line 1 (1853653150.py, line 2)",
     "output_type": "error",
     "traceback": [
      "\u001b[1;36m  Cell \u001b[1;32mIn[4], line 2\u001b[1;36m\u001b[0m\n\u001b[1;33m    print(\"hello\")\u001b[0m\n\u001b[1;37m    ^\u001b[0m\n\u001b[1;31mIndentationError\u001b[0m\u001b[1;31m:\u001b[0m expected an indented block after 'if' statement on line 1\n"
     ]
    }
   ],
   "source": [
    "if 100>10:              \n",
    "print(\"hello\")"
   ]
  },
  {
   "cell_type": "code",
   "execution_count": 5,
   "id": "fe41ef00-946b-477b-be46-e6b8d26f546e",
   "metadata": {},
   "outputs": [
    {
     "name": "stdout",
     "output_type": "stream",
     "text": [
      "hello\n"
     ]
    }
   ],
   "source": [
    "if 100>10:\n",
    "    print(\"hello\")\n",
    "# Indentation requires 4 spaces"
   ]
  },
  {
   "cell_type": "code",
   "execution_count": 6,
   "id": "f08701d6-8495-449b-bcad-07b311c8254c",
   "metadata": {},
   "outputs": [
    {
     "name": "stdin",
     "output_type": "stream",
     "text": [
      " a\n"
     ]
    },
    {
     "data": {
      "text/plain": [
       "'a'"
      ]
     },
     "execution_count": 6,
     "metadata": {},
     "output_type": "execute_result"
    }
   ],
   "source": [
    "input()"
   ]
  },
  {
   "cell_type": "markdown",
   "id": "f43ce79b-0ebc-4456-9dd9-72841bc9deed",
   "metadata": {},
   "source": [
    "**mistake-2**\n",
    "\n",
    "- colon (:)"
   ]
  },
  {
   "cell_type": "code",
   "execution_count": 7,
   "id": "b9e685e5-b90b-4c71-aedd-2b7bce491403",
   "metadata": {},
   "outputs": [
    {
     "ename": "SyntaxError",
     "evalue": "expected ':' (4173596931.py, line 1)",
     "output_type": "error",
     "traceback": [
      "\u001b[1;36m  Cell \u001b[1;32mIn[7], line 1\u001b[1;36m\u001b[0m\n\u001b[1;33m    if 100>10\u001b[0m\n\u001b[1;37m             ^\u001b[0m\n\u001b[1;31mSyntaxError\u001b[0m\u001b[1;31m:\u001b[0m expected ':'\n"
     ]
    }
   ],
   "source": [
    "if 100>10\n",
    "    print(\"hello\")"
   ]
  },
  {
   "cell_type": "markdown",
   "id": "e837e745-8687-4f25-9006-73ca3cdeab0f",
   "metadata": {},
   "source": [
    "**mistake-3**\n",
    "\n",
    "- if will expect a condition"
   ]
  },
  {
   "cell_type": "code",
   "execution_count": 9,
   "id": "4db99909-f5aa-47a5-8285-0c99b8aa8d21",
   "metadata": {},
   "outputs": [
    {
     "ename": "SyntaxError",
     "evalue": "invalid syntax (1063708972.py, line 1)",
     "output_type": "error",
     "traceback": [
      "\u001b[1;36m  Cell \u001b[1;32mIn[9], line 1\u001b[1;36m\u001b[0m\n\u001b[1;33m    if:\u001b[0m\n\u001b[1;37m      ^\u001b[0m\n\u001b[1;31mSyntaxError\u001b[0m\u001b[1;31m:\u001b[0m invalid syntax\n"
     ]
    }
   ],
   "source": [
    "if:\n",
    " print(\"hello\")"
   ]
  },
  {
   "cell_type": "markdown",
   "id": "eb2966f4-f266-4079-923a-e9ff4b6d87fe",
   "metadata": {},
   "source": [
    "**mistake-4**\n",
    "\n",
    "- missing brackets"
   ]
  },
  {
   "cell_type": "code",
   "execution_count": 10,
   "id": "dfc110d4-74f4-4f7f-a381-a76a5442877f",
   "metadata": {},
   "outputs": [
    {
     "ename": "SyntaxError",
     "evalue": "Missing parentheses in call to 'print'. Did you mean print(...)? (3394095289.py, line 2)",
     "output_type": "error",
     "traceback": [
      "\u001b[1;36m  Cell \u001b[1;32mIn[10], line 2\u001b[1;36m\u001b[0m\n\u001b[1;33m    print \"hello\"\u001b[0m\n\u001b[1;37m    ^\u001b[0m\n\u001b[1;31mSyntaxError\u001b[0m\u001b[1;31m:\u001b[0m Missing parentheses in call to 'print'. Did you mean print(...)?\n"
     ]
    }
   ],
   "source": [
    "if 100>10:\n",
    "    print \"hello\""
   ]
  },
  {
   "cell_type": "markdown",
   "id": "73ef4a19-7189-4587-9804-fc0a78163a67",
   "metadata": {},
   "source": [
    "**mistake-5**\n",
    "\n",
    "- never assign a variable to a print statement\n",
    "\n",
    "- print we are using for to see the answer"
   ]
  },
  {
   "cell_type": "code",
   "execution_count": 11,
   "id": "633b5af4-871b-4cc7-ba56-82a91114f6a9",
   "metadata": {},
   "outputs": [
    {
     "name": "stdout",
     "output_type": "stream",
     "text": [
      "hello\n"
     ]
    }
   ],
   "source": [
    "if 100>10:\n",
    "    name=print(\"hello\")"
   ]
  },
  {
   "cell_type": "markdown",
   "id": "c9ef3616-b9df-4768-8ed1-7127151ec9d4",
   "metadata": {},
   "source": [
    "**mistake-6**\n",
    "\n",
    "- all types of syntax error\n",
    "\n",
    "- spelling mistakes\n"
   ]
  },
  {
   "cell_type": "code",
   "execution_count": null,
   "id": "4b1acb99-5cbb-45dc-87b9-4999f5c01c3f",
   "metadata": {},
   "outputs": [],
   "source": [
    "if100>10:\n"
   ]
  },
  {
   "cell_type": "code",
   "execution_count": 13,
   "id": "1b913539-af61-4240-b200-a6d45a726d65",
   "metadata": {},
   "outputs": [
    {
     "name": "stdout",
     "output_type": "stream",
     "text": [
      "hello\n",
      "good mornig\n"
     ]
    }
   ],
   "source": [
    "if 100>10:\n",
    "    print(\"hello\")\n",
    "    print('good mornig')"
   ]
  },
  {
   "cell_type": "code",
   "execution_count": null,
   "id": "6f03513f-bd88-46b1-b5c9-3a2bb7c2fdf3",
   "metadata": {},
   "outputs": [],
   "source": [
    "if 100>10:\n",
    "    print(\"hello\")\n",
    "    print('good mornig')\n",
    "#########################################\n",
    "print(\"okay\")\n",
    "print(\"bye\")\n",
    "\n",
    "# step-1: if 100>10  if True\n",
    "# step-2:  hello\n",
    "# step-3: good morning\n",
    "# step-4: okay\n",
    "# step-5: bye"
   ]
  },
  {
   "cell_type": "code",
   "execution_count": 14,
   "id": "a1f8be69-f3ba-4ab2-91e3-592725917af0",
   "metadata": {},
   "outputs": [
    {
     "name": "stdout",
     "output_type": "stream",
     "text": [
      "10\n",
      "20\n",
      "hello\n",
      "good mornig\n",
      "okay\n",
      "bye\n"
     ]
    }
   ],
   "source": [
    "print(10)\n",
    "print(20)\n",
    "##################################\n",
    "if 100>10:\n",
    "    print(\"hello\")\n",
    "    print('good mornig')\n",
    "####################################\n",
    "print(\"okay\")\n",
    "print(\"bye\")"
   ]
  },
  {
   "cell_type": "code",
   "execution_count": 15,
   "id": "0e0e8915-2210-45c1-a9b5-12fbf8b33a98",
   "metadata": {},
   "outputs": [
    {
     "ename": "IndentationError",
     "evalue": "unexpected indent (2719034567.py, line 6)",
     "output_type": "error",
     "traceback": [
      "\u001b[1;36m  Cell \u001b[1;32mIn[15], line 6\u001b[1;36m\u001b[0m\n\u001b[1;33m    print(\"okay\")\u001b[0m\n\u001b[1;37m    ^\u001b[0m\n\u001b[1;31mIndentationError\u001b[0m\u001b[1;31m:\u001b[0m unexpected indent\n"
     ]
    }
   ],
   "source": [
    "print(10)\n",
    "print(20)\n",
    "if 100>10:\n",
    "    print(\"hello\")\n",
    "print('good mornig')\n",
    "    print(\"okay\")\n",
    "print(\"bye\")"
   ]
  },
  {
   "cell_type": "code",
   "execution_count": 17,
   "id": "7152d098-219d-41df-92a0-0302acd466e3",
   "metadata": {},
   "outputs": [
    {
     "name": "stdout",
     "output_type": "stream",
     "text": [
      "10\n",
      "hello\n",
      "good mornig\n",
      "okay\n",
      "bye\n"
     ]
    }
   ],
   "source": [
    "print(10)\n",
    "if True:\n",
    "    print(\"hello\")\n",
    "    print('good mornig')\n",
    "print(\"okay\")\n",
    "print(\"bye\")"
   ]
  },
  {
   "cell_type": "code",
   "execution_count": 16,
   "id": "1403cd17-7539-4fff-928d-cd709a905b65",
   "metadata": {},
   "outputs": [
    {
     "data": {
      "text/plain": [
       "True"
      ]
     },
     "execution_count": 16,
     "metadata": {},
     "output_type": "execute_result"
    }
   ],
   "source": [
    "100>10"
   ]
  },
  {
   "cell_type": "code",
   "execution_count": 18,
   "id": "defbd1cb-2122-496f-88d6-2924051f3ba0",
   "metadata": {},
   "outputs": [
    {
     "name": "stdout",
     "output_type": "stream",
     "text": [
      "10\n",
      "okay\n",
      "bye\n"
     ]
    }
   ],
   "source": [
    "print(10)\n",
    "if 100<10:\n",
    "    print(\"hello\")\n",
    "    print('good mornig')\n",
    "print(\"okay\")\n",
    "print(\"bye\")"
   ]
  },
  {
   "cell_type": "code",
   "execution_count": 19,
   "id": "c69415bd-dc84-4668-89a1-05ae1e362f33",
   "metadata": {},
   "outputs": [
    {
     "name": "stdout",
     "output_type": "stream",
     "text": [
      "10\n",
      "okay\n",
      "bye\n"
     ]
    }
   ],
   "source": [
    "print(10)\n",
    "if False:\n",
    "    print(\"hello\")\n",
    "    print('good mornig')\n",
    "print(\"okay\")\n",
    "print(\"bye\")"
   ]
  },
  {
   "cell_type": "code",
   "execution_count": 20,
   "id": "1e731784-0056-4aea-82c5-5738be016a3e",
   "metadata": {},
   "outputs": [
    {
     "name": "stdout",
     "output_type": "stream",
     "text": [
      "10\n",
      "hello\n",
      "good mornig\n",
      "okay\n",
      "bye\n"
     ]
    }
   ],
   "source": [
    "print(10)\n",
    "if 100:\n",
    "    print(\"hello\")\n",
    "    print('good mornig')\n",
    "print(\"okay\")\n",
    "print(\"bye\")"
   ]
  },
  {
   "cell_type": "code",
   "execution_count": 21,
   "id": "4d26cc65-1191-40bf-ba2d-a1bae723e1cb",
   "metadata": {},
   "outputs": [
    {
     "data": {
      "text/plain": [
       "True"
      ]
     },
     "execution_count": 21,
     "metadata": {},
     "output_type": "execute_result"
    }
   ],
   "source": [
    "bool(100)"
   ]
  },
  {
   "cell_type": "code",
   "execution_count": 22,
   "id": "38b7915a-f5f1-431d-846f-89ed10b61f78",
   "metadata": {},
   "outputs": [
    {
     "name": "stdout",
     "output_type": "stream",
     "text": [
      "10\n",
      "okay\n",
      "bye\n"
     ]
    }
   ],
   "source": [
    "print(10)\n",
    "if 0:\n",
    "    print(\"hello\")\n",
    "    print('good mornig')\n",
    "print(\"okay\")\n",
    "print(\"bye\")"
   ]
  },
  {
   "cell_type": "code",
   "execution_count": 23,
   "id": "8f75fbf0-324e-4410-96e9-c74938d30026",
   "metadata": {},
   "outputs": [
    {
     "name": "stdout",
     "output_type": "stream",
     "text": [
      "10\n",
      "okay\n",
      "bye\n"
     ]
    }
   ],
   "source": [
    "print(10)\n",
    "if 0.0:\n",
    "    print(\"hello\")\n",
    "    print('good mornig')\n",
    "print(\"okay\")\n",
    "print(\"bye\")"
   ]
  },
  {
   "cell_type": "code",
   "execution_count": 24,
   "id": "d97632ac-6c93-4b08-8882-37af2b8ffb34",
   "metadata": {},
   "outputs": [
    {
     "name": "stdout",
     "output_type": "stream",
     "text": [
      "10\n",
      "hello\n",
      "good mornig\n",
      "okay\n",
      "bye\n"
     ]
    }
   ],
   "source": [
    "print(10)\n",
    "if 'hello':\n",
    "    print(\"hello\")\n",
    "    print('good mornig')\n",
    "print(\"okay\")\n",
    "print(\"bye\")"
   ]
  },
  {
   "cell_type": "code",
   "execution_count": 25,
   "id": "1ce05cd3-c195-4d58-b82c-d1494c1d8250",
   "metadata": {},
   "outputs": [
    {
     "data": {
      "text/plain": [
       "True"
      ]
     },
     "execution_count": 25,
     "metadata": {},
     "output_type": "execute_result"
    }
   ],
   "source": [
    "bool('hello')"
   ]
  },
  {
   "cell_type": "code",
   "execution_count": 26,
   "id": "cb4a7855-24a2-4e29-b4f9-1493f0e78e60",
   "metadata": {},
   "outputs": [
    {
     "name": "stdout",
     "output_type": "stream",
     "text": [
      "10\n",
      "okay\n",
      "bye\n"
     ]
    }
   ],
   "source": [
    "print(10)\n",
    "if '':\n",
    "    print(\"hello\")\n",
    "    print('good mornig')\n",
    "print(\"okay\")\n",
    "print(\"bye\")"
   ]
  },
  {
   "cell_type": "code",
   "execution_count": 27,
   "id": "d29e7124-c546-49dc-9ccb-2020c87c4d99",
   "metadata": {},
   "outputs": [
    {
     "name": "stdout",
     "output_type": "stream",
     "text": [
      "10\n"
     ]
    },
    {
     "ename": "NameError",
     "evalue": "name 'true' is not defined",
     "output_type": "error",
     "traceback": [
      "\u001b[1;31m---------------------------------------------------------------------------\u001b[0m",
      "\u001b[1;31mNameError\u001b[0m                                 Traceback (most recent call last)",
      "Cell \u001b[1;32mIn[27], line 2\u001b[0m\n\u001b[0;32m      1\u001b[0m \u001b[38;5;28mprint\u001b[39m(\u001b[38;5;241m10\u001b[39m)\n\u001b[1;32m----> 2\u001b[0m \u001b[38;5;28;01mif\u001b[39;00m true:\n\u001b[0;32m      3\u001b[0m     \u001b[38;5;28mprint\u001b[39m(\u001b[38;5;124m\"\u001b[39m\u001b[38;5;124mhello\u001b[39m\u001b[38;5;124m\"\u001b[39m)\n\u001b[0;32m      4\u001b[0m     \u001b[38;5;28mprint\u001b[39m(\u001b[38;5;124m'\u001b[39m\u001b[38;5;124mgood mornig\u001b[39m\u001b[38;5;124m'\u001b[39m)\n",
      "\u001b[1;31mNameError\u001b[0m: name 'true' is not defined"
     ]
    }
   ],
   "source": [
    "print(10)\n",
    "if true:\n",
    "    print(\"hello\")\n",
    "    print('good mornig')\n",
    "print(\"okay\")\n",
    "print(\"bye\")"
   ]
  },
  {
   "cell_type": "markdown",
   "id": "c17b21ec-98a3-4580-a33a-79f2747ba5bf",
   "metadata": {},
   "source": [
    "**if-else**"
   ]
  },
  {
   "cell_type": "markdown",
   "id": "e28f7138-aa84-4b1a-b2b7-2d33afc1d022",
   "metadata": {},
   "source": [
    "- if required condition\n",
    "\n",
    "- if that condition is True, then it will execute if block\n",
    "\n",
    "- otherwise it can directly go to the else block\n",
    "\n",
    "- so else block does not required any condition"
   ]
  },
  {
   "cell_type": "code",
   "execution_count": null,
   "id": "ce4ebb91-bdac-4dad-a9c2-499a69643d00",
   "metadata": {},
   "outputs": [],
   "source": [
    "# syntax\n",
    "\n",
    "if <condtion>:\n",
    "    <code line>\n",
    "else:\n",
    "    <code line>"
   ]
  },
  {
   "cell_type": "code",
   "execution_count": 28,
   "id": "6d509987-49db-4ca0-a4ce-3d92aa3dbe3c",
   "metadata": {},
   "outputs": [
    {
     "name": "stdout",
     "output_type": "stream",
     "text": [
      "good condition is correct\n"
     ]
    }
   ],
   "source": [
    "if 100>10:\n",
    "    print(\"good condition is correct\")\n",
    "else:\n",
    "    print(\"not good condition is wrong\")"
   ]
  },
  {
   "cell_type": "code",
   "execution_count": 29,
   "id": "010beeb7-8936-4b32-8401-25d7640cc64f",
   "metadata": {},
   "outputs": [
    {
     "name": "stdout",
     "output_type": "stream",
     "text": [
      "hello\n",
      "good condition is correct\n",
      "bye\n"
     ]
    }
   ],
   "source": [
    "print(\"hello\")\n",
    "if 100>10:\n",
    "    print(\"good condition is correct\")\n",
    "else:\n",
    "    print(\"not good condition is wrong\")\n",
    "print(\"bye\")"
   ]
  },
  {
   "cell_type": "code",
   "execution_count": 30,
   "id": "73cbf51c-7b0a-4ea4-8235-6fc971314414",
   "metadata": {},
   "outputs": [
    {
     "name": "stdout",
     "output_type": "stream",
     "text": [
      "hello\n",
      "not good condition is wrong\n",
      "bye\n"
     ]
    }
   ],
   "source": [
    "print(\"hello\")\n",
    "if 100<10:\n",
    "    print(\"good condition is correct\")\n",
    "else:\n",
    "    print(\"not good condition is wrong\")\n",
    "print(\"bye\")"
   ]
  },
  {
   "cell_type": "code",
   "execution_count": 31,
   "id": "43e3b299-b08a-462a-9be7-c9f8b482e94e",
   "metadata": {},
   "outputs": [
    {
     "ename": "SyntaxError",
     "evalue": "invalid syntax (1438371122.py, line 5)",
     "output_type": "error",
     "traceback": [
      "\u001b[1;36m  Cell \u001b[1;32mIn[31], line 5\u001b[1;36m\u001b[0m\n\u001b[1;33m    else:\u001b[0m\n\u001b[1;37m    ^\u001b[0m\n\u001b[1;31mSyntaxError\u001b[0m\u001b[1;31m:\u001b[0m invalid syntax\n"
     ]
    }
   ],
   "source": [
    "print(\"hello\")\n",
    "if 100>10:\n",
    "    print(\"good condition is correct\")\n",
    "print(\"why you are in middile\")\n",
    "else:\n",
    "    print(\"not good condition is wrong\")\n",
    "print(\"bye\")"
   ]
  },
  {
   "cell_type": "code",
   "execution_count": 32,
   "id": "fbb82228-b248-45d2-9aa5-ca8819a769ee",
   "metadata": {},
   "outputs": [
    {
     "name": "stdout",
     "output_type": "stream",
     "text": [
      "10\n",
      "0\n",
      "10\n",
      "0.0\n"
     ]
    },
    {
     "ename": "ZeroDivisionError",
     "evalue": "division by zero",
     "output_type": "error",
     "traceback": [
      "\u001b[1;31m---------------------------------------------------------------------------\u001b[0m",
      "\u001b[1;31mZeroDivisionError\u001b[0m                         Traceback (most recent call last)",
      "Cell \u001b[1;32mIn[32], line 10\u001b[0m\n\u001b[0;32m      8\u001b[0m d\u001b[38;5;241m=\u001b[39mb\u001b[38;5;241m/\u001b[39ma     \u001b[38;5;66;03m#  0/10 = 0\u001b[39;00m\n\u001b[0;32m      9\u001b[0m \u001b[38;5;28mprint\u001b[39m(d)  \n\u001b[1;32m---> 10\u001b[0m e\u001b[38;5;241m=\u001b[39ma\u001b[38;5;241m/\u001b[39mb    \u001b[38;5;66;03m#  10/0= \u001b[39;00m\n\u001b[0;32m     11\u001b[0m \u001b[38;5;28mprint\u001b[39m(e)\n",
      "\u001b[1;31mZeroDivisionError\u001b[0m: division by zero"
     ]
    }
   ],
   "source": [
    "if True:\n",
    "    a=10\n",
    "    b=0\n",
    "    print(a)   #  10\n",
    "    print(b)   #  0\n",
    "    c=a+b\n",
    "    print(c)  #  10+0=10\n",
    "    d=b/a     #  0/10 = 0\n",
    "    print(d)  \n",
    "    e=a/b    #  10/0=  any number /0   means error\n",
    "    print(e)"
   ]
  },
  {
   "cell_type": "code",
   "execution_count": null,
   "id": "ff074b66-8579-46ab-a56f-be8806ebbce9",
   "metadata": {},
   "outputs": [],
   "source": [
    "0/10   10/0  0/0"
   ]
  },
  {
   "cell_type": "code",
   "execution_count": 33,
   "id": "757c70cd-c879-4d6c-82fc-802e89b46f19",
   "metadata": {},
   "outputs": [
    {
     "data": {
      "text/plain": [
       "1.25"
      ]
     },
     "execution_count": 33,
     "metadata": {},
     "output_type": "execute_result"
    }
   ],
   "source": [
    "5/4  # normal division"
   ]
  },
  {
   "cell_type": "code",
   "execution_count": 34,
   "id": "c43b6bdc-8eb8-403c-a736-854b12f9aa81",
   "metadata": {},
   "outputs": [
    {
     "data": {
      "text/plain": [
       "1"
      ]
     },
     "execution_count": 34,
     "metadata": {},
     "output_type": "execute_result"
    }
   ],
   "source": [
    "5//4  # floor division"
   ]
  },
  {
   "cell_type": "code",
   "execution_count": 35,
   "id": "63c59792-d92e-49e4-adc7-bb5bf11b76fc",
   "metadata": {},
   "outputs": [
    {
     "data": {
      "text/plain": [
       "1"
      ]
     },
     "execution_count": 35,
     "metadata": {},
     "output_type": "execute_result"
    }
   ],
   "source": [
    "# modulus operator\n",
    "5%4  # reminder"
   ]
  },
  {
   "cell_type": "code",
   "execution_count": null,
   "id": "935c212c-a221-459e-a6f1-08957fc011cc",
   "metadata": {},
   "outputs": [],
   "source": [
    "/ ---  normal division(return type float)\n",
    "// --- floor division(return type int) quotient\n",
    "% --- remainder(return int)  sir is my thinking correct"
   ]
  },
  {
   "cell_type": "code",
   "execution_count": 36,
   "id": "1202d33c-52b8-4607-a481-68005e24389a",
   "metadata": {},
   "outputs": [
    {
     "name": "stdin",
     "output_type": "stream",
     "text": [
      "enter the number: 20\n"
     ]
    },
    {
     "name": "stdout",
     "output_type": "stream",
     "text": [
      "the 20 is even\n"
     ]
    }
   ],
   "source": [
    "# wap ask the user enter a number \n",
    "# find it is a even number or odd number\n",
    "# idea: any number divide by 2 , the remiander=0\n",
    "#       it is called as even number\n",
    "\n",
    "# step-1: num=eval(input())\n",
    "# step-2: if <condition>:\n",
    "# step-3     print()\n",
    "# step-4  else:\n",
    "# step-5     print()\n",
    "\n",
    "num=eval(input(\"enter the number:\"))\n",
    "if num%2==0:\n",
    "    print(f\"the {num} is even\")\n",
    "else:\n",
    "    print(f\"the {num} is odd\")"
   ]
  },
  {
   "cell_type": "code",
   "execution_count": 2,
   "id": "236d8f3a-1fc4-442a-8044-67253f52bc0f",
   "metadata": {},
   "outputs": [
    {
     "name": "stdin",
     "output_type": "stream",
     "text": [
      "enter the start value: 20\n",
      "enter the end value: 200\n"
     ]
    },
    {
     "name": "stdout",
     "output_type": "stream",
     "text": [
      "the 129 is odd\n"
     ]
    }
   ],
   "source": [
    "# Implement the above problem by taking a random input  between  1, 100\n",
    "import random \n",
    "start=eval(input(\"enter the start value:\"))\n",
    "end=eval(input(\"enter the end value:\"))\n",
    "num=random.randint(start,end)\n",
    "if num%2==0:\n",
    "    print(f\"the {num} is even\")\n",
    "else:\n",
    "    print(f\"the {num} is odd\")"
   ]
  },
  {
   "cell_type": "markdown",
   "id": "897fe483-4098-4e96-9f76-092a3f151986",
   "metadata": {},
   "source": [
    "- we are providing values means it is hard coded\n",
    "\n",
    "- code should be always generic, with out hard codings"
   ]
  },
  {
   "cell_type": "code",
   "execution_count": 3,
   "id": "4179fd3d-5224-4425-bc45-5f543dde87ee",
   "metadata": {},
   "outputs": [
    {
     "name": "stdin",
     "output_type": "stream",
     "text": [
      "enter the number: 100\n",
      "enter the charge 25\n"
     ]
    },
    {
     "name": "stdout",
     "output_type": "stream",
     "text": [
      "the total charge is: 2500\n"
     ]
    }
   ],
   "source": [
    "# wap ask the user enter the distance\n",
    "# if distance greater than 25km\n",
    "#      then enter the charge\n",
    "#      print the total cost\n",
    "#otherwise\n",
    "#      print free ride\n",
    "\n",
    "distance=eval(input(\"enter the distance in km:\"))\n",
    "if distance>25:\n",
    "    charge=eval(input(\"enter the charge in rs\"))\n",
    "    cost=distance*charge\n",
    "    print(\"the total charge is:\",cost)\n",
    "else:\n",
    "    print(\"enjoy the free ride\")"
   ]
  },
  {
   "cell_type": "code",
   "execution_count": 5,
   "id": "b56f1659-7d78-4325-a120-a8db41d105cf",
   "metadata": {},
   "outputs": [
    {
     "name": "stdin",
     "output_type": "stream",
     "text": [
      "enter the distance in km: 100\n",
      "enter the cuto ff distance in km: 50\n"
     ]
    },
    {
     "name": "stdout",
     "output_type": "stream",
     "text": [
      "kudos to you the chargeble distance is: 50\n"
     ]
    },
    {
     "name": "stdin",
     "output_type": "stream",
     "text": [
      "enter the charge in rs 2\n"
     ]
    },
    {
     "name": "stdout",
     "output_type": "stream",
     "text": [
      "the total charge is: 100\n"
     ]
    }
   ],
   "source": [
    "# wap ask the user enter the distance\n",
    "# cutoff distance enter 25\n",
    "# if distance greater than 25km\n",
    "#      print(\"good news your charge is aplicable for only remaining of 25\")\n",
    "#      chargeble distance= distance-cutoff\n",
    "#      then enter the charge\n",
    "#      print the total cost\n",
    "#otherwise\n",
    "#      print free ride\n",
    "\n",
    "distance=eval(input(\"enter the distance in km:\"))\n",
    "cutoff_distance=eval(input(\"enter the cuto ff distance in km:\"))\n",
    "if distance>cutoff_distance:\n",
    "    chargeble_distance=distance-cutoff_distance\n",
    "    print(\"kudos to you the chargeble distance is:\",chargeble_distance)\n",
    "    charge=eval(input(\"enter the charge in rs\"))\n",
    "    cost=chargeble_distance*charge\n",
    "    print(\"the total charge is:\",cost)\n",
    "else:\n",
    "    print(\"enjoy the free ride\")"
   ]
  },
  {
   "cell_type": "code",
   "execution_count": 8,
   "id": "ec4eb93f-f889-4ebf-840e-58fe6cb102cc",
   "metadata": {},
   "outputs": [
    {
     "name": "stdin",
     "output_type": "stream",
     "text": [
      "enter the course: data science\n",
      "enter the institute: naresh it\n"
     ]
    },
    {
     "name": "stdout",
     "output_type": "stream",
     "text": [
      "good\n"
     ]
    }
   ],
   "source": [
    "# wap ask the user enter the course\n",
    "# ask the user enter the Institute\n",
    "# if the course equal to data science and institute equal to naresh it\n",
    "#     then you are good\n",
    "# otherwise\n",
    "#     you are bad\n",
    "course=input(\"enter the course:\")\n",
    "institute=input(\"enter the institute:\")\n",
    "if course=='data science' and institute=='naresh it':\n",
    "    print(\"good\")\n",
    "else:\n",
    "    print(\"bad\")"
   ]
  },
  {
   "cell_type": "code",
   "execution_count": 11,
   "id": "8e13a867-03d4-49b0-abbc-7e1f7d5c5beb",
   "metadata": {},
   "outputs": [
    {
     "name": "stdin",
     "output_type": "stream",
     "text": [
      "enter the course: python\n",
      "enter the institute: jntu\n"
     ]
    },
    {
     "name": "stdout",
     "output_type": "stream",
     "text": [
      "bad\n"
     ]
    }
   ],
   "source": [
    "course=input(\"enter the course:\")\n",
    "institute=input(\"enter the institute:\")\n",
    "if course=='data science' or institute=='naresh it':\n",
    "    print(\"good\")\n",
    "else:\n",
    "    print(\"bad\")"
   ]
  },
  {
   "cell_type": "markdown",
   "id": "696ec4e1-8242-4f67-8699-12dda2ec4291",
   "metadata": {},
   "source": [
    "- and means two conditions need to satisfy\n",
    "\n",
    "- or means any one condition enough to satisfy"
   ]
  },
  {
   "cell_type": "code",
   "execution_count": null,
   "id": "c73aedfe-97ca-4824-aadf-e3ddfe0028fb",
   "metadata": {},
   "outputs": [],
   "source": [
    "ir why can't we use eval in first two lines of code\n",
    "\n",
    "eval =====evaluate === math familiy ==== numbers only"
   ]
  },
  {
   "cell_type": "code",
   "execution_count": 13,
   "id": "f5c723f2-d39e-44ad-a8db-8af7abc738d1",
   "metadata": {},
   "outputs": [
    {
     "name": "stdin",
     "output_type": "stream",
     "text": [
      " sai\n"
     ]
    },
    {
     "ename": "NameError",
     "evalue": "name 'sai' is not defined",
     "output_type": "error",
     "traceback": [
      "\u001b[1;31m---------------------------------------------------------------------------\u001b[0m",
      "\u001b[1;31mNameError\u001b[0m                                 Traceback (most recent call last)",
      "Cell \u001b[1;32mIn[13], line 1\u001b[0m\n\u001b[1;32m----> 1\u001b[0m \u001b[38;5;28meval\u001b[39m(\u001b[38;5;28minput\u001b[39m())\n",
      "File \u001b[1;32m<string>:1\u001b[0m\n",
      "\u001b[1;31mNameError\u001b[0m: name 'sai' is not defined"
     ]
    }
   ],
   "source": [
    "eval(input())"
   ]
  },
  {
   "cell_type": "code",
   "execution_count": 20,
   "id": "f7045f8d-834d-4664-9313-258157558284",
   "metadata": {},
   "outputs": [
    {
     "name": "stdout",
     "output_type": "stream",
     "text": [
      "1\n"
     ]
    },
    {
     "name": "stdin",
     "output_type": "stream",
     "text": [
      "enter the number2: 1\n"
     ]
    },
    {
     "name": "stdout",
     "output_type": "stream",
     "text": [
      "you won\n"
     ]
    }
   ],
   "source": [
    "# wap ask the user enter a random number between 1 to 10, treat this as number1\n",
    "# ask the user enter another number from keyboard, treat this as number2\n",
    "# if number1 equal to number2\n",
    "#     print you won\n",
    "# otherwise\n",
    "#     print you lost\n",
    "import random\n",
    "num1=random.randint(1,10)\n",
    "print(num1)\n",
    "num2=eval(input(\"enter the number2:\"))\n",
    "if num1==num2:\n",
    "    print(\"you won\")\n",
    "else:\n",
    "    print(\"you lost\")"
   ]
  },
  {
   "cell_type": "markdown",
   "id": "f1119f1f-f92a-40be-9c5a-a2c335862370",
   "metadata": {},
   "source": [
    "- Till now we have seen one condition problem\n",
    "\n",
    "- which means if that condition is True will get one answer\n",
    "\n",
    "- if that condition False then will get another answer\n",
    "\n",
    "- How about if we have more than 2 conditions\n",
    "\n",
    "- if-elif-else\n",
    "\n",
    "- two conditions means 3 results\n",
    "\n",
    "- if has one condition\n",
    "\n",
    "- elif has second condition\n",
    "\n",
    "- if both are false then the result in else"
   ]
  },
  {
   "cell_type": "code",
   "execution_count": null,
   "id": "bfc407e8-112f-4bde-9e28-57d8fc76b383",
   "metadata": {},
   "outputs": [],
   "source": [
    "if <condition>:\n",
    "   <statements>\n",
    "    \n",
    "elif <condition>:\n",
    "    <statements>\n",
    "else:\n",
    "    <statement>\n",
    "\n",
    "if-else (1) \n",
    "if-elif-else(2)\n",
    "if-elif-elif-else(3)"
   ]
  },
  {
   "cell_type": "code",
   "execution_count": 22,
   "id": "e5625625-3400-4b83-80cf-02a01eb4c48a",
   "metadata": {},
   "outputs": [
    {
     "name": "stdin",
     "output_type": "stream",
     "text": [
      "enter the number: 3\n"
     ]
    },
    {
     "name": "stdout",
     "output_type": "stream",
     "text": [
      "three\n"
     ]
    }
   ],
   "source": [
    "# wap ask the user enter number\n",
    "# if number equal to 1 then print one\n",
    "# if number equal to 2 then print two\n",
    "# if number equal to 3 then print three\n",
    "# otherwise  print enter a valid number\n",
    "num=eval(input(\"enter the number:\"))\n",
    "if num==1:\n",
    "    print(\"one\")\n",
    "elif num==2:\n",
    "    print(\"two\")\n",
    "elif num==3:\n",
    "    print(\"three\")\n",
    "else:\n",
    "    print(\"enter the valid number\")"
   ]
  },
  {
   "cell_type": "code",
   "execution_count": 23,
   "id": "3595c2f0-4cd6-41cf-8af6-d54a6f642651",
   "metadata": {},
   "outputs": [
    {
     "name": "stdin",
     "output_type": "stream",
     "text": [
      "enter the number: 4\n"
     ]
    },
    {
     "name": "stdout",
     "output_type": "stream",
     "text": [
      "enter the valid number\n"
     ]
    }
   ],
   "source": [
    "num=eval(input(\"enter the number:\"))\n",
    "if num==1:print(\"one\")\n",
    "elif num==2:pr# int(\"two\")\n",
    "elif num==3:print(\"three\")\n",
    "else:print(\"enter the valid number\")"
   ]
  },
  {
   "cell_type": "code",
   "execution_count": 26,
   "id": "75b00035-6a91-48b0-92aa-205b1152fd78",
   "metadata": {},
   "outputs": [
    {
     "name": "stdin",
     "output_type": "stream",
     "text": [
      "enter num1 0\n"
     ]
    },
    {
     "name": "stdout",
     "output_type": "stream",
     "text": [
      "zero\n"
     ]
    }
   ],
   "source": [
    "# wap ask the user enter a number\n",
    "# if that number greater than zero print postive\n",
    "# if that number less than zero print negative\n",
    "# otherwise print zero\n",
    "num1=eval(input('enter num1'))\n",
    "if num1 > 0:\n",
    "    print('positive')\n",
    "elif num1 <0:\n",
    "    print('negative')\n",
    "else:\n",
    "    print('zero')"
   ]
  },
  {
   "cell_type": "code",
   "execution_count": null,
   "id": "48e36904-18d2-42b4-9d8e-3918c816c589",
   "metadata": {},
   "outputs": [],
   "source": [
    "# WAP ask the user enter the percentage of marks 0 to 100\n",
    "# if percentagw gretaer than 90  print A garde\n",
    "# if percentage between 75 to 90 print B garde\n",
    "# if percentage between 50 to 75 print C grade\n",
    "# if percentage between 35 to 50 print D grade\n",
    "# if percentage less than 35 print Fail\n",
    "\n",
    "percentage=eval(input(\"Enter the percentage of marks:\"))\n",
    "if percentage>=90:\n",
    "    print('A grade')\n",
    "elif percentage<90 and percentage>=75:\n",
    "    print('B grade')\n",
    "elif percentage<75 and percentage>=50:\n",
    "    print('C grade')\n",
    "elif percentage<50 and percentage>=35:\n",
    "    print('D grade')\n",
    "else:\n",
    "    print('Fail')"
   ]
  },
  {
   "cell_type": "code",
   "execution_count": 30,
   "id": "f52f808e-7cef-4cff-a3a3-6a3066e384a2",
   "metadata": {},
   "outputs": [
    {
     "name": "stdin",
     "output_type": "stream",
     "text": [
      "Enter the percentage of marks: between 0 to 100 102\n"
     ]
    },
    {
     "name": "stdout",
     "output_type": "stream",
     "text": [
      "A grade\n"
     ]
    }
   ],
   "source": [
    "percentage=eval(input(\"Enter the percentage of marks: between 0 to 100\"))\n",
    "if percentage>=90:   # True\n",
    "    print('A grade')\n",
    "elif percentage>=75:  # tRU\n",
    "    print('B grade')\n",
    "elif percentage>=50: # T\n",
    "    print(\"C\")\n",
    "elif percentage>=35: # T\n",
    "    print(\"D\")\n",
    "else:\n",
    "    print(\"Fail\")\n",
    "\n",
    "# 95\n",
    "\n",
    "# 80\n",
    "# if  80>=90   F\n",
    "# elif 80>=75  true\n",
    "# elif 80>=50:  true"
   ]
  },
  {
   "cell_type": "code",
   "execution_count": 31,
   "id": "4e2b2b20-cdc5-40b9-951c-b69686ffb785",
   "metadata": {},
   "outputs": [
    {
     "name": "stdin",
     "output_type": "stream",
     "text": [
      "Enter the age:  65\n"
     ]
    },
    {
     "name": "stdout",
     "output_type": "stream",
     "text": [
      "senior citizen\n"
     ]
    }
   ],
   "source": [
    "# WAP ask the user enter the age\n",
    "# if the age greater tahn 100 print you are lucky\n",
    "# if the age gretaer than 75 print old age\n",
    "# if the age  between 50 to 75 print ss\n",
    "# if the age between  30 tp 50 print MA\n",
    "# if the age between  15 to 30 print young age\n",
    "# if the afe between less than 15 print kid\n",
    "age=eval(input(\"Enter the age: \"))\n",
    "if (age>=75):     # F\n",
    "    print(\"old age\")\n",
    "elif (age>=50):   # T\n",
    "    print(\"senior citizen\")\n",
    "elif (age>=30):   # T\n",
    "    print(\"middle age\")\n",
    "elif (age>=15):   # T\n",
    "    print(\"young age\")\n",
    "else: \n",
    "    print(\"kid\")"
   ]
  },
  {
   "cell_type": "code",
   "execution_count": null,
   "id": "caa1d2ad-900b-4927-bbcd-ba53ba33ca26",
   "metadata": {},
   "outputs": [],
   "source": [
    "# wap ask the user enter 2 numbers\n",
    "# num1\n",
    "# num2\n",
    "# you need to print\n",
    "# enter operation 1  for addition\n",
    "# enter operation 2 for mult\n",
    "# enter oper 3  for sub\n",
    "# enter oper 4  for div\n",
    "\n",
    "# enter the operation between 1 to 4\n",
    "# if operation equal to 1 then do add\n",
    "# if operation equal to 2 then do mul\n",
    "# if operation equal to 3 then do sub\n",
    "# if operation equal to 4 then do div\n",
    "# otherwise print  enter a valid number"
   ]
  },
  {
   "cell_type": "code",
   "execution_count": 2,
   "id": "8776bc9e-52c4-45b5-a76e-8ec5a2c17a01",
   "metadata": {},
   "outputs": [
    {
     "name": "stdin",
     "output_type": "stream",
     "text": [
      "Enter  first number: 10\n",
      "Enter second number: 20\n"
     ]
    },
    {
     "name": "stdout",
     "output_type": "stream",
     "text": [
      "Enter operation 1 for addition\n",
      "Enter operation 2 for mul\n",
      "Enter operation 3 for sub\n",
      "Enter operation 4 for div\n"
     ]
    },
    {
     "name": "stdin",
     "output_type": "stream",
     "text": [
      "Enter a choice  of operation between 1 to 4: 4\n"
     ]
    },
    {
     "name": "stdout",
     "output_type": "stream",
     "text": [
      "Division of two number is 0.5\n"
     ]
    }
   ],
   "source": [
    "num1=eval(input(\"Enter  first number:\"))\n",
    "num2=eval(input(\"Enter second number:\"))\n",
    "print(\"Enter operation 1 for addition\")\n",
    "print(\"Enter operation 2 for mul\")\n",
    "print(\"Enter operation 3 for sub\")\n",
    "print(\"Enter operation 4 for div\")\n",
    "op=eval(input(\"Enter a choice  of operation between 1 to 4:\"))\n",
    "if op==1:\n",
    "    sum=num1+num2\n",
    "    print(f\"Addition of two number is {sum}\")\n",
    "elif op==2:\n",
    "    mul=num1*num2\n",
    "    print(f\"multiplication of two number is {mul}\")\n",
    "elif op==3:\n",
    "    sub=num1-num2\n",
    "    print(f\"Subtraction of two number is {sub}\")\n",
    "elif op==4:\n",
    "    div=num1/num2\n",
    "    print(f\"Division of two number is {div}\")\n",
    "else:\n",
    "    print(\"Enter a valid number\")"
   ]
  },
  {
   "cell_type": "code",
   "execution_count": 4,
   "id": "df87cffb-e226-4614-9792-30d3a6d72511",
   "metadata": {},
   "outputs": [
    {
     "name": "stdin",
     "output_type": "stream",
     "text": [
      "Enter  first number: 20\n",
      "Enter second number: 30\n"
     ]
    },
    {
     "name": "stdout",
     "output_type": "stream",
     "text": [
      "Enter operation 1 for addition\n",
      "Enter operation 2 for mul\n",
      "Enter operation 3 for sub\n",
      "Enter operation 4 for div\n"
     ]
    },
    {
     "name": "stdin",
     "output_type": "stream",
     "text": [
      "Enter a choice  of operation between 1 to 4: 2\n"
     ]
    },
    {
     "name": "stdout",
     "output_type": "stream",
     "text": [
      "multiplication of two number is 600\n"
     ]
    }
   ],
   "source": [
    "num1=eval(input(\"Enter  first number:\"))\n",
    "num2=eval(input(\"Enter second number:\"))\n",
    "print(\"Enter operation 1 for addition\")\n",
    "print(\"Enter operation 2 for mul\")\n",
    "print(\"Enter operation 3 for sub\")\n",
    "print(\"Enter operation 4 for div\")\n",
    "op=input(\"Enter a choice  of operation between 1 to 4:\")\n",
    "if op=='1':\n",
    "    sum=num1+num2\n",
    "    print(f\"Addition of two number is {sum}\")\n",
    "elif op=='2':\n",
    "    mul=num1*num2\n",
    "    print(f\"multiplication of two number is {mul}\")\n",
    "elif op=='3':\n",
    "    sub=num1-num2\n",
    "    print(f\"Subtraction of two number is {sub}\")\n",
    "elif op=='4':\n",
    "    div=num1/num2\n",
    "    print(f\"Division of two number is {div}\")\n",
    "else:\n",
    "    print(\"Enter a valid number\")"
   ]
  },
  {
   "cell_type": "code",
   "execution_count": null,
   "id": "095ecc6f-5b92-4deb-8943-d87950cb3746",
   "metadata": {},
   "outputs": [],
   "source": [
    "# wap ask the user enter the gender\n",
    "# if gender equal to male\n",
    "#      ask the user enter age\n",
    "#      if the age greater than 60 print SS\n",
    "#      if the age  between 30 to 60 print maman\n",
    "#      if the age  between 15 to 30 print young man\n",
    "#      otherwise print boy\n",
    "# elif gender equal to female\n",
    "#      ask the user enter age\n",
    "#      if the age greater than 60 print SS\n",
    "#      if the age  between 30 to 60 print mawoman\n",
    "#      if the age  between 15 to 30 print young Girl\n",
    "#      otherwise print Girl\n",
    "# Otherwise:\n",
    "#      print enter a valid gender"
   ]
  },
  {
   "cell_type": "code",
   "execution_count": 6,
   "id": "681cc757-499e-4f71-be55-d88d52cf1c8f",
   "metadata": {},
   "outputs": [
    {
     "name": "stdin",
     "output_type": "stream",
     "text": [
      "Enter the Gender (male/female) : male\n",
      "Enter your age: 65\n"
     ]
    },
    {
     "name": "stdout",
     "output_type": "stream",
     "text": [
      "Senior citizen\n"
     ]
    }
   ],
   "source": [
    "gender=input(\"Enter the Gender (male/female) :\")\n",
    "if gender=='male':\n",
    "    age=eval(input(\"Enter your age:\"))\n",
    "    if age>=60:\n",
    "        print(\"Senior citizen\")\n",
    "    elif age>=30:\n",
    "        print(\"Middle age man\")\n",
    "    elif age>=15:\n",
    "        print(\"Young man\")\n",
    "    else:\n",
    "        print(\"Boy\")\n",
    "elif gender=='female':\n",
    "    age=eval(input(\"Enter your age:\"))\n",
    "    if age>=60:\n",
    "        print(\"Senior citizen\")\n",
    "    elif age>=30:\n",
    "        print(\"Middle age woman\")\n",
    "    elif age>=15:\n",
    "        print(\"Young girl\")\n",
    "    else:\n",
    "        print(\"Kid\")\n",
    "\n",
    "else:\n",
    "    print(\"enter a valid gender\")"
   ]
  },
  {
   "cell_type": "code",
   "execution_count": null,
   "id": "d9a14511-fff7-4999-ae31-b395a9bbc44e",
   "metadata": {},
   "outputs": [],
   "source": [
    "# wap ask the user enter a number\n",
    "# if that number greater than or equal to zero\n",
    "#       if number equal to zero\n",
    "#             print zero\n",
    "#       else\n",
    "#          print postive\n",
    "# else\n",
    "#      print negative"
   ]
  },
  {
   "cell_type": "code",
   "execution_count": 9,
   "id": "e03a27f6-a1b4-4764-ac7c-eab690b8caf0",
   "metadata": {},
   "outputs": [
    {
     "name": "stdin",
     "output_type": "stream",
     "text": [
      "Enter a number 0\n"
     ]
    },
    {
     "name": "stdout",
     "output_type": "stream",
     "text": [
      "Zero\n"
     ]
    }
   ],
   "source": [
    "num = eval(input(\"Enter a number\"))\n",
    "if num >= 0:\n",
    "    if num == 0:\n",
    "        print(\"Zero\")\n",
    "    else:\n",
    "        print(\"Postive\")\n",
    "else:\n",
    "    print(\"Negative\")"
   ]
  },
  {
   "cell_type": "code",
   "execution_count": null,
   "id": "905298b1-f6de-43c5-b2c2-d8b21914cba0",
   "metadata": {},
   "outputs": [],
   "source": [
    "# take theree numbers\n",
    "# num1  num2  num3\n",
    "# find the maximum value"
   ]
  }
 ],
 "metadata": {
  "kernelspec": {
   "display_name": "Python 3 (ipykernel)",
   "language": "python",
   "name": "python3"
  },
  "language_info": {
   "codemirror_mode": {
    "name": "ipython",
    "version": 3
   },
   "file_extension": ".py",
   "mimetype": "text/x-python",
   "name": "python",
   "nbconvert_exporter": "python",
   "pygments_lexer": "ipython3",
   "version": "3.11.7"
  }
 },
 "nbformat": 4,
 "nbformat_minor": 5
}
