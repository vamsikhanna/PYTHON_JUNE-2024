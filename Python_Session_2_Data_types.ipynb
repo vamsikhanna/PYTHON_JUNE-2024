{
 "cells": [
  {
   "cell_type": "markdown",
   "id": "ae43e866-3f98-4e8c-b19f-64fc716bf9d0",
   "metadata": {},
   "source": [
    "**Data types**\n",
    "\n",
    "- in python type declare not required\n",
    "\n",
    "- python will automatically takes the type based on provided value\n",
    "\n",
    "- we have many data types available\n",
    "\n",
    "- The main data types are\n",
    "\n",
    "    - integer\n",
    "\n",
    "    - float\n",
    "\n",
    "    - Boolean\n",
    "\n",
    "    - String\n",
    "\n",
    "- List \n",
    "\n",
    "- Dictionary\n",
    "\n",
    "- tuple\n",
    "\n",
    "- Complex"
   ]
  },
  {
   "cell_type": "markdown",
   "id": "d2b6c896-44c0-4c15-aaf0-4aae57195978",
   "metadata": {},
   "source": [
    "**integer**\n"
   ]
  },
  {
   "cell_type": "code",
   "execution_count": 1,
   "id": "22cfafeb-2d77-490d-9dd3-c49a92e46645",
   "metadata": {},
   "outputs": [
    {
     "data": {
      "text/plain": [
       "int"
      ]
     },
     "execution_count": 1,
     "metadata": {},
     "output_type": "execute_result"
    }
   ],
   "source": [
    "n=100\n",
    "type(n)"
   ]
  },
  {
   "cell_type": "markdown",
   "id": "a730b181-67f6-450a-b911-ffc42eed502b",
   "metadata": {},
   "source": [
    "- binary representation\n",
    "\n",
    "- octa representation\n",
    "\n",
    "- hexa represenation"
   ]
  },
  {
   "cell_type": "code",
   "execution_count": null,
   "id": "c43f425f-0fc0-4be7-a306-1a3e56c9faa9",
   "metadata": {},
   "outputs": [],
   "source": [
    "100000\n",
    "100\n",
    "200"
   ]
  },
  {
   "cell_type": "markdown",
   "id": "6548ab0d-a8e5-4ec9-9a0d-8626ecd5f13b",
   "metadata": {},
   "source": [
    "**Binary**\n",
    "\n",
    "- bi  mean 2 \n",
    "\n",
    "- so it requires 2 digits\n",
    "\n",
    "- Generally we have 0 1 2 3 4 5 6 7 8 9\n",
    "\n",
    "- So it will represent with only 0 and 1\n",
    "\n",
    "- representation is  0b10,0b01111, 0B111\n",
    "\n",
    "- wrong representation is  0b102, 0b007"
   ]
  },
  {
   "cell_type": "code",
   "execution_count": 3,
   "id": "69d56963-15ac-4ea2-bc6c-de242afbb7c6",
   "metadata": {},
   "outputs": [
    {
     "data": {
      "text/plain": [
       "5"
      ]
     },
     "execution_count": 3,
     "metadata": {},
     "output_type": "execute_result"
    }
   ],
   "source": [
    "0b101"
   ]
  },
  {
   "cell_type": "code",
   "execution_count": 4,
   "id": "2f4cdbea-5047-4f7f-a05a-c0f5e9eea77e",
   "metadata": {},
   "outputs": [
    {
     "data": {
      "text/plain": [
       "9"
      ]
     },
     "execution_count": 4,
     "metadata": {},
     "output_type": "execute_result"
    }
   ],
   "source": [
    "0b1001"
   ]
  },
  {
   "cell_type": "code",
   "execution_count": 5,
   "id": "1501cf6e-98a7-45e0-9913-9d3408cbd848",
   "metadata": {},
   "outputs": [
    {
     "data": {
      "text/plain": [
       "5"
      ]
     },
     "execution_count": 5,
     "metadata": {},
     "output_type": "execute_result"
    }
   ],
   "source": [
    "0b101\n"
   ]
  },
  {
   "cell_type": "code",
   "execution_count": 1,
   "id": "97743d45-7267-4823-8f6a-4bcf9d78e4ef",
   "metadata": {},
   "outputs": [],
   "source": [
    "import os"
   ]
  },
  {
   "cell_type": "code",
   "execution_count": 2,
   "id": "66074542-5f8f-4350-b8ea-ea3e700a1eae",
   "metadata": {},
   "outputs": [
    {
     "data": {
      "text/plain": [
       "'C:\\\\Users\\\\omkar\\\\OneDrive\\\\Documents\\\\Data science\\\\Naresh IT\\\\Naresh IT\\\\Data science\\\\Batches\\\\Batch-9_June\\\\Python'"
      ]
     },
     "execution_count": 2,
     "metadata": {},
     "output_type": "execute_result"
    }
   ],
   "source": [
    "os.getcwd()\n",
    "\n",
    "# get current working directory\n",
    "# It wil give the path\n",
    "# where our python file located"
   ]
  },
  {
   "cell_type": "code",
   "execution_count": 3,
   "id": "32ec9588-da0d-4019-8620-48e0970a03cb",
   "metadata": {},
   "outputs": [
    {
     "data": {
      "text/plain": [
       "15"
      ]
     },
     "execution_count": 3,
     "metadata": {},
     "output_type": "execute_result"
    }
   ],
   "source": [
    "# Binary \n",
    "\n",
    "0b1111"
   ]
  },
  {
   "cell_type": "code",
   "execution_count": null,
   "id": "85478f0e-46ab-42c9-b1ee-06524b7db674",
   "metadata": {},
   "outputs": [],
   "source": [
    "8  4  2   1    num\n",
    "0   0  0   0     0\n",
    "0   0  0   1     1\n",
    "0   0  1   0     2\n",
    "0   0  1   1     3\n",
    "0   1  0   0     4\n",
    "0   1  0   1     5\n",
    "0   1  1   0     6\n",
    "0   1  1   1     7\n",
    "1   0  0   0     8\n",
    "1   0  0   1     9\n",
    "1   0  1   0     10\n",
    "1   0  1   1     11\n",
    "1   1  0   0     12\n",
    "1   1  0   1     13\n",
    "1   1  1   0     14\n",
    "1   1  1   1     15\n",
    "\n",
    "8  4   2   1"
   ]
  },
  {
   "cell_type": "code",
   "execution_count": 4,
   "id": "c546a275-9245-45f4-8dc7-1a1ee2462ffe",
   "metadata": {},
   "outputs": [
    {
     "data": {
      "text/plain": [
       "29"
      ]
     },
     "execution_count": 4,
     "metadata": {},
     "output_type": "execute_result"
    }
   ],
   "source": [
    "0b11101"
   ]
  },
  {
   "cell_type": "code",
   "execution_count": 5,
   "id": "9252a8c4-2048-43a0-b8da-0db1058b820b",
   "metadata": {},
   "outputs": [
    {
     "data": {
      "text/plain": [
       "59"
      ]
     },
     "execution_count": 5,
     "metadata": {},
     "output_type": "execute_result"
    }
   ],
   "source": [
    "0b111011"
   ]
  },
  {
   "cell_type": "markdown",
   "id": "3fca0564-8aa2-4a7f-badd-714cf3b3573c",
   "metadata": {},
   "source": [
    "**octal**\n",
    "\n",
    "- octa  mean 8 \n",
    "\n",
    "- so it requires 8 digits\n",
    "\n",
    "- Generally we have 0 1 2 3 4 5 6 7 8 9\n",
    "\n",
    "- So it will represent with only 0 1 2 3 4 5 6 7\n",
    "\n",
    "- representation is  0o123,0O012345, 0o7654321\n",
    "\n",
    "- wrong representation is  0o108, 0o987"
   ]
  },
  {
   "cell_type": "code",
   "execution_count": 6,
   "id": "26abc60b-38d2-41d4-81b5-fae983540174",
   "metadata": {},
   "outputs": [
    {
     "data": {
      "text/plain": [
       "83"
      ]
     },
     "execution_count": 6,
     "metadata": {},
     "output_type": "execute_result"
    }
   ],
   "source": [
    "0o123"
   ]
  },
  {
   "cell_type": "code",
   "execution_count": 7,
   "id": "e7c543ea-4d5c-49c8-bd74-90a9378c7765",
   "metadata": {},
   "outputs": [
    {
     "data": {
      "text/plain": [
       "668"
      ]
     },
     "execution_count": 7,
     "metadata": {},
     "output_type": "execute_result"
    }
   ],
   "source": [
    "0o1234"
   ]
  },
  {
   "cell_type": "markdown",
   "id": "292ab5e2-da7e-4d91-b08e-af2b3575684a",
   "metadata": {},
   "source": [
    "**hexa**\n",
    "\n",
    "- hexa  mean 16 \n",
    "\n",
    "- so it requires 16 digits\n",
    "\n",
    "- Generally we have 0 1 2 3 4 5 6 7 8 9  A(10) B(11) C(12)  D(13)  E(14)  F(15)\n",
    "\n",
    "- So it will represent with only 0-9  A-F\n",
    "\n",
    "- representation is  0xF9,0X0123abc, 0xabc\n",
    "\n",
    "- wrong representation is  0xGH, 0xABCDEFG"
   ]
  },
  {
   "cell_type": "code",
   "execution_count": 10,
   "id": "2f283fb0-5b82-4f14-a457-675a3c72196c",
   "metadata": {},
   "outputs": [
    {
     "data": {
      "text/plain": [
       "2748"
      ]
     },
     "execution_count": 10,
     "metadata": {},
     "output_type": "execute_result"
    }
   ],
   "source": [
    "0xabc"
   ]
  },
  {
   "cell_type": "code",
   "execution_count": 9,
   "id": "e5b56ee8-ec5d-463b-a1b0-bc54ebda20a5",
   "metadata": {},
   "outputs": [
    {
     "data": {
      "text/plain": [
       "4671"
      ]
     },
     "execution_count": 9,
     "metadata": {},
     "output_type": "execute_result"
    }
   ],
   "source": [
    "0x123f  # 4671"
   ]
  },
  {
   "cell_type": "markdown",
   "id": "3fae154b-41a0-425f-980e-8ff82598bfde",
   "metadata": {},
   "source": [
    "**float**\n"
   ]
  },
  {
   "cell_type": "code",
   "execution_count": 12,
   "id": "867aa87a-d04c-4714-a50a-8acf0e53f256",
   "metadata": {},
   "outputs": [
    {
     "data": {
      "text/plain": [
       "float"
      ]
     },
     "execution_count": 12,
     "metadata": {},
     "output_type": "execute_result"
    }
   ],
   "source": [
    "n1=1005.00\n",
    "type(n1)"
   ]
  },
  {
   "cell_type": "code",
   "execution_count": 13,
   "id": "48a1b412-d028-4b37-9e5e-02425c232c25",
   "metadata": {},
   "outputs": [
    {
     "data": {
      "text/plain": [
       "int"
      ]
     },
     "execution_count": 13,
     "metadata": {},
     "output_type": "execute_result"
    }
   ],
   "source": [
    "n2=1005\n",
    "type(n2)"
   ]
  },
  {
   "cell_type": "code",
   "execution_count": 17,
   "id": "207a0ffb-293b-44ed-9d7f-54a6011999c6",
   "metadata": {},
   "outputs": [
    {
     "data": {
      "text/plain": [
       "(10.0, 100.0, 1000.0, 10000.0)"
      ]
     },
     "execution_count": 17,
     "metadata": {},
     "output_type": "execute_result"
    }
   ],
   "source": [
    "1e1,1e2,1e3,1e4\n",
    "# kep=k*10^p"
   ]
  },
  {
   "cell_type": "code",
   "execution_count": 18,
   "id": "b9fc2a64-d474-4709-b650-bcd935087c4f",
   "metadata": {},
   "outputs": [
    {
     "data": {
      "text/plain": [
       "24000.0"
      ]
     },
     "execution_count": 18,
     "metadata": {},
     "output_type": "execute_result"
    }
   ],
   "source": [
    "24e3\n",
    "# 24*10^3"
   ]
  },
  {
   "cell_type": "code",
   "execution_count": 19,
   "id": "3517c958-5c85-4dd4-b238-4213fbdb62a2",
   "metadata": {},
   "outputs": [
    {
     "data": {
      "text/plain": [
       "(10.0, 100.0, 1000.0, 10000.0)"
      ]
     },
     "execution_count": 19,
     "metadata": {},
     "output_type": "execute_result"
    }
   ],
   "source": [
    "1e+1,1e+2,1e+3,1e+4"
   ]
  },
  {
   "cell_type": "code",
   "execution_count": 20,
   "id": "2ce0024a-b0f0-4ca3-b68f-d5397f50d79c",
   "metadata": {},
   "outputs": [
    {
     "data": {
      "text/plain": [
       "0.024"
      ]
     },
     "execution_count": 20,
     "metadata": {},
     "output_type": "execute_result"
    }
   ],
   "source": [
    "24e-3  # 24/1000= 0.024"
   ]
  },
  {
   "cell_type": "markdown",
   "id": "4048e16c-7ea1-47ee-808f-b6b4679e5274",
   "metadata": {},
   "source": [
    "-  postive sign means multiply \n",
    "\n",
    "-  negative means divide"
   ]
  },
  {
   "cell_type": "markdown",
   "id": "cb4d1b5b-c19a-4417-b695-662376752985",
   "metadata": {},
   "source": [
    "**strings**"
   ]
  },
  {
   "cell_type": "markdown",
   "id": "3e2f8eb0-9e88-4dc8-b552-aa7ebbd53b0a",
   "metadata": {},
   "source": [
    "- strings are used to represnt the english charcters generally\n",
    "\n",
    "- strings will represent in \n",
    "\n",
    "    - single quotes\n",
    "\n",
    "    - double quotes\n",
    "\n",
    "    - triple quotes"
   ]
  },
  {
   "cell_type": "code",
   "execution_count": 22,
   "id": "a8012a71-06af-4163-8ddc-959ad55c70aa",
   "metadata": {},
   "outputs": [
    {
     "data": {
      "text/plain": [
       "str"
      ]
     },
     "execution_count": 22,
     "metadata": {},
     "output_type": "execute_result"
    }
   ],
   "source": [
    "name='python'\n",
    "type(name)"
   ]
  },
  {
   "cell_type": "code",
   "execution_count": 23,
   "id": "3139cb69-375d-407a-ae42-525c25e54d70",
   "metadata": {},
   "outputs": [
    {
     "data": {
      "text/plain": [
       "str"
      ]
     },
     "execution_count": 23,
     "metadata": {},
     "output_type": "execute_result"
    }
   ],
   "source": [
    "name1=\"omkar\"\n",
    "type(name1)"
   ]
  },
  {
   "cell_type": "code",
   "execution_count": 24,
   "id": "7809c135-b620-4f82-8fe0-990e601a0db5",
   "metadata": {},
   "outputs": [
    {
     "data": {
      "text/plain": [
       "str"
      ]
     },
     "execution_count": 24,
     "metadata": {},
     "output_type": "execute_result"
    }
   ],
   "source": [
    "name2='10'\n",
    "type(name2)"
   ]
  },
  {
   "cell_type": "code",
   "execution_count": 25,
   "id": "cae3adc0-30ea-4147-819f-57219e9a47c0",
   "metadata": {},
   "outputs": [
    {
     "data": {
      "text/plain": [
       "str"
      ]
     },
     "execution_count": 25,
     "metadata": {},
     "output_type": "execute_result"
    }
   ],
   "source": [
    "email_id='naresh123@gamil.com'\n",
    "type(email_id)"
   ]
  },
  {
   "cell_type": "markdown",
   "id": "65ac1564-4e4f-4ad5-80cb-e61ed9effb43",
   "metadata": {},
   "source": [
    "**RED COLOUR MEANS STRINGS**\n",
    "\n",
    "**GREEN COLOUR MEANS KEYWORDS**\n",
    "\n",
    "**BLACK COLOUR MEANS VARIABLES**"
   ]
  },
  {
   "cell_type": "code",
   "execution_count": 26,
   "id": "ee1a5f05-4ed9-4359-bd82-ff4afd0992c6",
   "metadata": {},
   "outputs": [],
   "source": [
    "name='python'\n",
    "name1=\"python\""
   ]
  },
  {
   "cell_type": "code",
   "execution_count": 27,
   "id": "66159959-ff70-4138-8674-8171871e0409",
   "metadata": {},
   "outputs": [
    {
     "data": {
      "text/plain": [
       "'python'"
      ]
     },
     "execution_count": 27,
     "metadata": {},
     "output_type": "execute_result"
    }
   ],
   "source": [
    "name"
   ]
  },
  {
   "cell_type": "code",
   "execution_count": 28,
   "id": "ae70e984-2bae-4f88-8fa1-641235922d6a",
   "metadata": {},
   "outputs": [
    {
     "data": {
      "text/plain": [
       "'python'"
      ]
     },
     "execution_count": 28,
     "metadata": {},
     "output_type": "execute_result"
    }
   ],
   "source": [
    "name1"
   ]
  },
  {
   "cell_type": "markdown",
   "id": "8fc853a2-4553-47eb-84bf-06b506962b04",
   "metadata": {},
   "source": [
    "- output always in single quotes"
   ]
  },
  {
   "cell_type": "code",
   "execution_count": 29,
   "id": "f4e634c4-46b5-46f3-a7a1-77f1d46dad71",
   "metadata": {},
   "outputs": [
    {
     "name": "stdout",
     "output_type": "stream",
     "text": [
      "python\n"
     ]
    }
   ],
   "source": [
    "print(name)"
   ]
  },
  {
   "cell_type": "markdown",
   "id": "d427e0e5-cb56-4d39-9527-a641c58713e8",
   "metadata": {},
   "source": [
    "- whenever you print quotes will not visible"
   ]
  },
  {
   "cell_type": "code",
   "execution_count": 32,
   "id": "2ff7cb69-62df-424e-ada9-2edad1d554d8",
   "metadata": {},
   "outputs": [
    {
     "name": "stdout",
     "output_type": "stream",
     "text": [
      "i like 'python'\n"
     ]
    }
   ],
   "source": [
    "name=\"i like 'python'\"\n",
    "print(name)"
   ]
  },
  {
   "cell_type": "code",
   "execution_count": 33,
   "id": "148b289c-bb80-40b1-82b7-af306c593bc5",
   "metadata": {},
   "outputs": [
    {
     "name": "stdout",
     "output_type": "stream",
     "text": [
      "i like \"python\"\n"
     ]
    }
   ],
   "source": [
    "str='i like \"python\"'\n",
    "print(str)"
   ]
  },
  {
   "cell_type": "code",
   "execution_count": 34,
   "id": "2a074b79-aeb9-4588-b1fd-1bed47980e07",
   "metadata": {},
   "outputs": [
    {
     "data": {
      "text/plain": [
       "\"i like 'python'\""
      ]
     },
     "execution_count": 34,
     "metadata": {},
     "output_type": "execute_result"
    }
   ],
   "source": [
    "name"
   ]
  },
  {
   "cell_type": "markdown",
   "id": "8520e533-8f53-45f3-b0b5-04c5e3f95927",
   "metadata": {},
   "source": [
    "- Entire string in double quotes the highilted word in single quote vice versa"
   ]
  },
  {
   "cell_type": "markdown",
   "id": "b9d0fb78-af68-42e2-9a0a-736fa1f92013",
   "metadata": {},
   "source": [
    "***Triple quotes**\n",
    "\n",
    "- Triple quotes is not used for coding\n",
    "\n",
    "- Triple quotes is used to provide the information to the user\n",
    "\n",
    "- In order to provide the information in jupyter notebook we will Markdown\n",
    "\n",
    "- In vscode or pycharm there is no markdown option\n",
    "\n",
    "- Thatswhy the world start used to write the information in triple quotes\n",
    "\n",
    "- This entire process is called **Doc String**"
   ]
  },
  {
   "cell_type": "code",
   "execution_count": 35,
   "id": "f82e8f32-733c-4a74-ad97-72059b20c37c",
   "metadata": {},
   "outputs": [
    {
     "data": {
      "text/plain": [
       "'\\nhello\\nim writing python code\\nthis python\\n'"
      ]
     },
     "execution_count": 35,
     "metadata": {},
     "output_type": "execute_result"
    }
   ],
   "source": [
    "\"\"\"\n",
    "hello\n",
    "im writing python code\n",
    "this python\n",
    "\"\"\""
   ]
  },
  {
   "cell_type": "markdown",
   "id": "68c550b9-5b18-43e1-b30d-622ae2556802",
   "metadata": {},
   "source": [
    "**Boolean**"
   ]
  },
  {
   "cell_type": "code",
   "execution_count": 36,
   "id": "6d0fa6cf-09eb-4cb6-8151-6820a515001f",
   "metadata": {},
   "outputs": [
    {
     "data": {
      "text/plain": [
       "bool"
      ]
     },
     "execution_count": 36,
     "metadata": {},
     "output_type": "execute_result"
    }
   ],
   "source": [
    "value=True\n",
    "type(value)"
   ]
  },
  {
   "cell_type": "code",
   "execution_count": 37,
   "id": "3d11bc85-30d4-4b46-ba80-1ca9afd2f057",
   "metadata": {},
   "outputs": [
    {
     "data": {
      "text/plain": [
       "bool"
      ]
     },
     "execution_count": 37,
     "metadata": {},
     "output_type": "execute_result"
    }
   ],
   "source": [
    "value1=False\n",
    "type(value1)"
   ]
  },
  {
   "cell_type": "code",
   "execution_count": null,
   "id": "005c7140-d250-4a3f-9a94-ccb2b8800186",
   "metadata": {},
   "outputs": [],
   "source": [
    "true=\"True\"\n",
    "false=False\n",
    "\n",
    "# true and false are variables\n",
    "# type true is String\n",
    "# type false is boolean"
   ]
  }
 ],
 "metadata": {
  "kernelspec": {
   "display_name": "Python 3 (ipykernel)",
   "language": "python",
   "name": "python3"
  },
  "language_info": {
   "codemirror_mode": {
    "name": "ipython",
    "version": 3
   },
   "file_extension": ".py",
   "mimetype": "text/x-python",
   "name": "python",
   "nbconvert_exporter": "python",
   "pygments_lexer": "ipython3",
   "version": "3.11.7"
  }
 },
 "nbformat": 4,
 "nbformat_minor": 5
}
