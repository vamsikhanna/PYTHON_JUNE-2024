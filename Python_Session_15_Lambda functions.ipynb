{
 "cells": [
  {
   "cell_type": "markdown",
   "id": "d32ba725-2456-4ed6-b749-29bf6126e81b",
   "metadata": {},
   "source": [
    "**Lambda functions**\n",
    "\n",
    "- Lambda functions represnts function concept\n",
    "\n",
    "- But we can write in a single line\n",
    "\n",
    "- Like list comprehension, lambda functions similar only\n",
    "\n",
    "- It will decrease the time complexity\n",
    "\n",
    "- always remember if we use many for loops or many conditions using multiple line , the time complexity will increase"
   ]
  },
  {
   "cell_type": "code",
   "execution_count": null,
   "id": "0464337e-a5c9-4ac8-b518-8e5359b7b356",
   "metadata": {},
   "outputs": [],
   "source": [
    "**It will use a keyword lambda**\n",
    "\n",
    "# lambda <arguments>: <expression>"
   ]
  },
  {
   "cell_type": "code",
   "execution_count": null,
   "id": "01409952-f9f0-4344-9c09-23666d019a60",
   "metadata": {},
   "outputs": [],
   "source": [
    "What is the interview process for a data science position with 3 years of experience?\n",
    "\n",
    "1) coding+sql\n",
    "2) based on ML DL \n",
    "3) Techn: 2,3\n",
    "\n",
    "bond : 1.5 bonus \n",
    "\n",
    "ds2 === 2 2ppl\n",
    "ds3 ==== \n",
    "\n",
    "do you know "
   ]
  },
  {
   "cell_type": "code",
   "execution_count": null,
   "id": "c832a194-f51c-4de0-ad52-4184282e1f90",
   "metadata": {},
   "outputs": [],
   "source": [
    "strings\n",
    "list\n",
    "tuple set\n",
    "dictionary\n",
    "landad\n",
    "file handling \n",
    "\n",
    "oops : kwargs\n",
    "\n",
    "Sir do we have right to break bond with company\n"
   ]
  },
  {
   "cell_type": "code",
   "execution_count": 1,
   "id": "0262b554-946c-48e0-af0c-299be4c89b44",
   "metadata": {},
   "outputs": [
    {
     "data": {
      "text/plain": [
       "20"
      ]
     },
     "execution_count": 1,
     "metadata": {},
     "output_type": "execute_result"
    }
   ],
   "source": [
    "def summ(n):\n",
    "    return(n+10)\n",
    "summ(10)"
   ]
  },
  {
   "cell_type": "markdown",
   "id": "ff5081ce-9e97-4152-9757-93032192ec35",
   "metadata": {},
   "source": [
    "$Pattern-1$\n",
    "\n",
    "**Function with only one argument**\n",
    "\n",
    "- function name\n",
    "\n",
    "- argument name\n",
    "\n",
    "- return output"
   ]
  },
  {
   "cell_type": "code",
   "execution_count": null,
   "id": "51d89ab9-e5e1-4dea-9499-8195e3bab9ba",
   "metadata": {},
   "outputs": [],
   "source": [
    "# syntax: <function name>= lambda <argument name>: <return output>\n",
    "def summ(n):\n",
    "    return(n+10)\n",
    "summ(10)\n",
    "\n",
    "# function name= summ\n",
    "# argument name = n\n",
    "# return output= n+10"
   ]
  },
  {
   "cell_type": "code",
   "execution_count": 4,
   "id": "76ab3606-d687-42c7-95da-0959217a6a2f",
   "metadata": {},
   "outputs": [
    {
     "data": {
      "text/plain": [
       "110"
      ]
     },
     "execution_count": 4,
     "metadata": {},
     "output_type": "execute_result"
    }
   ],
   "source": [
    "summ= lambda n:n+10\n",
    "summ(100)"
   ]
  },
  {
   "cell_type": "code",
   "execution_count": 5,
   "id": "9503be4e-14f5-4b8b-a8b2-8efed5d720e6",
   "metadata": {},
   "outputs": [
    {
     "data": {
      "text/plain": [
       "1000"
      ]
     },
     "execution_count": 5,
     "metadata": {},
     "output_type": "execute_result"
    }
   ],
   "source": [
    "def cube(n):\n",
    "    return(n**3)\n",
    "cube(10)"
   ]
  },
  {
   "cell_type": "code",
   "execution_count": 7,
   "id": "82786e6f-2e2d-4108-98c1-31414b4c1892",
   "metadata": {},
   "outputs": [
    {
     "data": {
      "text/plain": [
       "1000"
      ]
     },
     "execution_count": 7,
     "metadata": {},
     "output_type": "execute_result"
    }
   ],
   "source": [
    "cube= lambda n:n**3\n",
    "cube(10)"
   ]
  },
  {
   "cell_type": "markdown",
   "id": "120c9fba-d579-4c6a-a177-92aafc7aca84",
   "metadata": {},
   "source": [
    "**pattern-2**\n",
    "\n",
    "**Two arguments**"
   ]
  },
  {
   "cell_type": "code",
   "execution_count": 8,
   "id": "91cdbe4d-b66d-4b20-b27a-dab24528b616",
   "metadata": {},
   "outputs": [
    {
     "data": {
      "text/plain": [
       "100"
      ]
     },
     "execution_count": 8,
     "metadata": {},
     "output_type": "execute_result"
    }
   ],
   "source": [
    "# syntax :  <function name>= lambda <arg1>,<arg2>: <return output>\n",
    "def add(a,b):\n",
    "    return(a+b)\n",
    "add(50,50)\n",
    "\n",
    "# Function name: add\n",
    "# arg1=a\n",
    "# arg2=b\n",
    "# return= a+b"
   ]
  },
  {
   "cell_type": "code",
   "execution_count": 10,
   "id": "e65deb52-5d53-40b3-84b7-be1f53b55615",
   "metadata": {},
   "outputs": [
    {
     "data": {
      "text/plain": [
       "110"
      ]
     },
     "execution_count": 10,
     "metadata": {},
     "output_type": "execute_result"
    }
   ],
   "source": [
    "add=lambda n1,n2: n1+n2\n",
    "add(60,50)"
   ]
  },
  {
   "cell_type": "code",
   "execution_count": 13,
   "id": "faaf34f6-0139-4132-9e76-07fd0de10806",
   "metadata": {},
   "outputs": [
    {
     "data": {
      "text/plain": [
       "80.67"
      ]
     },
     "execution_count": 13,
     "metadata": {},
     "output_type": "execute_result"
    }
   ],
   "source": [
    "average=lambda a,b,c:round((a+b+c)/3,2)\n",
    "average(10,202,30)"
   ]
  },
  {
   "cell_type": "markdown",
   "id": "06752811-7716-4b9f-a55f-a976f9cdef16",
   "metadata": {},
   "source": [
    "**Pattern-3**\n",
    "\n",
    "**Default arguments**"
   ]
  },
  {
   "cell_type": "code",
   "execution_count": 14,
   "id": "dc94ca78-cb6d-4648-b2e4-ba0588e5f208",
   "metadata": {},
   "outputs": [
    {
     "data": {
      "text/plain": [
       "237.33"
      ]
     },
     "execution_count": 14,
     "metadata": {},
     "output_type": "execute_result"
    }
   ],
   "source": [
    "average=lambda a,b,c=500:round((a+b+c)/3,2)\n",
    "average(10,202)"
   ]
  },
  {
   "cell_type": "markdown",
   "id": "49a47db6-c4e6-49e8-bfb6-6c45304d0499",
   "metadata": {},
   "source": [
    "**Pattern-4**\n",
    "\n",
    "**if-else**"
   ]
  },
  {
   "cell_type": "code",
   "execution_count": 15,
   "id": "99067cc7-7324-4a79-a190-ec3e1e175370",
   "metadata": {},
   "outputs": [
    {
     "data": {
      "text/plain": [
       "20"
      ]
     },
     "execution_count": 15,
     "metadata": {},
     "output_type": "execute_result"
    }
   ],
   "source": [
    "def max(a,b):\n",
    "    if a>b:\n",
    "        return(a)\n",
    "    else:\n",
    "        return(b)\n",
    "max(10,20)"
   ]
  },
  {
   "cell_type": "code",
   "execution_count": 17,
   "id": "b4c8b497-acb7-47bf-a8e3-2d29f76fba1c",
   "metadata": {},
   "outputs": [
    {
     "data": {
      "text/plain": [
       "30"
      ]
     },
     "execution_count": 17,
     "metadata": {},
     "output_type": "execute_result"
    }
   ],
   "source": [
    "# syntax : function name = lambda <arg1>,<arg2>: <list comprehension>\n",
    "# syntax : function name = lambda <arg1>,<arg2>: <if_out><if_con><else><else_out>\n",
    "maxx=lambda a,b: a if a>b else b\n",
    "maxx(30,20)"
   ]
  },
  {
   "cell_type": "markdown",
   "id": "5642153d-f036-4bcf-ae14-586c316843ed",
   "metadata": {},
   "source": [
    "**Pattern-5**\n",
    "\n",
    "**using List**"
   ]
  },
  {
   "cell_type": "code",
   "execution_count": 18,
   "id": "be51b9af-8d88-402f-aae0-5b12b3962d65",
   "metadata": {},
   "outputs": [
    {
     "data": {
      "text/plain": [
       "['Hyd', 'Chennai', 'Mumbai']"
      ]
     },
     "execution_count": 18,
     "metadata": {},
     "output_type": "execute_result"
    }
   ],
   "source": [
    "l=['hyd','chennai','mumbai']\n",
    "# op=['Hyd','Chennai','Mumbai']\n",
    "op=[]\n",
    "for i in l:\n",
    "    op.append(i.capitalize())\n",
    "op"
   ]
  },
  {
   "cell_type": "code",
   "execution_count": null,
   "id": "74a5a7b5-7939-43ad-866d-27fed3b6c0e2",
   "metadata": {},
   "outputs": [],
   "source": [
    "lambda <variable>:<op>\n",
    "# variable:i\n",
    "# op: i.capitalize()\n",
    "lambda <variable>:<op>,<iterator>\n",
    "# Qn: from where you are getting 'i'\n",
    "# <iterator>: list"
   ]
  },
  {
   "cell_type": "markdown",
   "id": "1f426e5f-fed3-4d95-97f0-4d5579436f4b",
   "metadata": {},
   "source": [
    "**map**\n",
    "\n",
    "- the function and iterator are available now\n",
    "\n",
    "- we need to map both"
   ]
  },
  {
   "cell_type": "code",
   "execution_count": 21,
   "id": "5578e46f-e356-4b2a-85bd-52a45a91814b",
   "metadata": {},
   "outputs": [
    {
     "data": {
      "text/plain": [
       "(<function __main__.<lambda>(i)>, ['hyd', 'chennai', 'mumbai'])"
      ]
     },
     "execution_count": 21,
     "metadata": {},
     "output_type": "execute_result"
    }
   ],
   "source": [
    "l=['hyd','chennai','mumbai']\n",
    "lambda i: i.capitalize(),l"
   ]
  },
  {
   "cell_type": "code",
   "execution_count": 22,
   "id": "084e7b64-4380-4d3a-859e-5fb1bfff9e57",
   "metadata": {},
   "outputs": [
    {
     "data": {
      "text/plain": [
       "<map at 0x227209e9cf0>"
      ]
     },
     "execution_count": 22,
     "metadata": {},
     "output_type": "execute_result"
    }
   ],
   "source": [
    "l=['hyd','chennai','mumbai']\n",
    "map(lambda i: i.capitalize(),l)"
   ]
  },
  {
   "cell_type": "code",
   "execution_count": 23,
   "id": "3787786f-980d-450d-ac2b-30edd729f6ef",
   "metadata": {},
   "outputs": [
    {
     "data": {
      "text/plain": [
       "['Hyd', 'Chennai', 'Mumbai']"
      ]
     },
     "execution_count": 23,
     "metadata": {},
     "output_type": "execute_result"
    }
   ],
   "source": [
    "# apply the list to see the values\n",
    "l=['hyd','chennai','mumbai']\n",
    "list(map(lambda i: i.capitalize(),l))"
   ]
  },
  {
   "cell_type": "code",
   "execution_count": 24,
   "id": "f5556f40-9048-437f-b737-519cd93c7310",
   "metadata": {},
   "outputs": [
    {
     "data": {
      "text/plain": [
       "('Hyd', 'Chennai', 'Mumbai')"
      ]
     },
     "execution_count": 24,
     "metadata": {},
     "output_type": "execute_result"
    }
   ],
   "source": [
    "l=['hyd','chennai','mumbai']\n",
    "tuple(map(lambda i: i.capitalize(),l))"
   ]
  },
  {
   "cell_type": "code",
   "execution_count": null,
   "id": "f661419e-4256-4923-919b-63422b6673af",
   "metadata": {},
   "outputs": [],
   "source": [
    "# step1: Write your normal expression\n",
    "#        ex: lambda <var>: <op>===>lambda i: i.capitalize()\n",
    "# step2: add the iterator\n",
    "#        ex: lambda <var>: <op>,<list>===>lambda i: i.capitalize(),list1\n",
    "# Step-3: Map the both\n",
    "#        ex: map(lambda <var>: <op>,<list>)===>map(lambda i: i.capitalize(),list1)\n",
    "# Step-4: save the values in a list,\n",
    "#       ex: list(map(lambda <var>: <op>,<list>))===>list(map(lambda i: i.capitalize(),list1))\n",
    "\n",
    "#Note: Those who are getting list object not callable use tuple"
   ]
  }
 ],
 "metadata": {
  "kernelspec": {
   "display_name": "Python 3 (ipykernel)",
   "language": "python",
   "name": "python3"
  },
  "language_info": {
   "codemirror_mode": {
    "name": "ipython",
    "version": 3
   },
   "file_extension": ".py",
   "mimetype": "text/x-python",
   "name": "python",
   "nbconvert_exporter": "python",
   "pygments_lexer": "ipython3",
   "version": "3.11.7"
  }
 },
 "nbformat": 4,
 "nbformat_minor": 5
}
