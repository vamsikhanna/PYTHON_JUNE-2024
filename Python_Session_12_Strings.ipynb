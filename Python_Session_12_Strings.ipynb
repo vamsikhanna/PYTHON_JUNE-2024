{
 "cells": [
  {
   "cell_type": "code",
   "execution_count": null,
   "id": "e603314a-3773-4fb7-b707-8aef23bc9703",
   "metadata": {},
   "outputs": [],
   "source": [
    "######### Python divided 3 parts #######################\n",
    "----- Basics\n",
    "1) Variables\n",
    "2) Data types\n",
    "3) Type conversions\n",
    "4) Eval input\n",
    "5) packages\n",
    "6) Conditional statements\n",
    "7) Try-execpt\n",
    "8) Functions\n",
    "9) For \n",
    "10) While ( you did this)\n",
    "\n",
    "------- Intermediate part\n",
    "11) Strings\n",
    "12) Lists\n",
    "13) Dictionary\n",
    "14) Tuples (You will do this)\n",
    "15) Sets\n",
    "16) Lambda functions\n",
    "17) File handling session\n",
    "\n",
    "--------- Advanced\n",
    "18) OOPS"
   ]
  },
  {
   "cell_type": "code",
   "execution_count": null,
   "id": "05b65ebc-94c4-402f-980f-aea460dded27",
   "metadata": {},
   "outputs": [],
   "source": [
    "==================== PART-1=====================================\n",
    "- Intiaization\n",
    "\n",
    "- type\n",
    "\n",
    "- len\n",
    "\n",
    "- max\n",
    "\n",
    "- min\n",
    "\n",
    "- sorted\n",
    "\n",
    "- reveresed\n",
    "\n",
    "- in\n",
    "\n",
    "- for loop using in\n",
    "\n",
    "- index\n",
    "\n",
    "- for loop using index\n",
    "\n",
    "- mutable\n",
    "\n",
    "- concatenation\n",
    "\n",
    "#================== PART-2=====================\n",
    "# Methods"
   ]
  },
  {
   "cell_type": "markdown",
   "id": "341fc178-ff31-453d-b906-03d903844547",
   "metadata": {},
   "source": [
    "**Intialization**"
   ]
  },
  {
   "cell_type": "code",
   "execution_count": 1,
   "id": "9862c251-0a34-4887-9a12-2ede7fefb64f",
   "metadata": {},
   "outputs": [
    {
     "data": {
      "text/plain": [
       "'python'"
      ]
     },
     "execution_count": 1,
     "metadata": {},
     "output_type": "execute_result"
    }
   ],
   "source": [
    "str1='python'\n",
    "str1"
   ]
  },
  {
   "cell_type": "code",
   "execution_count": 2,
   "id": "1c706156-382a-470a-860f-c2a904015583",
   "metadata": {},
   "outputs": [
    {
     "data": {
      "text/plain": [
       "'python'"
      ]
     },
     "execution_count": 2,
     "metadata": {},
     "output_type": "execute_result"
    }
   ],
   "source": [
    "str2=\"python\"\n",
    "str2"
   ]
  },
  {
   "cell_type": "code",
   "execution_count": 3,
   "id": "78140b6e-328c-4fc6-a658-f4b8d2f71930",
   "metadata": {},
   "outputs": [
    {
     "name": "stdout",
     "output_type": "stream",
     "text": [
      "python\n"
     ]
    }
   ],
   "source": [
    "print(str1) # Do not confuse Im not seeing the quotes"
   ]
  },
  {
   "cell_type": "markdown",
   "id": "240d3e8f-b3d5-4a89-b55a-a0680e41af99",
   "metadata": {},
   "source": [
    "**Note**\n",
    "\n",
    "- If we mentioned single quotes or double quotes by default python provides in single quotes only\n",
    "\n",
    "- If we print the strings, we will answer with out quotes"
   ]
  },
  {
   "cell_type": "markdown",
   "id": "fe4b0198-8482-47e2-9548-21d46973a8eb",
   "metadata": {},
   "source": [
    "**Triple quotes**"
   ]
  },
  {
   "cell_type": "code",
   "execution_count": 4,
   "id": "e07af372-6c95-45f7-91a7-4dc553825eb9",
   "metadata": {},
   "outputs": [
    {
     "data": {
      "text/plain": [
       "'hi how are you\\n        im good'"
      ]
     },
     "execution_count": 4,
     "metadata": {},
     "output_type": "execute_result"
    }
   ],
   "source": [
    "str3=\"\"\"hi how are you\n",
    "        im good\"\"\"\n",
    "str3"
   ]
  },
  {
   "cell_type": "code",
   "execution_count": 5,
   "id": "f8ab4e05-8b77-4a3c-a947-d413c06aec41",
   "metadata": {},
   "outputs": [
    {
     "name": "stdout",
     "output_type": "stream",
     "text": [
      "hi how are you\n",
      "        im good\n"
     ]
    }
   ],
   "source": [
    "print(str3)"
   ]
  },
  {
   "cell_type": "markdown",
   "id": "fcf4b3ae-216e-449d-8c9d-2b7e2b61b319",
   "metadata": {},
   "source": [
    "**Note**\n",
    "\n",
    "- If we mentioned single quotes or double quotes by default python provides in single quotes only\n",
    "\n",
    "- If we print the strings, we will answer with out quotes\n",
    "\n",
    "- Triple quotes are using for doc string\n",
    "\n",
    "- In order to convey the information about coding part we will use doc string\n",
    "\n",
    "- anything inside the single or double quotes is considered as string in python"
   ]
  },
  {
   "cell_type": "markdown",
   "id": "2b009a0f-66c5-4211-b115-e9d0b4f1b7ba",
   "metadata": {},
   "source": [
    "**type**"
   ]
  },
  {
   "cell_type": "code",
   "execution_count": 6,
   "id": "711df577-de9e-487c-a2d6-44bf97e108a5",
   "metadata": {},
   "outputs": [
    {
     "data": {
      "text/plain": [
       "str"
      ]
     },
     "execution_count": 6,
     "metadata": {},
     "output_type": "execute_result"
    }
   ],
   "source": [
    "type(str1) # type is string time"
   ]
  },
  {
   "cell_type": "code",
   "execution_count": null,
   "id": "416fa2e2-f288-4e12-85c3-3bd63de5e34c",
   "metadata": {},
   "outputs": [],
   "source": [
    "str4='10'  # integer value in the form of string\n",
    "str5='10.5' # Float value in the for of string\n",
    "str6='123abc' # Alpha numeric in the form of strng\n",
    "str7='True'  # Boolean in the form string\n",
    "str8='sinx'\n",
    "\n",
    "# All are in quotes, means in red color : strings "
   ]
  },
  {
   "cell_type": "markdown",
   "id": "213ce6c0-33af-4bf8-b550-9f505f8e67ba",
   "metadata": {},
   "source": [
    "**len**"
   ]
  },
  {
   "cell_type": "code",
   "execution_count": 7,
   "id": "ac1c5540-30ec-4811-975b-a53c59656a1e",
   "metadata": {},
   "outputs": [
    {
     "data": {
      "text/plain": [
       "6"
      ]
     },
     "execution_count": 7,
     "metadata": {},
     "output_type": "execute_result"
    }
   ],
   "source": [
    "str1='python'\n",
    "len(str1)"
   ]
  },
  {
   "cell_type": "markdown",
   "id": "7b374267-be86-4edf-829f-cbd74b9d937b",
   "metadata": {},
   "source": [
    "**max and min**"
   ]
  },
  {
   "cell_type": "code",
   "execution_count": 8,
   "id": "712d0985-9043-46bf-b54f-3c54a554b532",
   "metadata": {},
   "outputs": [
    {
     "data": {
      "text/plain": [
       "'y'"
      ]
     },
     "execution_count": 8,
     "metadata": {},
     "output_type": "execute_result"
    }
   ],
   "source": [
    "str1='python'\n",
    "max(str1)"
   ]
  },
  {
   "cell_type": "code",
   "execution_count": 9,
   "id": "37b43e25-cc4c-44b8-acea-8242d29a859f",
   "metadata": {},
   "outputs": [
    {
     "data": {
      "text/plain": [
       "(112, 121, 116, 104, 111, 110)"
      ]
     },
     "execution_count": 9,
     "metadata": {},
     "output_type": "execute_result"
    }
   ],
   "source": [
    "ord('p'),ord('y'),ord('t'),ord('h'),ord('o'),ord('n')"
   ]
  },
  {
   "cell_type": "code",
   "execution_count": 10,
   "id": "24871cd1-f0b3-4a39-8673-c6ed9c766513",
   "metadata": {},
   "outputs": [
    {
     "data": {
      "text/plain": [
       "'h'"
      ]
     },
     "execution_count": 10,
     "metadata": {},
     "output_type": "execute_result"
    }
   ],
   "source": [
    "str1='python'\n",
    "min(str1)"
   ]
  },
  {
   "cell_type": "markdown",
   "id": "a27cc137-4f2f-4580-b1b7-ad8e76241993",
   "metadata": {},
   "source": [
    "**Keywords vs Methods**"
   ]
  },
  {
   "cell_type": "code",
   "execution_count": null,
   "id": "a7e115d9-fabb-4a38-a11f-fdf0b02e1024",
   "metadata": {},
   "outputs": [],
   "source": [
    "type(<>)\n",
    "print(<>)\n",
    "len(<>)\n",
    "max(<>)\n",
    "min(<>)\n",
    "eval(<>)\n",
    "input(<>)\n",
    "sum(<>)"
   ]
  },
  {
   "cell_type": "code",
   "execution_count": null,
   "id": "67a1c6af-c1a2-49b2-89ef-73e5fb14ecad",
   "metadata": {},
   "outputs": [],
   "source": [
    "- in order to use method we need to call package\n",
    "\n",
    "import random\n",
    "random.randint()\n",
    "\n",
    "import math\n",
    "math.sqrt()\n",
    "\n",
    "import time\n",
    "time.sleep()"
   ]
  },
  {
   "cell_type": "code",
   "execution_count": 11,
   "id": "88faa65e-43b2-44d1-9718-00de99664dd8",
   "metadata": {},
   "outputs": [
    {
     "data": {
      "text/plain": [
       "'y'"
      ]
     },
     "execution_count": 11,
     "metadata": {},
     "output_type": "execute_result"
    }
   ],
   "source": [
    "str1='python123'\n",
    "max(str1)"
   ]
  },
  {
   "cell_type": "markdown",
   "id": "8fe15332-45b0-4494-8a06-00501ec2673e",
   "metadata": {},
   "source": [
    "**sum**"
   ]
  },
  {
   "cell_type": "code",
   "execution_count": 12,
   "id": "525930c5-0099-4b85-925a-b4d015f4b32f",
   "metadata": {},
   "outputs": [
    {
     "ename": "TypeError",
     "evalue": "unsupported operand type(s) for +: 'int' and 'str'",
     "output_type": "error",
     "traceback": [
      "\u001b[1;31m---------------------------------------------------------------------------\u001b[0m",
      "\u001b[1;31mTypeError\u001b[0m                                 Traceback (most recent call last)",
      "Cell \u001b[1;32mIn[12], line 2\u001b[0m\n\u001b[0;32m      1\u001b[0m str1\u001b[38;5;241m=\u001b[39m\u001b[38;5;124m'\u001b[39m\u001b[38;5;124mpython\u001b[39m\u001b[38;5;124m'\u001b[39m\n\u001b[1;32m----> 2\u001b[0m \u001b[38;5;28msum\u001b[39m(str1)\n",
      "\u001b[1;31mTypeError\u001b[0m: unsupported operand type(s) for +: 'int' and 'str'"
     ]
    }
   ],
   "source": [
    "str1='python'\n",
    "sum(str1)"
   ]
  },
  {
   "cell_type": "code",
   "execution_count": 13,
   "id": "6607ad41-c957-4cc3-8faf-994239707217",
   "metadata": {},
   "outputs": [
    {
     "data": {
      "text/plain": [
       "'py'"
      ]
     },
     "execution_count": 13,
     "metadata": {},
     "output_type": "execute_result"
    }
   ],
   "source": [
    "'p'+'y'"
   ]
  },
  {
   "cell_type": "code",
   "execution_count": 14,
   "id": "03ac400c-32b0-4e71-87b6-24a4cef51414",
   "metadata": {},
   "outputs": [
    {
     "data": {
      "text/plain": [
       "6"
      ]
     },
     "execution_count": 14,
     "metadata": {},
     "output_type": "execute_result"
    }
   ],
   "source": [
    "sum([1,2,3])"
   ]
  },
  {
   "cell_type": "markdown",
   "id": "b0c89e63-2356-43e5-aada-00886cb140f7",
   "metadata": {},
   "source": [
    "**sorted**"
   ]
  },
  {
   "cell_type": "code",
   "execution_count": null,
   "id": "f5ea312c-5a57-400d-90fa-623eb0eefe58",
   "metadata": {},
   "outputs": [],
   "source": [
    "len('python')\n",
    "max('python')\n",
    "print('python')\n",
    "min('python')\n",
    "max('python')"
   ]
  },
  {
   "cell_type": "code",
   "execution_count": 15,
   "id": "155389a1-2ed3-40f6-97d0-5f79b91ed463",
   "metadata": {},
   "outputs": [
    {
     "data": {
      "text/plain": [
       "['h', 'n', 'o', 'p', 't', 'y']"
      ]
     },
     "execution_count": 15,
     "metadata": {},
     "output_type": "execute_result"
    }
   ],
   "source": [
    "sorted('python')"
   ]
  },
  {
   "cell_type": "markdown",
   "id": "2f4c33b7-ceea-4486-9ee4-028888c3e30b",
   "metadata": {},
   "source": [
    "- sorted gives ascending order based on ASCII numbers\n",
    "\n",
    "- sorted is kind of a function\n",
    "\n",
    "- Every function we have arguments\n",
    "\n",
    "- In that one defualt argument is **reverse=False**\n",
    "\n",
    "- By defualt sorted output gives **ascending order**\n",
    "\n",
    "- We can change the order, by providing **reverse =True**\n",
    "\n",
    "- **If we do not mention, it will give the default answer**"
   ]
  },
  {
   "cell_type": "code",
   "execution_count": 16,
   "id": "3a7e3e75-d562-43ec-8109-b01668528cff",
   "metadata": {},
   "outputs": [
    {
     "data": {
      "text/plain": [
       "['y', 't', 'p', 'o', 'n', 'h']"
      ]
     },
     "execution_count": 16,
     "metadata": {},
     "output_type": "execute_result"
    }
   ],
   "source": [
    "sorted('python',reverse=True)"
   ]
  },
  {
   "cell_type": "code",
   "execution_count": 17,
   "id": "5e8ebc1b-74f3-4dd3-bf93-6e990c52bb40",
   "metadata": {},
   "outputs": [
    {
     "data": {
      "text/plain": [
       "0j"
      ]
     },
     "execution_count": 17,
     "metadata": {},
     "output_type": "execute_result"
    }
   ],
   "source": [
    "complex()  # 0+0j"
   ]
  },
  {
   "cell_type": "code",
   "execution_count": 18,
   "id": "a3fbb6af-ff81-435e-bb59-0992364498d1",
   "metadata": {},
   "outputs": [
    {
     "data": {
      "text/plain": [
       "(10+20j)"
      ]
     },
     "execution_count": 18,
     "metadata": {},
     "output_type": "execute_result"
    }
   ],
   "source": [
    "complex(10,20)"
   ]
  },
  {
   "cell_type": "code",
   "execution_count": 19,
   "id": "41264f70-9b4b-4d71-a028-7c8836c3c563",
   "metadata": {},
   "outputs": [
    {
     "data": {
      "text/plain": [
       "(10+30j)"
      ]
     },
     "execution_count": 19,
     "metadata": {},
     "output_type": "execute_result"
    }
   ],
   "source": [
    "complex(real=10,imag=30)"
   ]
  },
  {
   "cell_type": "code",
   "execution_count": 20,
   "id": "eb999734-2e80-4f98-b455-4aeb23a62fb3",
   "metadata": {},
   "outputs": [
    {
     "ename": "TypeError",
     "evalue": "Random.randint() missing 2 required positional arguments: 'a' and 'b'",
     "output_type": "error",
     "traceback": [
      "\u001b[1;31m---------------------------------------------------------------------------\u001b[0m",
      "\u001b[1;31mTypeError\u001b[0m                                 Traceback (most recent call last)",
      "Cell \u001b[1;32mIn[20], line 2\u001b[0m\n\u001b[0;32m      1\u001b[0m \u001b[38;5;28;01mimport\u001b[39;00m \u001b[38;5;21;01mrandom\u001b[39;00m\n\u001b[1;32m----> 2\u001b[0m random\u001b[38;5;241m.\u001b[39mrandint()\n",
      "\u001b[1;31mTypeError\u001b[0m: Random.randint() missing 2 required positional arguments: 'a' and 'b'"
     ]
    }
   ],
   "source": [
    "import random\n",
    "random.randint()"
   ]
  },
  {
   "cell_type": "code",
   "execution_count": null,
   "id": "c26309f5-6c73-4ca0-96c3-adfab3bfb8f1",
   "metadata": {},
   "outputs": [],
   "source": [
    "funtion()  # Answer\n",
    "function(a,b) # this might return error, if we dont give the values of a,b\n",
    "function(a=10,b=10) # Ans"
   ]
  },
  {
   "cell_type": "code",
   "execution_count": null,
   "id": "566f3e9d-5102-4418-9e31-c96883aa29d7",
   "metadata": {},
   "outputs": [],
   "source": [
    "funtion() #  \n",
    "function(a,b) \n",
    "function(a=10,b=10) "
   ]
  },
  {
   "cell_type": "code",
   "execution_count": 21,
   "id": "1a0e050f-08d7-4bdb-9966-beaf3e6f3216",
   "metadata": {},
   "outputs": [
    {
     "data": {
      "text/plain": [
       "0.5974424274486018"
      ]
     },
     "execution_count": 21,
     "metadata": {},
     "output_type": "execute_result"
    }
   ],
   "source": [
    "import random\n",
    "random.random()  # we will get answer but answer is not in our hands"
   ]
  },
  {
   "cell_type": "code",
   "execution_count": 22,
   "id": "17c31585-28d8-4fe4-bd0a-bda0aac9d96a",
   "metadata": {},
   "outputs": [
    {
     "data": {
      "text/plain": [
       "10"
      ]
     },
     "execution_count": 22,
     "metadata": {},
     "output_type": "execute_result"
    }
   ],
   "source": [
    "import random\n",
    "random.randint(10,20) # Answer we can change"
   ]
  },
  {
   "cell_type": "code",
   "execution_count": 23,
   "id": "d493c6d4-2d83-45a7-9849-512b19b272a0",
   "metadata": {},
   "outputs": [
    {
     "data": {
      "text/plain": [
       "0j"
      ]
     },
     "execution_count": 23,
     "metadata": {},
     "output_type": "execute_result"
    }
   ],
   "source": [
    "complex()  # By default  0,0"
   ]
  },
  {
   "cell_type": "code",
   "execution_count": 24,
   "id": "e3960ae5-3a0c-4e63-a740-e612377e78d2",
   "metadata": {},
   "outputs": [
    {
     "data": {
      "text/plain": [
       "(10+20j)"
      ]
     },
     "execution_count": 24,
     "metadata": {},
     "output_type": "execute_result"
    }
   ],
   "source": [
    "complex(10,20)"
   ]
  },
  {
   "cell_type": "code",
   "execution_count": null,
   "id": "ef1bd909-f9fb-4ec1-926b-06baf393ee41",
   "metadata": {},
   "outputs": [],
   "source": [
    "sorted(iterable='python') # Error\n",
    "random.randint(a=10,b=30) # Anaswer"
   ]
  },
  {
   "cell_type": "code",
   "execution_count": null,
   "id": "e4d585b2-a658-486e-a7ee-38bd4a9d9be5",
   "metadata": {},
   "outputs": [],
   "source": [
    "sorted('python') # Anaswer\n",
    "sorted('python',reverse=True)"
   ]
  },
  {
   "cell_type": "markdown",
   "id": "a33dea53-b165-493e-ba73-ff7bd274d2fa",
   "metadata": {},
   "source": [
    "**Note**\n",
    "\n",
    "- we have arguments before / and after slash\n",
    "\n",
    "- we can use the argument names after / only\n",
    "\n",
    "- For example sorted has two arguments one is iterable and another one is reverse\n",
    "\n",
    "- iterbale is mentioned before / symbol\n",
    "\n",
    "- reverse is mentioned after / symbol\n",
    "\n",
    "- so we can use only reverse argument name while we are doing the work\n",
    "\n",
    "- we can not use iterable argument name\n",
    "\n",
    "- Instead of using iterable name , we can provide direct value at that posistion"
   ]
  },
  {
   "cell_type": "markdown",
   "id": "bf57ce3c-6507-45c2-9c78-6dece7c80c9b",
   "metadata": {},
   "source": [
    "**reversed**"
   ]
  },
  {
   "cell_type": "code",
   "execution_count": null,
   "id": "28795ca0-1024-468c-9db0-4c1e6773ab46",
   "metadata": {},
   "outputs": [],
   "source": [
    "type()\n",
    "len()\n",
    "max()\n",
    "min()\n",
    "print()\n",
    "sorted()\n"
   ]
  },
  {
   "cell_type": "code",
   "execution_count": 25,
   "id": "5f2efe8e-f95d-40b8-bbd8-1cb0cba5bffd",
   "metadata": {},
   "outputs": [
    {
     "data": {
      "text/plain": [
       "<reversed at 0x215e603b3d0>"
      ]
     },
     "execution_count": 25,
     "metadata": {},
     "output_type": "execute_result"
    }
   ],
   "source": [
    "reversed('python')"
   ]
  },
  {
   "cell_type": "markdown",
   "id": "2c351db8-cc56-446c-8544-37c0b131c636",
   "metadata": {},
   "source": [
    "- I already done my work\n",
    "\n",
    "- Your output is stored in that memory location\n",
    "\n",
    "- whenever you see this kind of answer less than and greater than symbol or memory\n",
    "\n",
    "- use for loop to see the answer"
   ]
  },
  {
   "cell_type": "code",
   "execution_count": 28,
   "id": "ccfc425c-09ba-43be-bc79-ed52dcd4cc29",
   "metadata": {},
   "outputs": [
    {
     "name": "stdout",
     "output_type": "stream",
     "text": [
      "d\n",
      "c\n",
      "y\n",
      "z\n",
      "a\n"
     ]
    }
   ],
   "source": [
    "str1='azycd'\n",
    "output=reversed(str1)\n",
    "for i in output:\n",
    "    print(i)"
   ]
  },
  {
   "cell_type": "code",
   "execution_count": 29,
   "id": "8cccdba0-7565-41c6-93e2-0bc3e8540262",
   "metadata": {},
   "outputs": [
    {
     "data": {
      "text/plain": [
       "['a', 'c', 'd', 'y', 'z']"
      ]
     },
     "execution_count": 29,
     "metadata": {},
     "output_type": "execute_result"
    }
   ],
   "source": [
    "sorted('azycd')"
   ]
  },
  {
   "cell_type": "code",
   "execution_count": null,
   "id": "906df54c-63b7-4ffa-95a0-f374fc987c2f",
   "metadata": {},
   "outputs": [],
   "source": [
    "- Intialization\n",
    "\n",
    "- type\n",
    "\n",
    "- len\n",
    "\n",
    "- max\n",
    "\n",
    "- min\n",
    "\n",
    "- sum\n",
    "\n",
    "- sorted\n",
    "\n",
    "- reveresd"
   ]
  },
  {
   "cell_type": "code",
   "execution_count": null,
   "id": "0a9c70fa-f8b2-4ae4-9143-ec9c39d05843",
   "metadata": {},
   "outputs": [],
   "source": [
    "type(<value>)\n",
    "eval(<value>)\n",
    "input(<value>)\n",
    "max(<v>)\n",
    "min()\n",
    "len()\n",
    "sum()\n",
    "sorted()\n",
    "reveresd()\n"
   ]
  },
  {
   "cell_type": "code",
   "execution_count": 1,
   "id": "9078bc98-97e0-4241-88e8-bcd8894ce422",
   "metadata": {},
   "outputs": [
    {
     "data": {
      "text/plain": [
       "['a', 'e', 'h', 'n', 'r', 's']"
      ]
     },
     "execution_count": 1,
     "metadata": {},
     "output_type": "execute_result"
    }
   ],
   "source": [
    "# sorted()\n",
    "# It will provide the values either ascending or descending\n",
    "\n",
    "sorted('naresh') # Ascending or Descending\n",
    "\n",
    "# when I run directly it will give one answer\n",
    "# the function has a default behaviour: ascending\n",
    "\n",
    "# How this default mentioned\n",
    "# we need to understand about arguments\n"
   ]
  },
  {
   "cell_type": "code",
   "execution_count": 5,
   "id": "40071a8d-f3f5-4e41-aaac-524ba5735e52",
   "metadata": {},
   "outputs": [
    {
     "data": {
      "text/plain": [
       "['s', 'r', 'n', 'h', 'e', 'a']"
      ]
     },
     "execution_count": 5,
     "metadata": {},
     "output_type": "execute_result"
    }
   ],
   "source": [
    "sorted('naresh',reverse=True)\n",
    "\n",
    "# iterable\n",
    "# key\n",
    "# reverse\n",
    "\n"
   ]
  },
  {
   "cell_type": "code",
   "execution_count": 9,
   "id": "620c8b44-f58b-4b13-922b-7a1606569d91",
   "metadata": {},
   "outputs": [
    {
     "name": "stdout",
     "output_type": "stream",
     "text": [
      "h\n",
      "s\n",
      "e\n",
      "r\n",
      "a\n",
      "n\n"
     ]
    }
   ],
   "source": [
    "for i in reversed('naresh'):\n",
    "    print(i)"
   ]
  },
  {
   "cell_type": "code",
   "execution_count": 10,
   "id": "f21a20dd-36ae-4884-a520-4e7e9fa6950f",
   "metadata": {},
   "outputs": [
    {
     "data": {
      "text/plain": [
       "[1, 2, 10, 20, 30]"
      ]
     },
     "execution_count": 10,
     "metadata": {},
     "output_type": "execute_result"
    }
   ],
   "source": [
    "sorted([1,10,2,20,30])\n",
    "# 1,2,10,20,30\n",
    "# 30,20,10,2,1"
   ]
  },
  {
   "cell_type": "code",
   "execution_count": 11,
   "id": "1d6613b5-e17f-4212-b1fd-6ee8ab0a4872",
   "metadata": {},
   "outputs": [
    {
     "data": {
      "text/plain": [
       "[30, 20, 10, 2, 1]"
      ]
     },
     "execution_count": 11,
     "metadata": {},
     "output_type": "execute_result"
    }
   ],
   "source": [
    "sorted([1,10,2,20,30],reverse=True)"
   ]
  },
  {
   "cell_type": "markdown",
   "id": "a90d307b-53cf-4327-896e-030bbe823ecb",
   "metadata": {},
   "source": [
    "**in**"
   ]
  },
  {
   "cell_type": "code",
   "execution_count": 12,
   "id": "5ffdbc31-338f-4a13-8be6-888a9031473e",
   "metadata": {},
   "outputs": [
    {
     "data": {
      "text/plain": [
       "True"
      ]
     },
     "execution_count": 12,
     "metadata": {},
     "output_type": "execute_result"
    }
   ],
   "source": [
    "str1='naresh'\n",
    "\n",
    "'n' in str1"
   ]
  },
  {
   "cell_type": "code",
   "execution_count": null,
   "id": "4d982ff0-7473-4d9c-b97a-2cde3d893fac",
   "metadata": {},
   "outputs": [],
   "source": [
    "# strings\n",
    "# list\n",
    "# tuples\n",
    "# sets\n",
    "# dictionary"
   ]
  },
  {
   "cell_type": "code",
   "execution_count": 14,
   "id": "a2982d4b-bf61-4138-93b0-350d574bfeb1",
   "metadata": {},
   "outputs": [
    {
     "data": {
      "text/plain": [
       "True"
      ]
     },
     "execution_count": 14,
     "metadata": {},
     "output_type": "execute_result"
    }
   ],
   "source": [
    "str1='naresh'\n",
    "\n",
    "'nn' not in str1"
   ]
  },
  {
   "cell_type": "code",
   "execution_count": 15,
   "id": "4ea43d18-fb75-4dbf-87ca-63884f8d0a68",
   "metadata": {},
   "outputs": [
    {
     "name": "stdout",
     "output_type": "stream",
     "text": [
      "n\n",
      "a\n",
      "r\n",
      "e\n",
      "s\n",
      "h\n"
     ]
    }
   ],
   "source": [
    "for i in str1:\n",
    "    print(i)"
   ]
  },
  {
   "cell_type": "markdown",
   "id": "b37c8e7f-bd45-4637-b911-3a3fabe38329",
   "metadata": {},
   "source": [
    "**Note**\n",
    "\n",
    "- In operator directly access the letters"
   ]
  },
  {
   "cell_type": "code",
   "execution_count": 17,
   "id": "5dda1bc9-ae5c-4ee6-ba8d-6cef56237e09",
   "metadata": {},
   "outputs": [
    {
     "name": "stdout",
     "output_type": "stream",
     "text": [
      "3\n"
     ]
    }
   ],
   "source": [
    "#Q1) WAP ask the user count how many 'a' are present in a given string\n",
    "# str1='hai naresh how are you'\n",
    "\n",
    "# Idea: counter wrapper\n",
    "# step-1: count=0\n",
    "# step-2: using for loop in operator iterate through  given string\n",
    "# step-3: apply the if condition, whenever the letter equal to 'a'\n",
    "# step-4: count=count+1\n",
    "\n",
    "str1='hai naresh how are you'\n",
    "count=0\n",
    "for i in str1:\n",
    "    if i=='a':\n",
    "        count=count+1\n",
    "print(count)\n",
    "# step-1:  i='h'  if 'h'=='a'  False\n",
    "# step-2:  i='a'  if  'a'=='a' T      count=0+1=1\n",
    "# step-3:  i='i'  if  'i'=='a'  F     count=1\n",
    "#\n",
    "#step-6:  i='a'   if   'a'=='a'  T    count=1+1=2"
   ]
  },
  {
   "cell_type": "code",
   "execution_count": 18,
   "id": "7ef55a8f-a4b4-41ed-8942-00d78280f8b7",
   "metadata": {},
   "outputs": [
    {
     "name": "stdout",
     "output_type": "stream",
     "text": [
      "the count is: 9\n"
     ]
    }
   ],
   "source": [
    "# Q2) WAP ask the find how many vowels are there in a given string\n",
    "# str1='hai naresh how are you'\n",
    "# ans=9\n",
    "count=0\n",
    "str1='hai naresh how are you'\n",
    "for i in str1:\n",
    "    if i=='a' or i=='e' or i=='i' or i=='o' or i=='u':\n",
    "        count=count+1\n",
    "print(\"the count is:\",count)"
   ]
  },
  {
   "cell_type": "code",
   "execution_count": 19,
   "id": "7b5174c8-a372-4fc1-b44f-36f6e38a7012",
   "metadata": {},
   "outputs": [
    {
     "name": "stdout",
     "output_type": "stream",
     "text": [
      "the count is: 9\n"
     ]
    }
   ],
   "source": [
    "count=0\n",
    "str1='hai naresh how are you'\n",
    "for i in str1:\n",
    "    if i in 'aeiou':\n",
    "        count=count+1\n",
    "print(\"the count is:\",count)\n",
    "\n",
    "# step-1: i='h'  if 'h' in 'aeiou'  F  "
   ]
  },
  {
   "cell_type": "code",
   "execution_count": null,
   "id": "6f99b16c-3d1d-4c44-9cd9-9d5cf18a05ec",
   "metadata": {},
   "outputs": [],
   "source": [
    "count=0\n",
    "str1='hai naresh how are you'\n",
    "for i in str1:\n",
    "    if i=='a' or i=='e' or i=='i' or i=='o' or i=='u':\n",
    "        count=count+1\n",
    "print(\"the count is:\",count)\n",
    "\n",
    "\n",
    "str1='hai naresh how are you'\n",
    "count=0\n",
    "for i in str1:\n",
    "    if i=='a':\n",
    "        count=count+1\n",
    "print(count)\n",
    "\n",
    "# Idea: counter wrapper\n",
    "# step-1: count=0\n",
    "# step-2: using for loop in operator iterate through  given string\n",
    "# step-3: apply the if condition, whenever the letter equal to 'a'\n",
    "# step-4: count=count+1\n"
   ]
  },
  {
   "cell_type": "code",
   "execution_count": null,
   "id": "fed021aa-20ee-428b-84d1-814bf8887e83",
   "metadata": {},
   "outputs": [],
   "source": [
    "# Q3) Home work qn\n",
    "# str1='hai naresh how are you'\n",
    "# Repetaed vowels are there\n",
    "# We dont want repetaed vowels\n",
    "# Count the vowels avoid the repeatition: Unique vowels\n",
    "\n",
    "# Step-1: Count=0\n",
    "# Step-2: take one more empty string: ex= s2=''\n",
    "s2=''\n",
    "# Step-3: using for loop in operator iterate through  given string\n",
    "# step-4: condition-1: That letter shoud not avaialble in s2\n",
    "# step-5         condition-2: vowel check condition\n",
    "# step-6                     count=count+1\n",
    "# step-7:                    update the s2= s2=s2+<letter>"
   ]
  },
  {
   "cell_type": "markdown",
   "id": "fbdf9753-0213-43e3-a506-07f808730b10",
   "metadata": {},
   "source": [
    "**How to update the empty strings**"
   ]
  },
  {
   "cell_type": "code",
   "execution_count": 21,
   "id": "3fbc63dc-7c18-49c2-855f-26e3aae00bbe",
   "metadata": {},
   "outputs": [
    {
     "data": {
      "text/plain": [
       "'python'"
      ]
     },
     "execution_count": 21,
     "metadata": {},
     "output_type": "execute_result"
    }
   ],
   "source": [
    "s1='python'\n",
    "s2=''\n",
    "\n",
    "for i in s1:\n",
    "    s2=s2+i   # Concatenation\n",
    "\n",
    "s2"
   ]
  },
  {
   "cell_type": "markdown",
   "id": "39f47f15-c733-41e3-a5b7-893b1ce9548e",
   "metadata": {},
   "source": [
    "**Concatenation**"
   ]
  },
  {
   "cell_type": "code",
   "execution_count": 22,
   "id": "2ef699d5-6a80-4f7f-b170-132f8e10af5e",
   "metadata": {},
   "outputs": [
    {
     "data": {
      "text/plain": [
       "'hellobye'"
      ]
     },
     "execution_count": 22,
     "metadata": {},
     "output_type": "execute_result"
    }
   ],
   "source": [
    "s1='hello'\n",
    "s2='bye'\n",
    "s1+s2"
   ]
  },
  {
   "cell_type": "code",
   "execution_count": 23,
   "id": "85b52357-fb7c-484d-a8dc-52c2e6826000",
   "metadata": {},
   "outputs": [
    {
     "data": {
      "text/plain": [
       "'hello bye'"
      ]
     },
     "execution_count": 23,
     "metadata": {},
     "output_type": "execute_result"
    }
   ],
   "source": [
    "s1='hello '\n",
    "s2='bye'\n",
    "s1+s2"
   ]
  },
  {
   "cell_type": "code",
   "execution_count": 24,
   "id": "6d028d75-5dba-44fe-8b3f-c49857a07279",
   "metadata": {},
   "outputs": [
    {
     "data": {
      "text/plain": [
       "'hello bye'"
      ]
     },
     "execution_count": 24,
     "metadata": {},
     "output_type": "execute_result"
    }
   ],
   "source": [
    "s1='hello'\n",
    "s2=' bye'\n",
    "s1+s2"
   ]
  },
  {
   "cell_type": "code",
   "execution_count": 26,
   "id": "7ec4cbd6-bc76-440c-a18c-6cb7622a3eed",
   "metadata": {},
   "outputs": [
    {
     "data": {
      "text/plain": [
       "'hello bye'"
      ]
     },
     "execution_count": 26,
     "metadata": {},
     "output_type": "execute_result"
    }
   ],
   "source": [
    "s1='hello'\n",
    "s2=' '\n",
    "s3='bye'\n",
    "s4=s1+s2+s3\n",
    "s4"
   ]
  },
  {
   "cell_type": "code",
   "execution_count": null,
   "id": "23c4fbdf-bad2-4498-b7b6-413590851391",
   "metadata": {},
   "outputs": [],
   "source": [
    "s1='hello'\n",
    "s2='bye'\n",
    "s1*s2\n",
    "s1/s2\n",
    "s1-s2"
   ]
  },
  {
   "cell_type": "code",
   "execution_count": 27,
   "id": "41c6e8d7-4dbd-4a6a-ad5d-379f553a866c",
   "metadata": {},
   "outputs": [
    {
     "ename": "TypeError",
     "evalue": "can't multiply sequence by non-int of type 'str'",
     "output_type": "error",
     "traceback": [
      "\u001b[1;31m---------------------------------------------------------------------------\u001b[0m",
      "\u001b[1;31mTypeError\u001b[0m                                 Traceback (most recent call last)",
      "Cell \u001b[1;32mIn[27], line 3\u001b[0m\n\u001b[0;32m      1\u001b[0m s1\u001b[38;5;241m=\u001b[39m\u001b[38;5;124m'\u001b[39m\u001b[38;5;124mhello\u001b[39m\u001b[38;5;124m'\u001b[39m\n\u001b[0;32m      2\u001b[0m s2\u001b[38;5;241m=\u001b[39m\u001b[38;5;124m'\u001b[39m\u001b[38;5;124mbye\u001b[39m\u001b[38;5;124m'\u001b[39m\n\u001b[1;32m----> 3\u001b[0m s1\u001b[38;5;241m*\u001b[39ms2\n",
      "\u001b[1;31mTypeError\u001b[0m: can't multiply sequence by non-int of type 'str'"
     ]
    }
   ],
   "source": [
    "s1='hello'\n",
    "s2='bye'\n",
    "s1*s2"
   ]
  },
  {
   "cell_type": "code",
   "execution_count": 28,
   "id": "7f06b39e-7490-4c91-8871-46d78be298b9",
   "metadata": {},
   "outputs": [
    {
     "ename": "TypeError",
     "evalue": "unsupported operand type(s) for -: 'str' and 'str'",
     "output_type": "error",
     "traceback": [
      "\u001b[1;31m---------------------------------------------------------------------------\u001b[0m",
      "\u001b[1;31mTypeError\u001b[0m                                 Traceback (most recent call last)",
      "Cell \u001b[1;32mIn[28], line 3\u001b[0m\n\u001b[0;32m      1\u001b[0m s1\u001b[38;5;241m=\u001b[39m\u001b[38;5;124m'\u001b[39m\u001b[38;5;124mhello\u001b[39m\u001b[38;5;124m'\u001b[39m\n\u001b[0;32m      2\u001b[0m s2\u001b[38;5;241m=\u001b[39m\u001b[38;5;124m'\u001b[39m\u001b[38;5;124mbye\u001b[39m\u001b[38;5;124m'\u001b[39m\n\u001b[1;32m----> 3\u001b[0m s1\u001b[38;5;241m-\u001b[39ms2\n",
      "\u001b[1;31mTypeError\u001b[0m: unsupported operand type(s) for -: 'str' and 'str'"
     ]
    }
   ],
   "source": [
    "s1='hello'\n",
    "s2='bye'\n",
    "s1-s2"
   ]
  },
  {
   "cell_type": "code",
   "execution_count": 29,
   "id": "cfdb6c84-4ed6-4a24-9cac-e2864595c98b",
   "metadata": {},
   "outputs": [
    {
     "ename": "TypeError",
     "evalue": "unsupported operand type(s) for /: 'str' and 'str'",
     "output_type": "error",
     "traceback": [
      "\u001b[1;31m---------------------------------------------------------------------------\u001b[0m",
      "\u001b[1;31mTypeError\u001b[0m                                 Traceback (most recent call last)",
      "Cell \u001b[1;32mIn[29], line 1\u001b[0m\n\u001b[1;32m----> 1\u001b[0m s1\u001b[38;5;241m/\u001b[39ms2\n",
      "\u001b[1;31mTypeError\u001b[0m: unsupported operand type(s) for /: 'str' and 'str'"
     ]
    }
   ],
   "source": [
    "s1/s2"
   ]
  },
  {
   "cell_type": "code",
   "execution_count": null,
   "id": "352decd6-0518-4233-8ba7-fcbc2cdc4c00",
   "metadata": {},
   "outputs": [],
   "source": [
    "# s1*s2: can't multiply sequence by non-int of type 'str'  \n",
    "\n",
    "# s1-s2: unsupported operand type(s) for -: 'str' and 'str'\n",
    "\n",
    "# s1/s2:  unsupported operand type(s) for /: 'str' and 'str'"
   ]
  },
  {
   "cell_type": "code",
   "execution_count": 30,
   "id": "fc5525f0-a478-47dc-a788-9290cac75203",
   "metadata": {},
   "outputs": [
    {
     "data": {
      "text/plain": [
       "'hellohello'"
      ]
     },
     "execution_count": 30,
     "metadata": {},
     "output_type": "execute_result"
    }
   ],
   "source": [
    "s1='hello'\n",
    "s2=2\n",
    "s1*s2"
   ]
  },
  {
   "cell_type": "code",
   "execution_count": null,
   "id": "9e398b46-5ed6-4fae-af88-b98d71828e85",
   "metadata": {},
   "outputs": [],
   "source": [
    "s1+s1 ===> s1*2\n",
    "\n",
    "2*3    3*2"
   ]
  },
  {
   "cell_type": "markdown",
   "id": "3f1709f8-00f4-4538-a984-bdaaee95faf5",
   "metadata": {},
   "source": [
    "**Index**\n",
    "\n",
    "- Index meaning a number attached to a letter\n",
    "\n",
    "- In python index starts with zero\n",
    "\n",
    "- We have two directions\n",
    "\n",
    "    - Poistive direction\n",
    " \n",
    "      - Positive numbers starts with zero\n",
    " \n",
    "    - Negtaive direction\n",
    " \n",
    "      - Negative numbers starts with -1 , applicable to last letter"
   ]
  },
  {
   "cell_type": "code",
   "execution_count": null,
   "id": "158ef755-a77c-4358-8557-f63c3dd72ab9",
   "metadata": {},
   "outputs": [],
   "source": [
    "s1='python'\n",
    "\n",
    "-6  -5    -4    -3    -2   -1  === > negative\n",
    "p    y     t     h     o    n\n",
    "0    1     2     3     4    5  === > postive"
   ]
  },
  {
   "cell_type": "code",
   "execution_count": 35,
   "id": "02bb2cb9-406a-4cf3-866e-05c33a780442",
   "metadata": {},
   "outputs": [
    {
     "data": {
      "text/plain": [
       "('p', 'y', 't', 'h', 'o', 'n')"
      ]
     },
     "execution_count": 35,
     "metadata": {},
     "output_type": "execute_result"
    }
   ],
   "source": [
    "s1='python'\n",
    "s1[0],s1[1],s1[2],s1[3],s1[4],s1[5]\n",
    "\n",
    "# s1[i]"
   ]
  },
  {
   "cell_type": "code",
   "execution_count": 36,
   "id": "c8de659e-bf4b-4039-aa88-65a9d144b146",
   "metadata": {},
   "outputs": [
    {
     "data": {
      "text/plain": [
       "('n', 'o', 'h', 't', 'y', 'p')"
      ]
     },
     "execution_count": 36,
     "metadata": {},
     "output_type": "execute_result"
    }
   ],
   "source": [
    "s1='python'\n",
    "s1[-1],s1[-2],s1[-3],s1[-4],s1[-5],s1[-6]"
   ]
  },
  {
   "cell_type": "markdown",
   "id": "52d7ae58-c721-44d0-bd69-2d12520c8541",
   "metadata": {},
   "source": [
    "**mutable-immutable**\n",
    "\n",
    "- mutable: can change\n",
    "\n",
    "  - we can change using indexing\n",
    "\n",
    "- immutable: can not change\n",
    "\n",
    "  - we can not change using indexing"
   ]
  },
  {
   "cell_type": "code",
   "execution_count": 3,
   "id": "e7eeda21-fb99-4885-8d0f-104f6dbd6173",
   "metadata": {},
   "outputs": [
    {
     "ename": "TypeError",
     "evalue": "'str' object does not support item assignment",
     "output_type": "error",
     "traceback": [
      "\u001b[1;31m---------------------------------------------------------------------------\u001b[0m",
      "\u001b[1;31mTypeError\u001b[0m                                 Traceback (most recent call last)",
      "Cell \u001b[1;32mIn[3], line 5\u001b[0m\n\u001b[0;32m      1\u001b[0m s\u001b[38;5;241m=\u001b[39m\u001b[38;5;124m'\u001b[39m\u001b[38;5;124mwelcome\u001b[39m\u001b[38;5;124m'\u001b[39m   \u001b[38;5;66;03m# weLcome\u001b[39;00m\n\u001b[0;32m      2\u001b[0m \u001b[38;5;66;03m# I want to replace 'l'  with  'L'\u001b[39;00m\n\u001b[0;32m      3\u001b[0m \u001b[38;5;66;03m# Possible\u001b[39;00m\n\u001b[0;32m      4\u001b[0m \u001b[38;5;66;03m# Not possible \u001b[39;00m\n\u001b[1;32m----> 5\u001b[0m s[\u001b[38;5;241m2\u001b[39m]\u001b[38;5;241m=\u001b[39m\u001b[38;5;124m'\u001b[39m\u001b[38;5;124mL\u001b[39m\u001b[38;5;124m'\u001b[39m\n",
      "\u001b[1;31mTypeError\u001b[0m: 'str' object does not support item assignment"
     ]
    }
   ],
   "source": [
    "s='welcome'   # weLcome\n",
    "# I want to replace 'l'  with  'L'\n",
    "# Possible\n",
    "# Not possible \n",
    "s[2]='L'"
   ]
  },
  {
   "cell_type": "markdown",
   "id": "73cb490e-8b5c-4cdb-a6d4-e0be16f90063",
   "metadata": {},
   "source": [
    "## Strings are Immutable"
   ]
  },
  {
   "cell_type": "code",
   "execution_count": 5,
   "id": "6c49181e-7e4f-4634-bbe5-c78375e086ba",
   "metadata": {},
   "outputs": [
    {
     "data": {
      "text/plain": [
       "[1, 200, 3, 4]"
      ]
     },
     "execution_count": 5,
     "metadata": {},
     "output_type": "execute_result"
    }
   ],
   "source": [
    "l=[1,2,3,4]   # 2= 200\n",
    "l[1]=200\n",
    "l"
   ]
  },
  {
   "cell_type": "code",
   "execution_count": null,
   "id": "3a2b2d59-a6a4-4c47-b3d7-1e5dc5af725b",
   "metadata": {},
   "outputs": [],
   "source": [
    "s='welcome'\n",
    "s[2]='L'\n",
    "########################################\n",
    "l=[1,2,3,4]  \n",
    "l[1]=200\n",
    "l"
   ]
  },
  {
   "cell_type": "markdown",
   "id": "9132630c-baca-4b1b-8d78-c69a945b88c2",
   "metadata": {},
   "source": [
    "- range belongs to which family\n",
    "\n",
    "    - Math family\n",
    "\n",
    "- inside range bracket what we need to provide\n",
    "\n",
    "    - number\n",
    "\n",
    "- How many numbers we need to provide\n",
    "\n",
    "    - Number of letter : len(string)\n",
    "\n",
    "- How to access the letter using number\n",
    "\n",
    "    - by using index"
   ]
  },
  {
   "cell_type": "code",
   "execution_count": 10,
   "id": "59acc649-8085-4165-90b7-508bcc93281f",
   "metadata": {},
   "outputs": [
    {
     "name": "stdout",
     "output_type": "stream",
     "text": [
      "w\n",
      "e\n",
      "l\n",
      "c\n",
      "o\n",
      "m\n",
      "e\n"
     ]
    }
   ],
   "source": [
    "# Q4) print each letter using for loop range \n",
    "s='welcome'\n",
    "# range belongs to which family\n",
    "# inside bracket we need to provide a number\n",
    "# How many numbers we need to provide\n",
    "#       number of letters=7\n",
    "# How to access a letter using number:\n",
    "s='welcome'\n",
    "for i in range(7):\n",
    "    print(s[i])\n",
    "# i=0   s[0]=w\n",
    "# i=1   s[1]=e"
   ]
  },
  {
   "cell_type": "code",
   "execution_count": 11,
   "id": "5fdc2d7e-ada2-4006-a877-b51e3b2defa8",
   "metadata": {},
   "outputs": [
    {
     "name": "stdout",
     "output_type": "stream",
     "text": [
      "w\n",
      "e\n",
      "l\n",
      "c\n",
      "o\n",
      "m\n",
      "e\n",
      " \n",
      "t\n",
      "o\n",
      " \n",
      "n\n",
      "a\n",
      "r\n",
      "e\n",
      "s\n",
      "h\n",
      " \n",
      "i\n",
      "t\n"
     ]
    }
   ],
   "source": [
    "s='welcome to naresh it'\n",
    "n=len(s)\n",
    "for i in range(n):\n",
    "    print(s[i])"
   ]
  },
  {
   "cell_type": "markdown",
   "id": "be2fea03-f85e-4c82-aacd-ca5679e31017",
   "metadata": {},
   "source": [
    "- **for-in** directly access the letter\n",
    "\n",
    "- **for-range** will access using index"
   ]
  },
  {
   "cell_type": "code",
   "execution_count": null,
   "id": "e737e7d4-8b5e-4c35-b1c7-3462403f71b3",
   "metadata": {},
   "outputs": [],
   "source": [
    "# Q5) wap ask the user iterate using a string\n",
    "# string='welcome'\n",
    "# print the postive index of w is 0\n",
    "#       the positive index of e is 1\n",
    "#       the positive index of l is 1\n",
    "\n",
    "# Q6) wap ask the user iterate using a string\n",
    "# string='welcome'\n",
    "# print the negative index of w is -7\n",
    "#       the negative index of e is -6\n",
    "#       the negative index of l is -5"
   ]
  },
  {
   "cell_type": "code",
   "execution_count": 14,
   "id": "63cc53fb-9222-42cc-a0d1-249a8ba8577a",
   "metadata": {},
   "outputs": [
    {
     "name": "stdout",
     "output_type": "stream",
     "text": [
      "0 w\n",
      "The postive index of w is 0\n",
      "1 e\n",
      "The postive index of e is 1\n",
      "2 l\n",
      "The postive index of l is 2\n",
      "3 c\n",
      "The postive index of c is 3\n",
      "4 o\n",
      "The postive index of o is 4\n",
      "5 m\n",
      "The postive index of m is 5\n",
      "6 e\n",
      "The postive index of e is 6\n"
     ]
    }
   ],
   "source": [
    "# Q5) wap ask the user iterate using a string\n",
    "# string='welcome'\n",
    "# print the postive index of w is 0\n",
    "#       the positive index of e is 1\n",
    "#       the positive index of l is 1\n",
    "s='welcome'\n",
    "for i in range(len(s)):\n",
    "    print(i,s[i])\n",
    "    print(f\"The postive index of {s[i]} is {i}\")"
   ]
  },
  {
   "cell_type": "code",
   "execution_count": 18,
   "id": "c106102a-4a63-4996-90a9-8c142b54fd23",
   "metadata": {},
   "outputs": [
    {
     "name": "stdout",
     "output_type": "stream",
     "text": [
      "0 -7\n",
      "the negative index of w is -7\n",
      "1 -6\n",
      "the negative index of e is -6\n",
      "2 -5\n",
      "the negative index of l is -5\n",
      "3 -4\n",
      "the negative index of c is -4\n",
      "4 -3\n",
      "the negative index of o is -3\n",
      "5 -2\n",
      "the negative index of m is -2\n",
      "6 -1\n",
      "the negative index of e is -1\n"
     ]
    }
   ],
   "source": [
    "# Q6) wap ask the user iterate using a string\n",
    "# string='welcome'\n",
    "# print the negative index of w is -7\n",
    "#       the negative index of e is -6\n",
    "#       the negative index of l is -5\n",
    "# the positive index is 0 and the negtaive index -7 for w\n",
    "s='welcome'\n",
    "for i in range(len(s)):\n",
    "    print(i,i-len(s))\n",
    "    print(f\"the negative index of {s[i]} is {i-len(s)}\")\n",
    "# 0-7==== -7\n",
    "# 1-7==== -6\n",
    "# 2-7 ==== -5"
   ]
  },
  {
   "cell_type": "code",
   "execution_count": 21,
   "id": "93686cf7-f232-44d7-8551-ab84fcdea01b",
   "metadata": {},
   "outputs": [
    {
     "name": "stdout",
     "output_type": "stream",
     "text": [
      "the positive index is 0 and the negtaive index -7 for w\n",
      "the positive index is 1 and the negtaive index -6 for e\n",
      "the positive index is 2 and the negtaive index -5 for l\n",
      "the positive index is 3 and the negtaive index -4 for c\n",
      "the positive index is 4 and the negtaive index -3 for o\n",
      "the positive index is 5 and the negtaive index -2 for m\n",
      "the positive index is 6 and the negtaive index -1 for e\n"
     ]
    }
   ],
   "source": [
    "# Q7) wap ask the user iterate using a string\n",
    "# string='welcome'\n",
    "# # the positive index is 0 and the negtaive index -7 for w\n",
    "s='welcome'\n",
    "for i in range(len(s)):\n",
    "    print(f\"the positive index is {i} and the negtaive index {i-len(s)} for {s[i]}\")"
   ]
  },
  {
   "cell_type": "code",
   "execution_count": null,
   "id": "7edf19a3-d93d-4732-8fc6-96dcf9aa823d",
   "metadata": {},
   "outputs": [],
   "source": [
    "#Q8) wap ask the user get the index of each 'a' in a given string\n",
    "# s='hai how are you i am good'\n",
    "# a=1  8  18\n",
    "\n",
    "#Q9) wap ask the user to get count of number of 'a' in a given string\n",
    "#     using for-range\n",
    "\n",
    "#Q10) wap ask the user get the sum of all index numbers of 'a'\n",
    "# 1+8+18= 27\n",
    "\n",
    "#Q11) wap ask the user get the vowels from a given string using for-range"
   ]
  },
  {
   "cell_type": "code",
   "execution_count": 23,
   "id": "7bea95cc-3d33-406e-8dd3-e2d2061a0058",
   "metadata": {},
   "outputs": [
    {
     "name": "stdout",
     "output_type": "stream",
     "text": [
      "1\n",
      "8\n",
      "18\n",
      "a\n",
      "a\n",
      "a\n"
     ]
    }
   ],
   "source": [
    "#Q8) wap ask the user get the index of each 'a' in a given string\n",
    "# s='hai how are you i am good'\n",
    "# a=1  8  18\n",
    "s='hai how are you i am good'\n",
    "for i in range(len(s)):\n",
    "    if s[i]=='a':\n",
    "        print(i)\n",
    "\n",
    "s='hai how are you i am good'\n",
    "for i in s:\n",
    "    if i=='a':\n",
    "        print(i)"
   ]
  },
  {
   "cell_type": "code",
   "execution_count": 24,
   "id": "175b8347-8204-4233-9586-6e2ed203fe7c",
   "metadata": {},
   "outputs": [
    {
     "data": {
      "text/plain": [
       "3"
      ]
     },
     "execution_count": 24,
     "metadata": {},
     "output_type": "execute_result"
    }
   ],
   "source": [
    "#Q9) wap ask the user to get count of number of 'a' in a given string\n",
    "#     using for-range\n",
    "\n",
    "s='hai how are you i am good'\n",
    "count=0\n",
    "for i in range(len(s)):\n",
    "    if s[i]=='a':\n",
    "        count=count+1\n",
    "\n",
    "count"
   ]
  },
  {
   "cell_type": "code",
   "execution_count": 25,
   "id": "9ca7833b-641d-4b25-a22f-2610248fa920",
   "metadata": {},
   "outputs": [
    {
     "data": {
      "text/plain": [
       "27"
      ]
     },
     "execution_count": 25,
     "metadata": {},
     "output_type": "execute_result"
    }
   ],
   "source": [
    "#Q10) wap ask the user get the sum of all index numbers of 'a'\n",
    "# 1+8+18= 27\n",
    "s='hai how are you i am good'\n",
    "count=0\n",
    "for i in range(len(s)):\n",
    "    if s[i]=='a':\n",
    "        summ=summ+i\n",
    "\n",
    "summ"
   ]
  },
  {
   "cell_type": "code",
   "execution_count": 27,
   "id": "19d5f460-4e1e-4528-84d8-4b332c4653a0",
   "metadata": {},
   "outputs": [
    {
     "name": "stdout",
     "output_type": "stream",
     "text": [
      "a\n",
      "i\n",
      "o\n",
      "a\n",
      "e\n",
      "o\n",
      "u\n",
      "i\n",
      "a\n",
      "o\n",
      "o\n",
      "The number of vowels are: 11\n"
     ]
    }
   ],
   "source": [
    "#Q11) wap ask the user get the vowels from a given string using for-range\n",
    "s='hai how are you i am good'\n",
    "count=0\n",
    "for i in range(len(s)):\n",
    "    if s[i] in 'aeiou':\n",
    "        print(s[i])\n",
    "        count=count+1\n",
    "\n",
    "print(\"The number of vowels are:\",count)"
   ]
  },
  {
   "cell_type": "code",
   "execution_count": 30,
   "id": "6d9b4c80-7f17-4f04-bc6d-710e0a2b8cb9",
   "metadata": {},
   "outputs": [
    {
     "name": "stdout",
     "output_type": "stream",
     "text": [
      "i\n",
      "o\n",
      "e\n",
      "u\n",
      "The number of vowels are: 4\n"
     ]
    }
   ],
   "source": [
    "#Q12) wap ask the user get the vowels from a given string using for-range\n",
    "s='hi how re you i m good'\n",
    "s1=''\n",
    "count=0\n",
    "for i in range(len(s)):\n",
    "    if s[i] not in s1:  # we are checking the letter is available in s1( It should not)\n",
    "        if s[i] in 'aeiou': # we are checking vowel condition\n",
    "            print(s[i])\n",
    "            s1=s1+s[i]      # we need to update the s1\n",
    "            count=count+1\n",
    "\n",
    "print(\"The number of vowels are:\",count)"
   ]
  },
  {
   "cell_type": "code",
   "execution_count": 31,
   "id": "af3b78a2-0e9d-4fdc-8174-d403d5a73468",
   "metadata": {},
   "outputs": [
    {
     "name": "stdout",
     "output_type": "stream",
     "text": [
      "i\n",
      "o\n",
      "e\n",
      "u\n",
      "The number of vowels are: 4\n"
     ]
    }
   ],
   "source": [
    "#Q13)updated wap ask the user get the vowels from a given string using for-range\n",
    "s='hi how re you i m good'\n",
    "s1=''\n",
    "count=0\n",
    "for i in range(len(s)):\n",
    "    if s[i] not in s1 and s[i] in 'aeiou':  \n",
    "        print(s[i])\n",
    "        s1=s1+s[i]     \n",
    "        count=count+1\n",
    "\n",
    "print(\"The number of vowels are:\",count)"
   ]
  },
  {
   "cell_type": "code",
   "execution_count": null,
   "id": "c3963aac-84c3-499d-a9c0-9255d7a0b7e0",
   "metadata": {},
   "outputs": [],
   "source": [
    "# Q14) string1='ola ola ola' \n",
    "# Number of ola  = 3\n",
    "\n",
    "# Q15) string1='hello hello hello how how how how are you'\n",
    "# What is the most repeated word : how\n",
    "\n",
    "# Q16) string1='hellooooo how aree u'\n",
    "# what is the maximum length of word: helloooo\n",
    "# what is the minimum length of word: u\n",
    "\n",
    "# Q17) with out using sorted then sort the letters"
   ]
  },
  {
   "cell_type": "code",
   "execution_count": 32,
   "id": "3dfbb50c-ccc2-4483-8b89-1dad05d3ace5",
   "metadata": {},
   "outputs": [
    {
     "data": {
      "text/plain": [
       "['e', 'h', 'l', 'l', 'o']"
      ]
     },
     "execution_count": 32,
     "metadata": {},
     "output_type": "execute_result"
    }
   ],
   "source": [
    "sorted('hello')"
   ]
  },
  {
   "cell_type": "markdown",
   "id": "b0c57d30-57d9-4342-85b9-c0a8fd676287",
   "metadata": {},
   "source": [
    "**Slice**"
   ]
  },
  {
   "cell_type": "markdown",
   "id": "1c0d5051-52f8-4e92-b0b4-8310a92fba67",
   "metadata": {},
   "source": [
    "- we can cut into pieces\n",
    "\n",
    "- Similar to range concept\n",
    "\n",
    "- start , stop ,step here also "
   ]
  },
  {
   "cell_type": "code",
   "execution_count": 1,
   "id": "8afd3548-d371-47f4-a43a-e0e1be542aae",
   "metadata": {},
   "outputs": [],
   "source": [
    "str1='hai how are you'"
   ]
  },
  {
   "cell_type": "code",
   "execution_count": null,
   "id": "4675da21-1ae6-434e-910e-ab39485a2e47",
   "metadata": {},
   "outputs": [],
   "source": [
    "-15  -14  -13  -12  -11  -10  -9  -8   -7  -6  -5  -4  -3  -2  -1\n",
    " h    a     i        h    o    w       a   r    e        y   o  u\n",
    " 0    1     2   3    4    5    6   7   8   9   10   11  12  13  14 "
   ]
  },
  {
   "cell_type": "code",
   "execution_count": null,
   "id": "97d4d9c5-ca03-4c46-a2bc-2d283a4d8d28",
   "metadata": {},
   "outputs": [],
   "source": [
    "str1[start:stop:step]"
   ]
  },
  {
   "cell_type": "markdown",
   "id": "0ce03b43-e6b9-45bd-b96f-9c4f5ce6b7e8",
   "metadata": {},
   "source": [
    "$pattern-1$\n",
    "\n",
    "**str1[start:]**\n",
    "\n",
    "- By default start value = start only\n",
    "\n",
    "- Last value nothing mentioned automatically it will go till = last only\n",
    "\n",
    "- Step nothing mentioned means , It is a postive direction and increment by 1"
   ]
  },
  {
   "cell_type": "code",
   "execution_count": 2,
   "id": "18df379e-213b-4dcd-a57f-3675227d6242",
   "metadata": {},
   "outputs": [
    {
     "data": {
      "text/plain": [
       "'ow are you'"
      ]
     },
     "execution_count": 2,
     "metadata": {},
     "output_type": "execute_result"
    }
   ],
   "source": [
    "#-15  -14  -13  -12  -11  -10  -9  -8   -7  -6  -5  -4  -3  -2  -1\n",
    "# h    a     i        h    o    w       a   r    e        y   o  u\n",
    "# 0    1     2   3    4    5    6   7   8   9   10   11  12  13  14 \n",
    "str1='hai how are you'\n",
    "str1[5:]"
   ]
  },
  {
   "cell_type": "code",
   "execution_count": 3,
   "id": "f375728a-106d-4600-b596-4f54b83714c8",
   "metadata": {},
   "outputs": [
    {
     "data": {
      "text/plain": [
       "'e you'"
      ]
     },
     "execution_count": 3,
     "metadata": {},
     "output_type": "execute_result"
    }
   ],
   "source": [
    "str1[10:]"
   ]
  },
  {
   "cell_type": "code",
   "execution_count": 4,
   "id": "7adabe2c-2117-4a9c-a0a2-c1134b67ae4e",
   "metadata": {},
   "outputs": [
    {
     "data": {
      "text/plain": [
       "'e you'"
      ]
     },
     "execution_count": 4,
     "metadata": {},
     "output_type": "execute_result"
    }
   ],
   "source": [
    "str1[-5:]"
   ]
  },
  {
   "cell_type": "code",
   "execution_count": 5,
   "id": "789d0bf4-bca4-43bc-89a8-b6e2986d271b",
   "metadata": {},
   "outputs": [
    {
     "data": {
      "text/plain": [
       "('ow are you', 'ow are you')"
      ]
     },
     "execution_count": 5,
     "metadata": {},
     "output_type": "execute_result"
    }
   ],
   "source": [
    "str1[5:],str1[-10:]  # Both will give same answer"
   ]
  },
  {
   "cell_type": "code",
   "execution_count": 6,
   "id": "8301da9d-97c0-4290-9597-fa8d4a2f1c9c",
   "metadata": {},
   "outputs": [
    {
     "data": {
      "text/plain": [
       "'u'"
      ]
     },
     "execution_count": 6,
     "metadata": {},
     "output_type": "execute_result"
    }
   ],
   "source": [
    "str1[14:]"
   ]
  },
  {
   "cell_type": "code",
   "execution_count": 7,
   "id": "f42e1abe-d922-4dfc-8a09-dd6d23fcdf6e",
   "metadata": {},
   "outputs": [
    {
     "data": {
      "text/plain": [
       "'u'"
      ]
     },
     "execution_count": 7,
     "metadata": {},
     "output_type": "execute_result"
    }
   ],
   "source": [
    "str1[-1:]"
   ]
  },
  {
   "cell_type": "markdown",
   "id": "3f0c15dd-8393-490c-a331-ce4d4cf2ca85",
   "metadata": {},
   "source": [
    "$Pattern-2$\n",
    "\n",
    "str1[start:stop]\n",
    "\n",
    "- start value means by default start only\n",
    "\n",
    "- step is not mentioned postive direction \n",
    "\n",
    "- last = stop-1"
   ]
  },
  {
   "cell_type": "code",
   "execution_count": 8,
   "id": "98f1c203-b57f-4935-b99e-37677929ce97",
   "metadata": {},
   "outputs": [
    {
     "data": {
      "text/plain": [
       "'ow are yo'"
      ]
     },
     "execution_count": 8,
     "metadata": {},
     "output_type": "execute_result"
    }
   ],
   "source": [
    "#-15  -14  -13  -12  -11  -10  -9  -8   -7  -6  -5  -4  -3  -2  -1\n",
    "# h    a     i        h    o    w       a   r    e        y   o  u\n",
    "# 0    1     2   3    4    5    6   7   8   9   10   11  12  13  14 \n",
    "\n",
    "str1='hai how are you'\n",
    "str1[5:14]"
   ]
  },
  {
   "cell_type": "code",
   "execution_count": 9,
   "id": "3d26f8d8-bebc-47c1-87a2-899960daf088",
   "metadata": {},
   "outputs": [
    {
     "data": {
      "text/plain": [
       "'e yo'"
      ]
     },
     "execution_count": 9,
     "metadata": {},
     "output_type": "execute_result"
    }
   ],
   "source": [
    "str1[-5:14]\n",
    "# start=-5 \n",
    "# last = 14-1 =13   positive"
   ]
  },
  {
   "cell_type": "code",
   "execution_count": 11,
   "id": "ec87681c-7e4a-4906-a070-04a505034a72",
   "metadata": {},
   "outputs": [
    {
     "data": {
      "text/plain": [
       "'how are'"
      ]
     },
     "execution_count": 11,
     "metadata": {},
     "output_type": "execute_result"
    }
   ],
   "source": [
    "str1[-5:14]"
   ]
  },
  {
   "cell_type": "code",
   "execution_count": 13,
   "id": "d1ebd6e5-8949-408f-bc53-116c1700b26d",
   "metadata": {},
   "outputs": [
    {
     "data": {
      "text/plain": [
       "''"
      ]
     },
     "execution_count": 13,
     "metadata": {},
     "output_type": "execute_result"
    }
   ],
   "source": [
    "str1[-5:-14]   #  Postive"
   ]
  },
  {
   "cell_type": "code",
   "execution_count": null,
   "id": "78e5dd8c-5e51-4be6-b0c6-488bd4784f59",
   "metadata": {},
   "outputs": [],
   "source": [
    "#-15  -14  -13  -12  -11  -10  -9  -8   -7  -6  -5  -4  -3  -2  -1\n",
    "# h    a     i        h    o    w       a   r    e        y   o  u\n",
    "# 0    1     2   3    4    5    6   7   8   9   10   11  12  13  14 \n",
    "str1='hai how are you'  # step is mentioned or not mentioned\n",
    "str1[5:14],   # Answer\n",
    "str1[-5:14],  #  Answer\n",
    "str1[5:-14],  # No answer\n",
    "str1[-5:-14]  # No answer"
   ]
  },
  {
   "cell_type": "code",
   "execution_count": 14,
   "id": "336580ad-1ca8-48f9-bd42-04e0aa9f6138",
   "metadata": {},
   "outputs": [
    {
     "data": {
      "text/plain": [
       "'ow are you'"
      ]
     },
     "execution_count": 14,
     "metadata": {},
     "output_type": "execute_result"
    }
   ],
   "source": [
    "str1[5:500]"
   ]
  },
  {
   "cell_type": "markdown",
   "id": "f935e465-5ebd-4d30-954e-50690a33157e",
   "metadata": {},
   "source": [
    "**Truncation behaviour**\n",
    "\n",
    "- when ever string range is limited, but we provided unlimited number\n",
    "\n",
    "- string will consider till the range we have\n",
    "\n",
    "- In the above example our range only 15 letters\n",
    "\n",
    "- we provided 500 , then 500 will truncate to till 15 letters only"
   ]
  },
  {
   "cell_type": "code",
   "execution_count": null,
   "id": "a56bca36-88f9-494d-a573-93c2d810caa7",
   "metadata": {},
   "outputs": [],
   "source": [
    "str1[5:500] #  Answer\n",
    "str1[-500:500] # Answer\n",
    "str1[-1:500]  # Answer\n",
    "str1[500:]    # no answer\n",
    "str1[-500:-100] # No answer"
   ]
  },
  {
   "cell_type": "markdown",
   "id": "f36502c2-ccd5-4ede-a598-3714589b3f6f",
   "metadata": {},
   "source": [
    "$Pattern-3$\n",
    "**str1[start:stop:step]**\n",
    "\n",
    "- start value means start only\n",
    "\n",
    "- If step value positive\n",
    "\n",
    "    - last value= stop-1\n",
    "\n",
    "- If step value negative\n",
    "\n",
    "    - last value=stop+1"
   ]
  },
  {
   "cell_type": "code",
   "execution_count": 15,
   "id": "9877955e-d822-4d63-afa7-2f02fba41094",
   "metadata": {},
   "outputs": [
    {
     "data": {
      "text/plain": [
       "15"
      ]
     },
     "execution_count": 15,
     "metadata": {},
     "output_type": "execute_result"
    }
   ],
   "source": [
    "len(str1)"
   ]
  },
  {
   "cell_type": "code",
   "execution_count": null,
   "id": "55879d78-cf2b-49c5-94ae-53daf5088eb1",
   "metadata": {},
   "outputs": [],
   "source": [
    "str2='yeshwanth'\n",
    "\n",
    "y  e  s  h  w  a  n  t h\n",
    "0  1  2  3  4  5  6  7 8 "
   ]
  },
  {
   "cell_type": "code",
   "execution_count": null,
   "id": "3e96c627-f2f2-4462-8bf0-8285a9ea1b0c",
   "metadata": {},
   "outputs": [],
   "source": [
    "#-15  -14  -13  -12  -11  -10  -9  -8   -7  -6  -5  -4  -3  -2  -1\n",
    "# h    a     i        h    o    w       a   r    e        y   o  u\n",
    "# 0    1     2   3    4    5    6   7   8   9   10   11  12  13  14 \n",
    "\n",
    "str1[2:13:2]  # P\n",
    "str1[2:13:-2] # NP \n",
    "str1[2:-13:2] # NP (CHECK)  str1[2:-13]  str1[2:3:2]  str1[2:2]\n",
    "str1[2:-13:-2] # NP (CHECK)\n",
    "str1[-2:13:2]  # NP (CHECK)\n",
    "str1[-2:-13:2] # NP\n",
    "str1[-2:-13:-2] # P\n",
    "str1[13:2:2] # NP\n",
    "str1[-13:2:2] # NP (CHECK)\n",
    "str1[-13:-2:2] # P\n",
    "str1[-13:-2:-2] # NP\n",
    "str1[-13:2:-2]  # NP(CHECK)"
   ]
  },
  {
   "cell_type": "code",
   "execution_count": null,
   "id": "8e482ca7-bb2d-408a-a237-dd1e736bacad",
   "metadata": {},
   "outputs": [],
   "source": [
    "==================== PART-1=====================================\n",
    "- Intiaization\n",
    "\n",
    "- type\n",
    "\n",
    "- len\n",
    "\n",
    "- max\n",
    "\n",
    "- min\n",
    "\n",
    "- sorted\n",
    "\n",
    "- reveresed\n",
    "\n",
    "- in\n",
    "\n",
    "- for loop using in\n",
    "\n",
    "- index\n",
    "\n",
    "- for loop using index\n",
    "\n",
    "- mutable\n",
    "\n",
    "- concatenation\n",
    "\n",
    "- slice\n",
    "\n",
    "#================== PART-2=====================\n",
    "# Methods"
   ]
  },
  {
   "cell_type": "code",
   "execution_count": 16,
   "id": "7be4ca1d-e187-467d-a245-ef7e8ed9eb35",
   "metadata": {},
   "outputs": [
    {
     "data": {
      "text/plain": [
       "'uyeaw'"
      ]
     },
     "execution_count": 16,
     "metadata": {},
     "output_type": "execute_result"
    }
   ],
   "source": [
    "#-15  -14  -13  -12  -11  -10  -9  -8   -7  -6  -5  -4  -3  -2  -1\n",
    "# h    a     i        h    o    w       a   r    e        y   o  u\n",
    "# 0    1     2   3    4    5    6   7   8   9   10   11  12  13  14 \n",
    "\n",
    "str1[:5:-2]  # start value  -1"
   ]
  },
  {
   "cell_type": "code",
   "execution_count": null,
   "id": "08aae2ed-60c5-49c3-9338-58f14bf2801c",
   "metadata": {},
   "outputs": [],
   "source": [
    "str1[-13:2:2]  # postive direction    start value :0\n",
    "\n",
    "        "
   ]
  },
  {
   "cell_type": "code",
   "execution_count": null,
   "id": "9692e9f6-48a0-4cc9-b87c-5bcfe3fe22bd",
   "metadata": {},
   "outputs": [],
   "source": [
    "str1[:]  # Complete string\n",
    "str1[::] # Complete string\n",
    "str1[<start>::-1] # Reveres  start value=-1\n",
    "str1[<start>:5:-2]"
   ]
  },
  {
   "cell_type": "markdown",
   "id": "b15d4b4b-a8cb-45fb-b896-5fd0f3765592",
   "metadata": {},
   "source": [
    "**Methods**\n",
    "\n",
    "- Strings lists tuple dictionary every data type has its own methods\n",
    "\n",
    "- We already seen that packages has different method\n",
    "\n",
    "- For example random package :  randint method\n",
    "\n",
    "- Math package : sqrt\n",
    "\n",
    "- In the same way strings also have methods\n",
    "\n",
    "- In order to see methods for the packages\n",
    "\n",
    "    - we are importing the package\n",
    "\n",
    "    - we are applying dir\n",
    "\n",
    "- In the similar way in order to see the methods of string , we need to apply dir only"
   ]
  },
  {
   "cell_type": "code",
   "execution_count": 17,
   "id": "d68e3aa4-869a-4dfe-920f-d6c7d43c75ae",
   "metadata": {},
   "outputs": [
    {
     "data": {
      "text/plain": [
       "['__add__',\n",
       " '__class__',\n",
       " '__contains__',\n",
       " '__delattr__',\n",
       " '__dir__',\n",
       " '__doc__',\n",
       " '__eq__',\n",
       " '__format__',\n",
       " '__ge__',\n",
       " '__getattribute__',\n",
       " '__getitem__',\n",
       " '__getnewargs__',\n",
       " '__getstate__',\n",
       " '__gt__',\n",
       " '__hash__',\n",
       " '__init__',\n",
       " '__init_subclass__',\n",
       " '__iter__',\n",
       " '__le__',\n",
       " '__len__',\n",
       " '__lt__',\n",
       " '__mod__',\n",
       " '__mul__',\n",
       " '__ne__',\n",
       " '__new__',\n",
       " '__reduce__',\n",
       " '__reduce_ex__',\n",
       " '__repr__',\n",
       " '__rmod__',\n",
       " '__rmul__',\n",
       " '__setattr__',\n",
       " '__sizeof__',\n",
       " '__str__',\n",
       " '__subclasshook__',\n",
       " 'capitalize',\n",
       " 'casefold',\n",
       " 'center',\n",
       " 'count',\n",
       " 'encode',\n",
       " 'endswith',\n",
       " 'expandtabs',\n",
       " 'find',\n",
       " 'format',\n",
       " 'format_map',\n",
       " 'index',\n",
       " 'isalnum',\n",
       " 'isalpha',\n",
       " 'isascii',\n",
       " 'isdecimal',\n",
       " 'isdigit',\n",
       " 'isidentifier',\n",
       " 'islower',\n",
       " 'isnumeric',\n",
       " 'isprintable',\n",
       " 'isspace',\n",
       " 'istitle',\n",
       " 'isupper',\n",
       " 'join',\n",
       " 'ljust',\n",
       " 'lower',\n",
       " 'lstrip',\n",
       " 'maketrans',\n",
       " 'partition',\n",
       " 'removeprefix',\n",
       " 'removesuffix',\n",
       " 'replace',\n",
       " 'rfind',\n",
       " 'rindex',\n",
       " 'rjust',\n",
       " 'rpartition',\n",
       " 'rsplit',\n",
       " 'rstrip',\n",
       " 'split',\n",
       " 'splitlines',\n",
       " 'startswith',\n",
       " 'strip',\n",
       " 'swapcase',\n",
       " 'title',\n",
       " 'translate',\n",
       " 'upper',\n",
       " 'zfill']"
      ]
     },
     "execution_count": 17,
     "metadata": {},
     "output_type": "execute_result"
    }
   ],
   "source": [
    "dir('')  \n",
    "# dir('hai')\n",
    "# str1='apple'\n",
    "# dir(str1)"
   ]
  },
  {
   "cell_type": "markdown",
   "id": "c8351a20-9cc5-4ee2-8d13-4389c9e4ec44",
   "metadata": {},
   "source": [
    "- lower\n",
    "\n",
    "- upper\n",
    "\n",
    "- capitalize\n",
    "\n",
    "- Title\n",
    "\n",
    "- casefold\n",
    "\n",
    "- Center"
   ]
  },
  {
   "cell_type": "markdown",
   "id": "ad49172d-eafe-4497-ade6-8dc47e08ec3c",
   "metadata": {},
   "source": [
    "**upper**"
   ]
  },
  {
   "cell_type": "code",
   "execution_count": 18,
   "id": "828d170e-e7c2-4129-96a0-bd9ecba6711e",
   "metadata": {},
   "outputs": [],
   "source": [
    "str1='hai how are you'\n"
   ]
  },
  {
   "cell_type": "code",
   "execution_count": 19,
   "id": "ce1a20a1-2a71-4f00-a454-ee1c62d08850",
   "metadata": {},
   "outputs": [
    {
     "name": "stdout",
     "output_type": "stream",
     "text": [
      "Help on built-in function upper:\n",
      "\n",
      "upper() method of builtins.str instance\n",
      "    Return a copy of the string converted to uppercase.\n",
      "\n"
     ]
    }
   ],
   "source": [
    "type(str1)\n",
    "help(str1.upper)"
   ]
  },
  {
   "cell_type": "code",
   "execution_count": 20,
   "id": "04524ae2-f2a9-45cc-85c6-4d48faceb17b",
   "metadata": {},
   "outputs": [
    {
     "data": {
      "text/plain": [
       "'HAI HOW ARE YOU'"
      ]
     },
     "execution_count": 20,
     "metadata": {},
     "output_type": "execute_result"
    }
   ],
   "source": [
    "str1.upper()"
   ]
  },
  {
   "cell_type": "code",
   "execution_count": 21,
   "id": "f796ddbd-e794-4a82-b0fc-07862c3a008c",
   "metadata": {},
   "outputs": [
    {
     "data": {
      "text/plain": [
       "<function str.upper()>"
      ]
     },
     "execution_count": 21,
     "metadata": {},
     "output_type": "execute_result"
    }
   ],
   "source": [
    "str1.upper()"
   ]
  },
  {
   "cell_type": "code",
   "execution_count": 22,
   "id": "82da513c-07aa-4ed8-b10a-7f149f8acc41",
   "metadata": {},
   "outputs": [
    {
     "data": {
      "text/plain": [
       "'HAI HOW ARE YOU'"
      ]
     },
     "execution_count": 22,
     "metadata": {},
     "output_type": "execute_result"
    }
   ],
   "source": [
    "str1='hai how are you'\n",
    "str1.upper()"
   ]
  },
  {
   "cell_type": "markdown",
   "id": "0c389463-af0b-4765-befc-df9eab9eb928",
   "metadata": {},
   "source": [
    "**lower**"
   ]
  },
  {
   "cell_type": "code",
   "execution_count": 23,
   "id": "cdf14023-492b-46ee-b6bf-4e7790745b7c",
   "metadata": {},
   "outputs": [
    {
     "name": "stdout",
     "output_type": "stream",
     "text": [
      "Help on built-in function lower:\n",
      "\n",
      "lower() method of builtins.str instance\n",
      "    Return a copy of the string converted to lowercase.\n",
      "\n"
     ]
    }
   ],
   "source": [
    "help(str1.lower)"
   ]
  },
  {
   "cell_type": "code",
   "execution_count": 24,
   "id": "845e3d5d-40dd-4cc0-af27-4a00e9b02ea6",
   "metadata": {},
   "outputs": [
    {
     "data": {
      "text/plain": [
       "'hai how are you'"
      ]
     },
     "execution_count": 24,
     "metadata": {},
     "output_type": "execute_result"
    }
   ],
   "source": [
    "str1.lower()"
   ]
  },
  {
   "cell_type": "markdown",
   "id": "e491fd76-7c40-4f7d-b7f5-f63f74c2f14f",
   "metadata": {},
   "source": [
    "**capitalize**"
   ]
  },
  {
   "cell_type": "code",
   "execution_count": 26,
   "id": "73c56592-d589-4400-8263-1b6ca4f3983e",
   "metadata": {},
   "outputs": [
    {
     "data": {
      "text/plain": [
       "'Hai how are you'"
      ]
     },
     "execution_count": 26,
     "metadata": {},
     "output_type": "execute_result"
    }
   ],
   "source": [
    "str1.capitalize()"
   ]
  },
  {
   "cell_type": "markdown",
   "id": "3fa48664-8ead-4e98-b51c-49f5ff11f02d",
   "metadata": {},
   "source": [
    "**casefold**"
   ]
  },
  {
   "cell_type": "code",
   "execution_count": 27,
   "id": "2a3693fc-08e5-45de-ac72-614adeb1db29",
   "metadata": {},
   "outputs": [
    {
     "data": {
      "text/plain": [
       "'hai how are you'"
      ]
     },
     "execution_count": 27,
     "metadata": {},
     "output_type": "execute_result"
    }
   ],
   "source": [
    "str1.casefold()"
   ]
  },
  {
   "cell_type": "markdown",
   "id": "a0294487-2f8e-4d0f-a749-4892f28ebc86",
   "metadata": {},
   "source": [
    "**Title**"
   ]
  },
  {
   "cell_type": "code",
   "execution_count": 28,
   "id": "21b3ecf6-e8ed-4783-810d-44d49cb9c22b",
   "metadata": {},
   "outputs": [
    {
     "data": {
      "text/plain": [
       "'Hai How Are You'"
      ]
     },
     "execution_count": 28,
     "metadata": {},
     "output_type": "execute_result"
    }
   ],
   "source": [
    "str1.title()"
   ]
  },
  {
   "cell_type": "code",
   "execution_count": null,
   "id": "a4d600d8-0d20-4f47-9908-dfd53cb7e487",
   "metadata": {},
   "outputs": [],
   "source": [
    "# str1='hai how are you'\n",
    "# o/p = 'Hai How Are You'  \n",
    "# with out using any method\n",
    "# One more level : iterate each letter apply capitalize\n",
    "# scratch : ord char\n"
   ]
  },
  {
   "cell_type": "markdown",
   "id": "d39dc092-9143-4952-9080-63eaf296f3b9",
   "metadata": {},
   "source": [
    "**center**"
   ]
  },
  {
   "cell_type": "code",
   "execution_count": 30,
   "id": "eed8f4ed-1292-44ce-94d3-681375767382",
   "metadata": {},
   "outputs": [
    {
     "data": {
      "text/plain": [
       "'  hai how are you   '"
      ]
     },
     "execution_count": 30,
     "metadata": {},
     "output_type": "execute_result"
    }
   ],
   "source": [
    "str1.center(20)"
   ]
  },
  {
   "cell_type": "code",
   "execution_count": 31,
   "id": "7f28c770-f0fb-4b4e-8254-19df56993bbf",
   "metadata": {},
   "outputs": [
    {
     "data": {
      "text/plain": [
       "20"
      ]
     },
     "execution_count": 31,
     "metadata": {},
     "output_type": "execute_result"
    }
   ],
   "source": [
    "len(str1.center(20))"
   ]
  },
  {
   "cell_type": "markdown",
   "id": "90d3d999-76cb-4407-9859-a52da790162d",
   "metadata": {},
   "source": [
    "- center has two arguments\n",
    "\n",
    "    - width\n",
    "\n",
    "    - fill char\n",
    "\n",
    "- original string alread : 15 lettters\n",
    "\n",
    "- we want to create a new string with 20 letters\n",
    "\n",
    "- Remaining 5 letters by default empty\n",
    "\n",
    "- we can fill with charcters also"
   ]
  },
  {
   "cell_type": "code",
   "execution_count": 32,
   "id": "19dce8d1-123c-4904-ab05-b80f5fb5c5d6",
   "metadata": {},
   "outputs": [
    {
     "data": {
      "text/plain": [
       "'*****hai how are you******'"
      ]
     },
     "execution_count": 32,
     "metadata": {},
     "output_type": "execute_result"
    }
   ],
   "source": [
    "str1.center(26,'*')"
   ]
  },
  {
   "cell_type": "code",
   "execution_count": 34,
   "id": "3a7d6087-eafa-4335-b27d-b6e82fb497df",
   "metadata": {},
   "outputs": [
    {
     "ename": "TypeError",
     "evalue": "center expected at least 1 argument, got 0",
     "output_type": "error",
     "traceback": [
      "\u001b[1;31m---------------------------------------------------------------------------\u001b[0m",
      "\u001b[1;31mTypeError\u001b[0m                                 Traceback (most recent call last)",
      "Cell \u001b[1;32mIn[34], line 1\u001b[0m\n\u001b[1;32m----> 1\u001b[0m str1\u001b[38;5;241m.\u001b[39mcenter()\n",
      "\u001b[1;31mTypeError\u001b[0m: center expected at least 1 argument, got 0"
     ]
    }
   ],
   "source": [
    "str1.center()"
   ]
  },
  {
   "cell_type": "markdown",
   "id": "37d542d7-c154-4acd-9640-016a3a890aba",
   "metadata": {},
   "source": [
    "- upper \n",
    "\n",
    "- lower\n",
    "\n",
    "- casefold\n",
    "\n",
    "- Title\n",
    "\n",
    "- Capitalize\n",
    "\n",
    "- Center"
   ]
  },
  {
   "cell_type": "markdown",
   "id": "d69fbce9-31cb-4e0e-9af7-c344a19186c5",
   "metadata": {},
   "source": [
    "**Count**"
   ]
  },
  {
   "cell_type": "code",
   "execution_count": 1,
   "id": "093894a3-3368-4b89-93b2-7cf6b67fa1f8",
   "metadata": {},
   "outputs": [],
   "source": [
    "str1='hai how are you'\n",
    "# How many 'a's are there"
   ]
  },
  {
   "cell_type": "code",
   "execution_count": 2,
   "id": "4049b2e7-ee01-43b5-b4ef-580a04bc5b5e",
   "metadata": {},
   "outputs": [],
   "source": [
    "count=0\n",
    "for i in str1:\n",
    "    if i=='a':\n",
    "        count=count+1\n",
    "count=0"
   ]
  },
  {
   "cell_type": "code",
   "execution_count": 7,
   "id": "d610fe07-5835-45b3-a7e8-53a2a7d57cb8",
   "metadata": {},
   "outputs": [
    {
     "data": {
      "text/plain": [
       "2"
      ]
     },
     "execution_count": 7,
     "metadata": {},
     "output_type": "execute_result"
    }
   ],
   "source": [
    "str1='hai how are you'\n",
    "str1.count('a')"
   ]
  },
  {
   "cell_type": "code",
   "execution_count": 8,
   "id": "ef489d2b-ef46-4354-b089-d72df3da3abd",
   "metadata": {},
   "outputs": [
    {
     "data": {
      "text/plain": [
       "3"
      ]
     },
     "execution_count": 8,
     "metadata": {},
     "output_type": "execute_result"
    }
   ],
   "source": [
    "str1='hai hai hai'\n",
    "str1.count('a')"
   ]
  },
  {
   "cell_type": "markdown",
   "id": "f5b86150-3245-4089-8541-db269a3bcf59",
   "metadata": {},
   "source": [
    "- We want number of a from a specific index\n",
    "\n",
    "- we want number of a between two indexes"
   ]
  },
  {
   "cell_type": "code",
   "execution_count": 12,
   "id": "d45fc90b-63f9-401d-8a2e-ff084566db20",
   "metadata": {},
   "outputs": [
    {
     "data": {
      "text/plain": [
       "2"
      ]
     },
     "execution_count": 12,
     "metadata": {},
     "output_type": "execute_result"
    }
   ],
   "source": [
    "#h  a   i    h   a   i    h   a   i\n",
    "#0  1   2 3  4   5   6  7 8   9   10\n",
    "str1.count('a')  # All the 'a'\n",
    "str1.count('a',5)"
   ]
  },
  {
   "cell_type": "code",
   "execution_count": null,
   "id": "21c31f0d-b4a3-4698-a9c5-1b09703cdf70",
   "metadata": {},
   "outputs": [],
   "source": [
    "str1.count('a',3)\n",
    "# we are searching number of 'a'  from index=3"
   ]
  },
  {
   "cell_type": "code",
   "execution_count": 13,
   "id": "3eb0a004-e466-4638-99cd-c555fe03fe41",
   "metadata": {},
   "outputs": [
    {
     "data": {
      "text/plain": [
       "1"
      ]
     },
     "execution_count": 13,
     "metadata": {},
     "output_type": "execute_result"
    }
   ],
   "source": [
    "#h  a   i    h   a   i    h   a   i\n",
    "#0  1   2 3  4   5   6  7 8   9   10\n",
    "str1.count('a')  # All the 'a'\n",
    "str1.count('a',5) # we are searching number of 'a'  from index=3\n",
    "str1.count('a',4,8) #we are searching number of 'a'  from index=4 to index=8"
   ]
  },
  {
   "cell_type": "code",
   "execution_count": null,
   "id": "48bcd753-4f4f-4084-8e47-dd569010ab16",
   "metadata": {},
   "outputs": [],
   "source": [
    "# Reverse check karo"
   ]
  },
  {
   "cell_type": "code",
   "execution_count": 14,
   "id": "1d252ba1-683d-45bc-9fdd-03389fd3583b",
   "metadata": {},
   "outputs": [
    {
     "data": {
      "text/plain": [
       "3"
      ]
     },
     "execution_count": 14,
     "metadata": {},
     "output_type": "execute_result"
    }
   ],
   "source": [
    "str1='ola ola ola'\n",
    "str1.count('ola')"
   ]
  },
  {
   "cell_type": "code",
   "execution_count": null,
   "id": "bcd2025b-ce5a-49d9-84c4-c5b2d53f506a",
   "metadata": {},
   "outputs": [],
   "source": [
    "# In the interviwes he will ask with out using method\n",
    "# After you got job "
   ]
  },
  {
   "cell_type": "code",
   "execution_count": 15,
   "id": "58d378aa-7f57-4aae-b5fc-0eb072ab7036",
   "metadata": {},
   "outputs": [],
   "source": [
    "str1='ola ola ola'\n",
    "for i in str1:\n",
    "    if i=='ola':   # 'o'  == 'ola'\n",
    "        print(i)"
   ]
  },
  {
   "cell_type": "markdown",
   "id": "674bb069-b4f2-4924-9112-e946c248b988",
   "metadata": {},
   "source": [
    "**Window method**"
   ]
  },
  {
   "cell_type": "code",
   "execution_count": null,
   "id": "a0cd8255-c69f-4df6-8577-3cef7301d172",
   "metadata": {},
   "outputs": [],
   "source": [
    "str1[i:i+3]\n",
    "i=0   str1[0:3]  === > ola\n",
    "i=1   str1[1:4]  ==== > la \n",
    "i=2"
   ]
  },
  {
   "cell_type": "code",
   "execution_count": null,
   "id": "b63a9690-a044-4a7a-874f-a6bfdca522e9",
   "metadata": {},
   "outputs": [],
   "source": [
    "str1='ola ola ola'\n",
    "count=0\n",
    "for i in range(len(str1)):\n",
    "    if str1[i:i+3]=='ola':\n",
    "        count=count+1\n",
    "\n",
    "# step-1: count=0   i =0  str1[0:3]=='ola'  True  count=1\n",
    "# step-2:           i=1   str1[1:4]=='ola'  F"
   ]
  },
  {
   "cell_type": "code",
   "execution_count": 20,
   "id": "5454e72f-826a-4bc4-9c2a-235440d03546",
   "metadata": {},
   "outputs": [
    {
     "data": {
      "text/plain": [
       "1"
      ]
     },
     "execution_count": 20,
     "metadata": {},
     "output_type": "execute_result"
    }
   ],
   "source": [
    "str1='ola ola ola'\n",
    "str1.count('ola ola ola')"
   ]
  },
  {
   "cell_type": "code",
   "execution_count": 21,
   "id": "0465a744-7c63-4ebd-b9f5-6aa9784b3d55",
   "metadata": {},
   "outputs": [
    {
     "data": {
      "text/plain": [
       "1"
      ]
     },
     "execution_count": 21,
     "metadata": {},
     "output_type": "execute_result"
    }
   ],
   "source": [
    "str1='ola ola ola'\n",
    "str1.count(str1)"
   ]
  },
  {
   "cell_type": "code",
   "execution_count": 22,
   "id": "d66cb87d-8ce5-4de6-94ea-a7c8b0e7a95a",
   "metadata": {},
   "outputs": [
    {
     "data": {
      "text/plain": [
       "0"
      ]
     },
     "execution_count": 22,
     "metadata": {},
     "output_type": "execute_result"
    }
   ],
   "source": [
    "str1.count('z')\n",
    "# No answer ''\n",
    "# Error\n",
    "# 0\n",
    "# NT"
   ]
  },
  {
   "cell_type": "markdown",
   "id": "376db9a8-ddfb-44ca-8498-9e51b15a2dbf",
   "metadata": {},
   "source": [
    "**Replace**"
   ]
  },
  {
   "cell_type": "code",
   "execution_count": 23,
   "id": "d53d683b-1ad7-43c7-b625-d6c319b664f7",
   "metadata": {},
   "outputs": [],
   "source": [
    "str1='welcome'\n",
    "# I want to replace 'l'  with  'L'"
   ]
  },
  {
   "cell_type": "code",
   "execution_count": null,
   "id": "69808aaa-1ac0-40ff-8f81-f199b621119c",
   "metadata": {},
   "outputs": [],
   "source": [
    "# we know that strings are immutable\n",
    "# we can not use index operations also\n",
    "# slice and concatenation\n",
    "# Divide welcome :  we    come\n",
    "# s1='we'\n",
    "# s2='come'\n",
    "# s1+'L'+s2\n",
    "\n",
    "sir, you said string is immutable \n",
    "it won't change but if we are doing concatenation \n",
    "s1=s1+'anything' total value of s1 is changing write sir how"
   ]
  },
  {
   "cell_type": "code",
   "execution_count": 26,
   "id": "16d8833d-e5f9-497b-8987-f9e101cf597d",
   "metadata": {},
   "outputs": [
    {
     "data": {
      "text/plain": [
       "'weLcome'"
      ]
     },
     "execution_count": 26,
     "metadata": {},
     "output_type": "execute_result"
    }
   ],
   "source": [
    "str1='welcome'\n",
    "s1=str1[0:2]\n",
    "s2=str1[3:]\n",
    "s1+'L'+s2"
   ]
  },
  {
   "cell_type": "code",
   "execution_count": 29,
   "id": "c7b30074-6caa-49f2-a498-1489495659e2",
   "metadata": {},
   "outputs": [
    {
     "data": {
      "text/plain": [
       "'L'"
      ]
     },
     "execution_count": 29,
     "metadata": {},
     "output_type": "execute_result"
    }
   ],
   "source": [
    "chr(ord('l')-32)  #Try this"
   ]
  },
  {
   "cell_type": "code",
   "execution_count": 30,
   "id": "52761258-cd1e-4618-bb94-393c00b780e0",
   "metadata": {},
   "outputs": [
    {
     "data": {
      "text/plain": [
       "'weLcome'"
      ]
     },
     "execution_count": 30,
     "metadata": {},
     "output_type": "execute_result"
    }
   ],
   "source": [
    "str1='welcome'\n",
    "str1.replace('l','L')"
   ]
  },
  {
   "cell_type": "code",
   "execution_count": 31,
   "id": "cdfdccd1-a9cd-4328-a88d-56f071041e4f",
   "metadata": {},
   "outputs": [
    {
     "data": {
      "text/plain": [
       "'weLLcome'"
      ]
     },
     "execution_count": 31,
     "metadata": {},
     "output_type": "execute_result"
    }
   ],
   "source": [
    "str1='wellcome'\n",
    "str1.replace('l','L')"
   ]
  },
  {
   "cell_type": "markdown",
   "id": "8c624e24-1f2b-490f-8805-562b8a047e69",
   "metadata": {},
   "source": [
    "- By defualt replace will change all the occurences\n",
    "\n",
    "- count= -1  is responsible for that\n",
    "\n",
    "- whcih means we can provide some count also, which how many I want to change\n",
    "\n",
    "- Give welllcome  and change count=1  and count=2 explore it"
   ]
  },
  {
   "cell_type": "code",
   "execution_count": 33,
   "id": "782a9535-e6da-443a-b6b7-f34c9ce6edf4",
   "metadata": {},
   "outputs": [
    {
     "data": {
      "text/plain": [
       "'weLllcome'"
      ]
     },
     "execution_count": 33,
     "metadata": {},
     "output_type": "execute_result"
    }
   ],
   "source": [
    "str1='welllcome'\n",
    "str1.replace('l','L',1)  # old='l', new ='L'  count=1\n",
    "\n",
    "# when we write count=1 \n",
    "# It will change only one letter\n",
    "# that to first occurence only"
   ]
  },
  {
   "cell_type": "code",
   "execution_count": 35,
   "id": "6e7190ca-8f3f-411e-bbde-2067c405e2ba",
   "metadata": {},
   "outputs": [
    {
     "data": {
      "text/plain": [
       "'weLLlcome'"
      ]
     },
     "execution_count": 35,
     "metadata": {},
     "output_type": "execute_result"
    }
   ],
   "source": [
    "str1='welllcome'\n",
    "str1.replace('l','L',2) "
   ]
  },
  {
   "cell_type": "code",
   "execution_count": 40,
   "id": "a5e618e0-928f-487a-9b90-9f59472075b5",
   "metadata": {},
   "outputs": [
    {
     "data": {
      "text/plain": [
       "'resta$t'"
      ]
     },
     "execution_count": 40,
     "metadata": {},
     "output_type": "execute_result"
    }
   ],
   "source": [
    "# Str1='restart'\n",
    "# i/p= 'resta$t'\n",
    "str1='restart'\n",
    "s1=str1[:1]\n",
    "s2=str1[1:]\n",
    "s3=s2.replace('r','$')\n",
    "s1+s3"
   ]
  },
  {
   "cell_type": "code",
   "execution_count": null,
   "id": "172531f8-e561-46e6-ab90-66e82b0aa5ba",
   "metadata": {},
   "outputs": [],
   "source": [
    "Q. Why is replacing -1 is replaced at all places. str1='welllcome'\n",
    "str1.replace('l','L',-1)\n",
    "# Flag=-1  True Flase ALL N"
   ]
  },
  {
   "cell_type": "code",
   "execution_count": 44,
   "id": "6ef35a32-2113-4cba-a23f-942f492bbdd3",
   "metadata": {},
   "outputs": [
    {
     "data": {
      "text/plain": [
       "'resta$t'"
      ]
     },
     "execution_count": 44,
     "metadata": {},
     "output_type": "execute_result"
    }
   ],
   "source": [
    "str1='restart'  # This case\n",
    "str1[::-1].replace('r','$',1)[::-1]"
   ]
  },
  {
   "cell_type": "markdown",
   "id": "47310989-7c1c-4538-8a2b-ce2273475309",
   "metadata": {},
   "source": [
    "**index-find**"
   ]
  },
  {
   "cell_type": "code",
   "execution_count": null,
   "id": "a853cd40-61fb-4b71-9b26-93fc10cd4eba",
   "metadata": {},
   "outputs": [],
   "source": [
    "- Upper\n",
    "\n",
    "- lower\n",
    "\n",
    "- casefold\n",
    "\n",
    "- title\n",
    "\n",
    "- capitalize\n",
    "\n",
    "- count\n",
    "\n",
    "- replace\n",
    "\n",
    "- index-find\n",
    "\n",
    "- split\n",
    "\n",
    "- strip\n",
    "\n",
    "- startswith"
   ]
  },
  {
   "cell_type": "code",
   "execution_count": 45,
   "id": "9e76f3df-4154-4372-af68-7afe0cea280a",
   "metadata": {},
   "outputs": [
    {
     "data": {
      "text/plain": [
       "['__add__',\n",
       " '__class__',\n",
       " '__contains__',\n",
       " '__delattr__',\n",
       " '__dir__',\n",
       " '__doc__',\n",
       " '__eq__',\n",
       " '__format__',\n",
       " '__ge__',\n",
       " '__getattribute__',\n",
       " '__getitem__',\n",
       " '__getnewargs__',\n",
       " '__getstate__',\n",
       " '__gt__',\n",
       " '__hash__',\n",
       " '__init__',\n",
       " '__init_subclass__',\n",
       " '__iter__',\n",
       " '__le__',\n",
       " '__len__',\n",
       " '__lt__',\n",
       " '__mod__',\n",
       " '__mul__',\n",
       " '__ne__',\n",
       " '__new__',\n",
       " '__reduce__',\n",
       " '__reduce_ex__',\n",
       " '__repr__',\n",
       " '__rmod__',\n",
       " '__rmul__',\n",
       " '__setattr__',\n",
       " '__sizeof__',\n",
       " '__str__',\n",
       " '__subclasshook__',\n",
       " 'capitalize',\n",
       " 'casefold',\n",
       " 'center',\n",
       " 'count',\n",
       " 'encode',\n",
       " 'endswith',\n",
       " 'expandtabs',\n",
       " 'find',\n",
       " 'format',\n",
       " 'format_map',\n",
       " 'index',\n",
       " 'isalnum',\n",
       " 'isalpha',\n",
       " 'isascii',\n",
       " 'isdecimal',\n",
       " 'isdigit',\n",
       " 'isidentifier',\n",
       " 'islower',\n",
       " 'isnumeric',\n",
       " 'isprintable',\n",
       " 'isspace',\n",
       " 'istitle',\n",
       " 'isupper',\n",
       " 'join',\n",
       " 'ljust',\n",
       " 'lower',\n",
       " 'lstrip',\n",
       " 'maketrans',\n",
       " 'partition',\n",
       " 'removeprefix',\n",
       " 'removesuffix',\n",
       " 'replace',\n",
       " 'rfind',\n",
       " 'rindex',\n",
       " 'rjust',\n",
       " 'rpartition',\n",
       " 'rsplit',\n",
       " 'rstrip',\n",
       " 'split',\n",
       " 'splitlines',\n",
       " 'startswith',\n",
       " 'strip',\n",
       " 'swapcase',\n",
       " 'title',\n",
       " 'translate',\n",
       " 'upper',\n",
       " 'zfill']"
      ]
     },
     "execution_count": 45,
     "metadata": {},
     "output_type": "execute_result"
    }
   ],
   "source": [
    "dir('')"
   ]
  },
  {
   "cell_type": "code",
   "execution_count": null,
   "id": "2f4279a6-0ae3-42cc-8e92-c068138cf89e",
   "metadata": {},
   "outputs": [],
   "source": [
    "'isalnum',\n",
    "'isalpha',\n",
    "'isascii',\n",
    "'isdecimal',\n",
    "'isdigit',\n",
    "'isidentifier',\n",
    "'islower',\n",
    "'isnumeric',\n",
    "'isprintable',\n",
    "'isspace',\n",
    "'istitle',\n",
    "'isupper',"
   ]
  },
  {
   "cell_type": "code",
   "execution_count": 47,
   "id": "a3d4b304-42e1-417b-a97a-125633ceae15",
   "metadata": {},
   "outputs": [
    {
     "data": {
      "text/plain": [
       "True"
      ]
     },
     "execution_count": 47,
     "metadata": {},
     "output_type": "execute_result"
    }
   ],
   "source": [
    "str1='HELLO'\n",
    "str1.isupper()"
   ]
  },
  {
   "cell_type": "code",
   "execution_count": 2,
   "id": "611b0d5c-56df-404a-9e29-87fecd31cd0c",
   "metadata": {},
   "outputs": [
    {
     "data": {
      "text/plain": [
       "False"
      ]
     },
     "execution_count": 2,
     "metadata": {},
     "output_type": "execute_result"
    }
   ],
   "source": [
    "str1='hello'\n",
    "str1.istitle()"
   ]
  },
  {
   "cell_type": "code",
   "execution_count": 3,
   "id": "2147f8f9-480f-4b79-a646-ed41673accf5",
   "metadata": {},
   "outputs": [
    {
     "data": {
      "text/plain": [
       "False"
      ]
     },
     "execution_count": 3,
     "metadata": {},
     "output_type": "execute_result"
    }
   ],
   "source": [
    "str1='hello'\n",
    "str1.isupper()"
   ]
  },
  {
   "cell_type": "markdown",
   "id": "f53fffcc-ac07-4453-b737-6a69ffaa2153",
   "metadata": {},
   "source": [
    "**Index**\n",
    "\n",
    "- index says that it will give the index of any letter in a given string\n",
    "\n",
    "- we already seen about count: Count will give how many letters are there in a string\n",
    "\n",
    "    - at what index you want to count\n",
    " \n",
    "    - between indexes also we can count the letters\n",
    " \n",
    "- index meaning it will provide the index\n",
    "\n",
    "- imagine that there same letters repeated\n",
    "\n",
    "- how can we find the next index"
   ]
  },
  {
   "cell_type": "code",
   "execution_count": 4,
   "id": "ed0bf2b5-9c36-49be-8c02-ae3b6e3e5f91",
   "metadata": {},
   "outputs": [
    {
     "data": {
      "text/plain": [
       "1"
      ]
     },
     "execution_count": 4,
     "metadata": {},
     "output_type": "execute_result"
    }
   ],
   "source": [
    "#h  a   i     h   a  i    h  a  i\n",
    "#0  1   2  3  4  5  6  7 8 9 10\n",
    "str1= 'hai hai hai'\n",
    "str1.index('a')\n",
    "# Return the lowest index in S where substring sub is found,"
   ]
  },
  {
   "cell_type": "code",
   "execution_count": 5,
   "id": "1aa1e3f4-a2f4-4937-b6ff-62de04e5b4c3",
   "metadata": {},
   "outputs": [
    {
     "data": {
      "text/plain": [
       "5"
      ]
     },
     "execution_count": 5,
     "metadata": {},
     "output_type": "execute_result"
    }
   ],
   "source": [
    "# I want to know next 'a' index after 3rd index\n",
    "str1= 'hai hai hai'\n",
    "str1.index('a',3)"
   ]
  },
  {
   "cell_type": "code",
   "execution_count": 7,
   "id": "b2682939-630e-4207-b73d-ddaa796eb81a",
   "metadata": {},
   "outputs": [
    {
     "data": {
      "text/plain": [
       "5"
      ]
     },
     "execution_count": 7,
     "metadata": {},
     "output_type": "execute_result"
    }
   ],
   "source": [
    "# I want to know 'a' index between 3rd and 7th index\n",
    "#h  a   i     h   a  i    h  a  i\n",
    "#0  1   2  3  4  5  6  7 8 9 10\n",
    "str1= 'hai hai hai'\n",
    "str1.index('a',3,7)"
   ]
  },
  {
   "cell_type": "code",
   "execution_count": 8,
   "id": "f56500c5-9b62-47e5-8633-2181185904fc",
   "metadata": {},
   "outputs": [
    {
     "data": {
      "text/plain": [
       "5"
      ]
     },
     "execution_count": 8,
     "metadata": {},
     "output_type": "execute_result"
    }
   ],
   "source": [
    "# I always a Return a lowest index only\n",
    "str1= 'hai hai hai'\n",
    "str1.index('a')      # among all the indexes the lowset index is '1' \n",
    "\n",
    "str1= 'hai hai hai'\n",
    "str1.index('a',3)   # after 3rd index the lowset index of a is '5'\n",
    "\n",
    "str1= 'hai hai hai'\n",
    "str1.index('a',3,7)  # Between 3-7 index the lowset index is '5' only"
   ]
  },
  {
   "cell_type": "code",
   "execution_count": 13,
   "id": "e9c37794-5975-4355-955b-0315933915bb",
   "metadata": {},
   "outputs": [
    {
     "data": {
      "text/plain": [
       "9"
      ]
     },
     "execution_count": 13,
     "metadata": {},
     "output_type": "execute_result"
    }
   ],
   "source": [
    "str1= 'hai hai hai'\n",
    "str1.index('a',-3,-1)      # among all the indexes the lowset index is '1' \n"
   ]
  },
  {
   "cell_type": "code",
   "execution_count": 14,
   "id": "00bcd7e3-132a-48fa-817c-9144ae192d49",
   "metadata": {},
   "outputs": [
    {
     "data": {
      "text/plain": [
       "5"
      ]
     },
     "execution_count": 14,
     "metadata": {},
     "output_type": "execute_result"
    }
   ],
   "source": [
    "# -11  -10   -9  -8  -7  -6  -5  -4  -3  -2  -1\n",
    "# h     a     i       h   a  i        h   a   i\n",
    "# 0     1     2  3    4   5  6   7     8  9 10\n",
    "\n",
    "str1= 'hai hai hai'\n",
    "str1.index('a',-9,-4)      # among all the indexes the lowset index is '1' \n"
   ]
  },
  {
   "cell_type": "code",
   "execution_count": 15,
   "id": "99c06296-2094-4c8d-a260-e1e37b2ca5fd",
   "metadata": {},
   "outputs": [
    {
     "ename": "ValueError",
     "evalue": "substring not found",
     "output_type": "error",
     "traceback": [
      "\u001b[1;31m---------------------------------------------------------------------------\u001b[0m",
      "\u001b[1;31mValueError\u001b[0m                                Traceback (most recent call last)",
      "Cell \u001b[1;32mIn[15], line 2\u001b[0m\n\u001b[0;32m      1\u001b[0m \u001b[38;5;28mstr\u001b[39m\u001b[38;5;241m=\u001b[39m\u001b[38;5;124m'\u001b[39m\u001b[38;5;124mhai hai hai\u001b[39m\u001b[38;5;124m'\u001b[39m\n\u001b[1;32m----> 2\u001b[0m \u001b[38;5;28mprint\u001b[39m(\u001b[38;5;28mstr\u001b[39m\u001b[38;5;241m.\u001b[39mindex(\u001b[38;5;124m'\u001b[39m\u001b[38;5;124ma\u001b[39m\u001b[38;5;124m'\u001b[39m,\u001b[38;5;241m-\u001b[39m\u001b[38;5;241m9\u001b[39m,\u001b[38;5;241m-\u001b[39m\u001b[38;5;241m6\u001b[39m))\n",
      "\u001b[1;31mValueError\u001b[0m: substring not found"
     ]
    }
   ],
   "source": [
    "str='hai hai hai'\n",
    "print(str.index('a',-9,-6))\n",
    "# Postive direction\n",
    "# start= start = -9\n",
    "# last =end-1 = -6-1= -7\n",
    "# -9 -8 -7\n",
    "#  i     h  \n",
    "# there is no 'a'"
   ]
  },
  {
   "cell_type": "code",
   "execution_count": 19,
   "id": "9032af1f-5e3f-4e06-9fc5-b9e9629c69b1",
   "metadata": {},
   "outputs": [
    {
     "name": "stdout",
     "output_type": "stream",
     "text": [
      "3\n",
      "2\n",
      "1\n"
     ]
    }
   ],
   "source": [
    "# -11  -10   -9  -8  -7  -6  -5  -4  -3  -2  -1\n",
    "# h     a     i       h   a  i        h   a   i\n",
    "# 0     1     2  3    4   5  6   7     8  9 10\n",
    "str1= 'hai hai hai'\n",
    "print(str1.count('a')) \n",
    "print(str1.count('a',3))\n",
    "print(str1.count('a',3,7)) "
   ]
  },
  {
   "cell_type": "code",
   "execution_count": 20,
   "id": "24342528-6cf1-4311-bed8-fdd473abed03",
   "metadata": {},
   "outputs": [
    {
     "name": "stdout",
     "output_type": "stream",
     "text": [
      "1\n",
      "5\n",
      "5\n"
     ]
    }
   ],
   "source": [
    "# -11  -10   -9  -8  -7  -6  -5  -4  -3  -2  -1\n",
    "# h     a     i       h   a  i        h   a   i\n",
    "# 0     1     2  3    4   5  6   7     8  9 10\n",
    "str1= 'hai hai hai'\n",
    "print(str1.index('a')) \n",
    "print(str1.index('a',3))\n",
    "print(str1.index('a',3,7)) "
   ]
  },
  {
   "cell_type": "code",
   "execution_count": null,
   "id": "79d0489f-e01d-4879-9481-085c18d6b5c5",
   "metadata": {},
   "outputs": [],
   "source": [
    "Sir, yesterday assignment methods are string methods right? \n",
    "Why those are not visible in string package? Those are visible with dir('') not with dir(string)\n",
    "\n",
    "import string\n",
    "name='praveen'\n",
    "dir(name)  \n",
    "dir(string)"
   ]
  },
  {
   "cell_type": "code",
   "execution_count": 21,
   "id": "5f65ad9d-9df5-405f-bb9e-c5600c6c4df9",
   "metadata": {},
   "outputs": [
    {
     "name": "stdout",
     "output_type": "stream",
     "text": [
      "1\n",
      "5\n",
      "9\n"
     ]
    }
   ],
   "source": [
    "str1='hai hai hai'\n",
    "# I want to know all the indexes of 'a'\n",
    "for i in range(len(str1)):\n",
    "    if str1[i]=='a':\n",
    "        print(i)"
   ]
  },
  {
   "cell_type": "code",
   "execution_count": 26,
   "id": "0b2eabe7-64bc-4637-9779-b55b3e9b257e",
   "metadata": {},
   "outputs": [
    {
     "name": "stdout",
     "output_type": "stream",
     "text": [
      "1\n",
      "5\n",
      "9\n",
      "13\n"
     ]
    }
   ],
   "source": [
    "# h     a     i       h   a  i        h   a   i  hai\n",
    "# 0     1     2  3    4   5  6   7     8  9 10\n",
    "str1='hai hai hai hai'\n",
    "i1=str1.index('a')\n",
    "print(i1)\n",
    "i2=str1.index('a',i1+1)\n",
    "print(i2)\n",
    "i3=str1.index('a',i2+1)\n",
    "print(i3)\n",
    "i4=str1.index('a',i3+1)\n",
    "print(i4)"
   ]
  },
  {
   "cell_type": "code",
   "execution_count": 35,
   "id": "53699425-0e60-4864-930d-735afd6267a2",
   "metadata": {},
   "outputs": [
    {
     "name": "stdout",
     "output_type": "stream",
     "text": [
      "1\n",
      "5\n",
      "9\n",
      "13\n"
     ]
    },
    {
     "ename": "ValueError",
     "evalue": "substring not found",
     "output_type": "error",
     "traceback": [
      "\u001b[1;31m---------------------------------------------------------------------------\u001b[0m",
      "\u001b[1;31mValueError\u001b[0m                                Traceback (most recent call last)",
      "Cell \u001b[1;32mIn[35], line 13\u001b[0m\n\u001b[0;32m     11\u001b[0m i4\u001b[38;5;241m=\u001b[39m str1\u001b[38;5;241m.\u001b[39mindex(\u001b[38;5;124m'\u001b[39m\u001b[38;5;124ma\u001b[39m\u001b[38;5;124m'\u001b[39m,i3\u001b[38;5;241m+\u001b[39m\u001b[38;5;241m1\u001b[39m)\n\u001b[0;32m     12\u001b[0m \u001b[38;5;28mprint\u001b[39m(i4)\n\u001b[1;32m---> 13\u001b[0m i5\u001b[38;5;241m=\u001b[39m str1\u001b[38;5;241m.\u001b[39mindex(\u001b[38;5;124m'\u001b[39m\u001b[38;5;124ma\u001b[39m\u001b[38;5;124m'\u001b[39m,i4\u001b[38;5;241m+\u001b[39m\u001b[38;5;241m1\u001b[39m)\n\u001b[0;32m     14\u001b[0m \u001b[38;5;28mprint\u001b[39m(i5)\n",
      "\u001b[1;31mValueError\u001b[0m: substring not found"
     ]
    }
   ],
   "source": [
    "# Home work Implement above logic to get all the indexes\n",
    "# h     a     i       h   a  i        h   a   i  hai\n",
    "# 0     1     2  3    4   5  6   7     8  9 10\n",
    "str1='hai hai hai hai'\n",
    "i1=str1.index('a')\n",
    "print(i1)  # 1\n",
    "i2= str1.index('a',i1+1)\n",
    "print(i2)  #  5\n",
    "i3= str1.index('a',i2+1)\n",
    "print(i3)\n",
    "i4= str1.index('a',i3+1)\n",
    "print(i4)\n",
    "i5= str1.index('a',i4+1)\n",
    "print(i5)"
   ]
  },
  {
   "cell_type": "markdown",
   "id": "a881ce7c-6885-4167-8254-be8afbc2b9da",
   "metadata": {},
   "source": [
    "**Find**"
   ]
  },
  {
   "cell_type": "code",
   "execution_count": 33,
   "id": "92f1bf8c-9f95-4037-bcf0-a22bfbbd1f6c",
   "metadata": {},
   "outputs": [
    {
     "name": "stdout",
     "output_type": "stream",
     "text": [
      "1\n",
      "5\n",
      "9\n",
      "13\n",
      "-1\n"
     ]
    }
   ],
   "source": [
    "str1='hai hai hai hai'\n",
    "i1=str1.find('a')\n",
    "print(i1)  # 1\n",
    "i2= str1.find('a',i1+1)\n",
    "print(i2)  #  5\n",
    "i3= str1.find('a',i2+1)\n",
    "print(i3)\n",
    "i4= str1.find('a',i3+1)\n",
    "print(i4)\n",
    "i5= str1.find('a',i4+1)\n",
    "print(i5)"
   ]
  },
  {
   "cell_type": "code",
   "execution_count": null,
   "id": "9c46c1cb-fa46-4575-bcbc-a62ed3830f20",
   "metadata": {},
   "outputs": [],
   "source": [
    "str1.index()  # Raises ValueError when the substring is not found.\n",
    "str1.find()  # Return -1 on failure."
   ]
  },
  {
   "cell_type": "code",
   "execution_count": 36,
   "id": "e6dda66c-e7ce-4ec5-b079-48fa80bc0ca7",
   "metadata": {},
   "outputs": [
    {
     "data": {
      "text/plain": [
       "0"
      ]
     },
     "execution_count": 36,
     "metadata": {},
     "output_type": "execute_result"
    }
   ],
   "source": [
    "str1='hai hai hai'\n",
    "str1.count('z')"
   ]
  },
  {
   "cell_type": "code",
   "execution_count": 37,
   "id": "98fb5156-a424-4576-954b-1e86d60caa1c",
   "metadata": {},
   "outputs": [
    {
     "data": {
      "text/plain": [
       "'hai hai hai'"
      ]
     },
     "execution_count": 37,
     "metadata": {},
     "output_type": "execute_result"
    }
   ],
   "source": [
    "str1='hai hai hai'\n",
    "str1.replace('z','Z')"
   ]
  },
  {
   "cell_type": "markdown",
   "id": "8e8ff19a-674f-4036-8ac7-2fc36b172a1d",
   "metadata": {},
   "source": [
    "- If substring not found\n",
    "\n",
    "- Count method will give zero\n",
    "\n",
    "- Replace method will give original string\n",
    "\n",
    "- Index will give **sub string not found error**\n",
    "\n",
    "- Find will give -1"
   ]
  },
  {
   "cell_type": "code",
   "execution_count": null,
   "id": "f3adc14a-7f15-4528-b480-7707c4b03f72",
   "metadata": {},
   "outputs": [],
   "source": [
    "str1='omkar.nallagoni@cognizant.com'\n",
    "# Fisrt name= omkar\n",
    "# second name= nallagoni\n",
    "# company name= cognizant\n",
    "str2='virat.kohli@rcb.com'\n",
    "str3='rohit.sharma@mi.com'\n",
    "str4='a.b@c.com'\n",
    "\n",
    "# Idea : find the triggers\n",
    "# For first name  .\n",
    "# second name    .  and @\n",
    "# Compnay name    @ and second .\n",
    "# i1= first dot index\n",
    "# i2= @ index\n",
    "# i3= second index"
   ]
  },
  {
   "cell_type": "code",
   "execution_count": 38,
   "id": "acac0c5e-497e-43e4-95d4-efa30bd34e6d",
   "metadata": {},
   "outputs": [
    {
     "data": {
      "text/plain": [
       "('omkar', 'nallagoni', 'cognizant')"
      ]
     },
     "execution_count": 38,
     "metadata": {},
     "output_type": "execute_result"
    }
   ],
   "source": [
    "str1='omkar.nallagoni@cognizant.com'\n",
    "i1=str1.index('.')\n",
    "i2=str1.index('@')\n",
    "i3=str1.index('.',i1+1)\n",
    "first_name=str1[:i1]\n",
    "second_name=str1[i1+1:i2]\n",
    "cname=str1[i2+1:i3]\n",
    "first_name,second_name,cname"
   ]
  },
  {
   "cell_type": "markdown",
   "id": "1eb19cc0-de26-4b2d-a5ef-48ba050dc444",
   "metadata": {},
   "source": [
    "- count\n",
    "\n",
    "- replace\n",
    "\n",
    "- find\n",
    "\n",
    "- index"
   ]
  },
  {
   "cell_type": "markdown",
   "id": "5ef9be47-8d0d-4f1f-ab16-82b7275c00e6",
   "metadata": {},
   "source": [
    "- Upper/lower/casefold\n",
    "\n",
    "- Capitalize/Title\n",
    "\n",
    "- Center\n",
    "\n",
    "- Count\n",
    "\n",
    "- Replace\n",
    "\n",
    "- index/find\n",
    "\n",
    "- start with is "
   ]
  },
  {
   "cell_type": "code",
   "execution_count": null,
   "id": "667bcb67-aec3-4447-bc0d-4a20a10fb378",
   "metadata": {},
   "outputs": [],
   "source": [
    "- split\n",
    "\n",
    "- strip/lstrip/rstrip\n",
    "\n",
    "- startswith/endswith"
   ]
  }
 ],
 "metadata": {
  "kernelspec": {
   "display_name": "Python 3 (ipykernel)",
   "language": "python",
   "name": "python3"
  },
  "language_info": {
   "codemirror_mode": {
    "name": "ipython",
    "version": 3
   },
   "file_extension": ".py",
   "mimetype": "text/x-python",
   "name": "python",
   "nbconvert_exporter": "python",
   "pygments_lexer": "ipython3",
   "version": "3.11.7"
  }
 },
 "nbformat": 4,
 "nbformat_minor": 5
}
