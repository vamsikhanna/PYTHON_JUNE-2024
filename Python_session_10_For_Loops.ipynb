{
 "cells": [
  {
   "cell_type": "markdown",
   "id": "8f7a44b8-3785-4e23-b78b-1dc3a7220684",
   "metadata": {},
   "source": [
    "**Loops**\n",
    "\n",
    "- Iterate a piece of code untill the condition satisfy\n",
    "\n",
    "- we can run a code normally\n",
    "\n",
    "- we can run a code by using function wrapper(functions)\n",
    "\n",
    "- we can run a code multiple times (loops)\n",
    "\n",
    "- we can run a code by using condition (conditions)"
   ]
  },
  {
   "cell_type": "code",
   "execution_count": 1,
   "id": "984e8e01-4622-4abd-8a7c-a63f17087b0a",
   "metadata": {},
   "outputs": [
    {
     "name": "stdout",
     "output_type": "stream",
     "text": [
      "30\n"
     ]
    }
   ],
   "source": [
    "a=10\n",
    "b=20\n",
    "c=a+b\n",
    "print(c)"
   ]
  },
  {
   "cell_type": "code",
   "execution_count": 2,
   "id": "d5208bc2-8a91-494c-8d3a-68d5382627c7",
   "metadata": {},
   "outputs": [
    {
     "name": "stdout",
     "output_type": "stream",
     "text": [
      "30\n"
     ]
    }
   ],
   "source": [
    "if True :\n",
    "    a=10\n",
    "    b=20\n",
    "    c=a+b\n",
    "    print(c)"
   ]
  },
  {
   "cell_type": "code",
   "execution_count": 3,
   "id": "0e94b1ca-c863-45aa-84a3-442d46d0c18d",
   "metadata": {},
   "outputs": [
    {
     "name": "stdout",
     "output_type": "stream",
     "text": [
      "30\n"
     ]
    }
   ],
   "source": [
    "def add():\n",
    "    a=10\n",
    "    b=20\n",
    "    c=a+b\n",
    "    print(c)\n",
    "\n",
    "add()"
   ]
  },
  {
   "cell_type": "code",
   "execution_count": null,
   "id": "742b7715-9e08-499e-85a9-6cf36a5079f4",
   "metadata": {},
   "outputs": [],
   "source": [
    "salary= eval(input('enter the salary:'))\n",
    "tax_per=eval(input(\"enter the tax_per:\"))\n",
    "tax_amount=salary*tax_per/100\n",
    "print(tax_amount)\n",
    "\n",
    "salary= eval(input('enter the salary:'))\n",
    "tax_per=eval(input(\"enter the tax_per:\"))\n",
    "tax_amount=salary*tax_per/100\n",
    "print(tax_amount)\n",
    "\n",
    "salary= eval(input('enter the salary:'))\n",
    "tax_per=eval(input(\"enter the tax_per:\"))\n",
    "tax_amount=salary*tax_per/100\n",
    "print(tax_amount)"
   ]
  },
  {
   "cell_type": "code",
   "execution_count": null,
   "id": "4c728a45-5a9e-453e-85be-5ccf81c5a14e",
   "metadata": {},
   "outputs": [],
   "source": [
    "def tax():\n",
    "    salary= eval(input('enter the salary:'))\n",
    "    tax_per=eval(input(\"enter the tax_per:\"))\n",
    "    tax_amount=salary*tax_per/100\n",
    "    print(tax_amount\n",
    "\n",
    "tax()"
   ]
  },
  {
   "cell_type": "markdown",
   "id": "46fb6dcd-b87a-4852-808f-cb2c8ed5803d",
   "metadata": {},
   "source": [
    "- For loop\n",
    "\n",
    "- While loop\n",
    "\n",
    "- any loop\n",
    "\n",
    "    - Intial point to start the loop\n",
    "\n",
    "    - increment or decrement\n",
    "\n",
    "    - condition to stop the loop"
   ]
  },
  {
   "cell_type": "markdown",
   "id": "6d38caaf-b87c-400f-b7c3-92b5e04f72e8",
   "metadata": {},
   "source": [
    "## For loop"
   ]
  },
  {
   "cell_type": "markdown",
   "id": "db92a0fc-3e5f-430c-a1aa-8826ee8f5b61",
   "metadata": {},
   "source": [
    "$Pattern-1$"
   ]
  },
  {
   "cell_type": "markdown",
   "id": "470b05d2-8315-49c6-b591-c7273b36f74b",
   "metadata": {},
   "source": [
    "**range(stop)**"
   ]
  },
  {
   "cell_type": "code",
   "execution_count": null,
   "id": "7451ddd2-bbc5-4ce9-8a51-edc73efcd3d2",
   "metadata": {},
   "outputs": [],
   "source": [
    "# syntax\n",
    "for i in range(<value>):\n",
    "    # start write your code"
   ]
  },
  {
   "cell_type": "markdown",
   "id": "25d41dd6-6432-44d7-97c9-2dcfe9c6c125",
   "metadata": {},
   "source": [
    "- when ever you see the word range it belongs to math family\n",
    "\n",
    "- inside range we need to provide one value ex: range(3)\n",
    "\n",
    "- If you provide only one value \n",
    "\n",
    "    - start value =0\n",
    "\n",
    "    - increment = +1\n",
    "\n",
    "    - last = stop-1\n",
    "\n",
    "- range(3)\n",
    "\n",
    "    - start value =0\n",
    "\n",
    "    - increment = 1\n",
    "\n",
    "    - last = 3-1 =2\n",
    "\n",
    "    - answers are : 0  1  2\n",
    "\n",
    "**NOTE**:  In Python the index always start with zero"
   ]
  },
  {
   "cell_type": "code",
   "execution_count": 4,
   "id": "d86aa7d2-750a-4f54-afd6-056b324aca69",
   "metadata": {},
   "outputs": [
    {
     "name": "stdout",
     "output_type": "stream",
     "text": [
      "0\n",
      "1\n",
      "2\n"
     ]
    }
   ],
   "source": [
    "for i in range(3):\n",
    "    print(i)"
   ]
  },
  {
   "cell_type": "code",
   "execution_count": null,
   "id": "8a417cd0-4238-4aac-8b77-abf01e5a6125",
   "metadata": {},
   "outputs": [],
   "source": [
    "print(0)\n",
    "print(1)\n",
    "print(2)\n",
    "print(3)\n",
    "print(4)\n",
    "\n",
    "print(i)"
   ]
  },
  {
   "cell_type": "code",
   "execution_count": 5,
   "id": "2e78a78d-f2d7-4cea-8c1a-57cccefaffc8",
   "metadata": {},
   "outputs": [
    {
     "name": "stdout",
     "output_type": "stream",
     "text": [
      "hello\n",
      "hello\n",
      "hello\n",
      "hello\n",
      "hello\n"
     ]
    }
   ],
   "source": [
    "# I want to print hello 5 times\n",
    "for i in range(5):\n",
    "    print(\"hello\")"
   ]
  },
  {
   "cell_type": "code",
   "execution_count": 6,
   "id": "18b85014-adae-41b1-85cb-543df028e79b",
   "metadata": {},
   "outputs": [
    {
     "name": "stdout",
     "output_type": "stream",
     "text": [
      "6 is even\n"
     ]
    }
   ],
   "source": [
    "# For example \n",
    "# take a random number between  1 to 100\n",
    "# print it is a even number and odd number\n",
    "# you need to generate 3 random number \n",
    "\n",
    "import random\n",
    "num=random.randint(1,100)\n",
    "if num%2==0:\n",
    "    print(f\"{num} is even\")\n",
    "else:\n",
    "    print(f\"{num} is odd\")\n",
    "\n",
    "import random\n",
    "num=random.randint(1,100)\n",
    "if num%2==0:\n",
    "    print(f\"{num} is even\")\n",
    "else:\n",
    "    print(f\"{num} is odd\")\n",
    "\n",
    "import random\n",
    "num=random.randint(1,100)\n",
    "if num%2==0:\n",
    "    print(f\"{num} is even\")\n",
    "else:\n",
    "    print(f\"{num} is odd\")"
   ]
  },
  {
   "cell_type": "code",
   "execution_count": 7,
   "id": "b145fe6b-c94e-4872-a388-a7acbed8e62a",
   "metadata": {},
   "outputs": [
    {
     "name": "stdout",
     "output_type": "stream",
     "text": [
      "32 is even\n",
      "11 is odd\n",
      "51 is odd\n"
     ]
    }
   ],
   "source": [
    "import random\n",
    "for i in range(3):\n",
    "    num=random.randint(1,100)\n",
    "    if num%2==0:\n",
    "        print(f\"{num} is even\")\n",
    "    else:\n",
    "        print(f\"{num} is odd\")"
   ]
  },
  {
   "cell_type": "code",
   "execution_count": 8,
   "id": "008891b9-05e2-4caf-ba83-5b0f69a2cabe",
   "metadata": {},
   "outputs": [
    {
     "name": "stdout",
     "output_type": "stream",
     "text": [
      "0\n",
      "1\n",
      "2\n",
      "3\n",
      "4\n",
      "5\n",
      "6\n",
      "7\n",
      "8\n",
      "9\n"
     ]
    }
   ],
   "source": [
    "for i in range(10):\n",
    "    print(i)"
   ]
  },
  {
   "cell_type": "code",
   "execution_count": 12,
   "id": "6545f8eb-df82-4888-998f-426e83d5c409",
   "metadata": {},
   "outputs": [
    {
     "name": "stdout",
     "output_type": "stream",
     "text": [
      "0 1 2 3 4\n",
      "9\n"
     ]
    }
   ],
   "source": [
    "print(0,end=' ')\n",
    "print(1,end=' ')\n",
    "print(2,end=' ')\n",
    "print(3,end=' ')\n",
    "print(4)\n",
    "\n",
    "print(i,end=' ')"
   ]
  },
  {
   "cell_type": "code",
   "execution_count": 13,
   "id": "220e3540-8903-4d71-975f-dd2c1bce08c8",
   "metadata": {},
   "outputs": [
    {
     "name": "stdout",
     "output_type": "stream",
     "text": [
      "0 1 2 3 4 5 6 7 8 9 "
     ]
    }
   ],
   "source": [
    "for i in range(10):\n",
    "    print(i,end=' ')"
   ]
  },
  {
   "cell_type": "code",
   "execution_count": null,
   "id": "3d9f18ea-882b-47bb-94a8-ba2f4afc143e",
   "metadata": {},
   "outputs": [],
   "source": [
    "# sep : will seperate multiple values in same print staement\n",
    "# end: combine the multiple print statements"
   ]
  },
  {
   "cell_type": "markdown",
   "id": "5113a102-f1a9-4b01-8c22-a4d07fecd6b1",
   "metadata": {},
   "source": [
    "$Pattern-2$\n",
    "\n",
    "**range(start,stop)**\n",
    "\n",
    "- range(10,20)\n",
    "\n",
    "    - start value= 10\n",
    "\n",
    "    - increment= 1\n",
    "\n",
    "    - last = stop-1 = 20-1=19\n",
    "\n",
    "    - ans: 10 11 12 13 14 15 16 17 18 19"
   ]
  },
  {
   "cell_type": "code",
   "execution_count": 14,
   "id": "9e188d90-3ca3-48b6-860c-976157584d61",
   "metadata": {},
   "outputs": [
    {
     "name": "stdout",
     "output_type": "stream",
     "text": [
      "10 11 12 13 14 15 16 17 18 19 "
     ]
    }
   ],
   "source": [
    "for i in range(10,20):\n",
    "    print(i,end=' ')"
   ]
  },
  {
   "cell_type": "code",
   "execution_count": 15,
   "id": "8e0f983a-42b0-4953-9894-e4485ba5d500",
   "metadata": {},
   "outputs": [
    {
     "name": "stdout",
     "output_type": "stream",
     "text": [
      "the square of 20 is 400\n",
      "the square of 21 is 441\n",
      "the square of 22 is 484\n",
      "the square of 23 is 529\n",
      "the square of 24 is 576\n"
     ]
    }
   ],
   "source": [
    "# wap ask the user print the square of the number between\n",
    "# 20 to 25\n",
    "for i in range(20,25):\n",
    "    print(f\"the square of {i} is {i*i}\")\n",
    "# wap ask the user print the number is even or odd between 10 to 20\n"
   ]
  },
  {
   "cell_type": "code",
   "execution_count": 16,
   "id": "1650816b-3218-4961-8a3a-85e20f7609a1",
   "metadata": {},
   "outputs": [
    {
     "name": "stdout",
     "output_type": "stream",
     "text": [
      "10 is even\n",
      "11 is odd\n",
      "12 is even\n",
      "13 is odd\n",
      "14 is even\n",
      "15 is odd\n",
      "16 is even\n",
      "17 is odd\n",
      "18 is even\n",
      "19 is odd\n"
     ]
    }
   ],
   "source": [
    "# wap ask the user print the number is even or odd between 10 to 20\n",
    "for i in range(10,20):\n",
    "    if i%2==0:\n",
    "        print(f\"{i} is even\")\n",
    "    else:\n",
    "        print(f\"{i} is odd\")"
   ]
  },
  {
   "cell_type": "code",
   "execution_count": 20,
   "id": "aa092368-1efd-4901-9170-5a4ae1f6b177",
   "metadata": {},
   "outputs": [
    {
     "name": "stdout",
     "output_type": "stream",
     "text": [
      "95 is odd\n",
      "93 is odd\n",
      "40 is even\n"
     ]
    }
   ],
   "source": [
    "import random\n",
    "for i in range(1001,1004):\n",
    "    num=random.randint(1,100)\n",
    "    if num%2==0:\n",
    "        print(f\"{num} is even\")\n",
    "    else:\n",
    "        print(f\"{num} is odd\")"
   ]
  },
  {
   "cell_type": "markdown",
   "id": "7b70a351-268e-4700-abe0-ad5d4b96097e",
   "metadata": {},
   "source": [
    "$Pattern-3$\n",
    "\n",
    "**range(start,stop,step)**\n",
    "\n",
    "- start value = start values\n",
    "\n",
    "- step value\n",
    "\n",
    "    - Postive step value\n",
    "\n",
    "        - if step value is positive: increment\n",
    "\n",
    "        - last = stop-1\n",
    "\n",
    "    - negative step value\n",
    "\n",
    "        - if step value is negative: decrement\n",
    "\n",
    "        - last = stop+1"
   ]
  },
  {
   "cell_type": "code",
   "execution_count": 21,
   "id": "be7aa60a-335e-4ac0-ad56-7a2662f9d920",
   "metadata": {},
   "outputs": [
    {
     "name": "stdout",
     "output_type": "stream",
     "text": [
      "2 4 6 8 10 12 14 16 18 "
     ]
    }
   ],
   "source": [
    "# case-1:\n",
    "for i in range(2,20,2):  # range(start,stop,step)\n",
    "    print(i,end=' ')\n",
    "\n",
    "# start=2\n",
    "# step= +ve  2\n",
    "# last= stop-1= 20-1=19\n",
    "# 2 4 6 8 10 12 14 16 18 "
   ]
  },
  {
   "cell_type": "code",
   "execution_count": 22,
   "id": "812f14b9-ff20-4ce1-9a45-ba1a9e67a7fb",
   "metadata": {},
   "outputs": [
    {
     "name": "stdout",
     "output_type": "stream",
     "text": [
      "10 "
     ]
    }
   ],
   "source": [
    "for i in range(10,20,30):\n",
    "    print(i,end=' ')\n",
    "# start=10\n",
    "# step=30\n",
    "# last= 20-1=19\n",
    "# 10"
   ]
  },
  {
   "cell_type": "code",
   "execution_count": 23,
   "id": "0609c731-f801-4061-937b-e113b1b1c953",
   "metadata": {},
   "outputs": [],
   "source": [
    "# case-2:\n",
    "for i in range(2,20,-2):  # range(start,stop,step)\n",
    "    print(i,end=' ')\n",
    "\n",
    "# start=2\n",
    "# step= -2  negative direction\n",
    "# last= stop+1 : 20+1 =21"
   ]
  },
  {
   "cell_type": "code",
   "execution_count": 24,
   "id": "4747e329-0f3b-476a-ad47-e7c5a5f4615e",
   "metadata": {},
   "outputs": [
    {
     "name": "stdout",
     "output_type": "stream",
     "text": [
      "20 18 16 14 12 10 8 6 4 "
     ]
    }
   ],
   "source": [
    "# case-3:\n",
    "for i in range(20,2,-2):  # range(start,stop,step)\n",
    "    print(i,end=' ')\n",
    "\n",
    "# start=20\n",
    "# step= -2 negative\n",
    "# last= stop+1= 2+1 =3\n",
    "# 20 18 16 14 12 10 8 6 4 "
   ]
  },
  {
   "cell_type": "code",
   "execution_count": 25,
   "id": "9bc79776-40e5-442e-ade2-fecfd79824ba",
   "metadata": {},
   "outputs": [],
   "source": [
    "# case-4:\n",
    "for i in range(-20,2,-2):  # range(start,stop,step)\n",
    "    print(i,end=' ')\n",
    "\n",
    "# start= -20\n",
    "# step= -2  neg\n",
    "# last= stop+1 = 2+1=3"
   ]
  },
  {
   "cell_type": "code",
   "execution_count": null,
   "id": "e0f8a33a-85ac-4012-9dc0-c2db31e019cc",
   "metadata": {},
   "outputs": [],
   "source": [
    "range(3,20,2) # P\n",
    "range(3,20,-2) # NP\n",
    "range(3,-20,2) # NP\n",
    "range(3,-20,-2) # P\n",
    "range(-3,20,2) # P\n",
    "range(-3,-20,2) # NP\n",
    "range(-3,20,-2) # NP\n",
    "range(-3,-20,-2) # P\n",
    "range(20,3,2) # NP\n",
    "range(20,3,-2) # P\n",
    "range(20,-3,-2) # P\n",
    "range(-20,-3,-2) #NP "
   ]
  },
  {
   "cell_type": "code",
   "execution_count": 26,
   "id": "75035b02-5b1f-4acf-89d9-5892e8d07cbb",
   "metadata": {},
   "outputs": [
    {
     "name": "stdout",
     "output_type": "stream",
     "text": [
      "20 18 16 14 12 10 8 6 4 2 0 -2 "
     ]
    }
   ],
   "source": [
    "for i in range(20,-3,-2):\n",
    "    print(i,end=' ')"
   ]
  },
  {
   "cell_type": "code",
   "execution_count": 1,
   "id": "297a83cf-e719-4975-a4df-c4d0fb1ce060",
   "metadata": {},
   "outputs": [
    {
     "name": "stdout",
     "output_type": "stream",
     "text": [
      "45\n"
     ]
    }
   ],
   "source": [
    "s=0\n",
    "for i in range(10):\n",
    "    s=s+i\n",
    "\n",
    "print(s)"
   ]
  },
  {
   "cell_type": "code",
   "execution_count": 4,
   "id": "f3afde2f-4a5e-4f34-89ff-d3fe35ca32de",
   "metadata": {},
   "outputs": [],
   "source": [
    "l=[]\n",
    "for i in range(10):\n",
    "    l.append(i)"
   ]
  },
  {
   "cell_type": "code",
   "execution_count": 6,
   "id": "b037e045-a809-401e-8dc1-08aeb29258bc",
   "metadata": {},
   "outputs": [
    {
     "data": {
      "text/plain": [
       "45"
      ]
     },
     "execution_count": 6,
     "metadata": {},
     "output_type": "execute_result"
    }
   ],
   "source": [
    "sum(l)"
   ]
  },
  {
   "cell_type": "code",
   "execution_count": null,
   "id": "a5c5aa0f-e037-4549-9dd9-594a42f46527",
   "metadata": {},
   "outputs": [],
   "source": [
    "#1Q) For example \n",
    "# take a random number between  1 to 100\n",
    "# print it is a even number and odd number\n",
    "# you need to generate 3 random number \n",
    "import random\n",
    "for i in range(3):\n",
    "    num=random.randint(1,100)\n",
    "    if num%2==0:\n",
    "        print(f\"{num} is even\")\n",
    "    else:\n",
    "        print(f\"{num} is odd\")"
   ]
  },
  {
   "cell_type": "code",
   "execution_count": null,
   "id": "12bc61ae-f523-4ff5-9ce8-287e61ff4019",
   "metadata": {},
   "outputs": [],
   "source": [
    "#2Q) wap ask the user print the number is even or odd between 10 to 20\n",
    "for i in range(10,20):\n",
    "    if i%2==0:\n",
    "        print(f\"{i} is even\")\n",
    "    else:\n",
    "        print(f\"{i} is odd\")"
   ]
  },
  {
   "cell_type": "code",
   "execution_count": null,
   "id": "9a61507a-49d5-42ee-a82d-38453298ca3c",
   "metadata": {},
   "outputs": [],
   "source": [
    "#3Q) wap ask the user print the square of the number between\n",
    "# 20 to 25\n",
    "for i in range(20,25):\n",
    "    print(f\"the square of {i} is {i*i}\")\n",
    "# wap ask the user print the number is even or odd between 10 to 20\n"
   ]
  },
  {
   "cell_type": "code",
   "execution_count": 1,
   "id": "05011681-513a-4a0b-b217-19fcd72f04bb",
   "metadata": {},
   "outputs": [
    {
     "name": "stdin",
     "output_type": "stream",
     "text": [
      "enter the number 3\n"
     ]
    },
    {
     "name": "stdout",
     "output_type": "stream",
     "text": [
      "The square of 3 is 9\n"
     ]
    },
    {
     "name": "stdin",
     "output_type": "stream",
     "text": [
      "enter the number 8\n"
     ]
    },
    {
     "name": "stdout",
     "output_type": "stream",
     "text": [
      "The square of 8 is 64\n"
     ]
    },
    {
     "name": "stdin",
     "output_type": "stream",
     "text": [
      "enter the number 20\n"
     ]
    },
    {
     "name": "stdout",
     "output_type": "stream",
     "text": [
      "The square of 20 is 400\n"
     ]
    }
   ],
   "source": [
    "#4Q) WAP ask the user enter number three times find the square of the number\n",
    "# How many times loop should run\n",
    "for i in range(3):\n",
    "    num=eval(input(\"enter the number\"))\n",
    "    print(f\"The square of {num} is {num*num}\")"
   ]
  },
  {
   "cell_type": "code",
   "execution_count": 2,
   "id": "a4447ca0-a98c-4492-b0fb-b06f4e60ee95",
   "metadata": {},
   "outputs": [
    {
     "name": "stdin",
     "output_type": "stream",
     "text": [
      "enter the table which you want to see 15\n"
     ]
    },
    {
     "name": "stdout",
     "output_type": "stream",
     "text": [
      "15 x 1 = 15\n",
      "15 x 2 = 30\n",
      "15 x 3 = 45\n",
      "15 x 4 = 60\n",
      "15 x 5 = 75\n",
      "15 x 6 = 90\n",
      "15 x 7 = 105\n",
      "15 x 8 = 120\n",
      "15 x 9 = 135\n",
      "15 x 10 = 150\n"
     ]
    }
   ],
   "source": [
    "#5Q) Print the 14th table\n",
    "# ans:   14 x 1 = 14\n",
    "#        14 x 2 = 28\n",
    "#        14 x 3 = 42\n",
    "#\n",
    "#\n",
    "#        14 x10 = 140\n",
    "# How many times 10\n",
    "\n",
    "num=eval(input(\"enter the table which you want to see\"))\n",
    "for i in range(1,11):\n",
    "    val=i*num\n",
    "    print(f\"{num} x {i} = {val}\")"
   ]
  },
  {
   "cell_type": "code",
   "execution_count": 4,
   "id": "54a6bd40-10c4-46ff-943c-25292ca2fced",
   "metadata": {},
   "outputs": [
    {
     "name": "stdin",
     "output_type": "stream",
     "text": [
      "which number factors you want: 75\n"
     ]
    },
    {
     "name": "stdout",
     "output_type": "stream",
     "text": [
      "1 is the divisor of 75\n",
      "3 is the divisor of 75\n",
      "5 is the divisor of 75\n",
      "15 is the divisor of 75\n",
      "25 is the divisor of 75\n",
      "75 is the divisor of 75\n"
     ]
    }
   ],
   "source": [
    "#6 Q) Find the factors of 75\n",
    "# step-1: Iterate the loop = which numbers factor you want\n",
    "# step-2: Apply the if condition\n",
    "#         cond= divide the number with each i\n",
    "\n",
    "num=eval(input(\"which number factors you want:\"))\n",
    "for i in range(1,num+1):\n",
    "    if num%i==0:\n",
    "        print(f\"{i} is the divisor of {num}\")"
   ]
  },
  {
   "cell_type": "code",
   "execution_count": null,
   "id": "acdc8b11-d214-4494-864e-d098673e635f",
   "metadata": {},
   "outputs": [],
   "source": [
    "#7Q) Write the sum of first 10 Natural numbers\n",
    "# 1 to 10\n",
    "# 1+2+3+4+5+6+7+8+9+10=55\n",
    "\n",
    "1 to 10\n",
    "\n",
    "0+1=1\n",
    "1+2=3\n",
    "3+3=6\n",
    "6+4=10\n",
    "10+5=15\n",
    "15+6=21\n",
    "21+7=28\n",
    "28+8=36\n",
    "36+9=45\n",
    "45+10=50\n",
    "sum=0\n",
    "sum=sum+i"
   ]
  },
  {
   "cell_type": "markdown",
   "id": "2f517864-cb85-45c8-bda8-ecd217cc1928",
   "metadata": {},
   "source": [
    "**Summation wrapper**\n",
    "\n",
    "- intially we need to keep  summ=0\n",
    "\n",
    "- make sure that do not provide **sum**\n",
    "\n",
    "- Because sum is a keyword\n",
    "\n",
    "- inside for loop :  summ=summ+i"
   ]
  },
  {
   "cell_type": "code",
   "execution_count": 22,
   "id": "d3670864-2027-48c6-a974-4b43f5d7f64a",
   "metadata": {},
   "outputs": [
    {
     "name": "stdout",
     "output_type": "stream",
     "text": [
      "0+1=1\n",
      "1+2=3\n",
      "3+3=6\n",
      "6+4=10\n",
      "10+5=15\n",
      "15+6=21\n",
      "21+7=28\n",
      "28+8=36\n",
      "36+9=45\n",
      "45+10=55\n"
     ]
    }
   ],
   "source": [
    "#summ=0\n",
    "#for loop:\n",
    "   \n",
    "   #summ=summ+i\n",
    "\n",
    "summ=0\n",
    "for i in range(1,11):\n",
    "    summ=summ+i\n",
    "    print(f\"{summ-i}+{i}={summ}\")"
   ]
  },
  {
   "cell_type": "code",
   "execution_count": 20,
   "id": "40bb1b98-ec40-4431-8957-5e7318d28a61",
   "metadata": {},
   "outputs": [
    {
     "name": "stdout",
     "output_type": "stream",
     "text": [
      "0+1=1\n",
      "1+2=3\n",
      "3+3=6\n",
      "6+4=10\n",
      "10+5=15\n",
      "15+6=21\n",
      "21+7=28\n",
      "28+8=36\n",
      "36+9=45\n",
      "45+10=55\n"
     ]
    }
   ],
   "source": [
    "summ=0\n",
    "for i in range(1,11):\n",
    "    val=summ\n",
    "    summ=summ+i\n",
    "    print(f\"{val}+{i}={summ}\")"
   ]
  },
  {
   "cell_type": "code",
   "execution_count": 23,
   "id": "22f9d63d-eb5a-4521-a1f0-e200becde203",
   "metadata": {},
   "outputs": [
    {
     "name": "stdout",
     "output_type": "stream",
     "text": [
      "55\n"
     ]
    }
   ],
   "source": [
    "summ=0\n",
    "for i in range(1,11):\n",
    "    summ=summ+i\n",
    "print(summ)"
   ]
  },
  {
   "cell_type": "markdown",
   "id": "aefa6257-859a-4b79-8e9f-5a5f2ea7983f",
   "metadata": {},
   "source": [
    "**Note**\n",
    "\n",
    "- If we print answer from out of for loop, last answer will print"
   ]
  },
  {
   "cell_type": "code",
   "execution_count": 25,
   "id": "fc28e4c7-c875-4add-8aa1-2eff070778b8",
   "metadata": {},
   "outputs": [
    {
     "name": "stdout",
     "output_type": "stream",
     "text": [
      "0\n",
      "1\n",
      "2\n"
     ]
    },
    {
     "data": {
      "text/plain": [
       "2"
      ]
     },
     "execution_count": 25,
     "metadata": {},
     "output_type": "execute_result"
    }
   ],
   "source": [
    "for i in range(3):\n",
    "    print(i)\n",
    "\n",
    "i"
   ]
  },
  {
   "cell_type": "code",
   "execution_count": 26,
   "id": "eac641ba-1a49-4535-8590-9a91dab185f9",
   "metadata": {},
   "outputs": [
    {
     "name": "stdin",
     "output_type": "stream",
     "text": [
      "Enter the number: 10\n"
     ]
    },
    {
     "name": "stdout",
     "output_type": "stream",
     "text": [
      "5.5\n"
     ]
    }
   ],
   "source": [
    "# 8Q) Average first 1 to 10 numbers\n",
    "# avg= summation of all the numbers/total number\n",
    "#Wap to find the average of ' N ' numbers in Python.\n",
    "summ=0\n",
    "N=eval(input('Enter the number:'))\n",
    "for i in range(1,N+1):\n",
    "    summ=summ+i\n",
    "print(summ/N)"
   ]
  },
  {
   "cell_type": "markdown",
   "id": "27488095-a833-485d-a270-de3422586c50",
   "metadata": {},
   "source": [
    "**Counter wrapper**\n",
    "\n",
    "- Before for loop intilaise with count=0\n",
    "\n",
    "- Under for loop count=count+1\n",
    "\n",
    "- Counter always increase by 1 only"
   ]
  },
  {
   "cell_type": "code",
   "execution_count": 27,
   "id": "51bb1dbd-51f2-4099-8e67-3547eab8638e",
   "metadata": {},
   "outputs": [
    {
     "name": "stdin",
     "output_type": "stream",
     "text": [
      "which number factors you want: 75\n"
     ]
    },
    {
     "name": "stdout",
     "output_type": "stream",
     "text": [
      "The number of divisiors for 75 is 6\n"
     ]
    }
   ],
   "source": [
    "#9Q) Find the number of divisors of 75\n",
    "# ans: 1,3,5,15,25,75\n",
    "# Number =6\n",
    "count=0\n",
    "num=eval(input(\"which number factors you want:\"))\n",
    "for i in range(1,num+1):\n",
    "    if num%i==0:\n",
    "        count=count+1\n",
    "\n",
    "print(f\"The number of divisiors for {num} is {count}\")"
   ]
  },
  {
   "cell_type": "code",
   "execution_count": null,
   "id": "3946af02-c81e-40ec-aed4-9b88911fb789",
   "metadata": {},
   "outputs": [],
   "source": [
    "summ=summ+i  ==== >  summ+=i\n",
    "count=count+i ==== > count+=i"
   ]
  },
  {
   "cell_type": "code",
   "execution_count": 30,
   "id": "d468a89a-10db-40c4-a0db-2352f5363c74",
   "metadata": {},
   "outputs": [
    {
     "name": "stdout",
     "output_type": "stream",
     "text": [
      "8\n"
     ]
    },
    {
     "name": "stdin",
     "output_type": "stream",
     "text": [
      "enter the number between 1 to 10: 8\n"
     ]
    },
    {
     "name": "stdout",
     "output_type": "stream",
     "text": [
      "won\n",
      "2\n"
     ]
    },
    {
     "name": "stdin",
     "output_type": "stream",
     "text": [
      "enter the number between 1 to 10: 2\n"
     ]
    },
    {
     "name": "stdout",
     "output_type": "stream",
     "text": [
      "won\n",
      "1\n"
     ]
    },
    {
     "name": "stdin",
     "output_type": "stream",
     "text": [
      "enter the number between 1 to 10: 1\n"
     ]
    },
    {
     "name": "stdout",
     "output_type": "stream",
     "text": [
      "won\n"
     ]
    }
   ],
   "source": [
    "# 10Q)\n",
    "# Get a random number between  1 to 10 :  num1\n",
    "# Ask the user enter a number : num2\n",
    "# if num1 == num2  then print won\n",
    "# else print fail\n",
    "\n",
    "# Give 3 chances \n",
    "\n",
    "import random\n",
    "for i in range(3):\n",
    "    num1=random.randint(1,10)\n",
    "    print(num1)\n",
    "    num2=eval(input('enter the number between 1 to 10:'))\n",
    "    if num1==num2:\n",
    "        print('won')\n",
    "    else:\n",
    "        print('Fail')"
   ]
  },
  {
   "cell_type": "code",
   "execution_count": 31,
   "id": "cf8e2c56-2979-4abc-86d7-cf3eafc1062a",
   "metadata": {},
   "outputs": [
    {
     "name": "stdout",
     "output_type": "stream",
     "text": [
      "2\n"
     ]
    },
    {
     "name": "stdin",
     "output_type": "stream",
     "text": [
      "enter the number between 1 to 10: 3\n"
     ]
    },
    {
     "name": "stdout",
     "output_type": "stream",
     "text": [
      "Fail\n",
      "6\n"
     ]
    },
    {
     "name": "stdin",
     "output_type": "stream",
     "text": [
      "enter the number between 1 to 10: 6\n"
     ]
    },
    {
     "name": "stdout",
     "output_type": "stream",
     "text": [
      "won\n"
     ]
    }
   ],
   "source": [
    "# Case-2: whenever you won the code should stop\n",
    "import random\n",
    "for i in range(3):\n",
    "    num1=random.randint(1,10)\n",
    "    print(num1)\n",
    "    num2=eval(input('enter the number between 1 to 10:'))\n",
    "    if num1==num2:\n",
    "        print('won')\n",
    "        break\n",
    "    else:\n",
    "        print('Fail')"
   ]
  },
  {
   "cell_type": "code",
   "execution_count": null,
   "id": "289ab1ea-9c13-4730-96b8-a67d52ed1bda",
   "metadata": {},
   "outputs": [],
   "source": [
    "# Case-3:\n",
    "# Suppose i want to give 4 chances\n",
    "# Every time you fail I want to display \n",
    "#      Number of chances left\n",
    "\n",
    "# If all the chances you are used\n",
    "#    Try again after 24 hours\n",
    "\n",
    "# If you are win "
   ]
  }
 ],
 "metadata": {
  "kernelspec": {
   "display_name": "Python 3 (ipykernel)",
   "language": "python",
   "name": "python3"
  },
  "language_info": {
   "codemirror_mode": {
    "name": "ipython",
    "version": 3
   },
   "file_extension": ".py",
   "mimetype": "text/x-python",
   "name": "python",
   "nbconvert_exporter": "python",
   "pygments_lexer": "ipython3",
   "version": "3.11.7"
  }
 },
 "nbformat": 4,
 "nbformat_minor": 5
}
