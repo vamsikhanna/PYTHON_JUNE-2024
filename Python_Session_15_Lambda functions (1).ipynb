{
 "cells": [
  {
   "cell_type": "markdown",
   "id": "d32ba725-2456-4ed6-b749-29bf6126e81b",
   "metadata": {},
   "source": [
    "**Lambda functions**\n",
    "\n",
    "- Lambda functions represnts function concept\n",
    "\n",
    "- But we can write in a single line\n",
    "\n",
    "- Like list comprehension, lambda functions similar only\n",
    "\n",
    "- It will decrease the time complexity\n",
    "\n",
    "- always remember if we use many for loops or many conditions using multiple line , the time complexity will increase"
   ]
  },
  {
   "cell_type": "code",
   "execution_count": null,
   "id": "0464337e-a5c9-4ac8-b518-8e5359b7b356",
   "metadata": {},
   "outputs": [],
   "source": [
    "**It will use a keyword lambda**\n",
    "\n",
    "# lambda <arguments>: <expression>"
   ]
  },
  {
   "cell_type": "code",
   "execution_count": null,
   "id": "01409952-f9f0-4344-9c09-23666d019a60",
   "metadata": {},
   "outputs": [],
   "source": [
    "What is the interview process for a data science position with 3 years of experience?\n",
    "\n",
    "1) coding+sql\n",
    "2) based on ML DL \n",
    "3) Techn: 2,3\n",
    "\n",
    "bond : 1.5 bonus \n",
    "\n",
    "ds2 === 2 2ppl\n",
    "ds3 ==== \n",
    "\n",
    "do you know "
   ]
  },
  {
   "cell_type": "code",
   "execution_count": null,
   "id": "c832a194-f51c-4de0-ad52-4184282e1f90",
   "metadata": {},
   "outputs": [],
   "source": [
    "strings\n",
    "list\n",
    "tuple set\n",
    "dictionary\n",
    "landad\n",
    "file handling \n",
    "\n",
    "oops : kwargs\n",
    "\n",
    "Sir do we have right to break bond with company\n"
   ]
  },
  {
   "cell_type": "code",
   "execution_count": 1,
   "id": "0262b554-946c-48e0-af0c-299be4c89b44",
   "metadata": {},
   "outputs": [
    {
     "data": {
      "text/plain": [
       "20"
      ]
     },
     "execution_count": 1,
     "metadata": {},
     "output_type": "execute_result"
    }
   ],
   "source": [
    "def summ(n):\n",
    "    return(n+10)\n",
    "summ(10)"
   ]
  },
  {
   "cell_type": "markdown",
   "id": "ff5081ce-9e97-4152-9757-93032192ec35",
   "metadata": {},
   "source": [
    "$Pattern-1$\n",
    "\n",
    "**Function with only one argument**\n",
    "\n",
    "- function name\n",
    "\n",
    "- argument name\n",
    "\n",
    "- return output"
   ]
  },
  {
   "cell_type": "code",
   "execution_count": null,
   "id": "51d89ab9-e5e1-4dea-9499-8195e3bab9ba",
   "metadata": {},
   "outputs": [],
   "source": [
    "# syntax: <function name>= lambda <argument name>: <return output>\n",
    "def summ(n):\n",
    "    return(n+10)\n",
    "summ(10)\n",
    "\n",
    "# function name= summ\n",
    "# argument name = n\n",
    "# return output= n+10"
   ]
  },
  {
   "cell_type": "code",
   "execution_count": 4,
   "id": "76ab3606-d687-42c7-95da-0959217a6a2f",
   "metadata": {},
   "outputs": [
    {
     "data": {
      "text/plain": [
       "110"
      ]
     },
     "execution_count": 4,
     "metadata": {},
     "output_type": "execute_result"
    }
   ],
   "source": [
    "summ= lambda n:n+10\n",
    "summ(100)"
   ]
  },
  {
   "cell_type": "code",
   "execution_count": 5,
   "id": "9503be4e-14f5-4b8b-a8b2-8efed5d720e6",
   "metadata": {},
   "outputs": [
    {
     "data": {
      "text/plain": [
       "1000"
      ]
     },
     "execution_count": 5,
     "metadata": {},
     "output_type": "execute_result"
    }
   ],
   "source": [
    "def cube(n):\n",
    "    return(n**3)\n",
    "cube(10)"
   ]
  },
  {
   "cell_type": "code",
   "execution_count": 7,
   "id": "82786e6f-2e2d-4108-98c1-31414b4c1892",
   "metadata": {},
   "outputs": [
    {
     "data": {
      "text/plain": [
       "1000"
      ]
     },
     "execution_count": 7,
     "metadata": {},
     "output_type": "execute_result"
    }
   ],
   "source": [
    "cube= lambda n:n**3\n",
    "cube(10)"
   ]
  },
  {
   "cell_type": "markdown",
   "id": "120c9fba-d579-4c6a-a177-92aafc7aca84",
   "metadata": {},
   "source": [
    "**pattern-2**\n",
    "\n",
    "**Two arguments**"
   ]
  },
  {
   "cell_type": "code",
   "execution_count": 8,
   "id": "91cdbe4d-b66d-4b20-b27a-dab24528b616",
   "metadata": {},
   "outputs": [
    {
     "data": {
      "text/plain": [
       "100"
      ]
     },
     "execution_count": 8,
     "metadata": {},
     "output_type": "execute_result"
    }
   ],
   "source": [
    "# syntax :  <function name>= lambda <arg1>,<arg2>: <return output>\n",
    "def add(a,b):\n",
    "    return(a+b)\n",
    "add(50,50)\n",
    "\n",
    "# Function name: add\n",
    "# arg1=a\n",
    "# arg2=b\n",
    "# return= a+b"
   ]
  },
  {
   "cell_type": "code",
   "execution_count": 10,
   "id": "e65deb52-5d53-40b3-84b7-be1f53b55615",
   "metadata": {},
   "outputs": [
    {
     "data": {
      "text/plain": [
       "110"
      ]
     },
     "execution_count": 10,
     "metadata": {},
     "output_type": "execute_result"
    }
   ],
   "source": [
    "add=lambda n1,n2: n1+n2\n",
    "add(60,50)"
   ]
  },
  {
   "cell_type": "code",
   "execution_count": 13,
   "id": "faaf34f6-0139-4132-9e76-07fd0de10806",
   "metadata": {},
   "outputs": [
    {
     "data": {
      "text/plain": [
       "80.67"
      ]
     },
     "execution_count": 13,
     "metadata": {},
     "output_type": "execute_result"
    }
   ],
   "source": [
    "average=lambda a,b,c:round((a+b+c)/3,2)\n",
    "average(10,202,30)"
   ]
  },
  {
   "cell_type": "markdown",
   "id": "06752811-7716-4b9f-a55f-a976f9cdef16",
   "metadata": {},
   "source": [
    "**Pattern-3**\n",
    "\n",
    "**Default arguments**"
   ]
  },
  {
   "cell_type": "code",
   "execution_count": 14,
   "id": "dc94ca78-cb6d-4648-b2e4-ba0588e5f208",
   "metadata": {},
   "outputs": [
    {
     "data": {
      "text/plain": [
       "237.33"
      ]
     },
     "execution_count": 14,
     "metadata": {},
     "output_type": "execute_result"
    }
   ],
   "source": [
    "average=lambda a,b,c=500:round((a+b+c)/3,2)\n",
    "average(10,202)"
   ]
  },
  {
   "cell_type": "markdown",
   "id": "49a47db6-c4e6-49e8-bfb6-6c45304d0499",
   "metadata": {},
   "source": [
    "**Pattern-4**\n",
    "\n",
    "**if-else**"
   ]
  },
  {
   "cell_type": "code",
   "execution_count": 15,
   "id": "99067cc7-7324-4a79-a190-ec3e1e175370",
   "metadata": {},
   "outputs": [
    {
     "data": {
      "text/plain": [
       "20"
      ]
     },
     "execution_count": 15,
     "metadata": {},
     "output_type": "execute_result"
    }
   ],
   "source": [
    "def max(a,b):\n",
    "    if a>b:\n",
    "        return(a)\n",
    "    else:\n",
    "        return(b)\n",
    "max(10,20)"
   ]
  },
  {
   "cell_type": "code",
   "execution_count": 17,
   "id": "b4c8b497-acb7-47bf-a8e3-2d29f76fba1c",
   "metadata": {},
   "outputs": [
    {
     "data": {
      "text/plain": [
       "30"
      ]
     },
     "execution_count": 17,
     "metadata": {},
     "output_type": "execute_result"
    }
   ],
   "source": [
    "# syntax : function name = lambda <arg1>,<arg2>: <list comprehension>\n",
    "# syntax : function name = lambda <arg1>,<arg2>: <if_out><if_con><else><else_out>\n",
    "maxx=lambda a,b: a if a>b else b\n",
    "maxx(30,20)"
   ]
  },
  {
   "cell_type": "markdown",
   "id": "5642153d-f036-4bcf-ae14-586c316843ed",
   "metadata": {},
   "source": [
    "**Pattern-5**\n",
    "\n",
    "**using List**"
   ]
  },
  {
   "cell_type": "code",
   "execution_count": 18,
   "id": "be51b9af-8d88-402f-aae0-5b12b3962d65",
   "metadata": {},
   "outputs": [
    {
     "data": {
      "text/plain": [
       "['Hyd', 'Chennai', 'Mumbai']"
      ]
     },
     "execution_count": 18,
     "metadata": {},
     "output_type": "execute_result"
    }
   ],
   "source": [
    "l=['hyd','chennai','mumbai']\n",
    "# op=['Hyd','Chennai','Mumbai']\n",
    "op=[]\n",
    "for i in l:\n",
    "    op.append(i.capitalize())\n",
    "op"
   ]
  },
  {
   "cell_type": "code",
   "execution_count": null,
   "id": "74a5a7b5-7939-43ad-866d-27fed3b6c0e2",
   "metadata": {},
   "outputs": [],
   "source": [
    "lambda <variable>:<op>\n",
    "# variable:i\n",
    "# op: i.capitalize()\n",
    "lambda <variable>:<op>,<iterator>\n",
    "# Qn: from where you are getting 'i'\n",
    "# <iterator>: list"
   ]
  },
  {
   "cell_type": "markdown",
   "id": "1f426e5f-fed3-4d95-97f0-4d5579436f4b",
   "metadata": {},
   "source": [
    "**map**\n",
    "\n",
    "- the function and iterator are available now\n",
    "\n",
    "- we need to map both"
   ]
  },
  {
   "cell_type": "code",
   "execution_count": 21,
   "id": "5578e46f-e356-4b2a-85bd-52a45a91814b",
   "metadata": {},
   "outputs": [
    {
     "data": {
      "text/plain": [
       "(<function __main__.<lambda>(i)>, ['hyd', 'chennai', 'mumbai'])"
      ]
     },
     "execution_count": 21,
     "metadata": {},
     "output_type": "execute_result"
    }
   ],
   "source": [
    "l=['hyd','chennai','mumbai']\n",
    "lambda i: i.capitalize(),l"
   ]
  },
  {
   "cell_type": "code",
   "execution_count": 22,
   "id": "084e7b64-4380-4d3a-859e-5fb1bfff9e57",
   "metadata": {},
   "outputs": [
    {
     "data": {
      "text/plain": [
       "<map at 0x227209e9cf0>"
      ]
     },
     "execution_count": 22,
     "metadata": {},
     "output_type": "execute_result"
    }
   ],
   "source": [
    "l=['hyd','chennai','mumbai']\n",
    "map(lambda i: i.capitalize(),l)"
   ]
  },
  {
   "cell_type": "code",
   "execution_count": 23,
   "id": "3787786f-980d-450d-ac2b-30edd729f6ef",
   "metadata": {},
   "outputs": [
    {
     "data": {
      "text/plain": [
       "['Hyd', 'Chennai', 'Mumbai']"
      ]
     },
     "execution_count": 23,
     "metadata": {},
     "output_type": "execute_result"
    }
   ],
   "source": [
    "# apply the list to see the values\n",
    "l=['hyd','chennai','mumbai']\n",
    "list(map(lambda i: i.capitalize(),l))"
   ]
  },
  {
   "cell_type": "code",
   "execution_count": 24,
   "id": "f5556f40-9048-437f-b737-519cd93c7310",
   "metadata": {},
   "outputs": [
    {
     "data": {
      "text/plain": [
       "('Hyd', 'Chennai', 'Mumbai')"
      ]
     },
     "execution_count": 24,
     "metadata": {},
     "output_type": "execute_result"
    }
   ],
   "source": [
    "l=['hyd','chennai','mumbai']\n",
    "tuple(map(lambda i: i.capitalize(),l))"
   ]
  },
  {
   "cell_type": "code",
   "execution_count": null,
   "id": "f661419e-4256-4923-919b-63422b6673af",
   "metadata": {},
   "outputs": [],
   "source": [
    "# step1: Write your normal expression\n",
    "#        ex: lambda <var>: <op>===>lambda i: i.capitalize()\n",
    "# step2: add the iterator\n",
    "#        ex: lambda <var>: <op>,<list>===>lambda i: i.capitalize(),list1\n",
    "# Step-3: Map the both\n",
    "#        ex: map(lambda <var>: <op>,<list>)===>map(lambda i: i.capitalize(),list1)\n",
    "# Step-4: save the values in a list,\n",
    "#       ex: list(map(lambda <var>: <op>,<list>))===>list(map(lambda i: i.capitalize(),list1))\n",
    "\n",
    "#Note: Those who are getting list object not callable use tuple"
   ]
  },
  {
   "cell_type": "code",
   "execution_count": null,
   "id": "01210199-2aaa-46ee-a008-5b509c77c1bf",
   "metadata": {},
   "outputs": [],
   "source": [
    "- Case-1: Function call with One argument\n",
    "\n",
    "    - lambda arguments :  Exression\n",
    "\n",
    "    - lambda variables :  return output\n",
    "\n",
    "- Case-2: Function call with Two arguments\n",
    "\n",
    "    - lambda arg1,arg2 :  Exression\n",
    "\n",
    "    - lambda var1,var2 :  return output\n",
    "\n",
    "- Case-3: Function call with Default arguments\n",
    "\n",
    "    - lambda arg1,arg2=500 :  Exression\n",
    "\n",
    "    - lambda var1,var2=500 :  return output\n",
    "\n",
    "- Case-4: Function call with Two arguments and if-else statement\n",
    "\n",
    "    - lambda arg1,arg2 :  Expression\n",
    "\n",
    "    - lambda var1,var2 :  if_output  if_con  else  els_op  forloop\n",
    "\n",
    "- Case-5: Lambda operations using List\n",
    "\n",
    "      - lambda arg:  Expression,iterator\n",
    "\n",
    "      - map(lambda var: operation,list)\n",
    "\n",
    "      - list(map(lambda var: operation,list))"
   ]
  },
  {
   "cell_type": "code",
   "execution_count": 7,
   "id": "a5d3b8e0-4193-42d5-b95b-6f4a0f05d5ec",
   "metadata": {},
   "outputs": [
    {
     "data": {
      "text/plain": [
       "('HYD', 'CHENNAI', 'MUMBAI')"
      ]
     },
     "execution_count": 7,
     "metadata": {},
     "output_type": "execute_result"
    }
   ],
   "source": [
    "l=['hyd','chennai','mumbai']\n",
    "# op=['HYD','CHENNAI','MUMBAI']\n",
    "#for i in l:\n",
    "    #print(i.upper())\n",
    "\n",
    "tuple(map(lambda i:i.upper(),l))"
   ]
  },
  {
   "cell_type": "markdown",
   "id": "11468be7-528d-4fd5-8721-89a9df312e2b",
   "metadata": {},
   "source": [
    "**Filter**\n",
    "\n",
    "- whenever if conditions are there use filter"
   ]
  },
  {
   "cell_type": "code",
   "execution_count": 12,
   "id": "d2fcabb2-9b91-454c-a74b-c56ec94fe0e6",
   "metadata": {},
   "outputs": [
    {
     "data": {
      "text/plain": [
       "(False, True, True, False)"
      ]
     },
     "execution_count": 12,
     "metadata": {},
     "output_type": "execute_result"
    }
   ],
   "source": [
    "l=['hyd','che#nnai','mum#bai','blr']\n",
    "#op=['che#nnai','mum#bai']\n",
    "# for i in l:\n",
    "#     if '#' in i:\n",
    "#         print(i)\n",
    "\n",
    "# Mistake-1: tuple(map(lambda i:if '#' in i,l))\n",
    "#            do not write if\n",
    "\n",
    "tuple(map(lambda i:'#' in i,l))"
   ]
  },
  {
   "cell_type": "code",
   "execution_count": 13,
   "id": "4af8873f-dd0f-44a0-a6cb-26315df7a2ab",
   "metadata": {},
   "outputs": [
    {
     "data": {
      "text/plain": [
       "('che#nnai', 'mum#bai')"
      ]
     },
     "execution_count": 13,
     "metadata": {},
     "output_type": "execute_result"
    }
   ],
   "source": [
    "tuple(filter(lambda i:'#' in i,l))"
   ]
  },
  {
   "cell_type": "code",
   "execution_count": 14,
   "id": "f2dd31a7-23e3-4736-bdef-761f2a949884",
   "metadata": {},
   "outputs": [
    {
     "data": {
      "text/plain": [
       "[2, 4, 6]"
      ]
     },
     "execution_count": 14,
     "metadata": {},
     "output_type": "execute_result"
    }
   ],
   "source": [
    "# numbers= [1,3,2,7,6]\n",
    "# op=[2,6]\n",
    "\n",
    "l1 = [1,2,3,4,5,6,7]\n",
    "list(filter(lambda i:i%2==0,l1))"
   ]
  },
  {
   "cell_type": "code",
   "execution_count": null,
   "id": "aae50e6f-2124-49cd-a9f2-d00578e1491d",
   "metadata": {},
   "outputs": [],
   "source": [
    "**Reduce**\n",
    "\n",
    "- All inbulit functions can achieve by Reduce\n",
    "\n",
    "- Reduce is avialable from functools package\n",
    "\n",
    "- level-1: reduce(lambda summ,i:summ+i,l1)\n",
    "\n",
    "- level-2: reduce(lambda summ,i:summ+i,l1,intial_value)\n",
    "\n",
    "- For example we want intialize summ=0 then we choose level-1\n",
    "\n",
    "- For exaple we want start with other than zero then we choose level-2"
   ]
  },
  {
   "cell_type": "code",
   "execution_count": 16,
   "id": "536d151b-db70-481d-a73e-25f69786d21c",
   "metadata": {},
   "outputs": [
    {
     "name": "stdout",
     "output_type": "stream",
     "text": [
      "15\n"
     ]
    }
   ],
   "source": [
    "l1=[1,2,3,4,5]\n",
    "\n",
    "# I want sum of the elements in a list\n",
    "\n",
    "# Method-1: sum\n",
    "sum(l1)\n",
    "\n",
    "# Method-2: with out sum\n",
    "summ=0\n",
    "for i in l1:\n",
    "    summ=summ+i\n",
    "\n",
    "print(summ)"
   ]
  },
  {
   "cell_type": "code",
   "execution_count": 21,
   "id": "fe63165c-6426-4541-a8b3-5f9be48df7cf",
   "metadata": {},
   "outputs": [
    {
     "data": {
      "text/plain": [
       "<filter at 0x1f710644280>"
      ]
     },
     "execution_count": 21,
     "metadata": {},
     "output_type": "execute_result"
    }
   ],
   "source": [
    "l1=[1,2,3,4,5]\n",
    "filter(lambda summ,i:summ+i,l1)"
   ]
  },
  {
   "cell_type": "code",
   "execution_count": 26,
   "id": "fd9476c5-f3eb-40d8-a7f6-47c2b35ed38b",
   "metadata": {},
   "outputs": [
    {
     "data": {
      "text/plain": [
       "15"
      ]
     },
     "execution_count": 26,
     "metadata": {},
     "output_type": "execute_result"
    }
   ],
   "source": [
    "l1=[1,2,3,4,5]\n",
    "max(l1)\n",
    "min(l1)\n",
    "len(l1)\n",
    "sum(l1)"
   ]
  },
  {
   "cell_type": "code",
   "execution_count": 27,
   "id": "493e049d-4f55-4c03-bf5c-23af59b56b96",
   "metadata": {},
   "outputs": [],
   "source": [
    "import functools"
   ]
  },
  {
   "cell_type": "code",
   "execution_count": 28,
   "id": "9d74d208-e68e-4b98-814c-cd2cb15c8443",
   "metadata": {},
   "outputs": [
    {
     "data": {
      "text/plain": [
       "['GenericAlias',\n",
       " 'RLock',\n",
       " 'WRAPPER_ASSIGNMENTS',\n",
       " 'WRAPPER_UPDATES',\n",
       " '_CacheInfo',\n",
       " '_HashedSeq',\n",
       " '_NOT_FOUND',\n",
       " '__all__',\n",
       " '__builtins__',\n",
       " '__cached__',\n",
       " '__doc__',\n",
       " '__file__',\n",
       " '__loader__',\n",
       " '__name__',\n",
       " '__package__',\n",
       " '__spec__',\n",
       " '_c3_merge',\n",
       " '_c3_mro',\n",
       " '_compose_mro',\n",
       " '_convert',\n",
       " '_find_impl',\n",
       " '_ge_from_gt',\n",
       " '_ge_from_le',\n",
       " '_ge_from_lt',\n",
       " '_gt_from_ge',\n",
       " '_gt_from_le',\n",
       " '_gt_from_lt',\n",
       " '_initial_missing',\n",
       " '_le_from_ge',\n",
       " '_le_from_gt',\n",
       " '_le_from_lt',\n",
       " '_lru_cache_wrapper',\n",
       " '_lt_from_ge',\n",
       " '_lt_from_gt',\n",
       " '_lt_from_le',\n",
       " '_make_key',\n",
       " '_unwrap_partial',\n",
       " 'cache',\n",
       " 'cached_property',\n",
       " 'cmp_to_key',\n",
       " 'get_cache_token',\n",
       " 'lru_cache',\n",
       " 'namedtuple',\n",
       " 'partial',\n",
       " 'partialmethod',\n",
       " 'recursive_repr',\n",
       " 'reduce',\n",
       " 'singledispatch',\n",
       " 'singledispatchmethod',\n",
       " 'total_ordering',\n",
       " 'update_wrapper',\n",
       " 'wraps']"
      ]
     },
     "execution_count": 28,
     "metadata": {},
     "output_type": "execute_result"
    }
   ],
   "source": [
    "dir(functools)"
   ]
  },
  {
   "cell_type": "code",
   "execution_count": 29,
   "id": "b6014b93-8bad-446f-995d-75c7518eb48a",
   "metadata": {},
   "outputs": [
    {
     "data": {
      "text/plain": [
       "15"
      ]
     },
     "execution_count": 29,
     "metadata": {},
     "output_type": "execute_result"
    }
   ],
   "source": [
    "import functools\n",
    "l1=[1,2,3,4,5]\n",
    "functools.reduce(lambda summ,i:summ+i,l1)"
   ]
  },
  {
   "cell_type": "code",
   "execution_count": 30,
   "id": "967e4640-1c60-4fa4-a181-32fe0afc67f7",
   "metadata": {},
   "outputs": [
    {
     "data": {
      "text/plain": [
       "15"
      ]
     },
     "execution_count": 30,
     "metadata": {},
     "output_type": "execute_result"
    }
   ],
   "source": [
    "#import functools\n",
    "#functools.reduce\n",
    "\n",
    "from functools import reduce\n",
    "l1=[1,2,3,4,5]\n",
    "reduce(lambda summ,i:summ+i,l1)"
   ]
  },
  {
   "cell_type": "code",
   "execution_count": 31,
   "id": "02d06320-4fe8-45ea-b754-9ec35d94af98",
   "metadata": {},
   "outputs": [
    {
     "data": {
      "text/plain": [
       "15"
      ]
     },
     "execution_count": 31,
     "metadata": {},
     "output_type": "execute_result"
    }
   ],
   "source": [
    "import functools as ft\n",
    "l1=[1,2,3,4,5]\n",
    "ft.reduce(lambda summ,i:summ+i,l1)"
   ]
  },
  {
   "cell_type": "code",
   "execution_count": null,
   "id": "24e39526-f63d-4e6d-8152-df6bdf00a9ab",
   "metadata": {},
   "outputs": [],
   "source": [
    "import functools\n",
    "l1=[1,2,3,4,5]\n",
    "functools.reduce(lambda summ,i:summ+i,l1)\n",
    "\n",
    "from functools import reduce\n",
    "l1=[1,2,3,4,5]\n",
    "reduce(lambda summ,i:summ+i,l1)\n",
    "\n",
    "import functools as ft\n",
    "l1=[1,2,3,4,5]\n",
    "ft.reduce(lambda summ,i:summ+i,l1)"
   ]
  },
  {
   "cell_type": "code",
   "execution_count": null,
   "id": "ca4508e5-4e1d-4a95-8b2e-3314bd64d80f",
   "metadata": {},
   "outputs": [],
   "source": []
  },
  {
   "cell_type": "code",
   "execution_count": 32,
   "id": "85b81bb1-c8eb-402f-a571-421651459770",
   "metadata": {},
   "outputs": [
    {
     "data": {
      "text/plain": [
       "120"
      ]
     },
     "execution_count": 32,
     "metadata": {},
     "output_type": "execute_result"
    }
   ],
   "source": [
    "import functools\n",
    "l1=[1,2,3,4,5]\n",
    "functools.reduce(lambda mul,i:mul*i,l1)"
   ]
  },
  {
   "cell_type": "code",
   "execution_count": null,
   "id": "7f8a973c-0c96-4fe9-8051-65de1b158cb6",
   "metadata": {},
   "outputs": [],
   "source": [
    "import functools\n",
    "l1=[1,2,3,4,5]\n",
    "# 1*2*3*4*5:functools.reduce(lambda x,y:x*y,l1)\n",
    "# 1+2+3+4+5:functools.reduce(lambda x,y:x+y,l1)"
   ]
  },
  {
   "cell_type": "code",
   "execution_count": 33,
   "id": "7aaf4c64-c416-4b0c-bdc6-8e7c769b9b5f",
   "metadata": {},
   "outputs": [
    {
     "name": "stdout",
     "output_type": "stream",
     "text": [
      "15\n"
     ]
    },
    {
     "data": {
      "text/plain": [
       "5.0"
      ]
     },
     "execution_count": 33,
     "metadata": {},
     "output_type": "execute_result"
    }
   ],
   "source": [
    "# Method-2: with out sum\n",
    "summ=0\n",
    "for i in l1:\n",
    "    summ=summ+i\n",
    "\n",
    "print(summ)\n",
    "\n",
    "# Other method\n",
    "import math\n",
    "math.sqrt(25)"
   ]
  },
  {
   "cell_type": "code",
   "execution_count": 34,
   "id": "c62a6b92-efdd-49cd-a549-e8010b018211",
   "metadata": {},
   "outputs": [
    {
     "data": {
      "text/plain": [
       "3.0"
      ]
     },
     "execution_count": 34,
     "metadata": {},
     "output_type": "execute_result"
    }
   ],
   "source": [
    "import numpy\n",
    "numpy.mean([1,2,3,4,5])"
   ]
  },
  {
   "cell_type": "code",
   "execution_count": 35,
   "id": "ba69907d-4c27-45d3-98a1-c14a09851d88",
   "metadata": {},
   "outputs": [],
   "source": [
    "import functools"
   ]
  },
  {
   "cell_type": "code",
   "execution_count": 36,
   "id": "6301afc9-9e0f-4027-9803-594476e865b5",
   "metadata": {},
   "outputs": [
    {
     "data": {
      "text/plain": [
       "<module 'functools' from 'C:\\\\Users\\\\omkar\\\\anaconda3\\\\Lib\\\\functools.py'>"
      ]
     },
     "execution_count": 36,
     "metadata": {},
     "output_type": "execute_result"
    }
   ],
   "source": [
    "functools"
   ]
  },
  {
   "cell_type": "code",
   "execution_count": null,
   "id": "3e2cccb9-d6f1-49b2-8243-1fa689882971",
   "metadata": {},
   "outputs": [],
   "source": [
    "# Maximum value using Reduce\n",
    "\n",
    "# Map : Direct attack \n",
    "# filter: if conditions\n",
    "# Reduce : inbulit functions some intialization\n",
    "\n",
    "# I want detailed word document with examples"
   ]
  }
 ],
 "metadata": {
  "kernelspec": {
   "display_name": "Python 3 (ipykernel)",
   "language": "python",
   "name": "python3"
  },
  "language_info": {
   "codemirror_mode": {
    "name": "ipython",
    "version": 3
   },
   "file_extension": ".py",
   "mimetype": "text/x-python",
   "name": "python",
   "nbconvert_exporter": "python",
   "pygments_lexer": "ipython3",
   "version": "3.11.7"
  }
 },
 "nbformat": 4,
 "nbformat_minor": 5
}
