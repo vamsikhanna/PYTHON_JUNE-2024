{
 "cells": [
  {
   "cell_type": "markdown",
   "id": "8f7a44b8-3785-4e23-b78b-1dc3a7220684",
   "metadata": {},
   "source": [
    "**Loops**\n",
    "\n",
    "- Iterate a piece of code untill the condition satisfy\n",
    "\n",
    "- we can run a code normally\n",
    "\n",
    "- we can run a code by using function wrapper(functions)\n",
    "\n",
    "- we can run a code multiple times (loops)\n",
    "\n",
    "- we can run a code by using condition (conditions)"
   ]
  },
  {
   "cell_type": "code",
   "execution_count": 1,
   "id": "984e8e01-4622-4abd-8a7c-a63f17087b0a",
   "metadata": {},
   "outputs": [
    {
     "name": "stdout",
     "output_type": "stream",
     "text": [
      "30\n"
     ]
    }
   ],
   "source": [
    "a=10\n",
    "b=20\n",
    "c=a+b\n",
    "print(c)"
   ]
  },
  {
   "cell_type": "code",
   "execution_count": 2,
   "id": "d5208bc2-8a91-494c-8d3a-68d5382627c7",
   "metadata": {},
   "outputs": [
    {
     "name": "stdout",
     "output_type": "stream",
     "text": [
      "30\n"
     ]
    }
   ],
   "source": [
    "if True :\n",
    "    a=10\n",
    "    b=20\n",
    "    c=a+b\n",
    "    print(c)"
   ]
  },
  {
   "cell_type": "code",
   "execution_count": 3,
   "id": "0e94b1ca-c863-45aa-84a3-442d46d0c18d",
   "metadata": {},
   "outputs": [
    {
     "name": "stdout",
     "output_type": "stream",
     "text": [
      "30\n"
     ]
    }
   ],
   "source": [
    "def add():\n",
    "    a=10\n",
    "    b=20\n",
    "    c=a+b\n",
    "    print(c)\n",
    "\n",
    "add()"
   ]
  },
  {
   "cell_type": "code",
   "execution_count": null,
   "id": "742b7715-9e08-499e-85a9-6cf36a5079f4",
   "metadata": {},
   "outputs": [],
   "source": [
    "salary= eval(input('enter the salary:'))\n",
    "tax_per=eval(input(\"enter the tax_per:\"))\n",
    "tax_amount=salary*tax_per/100\n",
    "print(tax_amount)\n",
    "\n",
    "salary= eval(input('enter the salary:'))\n",
    "tax_per=eval(input(\"enter the tax_per:\"))\n",
    "tax_amount=salary*tax_per/100\n",
    "print(tax_amount)\n",
    "\n",
    "salary= eval(input('enter the salary:'))\n",
    "tax_per=eval(input(\"enter the tax_per:\"))\n",
    "tax_amount=salary*tax_per/100\n",
    "print(tax_amount)"
   ]
  },
  {
   "cell_type": "code",
   "execution_count": null,
   "id": "4c728a45-5a9e-453e-85be-5ccf81c5a14e",
   "metadata": {},
   "outputs": [],
   "source": [
    "def tax():\n",
    "    salary= eval(input('enter the salary:'))\n",
    "    tax_per=eval(input(\"enter the tax_per:\"))\n",
    "    tax_amount=salary*tax_per/100\n",
    "    print(tax_amount\n",
    "\n",
    "tax()"
   ]
  },
  {
   "cell_type": "markdown",
   "id": "46fb6dcd-b87a-4852-808f-cb2c8ed5803d",
   "metadata": {},
   "source": [
    "- For loop\n",
    "\n",
    "- While loop\n",
    "\n",
    "- any loop\n",
    "\n",
    "    - Intial point to start the loop\n",
    "\n",
    "    - increment or decrement\n",
    "\n",
    "    - condition to stop the loop"
   ]
  },
  {
   "cell_type": "markdown",
   "id": "6d38caaf-b87c-400f-b7c3-92b5e04f72e8",
   "metadata": {},
   "source": [
    "## For loop"
   ]
  },
  {
   "cell_type": "markdown",
   "id": "db92a0fc-3e5f-430c-a1aa-8826ee8f5b61",
   "metadata": {},
   "source": [
    "$Pattern-1$"
   ]
  },
  {
   "cell_type": "markdown",
   "id": "470b05d2-8315-49c6-b591-c7273b36f74b",
   "metadata": {},
   "source": [
    "**range(stop)**"
   ]
  },
  {
   "cell_type": "code",
   "execution_count": null,
   "id": "7451ddd2-bbc5-4ce9-8a51-edc73efcd3d2",
   "metadata": {},
   "outputs": [],
   "source": [
    "# syntax\n",
    "for i in range(<value>):\n",
    "    # start write your code"
   ]
  },
  {
   "cell_type": "markdown",
   "id": "25d41dd6-6432-44d7-97c9-2dcfe9c6c125",
   "metadata": {},
   "source": [
    "- when ever you see the word range it belongs to math family\n",
    "\n",
    "- inside range we need to provide one value ex: range(3)\n",
    "\n",
    "- If you provide only one value \n",
    "\n",
    "    - start value =0\n",
    "\n",
    "    - increment = +1\n",
    "\n",
    "    - last = stop-1\n",
    "\n",
    "- range(3)\n",
    "\n",
    "    - start value =0\n",
    "\n",
    "    - increment = 1\n",
    "\n",
    "    - last = 3-1 =2\n",
    "\n",
    "    - answers are : 0  1  2\n",
    "\n",
    "**NOTE**:  In Python the index always start with zero"
   ]
  },
  {
   "cell_type": "code",
   "execution_count": 4,
   "id": "d86aa7d2-750a-4f54-afd6-056b324aca69",
   "metadata": {},
   "outputs": [
    {
     "name": "stdout",
     "output_type": "stream",
     "text": [
      "0\n",
      "1\n",
      "2\n"
     ]
    }
   ],
   "source": [
    "for i in range(3):\n",
    "    print(i)"
   ]
  },
  {
   "cell_type": "code",
   "execution_count": null,
   "id": "8a417cd0-4238-4aac-8b77-abf01e5a6125",
   "metadata": {},
   "outputs": [],
   "source": [
    "print(0)\n",
    "print(1)\n",
    "print(2)\n",
    "print(3)\n",
    "print(4)\n",
    "\n",
    "print(i)"
   ]
  },
  {
   "cell_type": "code",
   "execution_count": 5,
   "id": "2e78a78d-f2d7-4cea-8c1a-57cccefaffc8",
   "metadata": {},
   "outputs": [
    {
     "name": "stdout",
     "output_type": "stream",
     "text": [
      "hello\n",
      "hello\n",
      "hello\n",
      "hello\n",
      "hello\n"
     ]
    }
   ],
   "source": [
    "# I want to print hello 5 times\n",
    "for i in range(5):\n",
    "    print(\"hello\")"
   ]
  },
  {
   "cell_type": "code",
   "execution_count": 6,
   "id": "18b85014-adae-41b1-85cb-543df028e79b",
   "metadata": {},
   "outputs": [
    {
     "name": "stdout",
     "output_type": "stream",
     "text": [
      "6 is even\n"
     ]
    }
   ],
   "source": [
    "# For example \n",
    "# take a random number between  1 to 100\n",
    "# print it is a even number and odd number\n",
    "# you need to generate 3 random number \n",
    "\n",
    "import random\n",
    "num=random.randint(1,100)\n",
    "if num%2==0:\n",
    "    print(f\"{num} is even\")\n",
    "else:\n",
    "    print(f\"{num} is odd\")\n",
    "\n",
    "import random\n",
    "num=random.randint(1,100)\n",
    "if num%2==0:\n",
    "    print(f\"{num} is even\")\n",
    "else:\n",
    "    print(f\"{num} is odd\")\n",
    "\n",
    "import random\n",
    "num=random.randint(1,100)\n",
    "if num%2==0:\n",
    "    print(f\"{num} is even\")\n",
    "else:\n",
    "    print(f\"{num} is odd\")"
   ]
  },
  {
   "cell_type": "code",
   "execution_count": 7,
   "id": "b145fe6b-c94e-4872-a388-a7acbed8e62a",
   "metadata": {},
   "outputs": [
    {
     "name": "stdout",
     "output_type": "stream",
     "text": [
      "32 is even\n",
      "11 is odd\n",
      "51 is odd\n"
     ]
    }
   ],
   "source": [
    "import random\n",
    "for i in range(3):\n",
    "    num=random.randint(1,100)\n",
    "    if num%2==0:\n",
    "        print(f\"{num} is even\")\n",
    "    else:\n",
    "        print(f\"{num} is odd\")"
   ]
  },
  {
   "cell_type": "code",
   "execution_count": 8,
   "id": "008891b9-05e2-4caf-ba83-5b0f69a2cabe",
   "metadata": {},
   "outputs": [
    {
     "name": "stdout",
     "output_type": "stream",
     "text": [
      "0\n",
      "1\n",
      "2\n",
      "3\n",
      "4\n",
      "5\n",
      "6\n",
      "7\n",
      "8\n",
      "9\n"
     ]
    }
   ],
   "source": [
    "for i in range(10):\n",
    "    print(i)"
   ]
  },
  {
   "cell_type": "code",
   "execution_count": 12,
   "id": "6545f8eb-df82-4888-998f-426e83d5c409",
   "metadata": {},
   "outputs": [
    {
     "name": "stdout",
     "output_type": "stream",
     "text": [
      "0 1 2 3 4\n",
      "9\n"
     ]
    }
   ],
   "source": [
    "print(0,end=' ')\n",
    "print(1,end=' ')\n",
    "print(2,end=' ')\n",
    "print(3,end=' ')\n",
    "print(4)\n",
    "\n",
    "print(i,end=' ')"
   ]
  },
  {
   "cell_type": "code",
   "execution_count": 13,
   "id": "220e3540-8903-4d71-975f-dd2c1bce08c8",
   "metadata": {},
   "outputs": [
    {
     "name": "stdout",
     "output_type": "stream",
     "text": [
      "0 1 2 3 4 5 6 7 8 9 "
     ]
    }
   ],
   "source": [
    "for i in range(10):\n",
    "    print(i,end=' ')"
   ]
  },
  {
   "cell_type": "code",
   "execution_count": null,
   "id": "3d9f18ea-882b-47bb-94a8-ba2f4afc143e",
   "metadata": {},
   "outputs": [],
   "source": [
    "# sep : will seperate multiple values in same print staement\n",
    "# end: combine the multiple print statements"
   ]
  },
  {
   "cell_type": "markdown",
   "id": "5113a102-f1a9-4b01-8c22-a4d07fecd6b1",
   "metadata": {},
   "source": [
    "$Pattern-2$\n",
    "\n",
    "**range(start,stop)**\n",
    "\n",
    "- range(10,20)\n",
    "\n",
    "    - start value= 10\n",
    "\n",
    "    - increment= 1\n",
    "\n",
    "    - last = stop-1 = 20-1=19\n",
    "\n",
    "    - ans: 10 11 12 13 14 15 16 17 18 19"
   ]
  },
  {
   "cell_type": "code",
   "execution_count": 14,
   "id": "9e188d90-3ca3-48b6-860c-976157584d61",
   "metadata": {},
   "outputs": [
    {
     "name": "stdout",
     "output_type": "stream",
     "text": [
      "10 11 12 13 14 15 16 17 18 19 "
     ]
    }
   ],
   "source": [
    "for i in range(10,20):\n",
    "    print(i,end=' ')"
   ]
  },
  {
   "cell_type": "code",
   "execution_count": 15,
   "id": "8e0f983a-42b0-4953-9894-e4485ba5d500",
   "metadata": {},
   "outputs": [
    {
     "name": "stdout",
     "output_type": "stream",
     "text": [
      "the square of 20 is 400\n",
      "the square of 21 is 441\n",
      "the square of 22 is 484\n",
      "the square of 23 is 529\n",
      "the square of 24 is 576\n"
     ]
    }
   ],
   "source": [
    "# wap ask the user print the square of the number between\n",
    "# 20 to 25\n",
    "for i in range(20,25):\n",
    "    print(f\"the square of {i} is {i*i}\")\n",
    "# wap ask the user print the number is even or odd between 10 to 20\n"
   ]
  },
  {
   "cell_type": "code",
   "execution_count": 16,
   "id": "1650816b-3218-4961-8a3a-85e20f7609a1",
   "metadata": {},
   "outputs": [
    {
     "name": "stdout",
     "output_type": "stream",
     "text": [
      "10 is even\n",
      "11 is odd\n",
      "12 is even\n",
      "13 is odd\n",
      "14 is even\n",
      "15 is odd\n",
      "16 is even\n",
      "17 is odd\n",
      "18 is even\n",
      "19 is odd\n"
     ]
    }
   ],
   "source": [
    "# wap ask the user print the number is even or odd between 10 to 20\n",
    "for i in range(10,20):\n",
    "    if i%2==0:\n",
    "        print(f\"{i} is even\")\n",
    "    else:\n",
    "        print(f\"{i} is odd\")"
   ]
  },
  {
   "cell_type": "code",
   "execution_count": 20,
   "id": "aa092368-1efd-4901-9170-5a4ae1f6b177",
   "metadata": {},
   "outputs": [
    {
     "name": "stdout",
     "output_type": "stream",
     "text": [
      "95 is odd\n",
      "93 is odd\n",
      "40 is even\n"
     ]
    }
   ],
   "source": [
    "import random\n",
    "for i in range(1001,1004):\n",
    "    num=random.randint(1,100)\n",
    "    if num%2==0:\n",
    "        print(f\"{num} is even\")\n",
    "    else:\n",
    "        print(f\"{num} is odd\")"
   ]
  },
  {
   "cell_type": "markdown",
   "id": "7b70a351-268e-4700-abe0-ad5d4b96097e",
   "metadata": {},
   "source": [
    "$Pattern-3$\n",
    "\n",
    "**range(start,stop,step)**\n",
    "\n",
    "- start value = start values\n",
    "\n",
    "- step value\n",
    "\n",
    "    - Postive step value\n",
    "\n",
    "        - if step value is positive: increment\n",
    "\n",
    "        - last = stop-1\n",
    "\n",
    "    - negative step value\n",
    "\n",
    "        - if step value is negative: decrement\n",
    "\n",
    "        - last = stop+1"
   ]
  },
  {
   "cell_type": "code",
   "execution_count": 21,
   "id": "be7aa60a-335e-4ac0-ad56-7a2662f9d920",
   "metadata": {},
   "outputs": [
    {
     "name": "stdout",
     "output_type": "stream",
     "text": [
      "2 4 6 8 10 12 14 16 18 "
     ]
    }
   ],
   "source": [
    "# case-1:\n",
    "for i in range(2,20,2):  # range(start,stop,step)\n",
    "    print(i,end=' ')\n",
    "\n",
    "# start=2\n",
    "# step= +ve  2\n",
    "# last= stop-1= 20-1=19\n",
    "# 2 4 6 8 10 12 14 16 18 "
   ]
  },
  {
   "cell_type": "code",
   "execution_count": 22,
   "id": "812f14b9-ff20-4ce1-9a45-ba1a9e67a7fb",
   "metadata": {},
   "outputs": [
    {
     "name": "stdout",
     "output_type": "stream",
     "text": [
      "10 "
     ]
    }
   ],
   "source": [
    "for i in range(10,20,30):\n",
    "    print(i,end=' ')\n",
    "# start=10\n",
    "# step=30\n",
    "# last= 20-1=19\n",
    "# 10"
   ]
  },
  {
   "cell_type": "code",
   "execution_count": 23,
   "id": "0609c731-f801-4061-937b-e113b1b1c953",
   "metadata": {},
   "outputs": [],
   "source": [
    "# case-2:\n",
    "for i in range(2,20,-2):  # range(start,stop,step)\n",
    "    print(i,end=' ')\n",
    "\n",
    "# start=2\n",
    "# step= -2  negative direction\n",
    "# last= stop+1 : 20+1 =21"
   ]
  },
  {
   "cell_type": "code",
   "execution_count": 24,
   "id": "4747e329-0f3b-476a-ad47-e7c5a5f4615e",
   "metadata": {},
   "outputs": [
    {
     "name": "stdout",
     "output_type": "stream",
     "text": [
      "20 18 16 14 12 10 8 6 4 "
     ]
    }
   ],
   "source": [
    "# case-3:\n",
    "for i in range(20,2,-2):  # range(start,stop,step)\n",
    "    print(i,end=' ')\n",
    "\n",
    "# start=20\n",
    "# step= -2 negative\n",
    "# last= stop+1= 2+1 =3\n",
    "# 20 18 16 14 12 10 8 6 4 "
   ]
  },
  {
   "cell_type": "code",
   "execution_count": 25,
   "id": "9bc79776-40e5-442e-ade2-fecfd79824ba",
   "metadata": {},
   "outputs": [],
   "source": [
    "# case-4:\n",
    "for i in range(-20,2,-2):  # range(start,stop,step)\n",
    "    print(i,end=' ')\n",
    "\n",
    "# start= -20\n",
    "# step= -2  neg\n",
    "# last= stop+1 = 2+1=3"
   ]
  },
  {
   "cell_type": "code",
   "execution_count": null,
   "id": "e0f8a33a-85ac-4012-9dc0-c2db31e019cc",
   "metadata": {},
   "outputs": [],
   "source": [
    "range(3,20,2) # P\n",
    "range(3,20,-2) # NP\n",
    "range(3,-20,2) # NP\n",
    "range(3,-20,-2) # P\n",
    "range(-3,20,2) # P\n",
    "range(-3,-20,2) # NP\n",
    "range(-3,20,-2) # NP\n",
    "range(-3,-20,-2) # P\n",
    "range(20,3,2) # NP\n",
    "range(20,3,-2) # P\n",
    "range(20,-3,-2) # P\n",
    "range(-20,-3,-2) #NP "
   ]
  },
  {
   "cell_type": "code",
   "execution_count": 26,
   "id": "75035b02-5b1f-4acf-89d9-5892e8d07cbb",
   "metadata": {},
   "outputs": [
    {
     "name": "stdout",
     "output_type": "stream",
     "text": [
      "20 18 16 14 12 10 8 6 4 2 0 -2 "
     ]
    }
   ],
   "source": [
    "for i in range(20,-3,-2):\n",
    "    print(i,end=' ')"
   ]
  },
  {
   "cell_type": "code",
   "execution_count": 1,
   "id": "297a83cf-e719-4975-a4df-c4d0fb1ce060",
   "metadata": {},
   "outputs": [
    {
     "name": "stdout",
     "output_type": "stream",
     "text": [
      "45\n"
     ]
    }
   ],
   "source": [
    "s=0\n",
    "for i in range(10):\n",
    "    s=s+i\n",
    "\n",
    "print(s)"
   ]
  },
  {
   "cell_type": "code",
   "execution_count": 4,
   "id": "f3afde2f-4a5e-4f34-89ff-d3fe35ca32de",
   "metadata": {},
   "outputs": [],
   "source": [
    "l=[]\n",
    "for i in range(10):\n",
    "    l.append(i)"
   ]
  },
  {
   "cell_type": "code",
   "execution_count": 6,
   "id": "b037e045-a809-401e-8dc1-08aeb29258bc",
   "metadata": {},
   "outputs": [
    {
     "data": {
      "text/plain": [
       "45"
      ]
     },
     "execution_count": 6,
     "metadata": {},
     "output_type": "execute_result"
    }
   ],
   "source": [
    "sum(l)"
   ]
  },
  {
   "cell_type": "code",
   "execution_count": null,
   "id": "a5c5aa0f-e037-4549-9dd9-594a42f46527",
   "metadata": {},
   "outputs": [],
   "source": [
    "#1Q) For example \n",
    "# take a random number between  1 to 100\n",
    "# print it is a even number and odd number\n",
    "# you need to generate 3 random number \n",
    "import random\n",
    "for i in range(3):\n",
    "    num=random.randint(1,100)\n",
    "    if num%2==0:\n",
    "        print(f\"{num} is even\")\n",
    "    else:\n",
    "        print(f\"{num} is odd\")"
   ]
  },
  {
   "cell_type": "code",
   "execution_count": null,
   "id": "12bc61ae-f523-4ff5-9ce8-287e61ff4019",
   "metadata": {},
   "outputs": [],
   "source": [
    "#2Q) wap ask the user print the number is even or odd between 10 to 20\n",
    "for i in range(10,20):\n",
    "    if i%2==0:\n",
    "        print(f\"{i} is even\")\n",
    "    else:\n",
    "        print(f\"{i} is odd\")"
   ]
  },
  {
   "cell_type": "code",
   "execution_count": null,
   "id": "9a61507a-49d5-42ee-a82d-38453298ca3c",
   "metadata": {},
   "outputs": [],
   "source": [
    "#3Q) wap ask the user print the square of the number between\n",
    "# 20 to 25\n",
    "for i in range(20,25):\n",
    "    print(f\"the square of {i} is {i*i}\")\n",
    "# wap ask the user print the number is even or odd between 10 to 20\n"
   ]
  },
  {
   "cell_type": "code",
   "execution_count": 1,
   "id": "05011681-513a-4a0b-b217-19fcd72f04bb",
   "metadata": {},
   "outputs": [
    {
     "name": "stdin",
     "output_type": "stream",
     "text": [
      "enter the number 3\n"
     ]
    },
    {
     "name": "stdout",
     "output_type": "stream",
     "text": [
      "The square of 3 is 9\n"
     ]
    },
    {
     "name": "stdin",
     "output_type": "stream",
     "text": [
      "enter the number 8\n"
     ]
    },
    {
     "name": "stdout",
     "output_type": "stream",
     "text": [
      "The square of 8 is 64\n"
     ]
    },
    {
     "name": "stdin",
     "output_type": "stream",
     "text": [
      "enter the number 20\n"
     ]
    },
    {
     "name": "stdout",
     "output_type": "stream",
     "text": [
      "The square of 20 is 400\n"
     ]
    }
   ],
   "source": [
    "#4Q) WAP ask the user enter number three times find the square of the number\n",
    "# How many times loop should run\n",
    "for i in range(3):\n",
    "    num=eval(input(\"enter the number\"))\n",
    "    print(f\"The square of {num} is {num*num}\")"
   ]
  },
  {
   "cell_type": "code",
   "execution_count": 2,
   "id": "a4447ca0-a98c-4492-b0fb-b06f4e60ee95",
   "metadata": {},
   "outputs": [
    {
     "name": "stdin",
     "output_type": "stream",
     "text": [
      "enter the table which you want to see 15\n"
     ]
    },
    {
     "name": "stdout",
     "output_type": "stream",
     "text": [
      "15 x 1 = 15\n",
      "15 x 2 = 30\n",
      "15 x 3 = 45\n",
      "15 x 4 = 60\n",
      "15 x 5 = 75\n",
      "15 x 6 = 90\n",
      "15 x 7 = 105\n",
      "15 x 8 = 120\n",
      "15 x 9 = 135\n",
      "15 x 10 = 150\n"
     ]
    }
   ],
   "source": [
    "#5Q) Print the 14th table\n",
    "# ans:   14 x 1 = 14\n",
    "#        14 x 2 = 28\n",
    "#        14 x 3 = 42\n",
    "#\n",
    "#\n",
    "#        14 x10 = 140\n",
    "# How many times 10\n",
    "\n",
    "num=eval(input(\"enter the table which you want to see\"))\n",
    "for i in range(1,11):\n",
    "    val=i*num\n",
    "    print(f\"{num} x {i} = {val}\")"
   ]
  },
  {
   "cell_type": "code",
   "execution_count": 4,
   "id": "54a6bd40-10c4-46ff-943c-25292ca2fced",
   "metadata": {},
   "outputs": [
    {
     "name": "stdin",
     "output_type": "stream",
     "text": [
      "which number factors you want: 75\n"
     ]
    },
    {
     "name": "stdout",
     "output_type": "stream",
     "text": [
      "1 is the divisor of 75\n",
      "3 is the divisor of 75\n",
      "5 is the divisor of 75\n",
      "15 is the divisor of 75\n",
      "25 is the divisor of 75\n",
      "75 is the divisor of 75\n"
     ]
    }
   ],
   "source": [
    "#6 Q) Find the factors of 75\n",
    "# step-1: Iterate the loop = which numbers factor you want\n",
    "# step-2: Apply the if condition\n",
    "#         cond= divide the number with each i\n",
    "\n",
    "num=eval(input(\"which number factors you want:\"))\n",
    "for i in range(1,num+1):\n",
    "    if num%i==0:\n",
    "        print(f\"{i} is the divisor of {num}\")"
   ]
  },
  {
   "cell_type": "code",
   "execution_count": null,
   "id": "acdc8b11-d214-4494-864e-d098673e635f",
   "metadata": {},
   "outputs": [],
   "source": [
    "#7Q) Write the sum of first 10 Natural numbers\n",
    "# 1 to 10\n",
    "# 1+2+3+4+5+6+7+8+9+10=55\n",
    "\n",
    "1 to 10\n",
    "\n",
    "0+1=1\n",
    "1+2=3\n",
    "3+3=6\n",
    "6+4=10\n",
    "10+5=15\n",
    "15+6=21\n",
    "21+7=28\n",
    "28+8=36\n",
    "36+9=45\n",
    "45+10=50\n",
    "sum=0\n",
    "sum=sum+i"
   ]
  },
  {
   "cell_type": "markdown",
   "id": "2f517864-cb85-45c8-bda8-ecd217cc1928",
   "metadata": {},
   "source": [
    "**Summation wrapper**\n",
    "\n",
    "- intially we need to keep  summ=0\n",
    "\n",
    "- make sure that do not provide **sum**\n",
    "\n",
    "- Because sum is a keyword\n",
    "\n",
    "- inside for loop :  summ=summ+i"
   ]
  },
  {
   "cell_type": "code",
   "execution_count": 22,
   "id": "d3670864-2027-48c6-a974-4b43f5d7f64a",
   "metadata": {},
   "outputs": [
    {
     "name": "stdout",
     "output_type": "stream",
     "text": [
      "0+1=1\n",
      "1+2=3\n",
      "3+3=6\n",
      "6+4=10\n",
      "10+5=15\n",
      "15+6=21\n",
      "21+7=28\n",
      "28+8=36\n",
      "36+9=45\n",
      "45+10=55\n"
     ]
    }
   ],
   "source": [
    "#summ=0\n",
    "#for loop:\n",
    "   \n",
    "   #summ=summ+i\n",
    "\n",
    "summ=0\n",
    "for i in range(1,11):\n",
    "    summ=summ+i\n",
    "    print(f\"{summ-i}+{i}={summ}\")"
   ]
  },
  {
   "cell_type": "code",
   "execution_count": 20,
   "id": "40bb1b98-ec40-4431-8957-5e7318d28a61",
   "metadata": {},
   "outputs": [
    {
     "name": "stdout",
     "output_type": "stream",
     "text": [
      "0+1=1\n",
      "1+2=3\n",
      "3+3=6\n",
      "6+4=10\n",
      "10+5=15\n",
      "15+6=21\n",
      "21+7=28\n",
      "28+8=36\n",
      "36+9=45\n",
      "45+10=55\n"
     ]
    }
   ],
   "source": [
    "summ=0\n",
    "for i in range(1,11):\n",
    "    val=summ\n",
    "    summ=summ+i\n",
    "    print(f\"{val}+{i}={summ}\")"
   ]
  },
  {
   "cell_type": "code",
   "execution_count": 23,
   "id": "22f9d63d-eb5a-4521-a1f0-e200becde203",
   "metadata": {},
   "outputs": [
    {
     "name": "stdout",
     "output_type": "stream",
     "text": [
      "55\n"
     ]
    }
   ],
   "source": [
    "summ=0\n",
    "for i in range(1,11):\n",
    "    summ=summ+i\n",
    "print(summ)"
   ]
  },
  {
   "cell_type": "markdown",
   "id": "aefa6257-859a-4b79-8e9f-5a5f2ea7983f",
   "metadata": {},
   "source": [
    "**Note**\n",
    "\n",
    "- If we print answer from out of for loop, last answer will print"
   ]
  },
  {
   "cell_type": "code",
   "execution_count": 25,
   "id": "fc28e4c7-c875-4add-8aa1-2eff070778b8",
   "metadata": {},
   "outputs": [
    {
     "name": "stdout",
     "output_type": "stream",
     "text": [
      "0\n",
      "1\n",
      "2\n"
     ]
    },
    {
     "data": {
      "text/plain": [
       "2"
      ]
     },
     "execution_count": 25,
     "metadata": {},
     "output_type": "execute_result"
    }
   ],
   "source": [
    "for i in range(3):\n",
    "    print(i)\n",
    "\n",
    "i"
   ]
  },
  {
   "cell_type": "code",
   "execution_count": 26,
   "id": "eac641ba-1a49-4535-8590-9a91dab185f9",
   "metadata": {},
   "outputs": [
    {
     "name": "stdin",
     "output_type": "stream",
     "text": [
      "Enter the number: 10\n"
     ]
    },
    {
     "name": "stdout",
     "output_type": "stream",
     "text": [
      "5.5\n"
     ]
    }
   ],
   "source": [
    "# 8Q) Average first 1 to 10 numbers\n",
    "# avg= summation of all the numbers/total number\n",
    "#Wap to find the average of ' N ' numbers in Python.\n",
    "summ=0\n",
    "N=eval(input('Enter the number:'))\n",
    "for i in range(1,N+1):\n",
    "    summ=summ+i\n",
    "print(summ/N)"
   ]
  },
  {
   "cell_type": "markdown",
   "id": "27488095-a833-485d-a270-de3422586c50",
   "metadata": {},
   "source": [
    "**Counter wrapper**\n",
    "\n",
    "- Before for loop intilaise with count=0\n",
    "\n",
    "- Under for loop count=count+1\n",
    "\n",
    "- Counter always increase by 1 only"
   ]
  },
  {
   "cell_type": "code",
   "execution_count": 27,
   "id": "51bb1dbd-51f2-4099-8e67-3547eab8638e",
   "metadata": {},
   "outputs": [
    {
     "name": "stdin",
     "output_type": "stream",
     "text": [
      "which number factors you want: 75\n"
     ]
    },
    {
     "name": "stdout",
     "output_type": "stream",
     "text": [
      "The number of divisiors for 75 is 6\n"
     ]
    }
   ],
   "source": [
    "#9Q) Find the number of divisors of 75\n",
    "# ans: 1,3,5,15,25,75\n",
    "# Number =6\n",
    "count=0\n",
    "num=eval(input(\"which number factors you want:\"))\n",
    "for i in range(1,num+1):\n",
    "    if num%i==0:\n",
    "        count=count+1\n",
    "\n",
    "print(f\"The number of divisiors for {num} is {count}\")"
   ]
  },
  {
   "cell_type": "code",
   "execution_count": null,
   "id": "3946af02-c81e-40ec-aed4-9b88911fb789",
   "metadata": {},
   "outputs": [],
   "source": [
    "summ=summ+i  ==== >  summ+=i\n",
    "count=count+i ==== > count+=i"
   ]
  },
  {
   "cell_type": "code",
   "execution_count": 30,
   "id": "d468a89a-10db-40c4-a0db-2352f5363c74",
   "metadata": {},
   "outputs": [
    {
     "name": "stdout",
     "output_type": "stream",
     "text": [
      "8\n"
     ]
    },
    {
     "name": "stdin",
     "output_type": "stream",
     "text": [
      "enter the number between 1 to 10: 8\n"
     ]
    },
    {
     "name": "stdout",
     "output_type": "stream",
     "text": [
      "won\n",
      "2\n"
     ]
    },
    {
     "name": "stdin",
     "output_type": "stream",
     "text": [
      "enter the number between 1 to 10: 2\n"
     ]
    },
    {
     "name": "stdout",
     "output_type": "stream",
     "text": [
      "won\n",
      "1\n"
     ]
    },
    {
     "name": "stdin",
     "output_type": "stream",
     "text": [
      "enter the number between 1 to 10: 1\n"
     ]
    },
    {
     "name": "stdout",
     "output_type": "stream",
     "text": [
      "won\n"
     ]
    }
   ],
   "source": [
    "# 10Q)\n",
    "# Get a random number between  1 to 10 :  num1\n",
    "# Ask the user enter a number : num2\n",
    "# if num1 == num2  then print won\n",
    "# else print fail\n",
    "\n",
    "# Give 3 chances \n",
    "\n",
    "import random\n",
    "for i in range(3):\n",
    "    num1=random.randint(1,10)\n",
    "    print(num1)\n",
    "    num2=eval(input('enter the number between 1 to 10:'))\n",
    "    if num1==num2:\n",
    "        print('won')\n",
    "    else:\n",
    "        print('Fail')"
   ]
  },
  {
   "cell_type": "code",
   "execution_count": 31,
   "id": "cf8e2c56-2979-4abc-86d7-cf3eafc1062a",
   "metadata": {},
   "outputs": [
    {
     "name": "stdout",
     "output_type": "stream",
     "text": [
      "2\n"
     ]
    },
    {
     "name": "stdin",
     "output_type": "stream",
     "text": [
      "enter the number between 1 to 10: 3\n"
     ]
    },
    {
     "name": "stdout",
     "output_type": "stream",
     "text": [
      "Fail\n",
      "6\n"
     ]
    },
    {
     "name": "stdin",
     "output_type": "stream",
     "text": [
      "enter the number between 1 to 10: 6\n"
     ]
    },
    {
     "name": "stdout",
     "output_type": "stream",
     "text": [
      "won\n"
     ]
    }
   ],
   "source": [
    "# Case-2: whenever you won the code should stop\n",
    "import random\n",
    "for i in range(3):\n",
    "    num1=random.randint(1,10)\n",
    "    print(num1)\n",
    "    num2=eval(input('enter the number between 1 to 10:'))\n",
    "    if num1==num2:\n",
    "        print('won')\n",
    "        break\n",
    "    else:\n",
    "        print('Fail')"
   ]
  },
  {
   "cell_type": "code",
   "execution_count": null,
   "id": "289ab1ea-9c13-4730-96b8-a67d52ed1bda",
   "metadata": {},
   "outputs": [],
   "source": [
    "# Case-3:\n",
    "# Suppose i want to give 4 chances\n",
    "# Every time you fail I want to display \n",
    "#      Number of chances left\n",
    "\n",
    "# If all the chances you are used\n",
    "#    Try again after 24 hours\n",
    "\n",
    "# If you are win "
   ]
  },
  {
   "cell_type": "code",
   "execution_count": null,
   "id": "50c4f345-1fe2-4e09-b0e4-7e8118dbbbfa",
   "metadata": {},
   "outputs": [],
   "source": [
    "What is the difference between Summation wrapper and Counter wrapper\n",
    "# summation\n",
    "# counter"
   ]
  },
  {
   "cell_type": "code",
   "execution_count": 5,
   "id": "456feabe-7091-471c-9aac-aad2c00eb679",
   "metadata": {},
   "outputs": [
    {
     "name": "stdout",
     "output_type": "stream",
     "text": [
      "The total number of even numbers are: 3\n",
      "The total number of odd numbers are: 2\n",
      "The summation of all even numbers are: 152\n",
      "The summation number all odd numbers are: 110\n"
     ]
    }
   ],
   "source": [
    "# wap ask the user get 5 random numbers\n",
    "# Get it is an even number or odd number \n",
    "# also count how many even numbers are there\n",
    "# and  count how many odd numbers are there\n",
    "\n",
    "# Idea\n",
    "# take two counters one even and odd count\n",
    "# For loop 5 times\n",
    "# each time take the random number\n",
    "# If condition\n",
    "#    True counter update\n",
    "# else\n",
    "#   Update the counter\n",
    "\n",
    "import random\n",
    "even_count,odd_count=0,0\n",
    "even_sum,odd_sum=0,0\n",
    "for i in range(5):\n",
    "    num=random.randint(1,100)\n",
    "    if num%2==0:\n",
    "        even_count=even_count+1\n",
    "        even_sum=even_sum+num\n",
    "    else:\n",
    "        odd_count=odd_count+1\n",
    "        odd_sum=odd_sum+num\n",
    "print(f\"The total number of even numbers are: {even_count}\")\n",
    "print(f\"The total number of odd numbers are: {odd_count}\")\n",
    "print(f\"The summation of all even numbers are: {even_sum}\")\n",
    "print(f\"The summation number all odd numbers are: {odd_sum}\")"
   ]
  },
  {
   "cell_type": "code",
   "execution_count": null,
   "id": "e92680f8-da54-4986-be2e-c035291c78ea",
   "metadata": {},
   "outputs": [],
   "source": [
    "# wap ask the user get 5 random numbers\n",
    "# Get it is an even number or odd number \n",
    "# also count how many even numbers are there\n",
    "# and  count how many odd numbers are there\n",
    "# I want summ even numbers\n",
    "# I want summ odd numbers"
   ]
  },
  {
   "cell_type": "code",
   "execution_count": 11,
   "id": "741e302a-36da-4dfc-ba6d-c235f9a5120a",
   "metadata": {},
   "outputs": [],
   "source": [
    "# Create a function on above code\n",
    "# return all 4\n",
    "# Print all 4\n",
    "\n",
    "import random\n",
    "def even_odd1():\n",
    "    even_count,odd_count=0,0\n",
    "    even_sum,odd_sum=0,0\n",
    "    for i in range(5):\n",
    "        num=random.randint(1,100)\n",
    "        if num%2==0:\n",
    "            even_count=even_count+1\n",
    "            even_sum=even_sum+num\n",
    "        else:\n",
    "            odd_count=odd_count+1\n",
    "            odd_sum=odd_sum+num\n",
    "    return(even_count,\n",
    "           even_sum,\n",
    "           odd_count,\n",
    "           odd_sum)"
   ]
  },
  {
   "cell_type": "code",
   "execution_count": 12,
   "id": "d598538f-b3c1-48d3-a39e-3fadc890366d",
   "metadata": {},
   "outputs": [
    {
     "name": "stdout",
     "output_type": "stream",
     "text": [
      "The total number of even numbers are: 0\n",
      "The total number of odd numbers are: 5\n",
      "The summation of all even numbers are: 0\n",
      "The summation number all odd numbers are: 175\n"
     ]
    }
   ],
   "source": [
    "even_count,even_sum,odd_count,odd_sum=even_odd1()\n",
    "print(f\"The total number of even numbers are: {even_count}\")\n",
    "print(f\"The total number of odd numbers are: {odd_count}\")\n",
    "print(f\"The summation of all even numbers are: {even_sum}\")\n",
    "print(f\"The summation number all odd numbers are: {odd_sum}\")"
   ]
  },
  {
   "cell_type": "markdown",
   "id": "be3e9aae-6c3b-45d6-bc6d-f913cbf3fc8b",
   "metadata": {},
   "source": [
    "**in operator**"
   ]
  },
  {
   "cell_type": "code",
   "execution_count": 15,
   "id": "534db2ce-01bc-4868-9eae-5a6b1f30bf44",
   "metadata": {},
   "outputs": [
    {
     "data": {
      "text/plain": [
       "True"
      ]
     },
     "execution_count": 15,
     "metadata": {},
     "output_type": "execute_result"
    }
   ],
   "source": [
    "string1='python'\n",
    "'p' in string1\n",
    "'y' in string1\n",
    "'t' in string1\n",
    "\n",
    "i in string1"
   ]
  },
  {
   "cell_type": "code",
   "execution_count": 16,
   "id": "952589a7-40ce-4c56-b018-3716da991f63",
   "metadata": {},
   "outputs": [
    {
     "name": "stdout",
     "output_type": "stream",
     "text": [
      "p\n",
      "y\n",
      "t\n",
      "h\n",
      "o\n",
      "n\n"
     ]
    }
   ],
   "source": [
    "for i in string1:\n",
    "    print(i)"
   ]
  },
  {
   "cell_type": "code",
   "execution_count": 17,
   "id": "7c25f6cf-c044-48c5-92d5-ae7e623794ab",
   "metadata": {},
   "outputs": [
    {
     "ename": "TypeError",
     "evalue": "'str' object cannot be interpreted as an integer",
     "output_type": "error",
     "traceback": [
      "\u001b[1;31m---------------------------------------------------------------------------\u001b[0m",
      "\u001b[1;31mTypeError\u001b[0m                                 Traceback (most recent call last)",
      "Cell \u001b[1;32mIn[17], line 1\u001b[0m\n\u001b[1;32m----> 1\u001b[0m \u001b[38;5;28;01mfor\u001b[39;00m i \u001b[38;5;129;01min\u001b[39;00m \u001b[38;5;28mrange\u001b[39m(string1):\n\u001b[0;32m      2\u001b[0m     \u001b[38;5;28mprint\u001b[39m(i)\n",
      "\u001b[1;31mTypeError\u001b[0m: 'str' object cannot be interpreted as an integer"
     ]
    }
   ],
   "source": [
    "for i in range(string1):\n",
    "    print(i)"
   ]
  },
  {
   "cell_type": "markdown",
   "id": "dd40a51d-a724-4717-a48a-54761e051618",
   "metadata": {},
   "source": [
    "**Difference between in operator and range operator**\n",
    "\n",
    "- range belongs to math familiy\n",
    "\n",
    "- inside $range$ we need to keep numbers only\n",
    "\n",
    "- whenever if we want iterate through a english letters\n",
    "\n",
    "- we need to choose $in$ operator\n",
    "\n",
    "- range means Numbers\n",
    "\n",
    "- in means strings"
   ]
  },
  {
   "cell_type": "code",
   "execution_count": 18,
   "id": "9e79bdc3-6257-4100-bf96-a5e9a011f8b2",
   "metadata": {},
   "outputs": [
    {
     "data": {
      "text/plain": [
       "True"
      ]
     },
     "execution_count": 18,
     "metadata": {},
     "output_type": "execute_result"
    }
   ],
   "source": [
    "'p'>'P'"
   ]
  },
  {
   "cell_type": "markdown",
   "id": "8ec0238f-f301-4ba0-861f-bb3393d4b16a",
   "metadata": {},
   "source": [
    "- every english letter\n",
    "\n",
    "- every spl charcters how machine will understand?\n",
    "\n",
    "- Machine language always consider as numbers\n",
    "\n",
    "- Every non numeric assign a number\n",
    "\n",
    "- ASCII: American Standard code for Information Interchange\n",
    "\n",
    "- A : 65, a:97"
   ]
  },
  {
   "cell_type": "markdown",
   "id": "c07a5701-238e-4c02-a075-20002a58ac8d",
   "metadata": {},
   "source": [
    "**ord-chr**"
   ]
  },
  {
   "cell_type": "code",
   "execution_count": null,
   "id": "3e12347a-22d1-446e-b166-8c8b40ad2b26",
   "metadata": {},
   "outputs": [],
   "source": [
    "A === 65 ==== 0b1000001"
   ]
  },
  {
   "cell_type": "code",
   "execution_count": 21,
   "id": "51661aee-24c1-473a-9a8f-35baab45daaf",
   "metadata": {},
   "outputs": [
    {
     "data": {
      "text/plain": [
       "(65, 97)"
      ]
     },
     "execution_count": 21,
     "metadata": {},
     "output_type": "execute_result"
    }
   ],
   "source": [
    "ord('A'),ord('a')"
   ]
  },
  {
   "cell_type": "code",
   "execution_count": 22,
   "id": "7aafdcde-a17b-4c8e-b002-53234e0b6367",
   "metadata": {},
   "outputs": [
    {
     "data": {
      "text/plain": [
       "(112, 80)"
      ]
     },
     "execution_count": 22,
     "metadata": {},
     "output_type": "execute_result"
    }
   ],
   "source": [
    "ord('p'),ord('P')"
   ]
  },
  {
   "cell_type": "code",
   "execution_count": 23,
   "id": "7b515797-1fcb-49fd-97f4-ca308453a624",
   "metadata": {},
   "outputs": [
    {
     "data": {
      "text/plain": [
       "True"
      ]
     },
     "execution_count": 23,
     "metadata": {},
     "output_type": "execute_result"
    }
   ],
   "source": [
    "'p'>'P'  #  112>80"
   ]
  },
  {
   "cell_type": "code",
   "execution_count": 27,
   "id": "3716f52c-28a0-49cd-a520-a53abece049a",
   "metadata": {},
   "outputs": [
    {
     "data": {
      "text/plain": [
       "('p', 'P', 'A', 'a')"
      ]
     },
     "execution_count": 27,
     "metadata": {},
     "output_type": "execute_result"
    }
   ],
   "source": [
    "chr(112),chr(80),chr(65),chr(97)"
   ]
  },
  {
   "cell_type": "code",
   "execution_count": 30,
   "id": "1f9c0ee8-ab11-4dd7-9283-54a147e8c143",
   "metadata": {},
   "outputs": [
    {
     "name": "stdout",
     "output_type": "stream",
     "text": [
      "The ASCII number for p is 112\n",
      "The ASCII number for y is 121\n",
      "The ASCII number for t is 116\n",
      "The ASCII number for h is 104\n",
      "The ASCII number for o is 111\n",
      "The ASCII number for n is 110\n"
     ]
    }
   ],
   "source": [
    "# I want string1 : 'python'\n",
    "# print all ascii numbers for 'python'\n",
    "for i in 'python':\n",
    "    print(f\"The ASCII number for {i} is {ord(i)}\")"
   ]
  },
  {
   "cell_type": "code",
   "execution_count": 31,
   "id": "b168cd6e-86fa-4777-8b81-efa1dc7cba53",
   "metadata": {},
   "outputs": [
    {
     "name": "stdout",
     "output_type": "stream",
     "text": [
      "The summation is 674\n"
     ]
    }
   ],
   "source": [
    "ascii_sum=0\n",
    "for i in 'python':\n",
    "    ascii_sum=ascii_sum+ord(i)\n",
    "print(f\"The summation is {ascii_sum}\")"
   ]
  },
  {
   "cell_type": "code",
   "execution_count": null,
   "id": "fbbb4da7-a454-4444-8f6d-9b521378eea9",
   "metadata": {},
   "outputs": [],
   "source": [
    "# I want to know all ascii number from A to Z"
   ]
  },
  {
   "cell_type": "code",
   "execution_count": null,
   "id": "5a5f316e-abe8-4e46-adf2-da34a575a5f3",
   "metadata": {},
   "outputs": [],
   "source": [
    "# Package called : string\n",
    "# import the pacakge\n",
    "# apply the dir\n",
    "# there are some methods are there\n",
    "# in that one method will capital letters\n",
    "\n",
    "#step-1: import <package_name>\n",
    "# step-2: dir(<pacakge_name>)\n",
    "# step-3: Identify the methods"
   ]
  },
  {
   "cell_type": "code",
   "execution_count": 32,
   "id": "7399e8e8-7c40-4f5c-a9bc-011cf88d33ca",
   "metadata": {},
   "outputs": [
    {
     "name": "stdout",
     "output_type": "stream",
     "text": [
      "The ASCII number for A is 65\n",
      "The ASCII number for B is 66\n",
      "The ASCII number for C is 67\n",
      "The ASCII number for D is 68\n",
      "The ASCII number for E is 69\n",
      "The ASCII number for F is 70\n",
      "The ASCII number for G is 71\n",
      "The ASCII number for H is 72\n",
      "The ASCII number for I is 73\n",
      "The ASCII number for J is 74\n",
      "The ASCII number for K is 75\n",
      "The ASCII number for L is 76\n",
      "The ASCII number for M is 77\n",
      "The ASCII number for N is 78\n",
      "The ASCII number for O is 79\n",
      "The ASCII number for P is 80\n",
      "The ASCII number for Q is 81\n",
      "The ASCII number for R is 82\n",
      "The ASCII number for S is 83\n",
      "The ASCII number for T is 84\n",
      "The ASCII number for U is 85\n",
      "The ASCII number for V is 86\n",
      "The ASCII number for W is 87\n",
      "The ASCII number for X is 88\n",
      "The ASCII number for Y is 89\n",
      "The ASCII number for Z is 90\n"
     ]
    }
   ],
   "source": [
    "for i in 'ABCDEFGHIJKLMNOPQRSTUVWXYZ':\n",
    "    print(f\"The ASCII number for {i} is {ord(i)}\")"
   ]
  },
  {
   "cell_type": "code",
   "execution_count": 33,
   "id": "dcbdf732-09f5-4fa5-9558-5eed1b6feff2",
   "metadata": {},
   "outputs": [
    {
     "data": {
      "text/plain": [
       "['Formatter',\n",
       " 'Template',\n",
       " '_ChainMap',\n",
       " '__all__',\n",
       " '__builtins__',\n",
       " '__cached__',\n",
       " '__doc__',\n",
       " '__file__',\n",
       " '__loader__',\n",
       " '__name__',\n",
       " '__package__',\n",
       " '__spec__',\n",
       " '_re',\n",
       " '_sentinel_dict',\n",
       " '_string',\n",
       " 'ascii_letters',\n",
       " 'ascii_lowercase',\n",
       " 'ascii_uppercase',\n",
       " 'capwords',\n",
       " 'digits',\n",
       " 'hexdigits',\n",
       " 'octdigits',\n",
       " 'printable',\n",
       " 'punctuation',\n",
       " 'whitespace']"
      ]
     },
     "execution_count": 33,
     "metadata": {},
     "output_type": "execute_result"
    }
   ],
   "source": [
    "import string\n",
    "dir(string)"
   ]
  },
  {
   "cell_type": "code",
   "execution_count": 34,
   "id": "7868d8e3-7cfe-4dce-b9d5-82fac80a5f22",
   "metadata": {},
   "outputs": [
    {
     "data": {
      "text/plain": [
       "'ABCDEFGHIJKLMNOPQRSTUVWXYZ'"
      ]
     },
     "execution_count": 34,
     "metadata": {},
     "output_type": "execute_result"
    }
   ],
   "source": [
    "string.ascii_uppercase"
   ]
  },
  {
   "cell_type": "code",
   "execution_count": 35,
   "id": "f2dbdf71-d5f3-41a1-bc68-8923187c91c2",
   "metadata": {},
   "outputs": [
    {
     "data": {
      "text/plain": [
       "'abcdefghijklmnopqrstuvwxyz'"
      ]
     },
     "execution_count": 35,
     "metadata": {},
     "output_type": "execute_result"
    }
   ],
   "source": [
    "string.ascii_lowercase"
   ]
  },
  {
   "cell_type": "code",
   "execution_count": 36,
   "id": "3c0d0b29-b9c6-47f9-99d7-dc9b291c0900",
   "metadata": {},
   "outputs": [
    {
     "name": "stdout",
     "output_type": "stream",
     "text": [
      "The ASCII number for A is 65\n",
      "The ASCII number for B is 66\n",
      "The ASCII number for C is 67\n",
      "The ASCII number for D is 68\n",
      "The ASCII number for E is 69\n",
      "The ASCII number for F is 70\n",
      "The ASCII number for G is 71\n",
      "The ASCII number for H is 72\n",
      "The ASCII number for I is 73\n",
      "The ASCII number for J is 74\n",
      "The ASCII number for K is 75\n",
      "The ASCII number for L is 76\n",
      "The ASCII number for M is 77\n",
      "The ASCII number for N is 78\n",
      "The ASCII number for O is 79\n",
      "The ASCII number for P is 80\n",
      "The ASCII number for Q is 81\n",
      "The ASCII number for R is 82\n",
      "The ASCII number for S is 83\n",
      "The ASCII number for T is 84\n",
      "The ASCII number for U is 85\n",
      "The ASCII number for V is 86\n",
      "The ASCII number for W is 87\n",
      "The ASCII number for X is 88\n",
      "The ASCII number for Y is 89\n",
      "The ASCII number for Z is 90\n"
     ]
    }
   ],
   "source": [
    "import string\n",
    "letters=string.ascii_uppercase\n",
    "for i in letters:\n",
    "    print(f\"The ASCII number for {i} is {ord(i)}\")"
   ]
  },
  {
   "cell_type": "code",
   "execution_count": 37,
   "id": "90601e58-3762-4eca-928d-7957be4aef77",
   "metadata": {},
   "outputs": [
    {
     "name": "stdout",
     "output_type": "stream",
     "text": [
      "The ASCII number for a is 97\n",
      "The ASCII number for b is 98\n",
      "The ASCII number for c is 99\n",
      "The ASCII number for d is 100\n",
      "The ASCII number for e is 101\n",
      "The ASCII number for f is 102\n",
      "The ASCII number for g is 103\n",
      "The ASCII number for h is 104\n",
      "The ASCII number for i is 105\n",
      "The ASCII number for j is 106\n",
      "The ASCII number for k is 107\n",
      "The ASCII number for l is 108\n",
      "The ASCII number for m is 109\n",
      "The ASCII number for n is 110\n",
      "The ASCII number for o is 111\n",
      "The ASCII number for p is 112\n",
      "The ASCII number for q is 113\n",
      "The ASCII number for r is 114\n",
      "The ASCII number for s is 115\n",
      "The ASCII number for t is 116\n",
      "The ASCII number for u is 117\n",
      "The ASCII number for v is 118\n",
      "The ASCII number for w is 119\n",
      "The ASCII number for x is 120\n",
      "The ASCII number for y is 121\n",
      "The ASCII number for z is 122\n",
      "The ASCII number for A is 65\n",
      "The ASCII number for B is 66\n",
      "The ASCII number for C is 67\n",
      "The ASCII number for D is 68\n",
      "The ASCII number for E is 69\n",
      "The ASCII number for F is 70\n",
      "The ASCII number for G is 71\n",
      "The ASCII number for H is 72\n",
      "The ASCII number for I is 73\n",
      "The ASCII number for J is 74\n",
      "The ASCII number for K is 75\n",
      "The ASCII number for L is 76\n",
      "The ASCII number for M is 77\n",
      "The ASCII number for N is 78\n",
      "The ASCII number for O is 79\n",
      "The ASCII number for P is 80\n",
      "The ASCII number for Q is 81\n",
      "The ASCII number for R is 82\n",
      "The ASCII number for S is 83\n",
      "The ASCII number for T is 84\n",
      "The ASCII number for U is 85\n",
      "The ASCII number for V is 86\n",
      "The ASCII number for W is 87\n",
      "The ASCII number for X is 88\n",
      "The ASCII number for Y is 89\n",
      "The ASCII number for Z is 90\n"
     ]
    }
   ],
   "source": [
    "import string\n",
    "letters=string.ascii_letters\n",
    "for i in letters:\n",
    "    print(f\"The ASCII number for {i} is {ord(i)}\")"
   ]
  },
  {
   "cell_type": "code",
   "execution_count": 38,
   "id": "ddceb8a1-6776-4384-8630-f6d99449731a",
   "metadata": {},
   "outputs": [
    {
     "name": "stdout",
     "output_type": "stream",
     "text": [
      "The ASCII number for ! is 33\n",
      "The ASCII number for \" is 34\n",
      "The ASCII number for # is 35\n",
      "The ASCII number for $ is 36\n",
      "The ASCII number for % is 37\n",
      "The ASCII number for & is 38\n",
      "The ASCII number for ' is 39\n",
      "The ASCII number for ( is 40\n",
      "The ASCII number for ) is 41\n",
      "The ASCII number for * is 42\n",
      "The ASCII number for + is 43\n",
      "The ASCII number for , is 44\n",
      "The ASCII number for - is 45\n",
      "The ASCII number for . is 46\n",
      "The ASCII number for / is 47\n",
      "The ASCII number for : is 58\n",
      "The ASCII number for ; is 59\n",
      "The ASCII number for < is 60\n",
      "The ASCII number for = is 61\n",
      "The ASCII number for > is 62\n",
      "The ASCII number for ? is 63\n",
      "The ASCII number for @ is 64\n",
      "The ASCII number for [ is 91\n",
      "The ASCII number for \\ is 92\n",
      "The ASCII number for ] is 93\n",
      "The ASCII number for ^ is 94\n",
      "The ASCII number for _ is 95\n",
      "The ASCII number for ` is 96\n",
      "The ASCII number for { is 123\n",
      "The ASCII number for | is 124\n",
      "The ASCII number for } is 125\n",
      "The ASCII number for ~ is 126\n"
     ]
    }
   ],
   "source": [
    "import string\n",
    "letters=string.punctuation\n",
    "for i in letters:\n",
    "    print(f\"The ASCII number for {i} is {ord(i)}\")"
   ]
  },
  {
   "cell_type": "code",
   "execution_count": 40,
   "id": "aa3b42e3-767d-41a3-b0a1-b743ea4a4739",
   "metadata": {},
   "outputs": [
    {
     "name": "stdout",
     "output_type": "stream",
     "text": [
      "20 \u0014==>21 \u0015==>22 \u0016==>23 \u0017==>24 \u0018==>25 \u0019==>26 \u001a==>27 \u001b==>28 \u001c",
      "==>29 \u001d",
      "==>30 \u001e",
      "==>31 \u001f==>32  ==>33 !==>34 \"==>35 #==>36 $==>37 %==>38 &==>39 '==>40 (==>41 )==>42 *==>43 +==>44 ,==>45 -==>46 .==>47 /==>48 0==>49 1==>50 2==>51 3==>52 4==>53 5==>54 6==>55 7==>56 8==>57 9==>58 :==>59 ;==>60 <==>61 ===>62 >==>63 ?==>64 @==>65 A==>66 B==>67 C==>68 D==>69 E==>70 F==>71 G==>72 H==>73 I==>74 J==>75 K==>76 L==>77 M==>78 N==>79 O==>80 P==>81 Q==>82 R==>83 S==>84 T==>85 U==>86 V==>87 W==>88 X==>89 Y==>90 Z==>91 [==>92 \\==>93 ]==>94 ^==>95 _==>96 `==>97 a==>98 b==>99 c==>100 d==>101 e==>102 f==>103 g==>104 h==>105 i==>106 j==>107 k==>108 l==>109 m==>110 n==>111 o==>112 p==>113 q==>114 r==>115 s==>116 t==>117 u==>118 v==>119 w==>120 x==>121 y==>122 z==>123 {==>124 |==>125 }==>126 ~==>127 ==>128 ==>129 ==>130 ==>131 ==>132 ==>133 ",
      "==>134 ==>135 ==>136 ==>137 ==>138 ==>139 ==>140 ==>141 ==>142 ==>143 ==>144 ==>145 ==>146 ==>147 ==>148 ==>149 ==>150 ==>151 ==>152 ==>153 ==>154 ==>155 ==>156 ==>157 ==>158 ==>159 ==>160  ==>161 ¡==>162 ¢==>163 £==>164 ¤==>165 ¥==>166 ¦==>167 §==>168 ¨==>169 ©==>170 ª==>171 «==>172 ¬==>173 ­==>174 ®==>175 ¯==>176 °==>177 ±==>178 ²==>179 ³==>180 ´==>181 µ==>182 ¶==>183 ·==>184 ¸==>185 ¹==>186 º==>187 »==>188 ¼==>189 ½==>190 ¾==>191 ¿==>192 À==>193 Á==>194 Â==>195 Ã==>196 Ä==>197 Å==>198 Æ==>199 Ç==>"
     ]
    }
   ],
   "source": [
    "# A-Z  a-z\n",
    "# A=== > 65\n",
    "# Z==== > 90\n",
    "# a ==== > 97\n",
    "# z ==== > 122\n",
    "# ! ==== > 33\n",
    "# ~  === > 126\n",
    "for i in range(20,200):\n",
    "    print(i,chr(i),end='==>')"
   ]
  },
  {
   "cell_type": "code",
   "execution_count": 41,
   "id": "26f57e9b-2a12-4922-a091-e90ab37c3223",
   "metadata": {},
   "outputs": [
    {
     "name": "stdout",
     "output_type": "stream",
     "text": [
      "900 ΄==>901 ΅==>902 Ά==>903 ·==>904 Έ==>905 Ή==>906 Ί==>907 ΋==>908 Ό==>909 ΍==>910 Ύ==>911 Ώ==>912 ΐ==>913 Α==>914 Β==>915 Γ==>916 Δ==>917 Ε==>918 Ζ==>919 Η==>920 Θ==>921 Ι==>922 Κ==>923 Λ==>924 Μ==>925 Ν==>926 Ξ==>927 Ο==>928 Π==>929 Ρ==>930 ΢==>931 Σ==>932 Τ==>933 Υ==>934 Φ==>935 Χ==>936 Ψ==>937 Ω==>938 Ϊ==>939 Ϋ==>940 ά==>941 έ==>942 ή==>943 ί==>944 ΰ==>945 α==>946 β==>947 γ==>948 δ==>949 ε==>950 ζ==>951 η==>952 θ==>953 ι==>954 κ==>955 λ==>956 μ==>957 ν==>958 ξ==>959 ο==>960 π==>961 ρ==>962 ς==>963 σ==>964 τ==>965 υ==>966 φ==>967 χ==>968 ψ==>969 ω==>970 ϊ==>971 ϋ==>972 ό==>973 ύ==>974 ώ==>975 Ϗ==>976 ϐ==>977 ϑ==>978 ϒ==>979 ϓ==>980 ϔ==>981 ϕ==>982 ϖ==>983 ϗ==>984 Ϙ==>985 ϙ==>986 Ϛ==>987 ϛ==>988 Ϝ==>989 ϝ==>990 Ϟ==>991 ϟ==>992 Ϡ==>993 ϡ==>994 Ϣ==>995 ϣ==>996 Ϥ==>997 ϥ==>998 Ϧ==>999 ϧ==>"
     ]
    }
   ],
   "source": [
    "for i in range(900,1000):\n",
    "    print(i,chr(i),end='==>')"
   ]
  },
  {
   "cell_type": "code",
   "execution_count": 44,
   "id": "c32d3022-5a3a-4148-a273-837eefade4aa",
   "metadata": {},
   "outputs": [
    {
     "name": "stdout",
     "output_type": "stream",
     "text": [
      "3078 ఆ==>3079 ఇ==>3080 ఈ==>3081 ఉ==>3082 ఊ==>3083 ఋ==>3084 ఌ==>3085 ఍==>3086 ఎ==>3087 ఏ==>3088 ఐ==>3089 ఑==>3090 ఒ==>3091 ఓ==>3092 ఔ==>3093 క==>3094 ఖ==>3095 గ==>3096 ఘ==>3097 ఙ==>3098 చ==>3099 ఛ==>3100 జ==>3101 ఝ==>3102 ఞ==>3103 ట==>3104 ఠ==>3105 డ==>3106 ఢ==>3107 ణ==>3108 త==>3109 థ==>3110 ద==>3111 ధ==>3112 న==>3113 ఩==>3114 ప==>3115 ఫ==>3116 బ==>3117 భ==>3118 మ==>3119 య==>3120 ర==>3121 ఱ==>3122 ల==>3123 ళ==>3124 ఴ==>3125 వ==>3126 శ==>3127 ష==>3128 స==>3129 హ==>3130 ఺==>3131 ఻==>3132 ఼==>3133 ఽ==>3134 ా==>3135 ి==>3136 ీ==>3137 ు==>3138 ూ==>3139 ృ==>3140 ౄ==>3141 ౅==>3142 ె==>3143 ే==>3144 ై==>3145 ౉==>3146 ొ==>3147 ో==>3148 ౌ==>3149 ్==>3150 ౎==>3151 ౏==>3152 ౐==>3153 ౑==>3154 ౒==>3155 ౓==>3156 ౔==>3157 ౕ==>3158 ౖ==>3159 ౗==>3160 ౘ==>3161 ౙ==>3162 ౚ==>3163 ౛==>3164 ౜==>3165 ౝ==>3166 ౞==>3167 ౟==>3168 ౠ==>3169 ౡ==>3170 ౢ==>3171 ౣ==>3172 ౤==>3173 ౥==>3174 ౦==>3175 ౧==>3176 ౨==>3177 ౩==>"
     ]
    }
   ],
   "source": [
    "for i in range(3078,3178):\n",
    "    print(i,chr(i),end='==>')"
   ]
  },
  {
   "cell_type": "code",
   "execution_count": null,
   "id": "2ff43fbb-2df7-4d25-a075-63a588c0101f",
   "metadata": {},
   "outputs": [],
   "source": []
  }
 ],
 "metadata": {
  "kernelspec": {
   "display_name": "Python 3 (ipykernel)",
   "language": "python",
   "name": "python3"
  },
  "language_info": {
   "codemirror_mode": {
    "name": "ipython",
    "version": 3
   },
   "file_extension": ".py",
   "mimetype": "text/x-python",
   "name": "python",
   "nbconvert_exporter": "python",
   "pygments_lexer": "ipython3",
   "version": "3.11.7"
  }
 },
 "nbformat": 4,
 "nbformat_minor": 5
}
